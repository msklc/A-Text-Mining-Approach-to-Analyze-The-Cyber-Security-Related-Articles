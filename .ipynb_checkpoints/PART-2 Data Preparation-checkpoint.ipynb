{
 "cells": [
  {
   "cell_type": "markdown",
   "metadata": {},
   "source": [
    "# A Text Mining Approach to Analyze The Cyber Security Related Articles"
   ]
  },
  {
   "cell_type": "markdown",
   "metadata": {},
   "source": [
    "## PART-2: Data Preparation\n",
    "\n",
    "__A) Loading NSF Awards Data__\n",
    "- Replace 'NaN' strings and None values as Null Value\n",
    "- Remove Rows which don't contain any data\n",
    "- Filtering Rows with the keyword of cyber security\n",
    "- Merging Multiple DataFrames\n",
    "\n",
    "__B) Loading The Data of Investigators__\n",
    "- Filtering The Data with Cyber Releated Article\n",
    "\n",
    "__C) Preprocessing Phase__\n",
    "- Remove Unnecessary Columns\n",
    "- Reorder The Columns Sequence\n",
    "- Summarize The Values\n",
    "- Handling Missing Data\n",
    "- Impute The Institution Name and Institution StateName\n",
    "- Result Of Imputing\n",
    "- Arrange The Columns' Types\n",
    "- Create New Columns\n",
    "\n",
    "__Saving The Data__\n",
    "\n",
    "//////////////////////////////////////////////////////////////////////////////////////"
   ]
  },
  {
   "cell_type": "markdown",
   "metadata": {},
   "source": [
    "__Importing of Required Libraries__"
   ]
  },
  {
   "cell_type": "code",
   "execution_count": 1,
   "metadata": {},
   "outputs": [],
   "source": [
    "import spacy\n",
    "import en_core_web_sm\n",
    "\n",
    "import re\n",
    "import numpy as np\n",
    "import pandas as pd\n",
    "import pickle\n",
    "\n",
    "import warnings\n",
    "warnings.filterwarnings(\"ignore\")"
   ]
  },
  {
   "cell_type": "markdown",
   "metadata": {},
   "source": [
    "__A) Loading NSF Awards Data__"
   ]
  },
  {
   "cell_type": "code",
   "execution_count": 2,
   "metadata": {},
   "outputs": [
    {
     "data": {
      "text/html": [
       "<div>\n",
       "<style scoped>\n",
       "    .dataframe tbody tr th:only-of-type {\n",
       "        vertical-align: middle;\n",
       "    }\n",
       "\n",
       "    .dataframe tbody tr th {\n",
       "        vertical-align: top;\n",
       "    }\n",
       "\n",
       "    .dataframe thead th {\n",
       "        text-align: right;\n",
       "    }\n",
       "</style>\n",
       "<table border=\"1\" class=\"dataframe\">\n",
       "  <thead>\n",
       "    <tr style=\"text-align: right;\">\n",
       "      <th></th>\n",
       "      <th>AwardTitle</th>\n",
       "      <th>AwardEffectiveDate</th>\n",
       "      <th>AwardExpirationDate</th>\n",
       "      <th>AwardTotalIntnAmount</th>\n",
       "      <th>AwardAmount</th>\n",
       "      <th>AwardInstrument</th>\n",
       "      <th>Organization_Code</th>\n",
       "      <th>Directorate_Abbreviation</th>\n",
       "      <th>Directorate_LongName</th>\n",
       "      <th>Division_Abbreviation</th>\n",
       "      <th>...</th>\n",
       "      <th>Institution_Name</th>\n",
       "      <th>Institution_CityName</th>\n",
       "      <th>Institution_ZipCode</th>\n",
       "      <th>Institution_PhoneNumber</th>\n",
       "      <th>Institution_StreetAddress</th>\n",
       "      <th>Institution_CountryName</th>\n",
       "      <th>Institution_StateName</th>\n",
       "      <th>Institution_StateCode</th>\n",
       "      <th>ProgramElement_Code</th>\n",
       "      <th>ProgramElement_Text</th>\n",
       "    </tr>\n",
       "  </thead>\n",
       "  <tbody>\n",
       "    <tr>\n",
       "      <th>0</th>\n",
       "      <td>Characterization of Nanoscale Defects and Pores</td>\n",
       "      <td>07/01/2001</td>\n",
       "      <td>06/30/2005</td>\n",
       "      <td>300000.00</td>\n",
       "      <td>300000</td>\n",
       "      <td>Continuing grant</td>\n",
       "      <td>07010000</td>\n",
       "      <td>ENG</td>\n",
       "      <td>Directorate For Engineering</td>\n",
       "      <td>ECCS</td>\n",
       "      <td>...</td>\n",
       "      <td>University of Michigan Ann Arbor</td>\n",
       "      <td>Ann Arbor</td>\n",
       "      <td>481091274</td>\n",
       "      <td>7347636438</td>\n",
       "      <td>3003 South State St. Room 1062</td>\n",
       "      <td>United States</td>\n",
       "      <td>Michigan</td>\n",
       "      <td>MI</td>\n",
       "      <td>1517</td>\n",
       "      <td>ELECT, PHOTONICS, &amp; MAG DEVICE</td>\n",
       "    </tr>\n",
       "    <tr>\n",
       "      <th>1</th>\n",
       "      <td>Urban Containment Programs and the Vulnerabili...</td>\n",
       "      <td>08/15/2001</td>\n",
       "      <td>07/31/2005</td>\n",
       "      <td>NaN</td>\n",
       "      <td>149995</td>\n",
       "      <td>Standard Grant</td>\n",
       "      <td>07030000</td>\n",
       "      <td>NaN</td>\n",
       "      <td>NaN</td>\n",
       "      <td>NaN</td>\n",
       "      <td>...</td>\n",
       "      <td>University of North Carolina at Chapel Hill</td>\n",
       "      <td>CHAPEL HILL</td>\n",
       "      <td>275991350</td>\n",
       "      <td>9199663411</td>\n",
       "      <td>104 AIRPORT DR STE 2200</td>\n",
       "      <td>United States</td>\n",
       "      <td>North Carolina</td>\n",
       "      <td>NC</td>\n",
       "      <td>1638</td>\n",
       "      <td>HDBE-Humans, Disasters, and th</td>\n",
       "    </tr>\n",
       "  </tbody>\n",
       "</table>\n",
       "<p>2 rows × 27 columns</p>\n",
       "</div>"
      ],
      "text/plain": [
       "                                          AwardTitle AwardEffectiveDate  \\\n",
       "0    Characterization of Nanoscale Defects and Pores         07/01/2001   \n",
       "1  Urban Containment Programs and the Vulnerabili...         08/15/2001   \n",
       "\n",
       "  AwardExpirationDate AwardTotalIntnAmount AwardAmount   AwardInstrument  \\\n",
       "0          06/30/2005            300000.00      300000  Continuing grant   \n",
       "1          07/31/2005                  NaN      149995    Standard Grant   \n",
       "\n",
       "  Organization_Code Directorate_Abbreviation         Directorate_LongName  \\\n",
       "0          07010000                      ENG  Directorate For Engineering   \n",
       "1          07030000                      NaN                          NaN   \n",
       "\n",
       "  Division_Abbreviation  ...                             Institution_Name  \\\n",
       "0                  ECCS  ...             University of Michigan Ann Arbor   \n",
       "1                   NaN  ...  University of North Carolina at Chapel Hill   \n",
       "\n",
       "  Institution_CityName Institution_ZipCode Institution_PhoneNumber  \\\n",
       "0            Ann Arbor           481091274              7347636438   \n",
       "1          CHAPEL HILL           275991350              9199663411   \n",
       "\n",
       "        Institution_StreetAddress Institution_CountryName  \\\n",
       "0  3003 South State St. Room 1062           United States   \n",
       "1         104 AIRPORT DR STE 2200           United States   \n",
       "\n",
       "  Institution_StateName Institution_StateCode ProgramElement_Code  \\\n",
       "0              Michigan                    MI                1517   \n",
       "1        North Carolina                    NC                1638   \n",
       "\n",
       "              ProgramElement_Text  \n",
       "0  ELECT, PHOTONICS, & MAG DEVICE  \n",
       "1  HDBE-Humans, Disasters, and th  \n",
       "\n",
       "[2 rows x 27 columns]"
      ]
     },
     "execution_count": 2,
     "metadata": {},
     "output_type": "execute_result"
    }
   ],
   "source": [
    "df=pd.read_parquet('award_parquet.gzip')\n",
    "df.head(2)"
   ]
  },
  {
   "cell_type": "markdown",
   "metadata": {},
   "source": [
    "__Replace 'NaN' strings and None values as Null Value__"
   ]
  },
  {
   "cell_type": "code",
   "execution_count": 3,
   "metadata": {},
   "outputs": [],
   "source": [
    "df.replace(to_replace=['NaN'], value=np.nan, inplace=True)\n",
    "df.replace(to_replace=[''], value=np.nan, inplace=True)"
   ]
  },
  {
   "cell_type": "markdown",
   "metadata": {},
   "source": [
    "__Remove Rows which don't contain any data__"
   ]
  },
  {
   "cell_type": "code",
   "execution_count": 4,
   "metadata": {},
   "outputs": [
    {
     "data": {
      "text/html": [
       "<div>\n",
       "<style scoped>\n",
       "    .dataframe tbody tr th:only-of-type {\n",
       "        vertical-align: middle;\n",
       "    }\n",
       "\n",
       "    .dataframe tbody tr th {\n",
       "        vertical-align: top;\n",
       "    }\n",
       "\n",
       "    .dataframe thead th {\n",
       "        text-align: right;\n",
       "    }\n",
       "</style>\n",
       "<table border=\"1\" class=\"dataframe\">\n",
       "  <thead>\n",
       "    <tr style=\"text-align: right;\">\n",
       "      <th></th>\n",
       "      <th>AwardTitle</th>\n",
       "      <th>AwardEffectiveDate</th>\n",
       "      <th>AwardExpirationDate</th>\n",
       "      <th>AwardTotalIntnAmount</th>\n",
       "      <th>AwardAmount</th>\n",
       "      <th>AwardInstrument</th>\n",
       "      <th>Organization_Code</th>\n",
       "      <th>Directorate_Abbreviation</th>\n",
       "      <th>Directorate_LongName</th>\n",
       "      <th>Division_Abbreviation</th>\n",
       "      <th>...</th>\n",
       "      <th>Institution_Name</th>\n",
       "      <th>Institution_CityName</th>\n",
       "      <th>Institution_ZipCode</th>\n",
       "      <th>Institution_PhoneNumber</th>\n",
       "      <th>Institution_StreetAddress</th>\n",
       "      <th>Institution_CountryName</th>\n",
       "      <th>Institution_StateName</th>\n",
       "      <th>Institution_StateCode</th>\n",
       "      <th>ProgramElement_Code</th>\n",
       "      <th>ProgramElement_Text</th>\n",
       "    </tr>\n",
       "  </thead>\n",
       "  <tbody>\n",
       "    <tr>\n",
       "      <th>0</th>\n",
       "      <td>Characterization of Nanoscale Defects and Pores</td>\n",
       "      <td>07/01/2001</td>\n",
       "      <td>06/30/2005</td>\n",
       "      <td>300000.00</td>\n",
       "      <td>300000</td>\n",
       "      <td>Continuing grant</td>\n",
       "      <td>07010000</td>\n",
       "      <td>ENG</td>\n",
       "      <td>Directorate For Engineering</td>\n",
       "      <td>ECCS</td>\n",
       "      <td>...</td>\n",
       "      <td>University of Michigan Ann Arbor</td>\n",
       "      <td>Ann Arbor</td>\n",
       "      <td>481091274</td>\n",
       "      <td>7347636438</td>\n",
       "      <td>3003 South State St. Room 1062</td>\n",
       "      <td>United States</td>\n",
       "      <td>Michigan</td>\n",
       "      <td>MI</td>\n",
       "      <td>1517</td>\n",
       "      <td>ELECT, PHOTONICS, &amp; MAG DEVICE</td>\n",
       "    </tr>\n",
       "    <tr>\n",
       "      <th>1</th>\n",
       "      <td>Urban Containment Programs and the Vulnerabili...</td>\n",
       "      <td>08/15/2001</td>\n",
       "      <td>07/31/2005</td>\n",
       "      <td>NaN</td>\n",
       "      <td>149995</td>\n",
       "      <td>Standard Grant</td>\n",
       "      <td>07030000</td>\n",
       "      <td>NaN</td>\n",
       "      <td>NaN</td>\n",
       "      <td>NaN</td>\n",
       "      <td>...</td>\n",
       "      <td>University of North Carolina at Chapel Hill</td>\n",
       "      <td>CHAPEL HILL</td>\n",
       "      <td>275991350</td>\n",
       "      <td>9199663411</td>\n",
       "      <td>104 AIRPORT DR STE 2200</td>\n",
       "      <td>United States</td>\n",
       "      <td>North Carolina</td>\n",
       "      <td>NC</td>\n",
       "      <td>1638</td>\n",
       "      <td>HDBE-Humans, Disasters, and th</td>\n",
       "    </tr>\n",
       "    <tr>\n",
       "      <th>2</th>\n",
       "      <td>The Formation and Climatological Distribution ...</td>\n",
       "      <td>07/01/2001</td>\n",
       "      <td>08/31/2003</td>\n",
       "      <td>NaN</td>\n",
       "      <td>175204</td>\n",
       "      <td>Standard Grant</td>\n",
       "      <td>06020105</td>\n",
       "      <td>NaN</td>\n",
       "      <td>NaN</td>\n",
       "      <td>NaN</td>\n",
       "      <td>...</td>\n",
       "      <td>University of Oklahoma Norman Campus</td>\n",
       "      <td>NORMAN</td>\n",
       "      <td>730199705</td>\n",
       "      <td>4053254757</td>\n",
       "      <td>201 Stephenson Parkway</td>\n",
       "      <td>United States</td>\n",
       "      <td>Oklahoma</td>\n",
       "      <td>OK</td>\n",
       "      <td>1525</td>\n",
       "      <td>PHYSICAL &amp; DYNAMIC METEOROLOGY</td>\n",
       "    </tr>\n",
       "  </tbody>\n",
       "</table>\n",
       "<p>3 rows × 27 columns</p>\n",
       "</div>"
      ],
      "text/plain": [
       "                                          AwardTitle AwardEffectiveDate  \\\n",
       "0    Characterization of Nanoscale Defects and Pores         07/01/2001   \n",
       "1  Urban Containment Programs and the Vulnerabili...         08/15/2001   \n",
       "2  The Formation and Climatological Distribution ...         07/01/2001   \n",
       "\n",
       "  AwardExpirationDate AwardTotalIntnAmount AwardAmount   AwardInstrument  \\\n",
       "0          06/30/2005            300000.00      300000  Continuing grant   \n",
       "1          07/31/2005                  NaN      149995    Standard Grant   \n",
       "2          08/31/2003                  NaN      175204    Standard Grant   \n",
       "\n",
       "  Organization_Code Directorate_Abbreviation         Directorate_LongName  \\\n",
       "0          07010000                      ENG  Directorate For Engineering   \n",
       "1          07030000                      NaN                          NaN   \n",
       "2          06020105                      NaN                          NaN   \n",
       "\n",
       "  Division_Abbreviation  ...                             Institution_Name  \\\n",
       "0                  ECCS  ...             University of Michigan Ann Arbor   \n",
       "1                   NaN  ...  University of North Carolina at Chapel Hill   \n",
       "2                   NaN  ...         University of Oklahoma Norman Campus   \n",
       "\n",
       "  Institution_CityName Institution_ZipCode Institution_PhoneNumber  \\\n",
       "0            Ann Arbor           481091274              7347636438   \n",
       "1          CHAPEL HILL           275991350              9199663411   \n",
       "2               NORMAN           730199705              4053254757   \n",
       "\n",
       "        Institution_StreetAddress Institution_CountryName  \\\n",
       "0  3003 South State St. Room 1062           United States   \n",
       "1         104 AIRPORT DR STE 2200           United States   \n",
       "2          201 Stephenson Parkway           United States   \n",
       "\n",
       "  Institution_StateName Institution_StateCode ProgramElement_Code  \\\n",
       "0              Michigan                    MI                1517   \n",
       "1        North Carolina                    NC                1638   \n",
       "2              Oklahoma                    OK                1525   \n",
       "\n",
       "              ProgramElement_Text  \n",
       "0  ELECT, PHOTONICS, & MAG DEVICE  \n",
       "1  HDBE-Humans, Disasters, and th  \n",
       "2  PHYSICAL & DYNAMIC METEOROLOGY  \n",
       "\n",
       "[3 rows x 27 columns]"
      ]
     },
     "execution_count": 4,
     "metadata": {},
     "output_type": "execute_result"
    }
   ],
   "source": [
    "df_notnull=df[df['Abstract'].notnull()].reset_index(drop=True)\n",
    "df_notnull.head(3)"
   ]
  },
  {
   "cell_type": "code",
   "execution_count": 5,
   "metadata": {},
   "outputs": [
    {
     "name": "stdout",
     "output_type": "stream",
     "text": [
      "Total paper number in NSF web site: 458635\n",
      "Total paper number with Abstract : 348480\n"
     ]
    }
   ],
   "source": [
    "print('Total paper number in NSF web site: {}'.format(df.shape[0]))\n",
    "print('Total paper number with Abstract : {}'.format(df_notnull.shape[0]))"
   ]
  },
  {
   "cell_type": "markdown",
   "metadata": {},
   "source": [
    "__Filtering Rows with the keyword of *cyber security*__\n",
    "\n",
    "Pay attention!!! We filtering the data with \"cyber\" and \"security\" keywords separately. Because, If we had used the keyword as \"cyber security\", most of the valuable data would have ignored mistakenly. For example, different forms of cyber security words uses like \"cyber-security\" and \"cybersecurity\" in some articles."
   ]
  },
  {
   "cell_type": "code",
   "execution_count": 6,
   "metadata": {},
   "outputs": [
    {
     "data": {
      "text/plain": [
       "7099"
      ]
     },
     "execution_count": 6,
     "metadata": {},
     "output_type": "execute_result"
    }
   ],
   "source": [
    "df_cyber=df_notnull[df_notnull['Abstract'].str.lower().str.contains('cyber')]\n",
    "len(df_cyber)"
   ]
  },
  {
   "cell_type": "code",
   "execution_count": 7,
   "metadata": {},
   "outputs": [
    {
     "data": {
      "text/plain": [
       "1967"
      ]
     },
     "execution_count": 7,
     "metadata": {},
     "output_type": "execute_result"
    }
   ],
   "source": [
    "df_malicious_benign=df_notnull[df_notnull['Abstract'].str.lower().str.contains('malicious| benign')]\n",
    "len(df_malicious_benign)"
   ]
  },
  {
   "cell_type": "markdown",
   "metadata": {},
   "source": [
    "__Merging Multiple DataFrames__\n",
    "\n",
    "After merging multiple dataframe, we need to drop duplicate rows. We didn't prefer to use default __drop_duplication()__ function because many rows have same Abstract value but different AwardID or reseacrher name. So we use __subset__ parameter to check and detect the similarities from Abstract values"
   ]
  },
  {
   "cell_type": "code",
   "execution_count": 8,
   "metadata": {},
   "outputs": [
    {
     "name": "stdout",
     "output_type": "stream",
     "text": [
      "Row Numbers after merging:9066\n",
      "Row Numbers after removing duplicates: 7056\n"
     ]
    }
   ],
   "source": [
    "#merge dataframes\n",
    "df_sum = pd.concat([df_cyber,df_malicious_benign])\n",
    "print('Row Numbers after merging:{}'.format(df_sum.shape[0]))\n",
    "\n",
    "#remove duplicates\n",
    "df_sum=df_sum.drop_duplicates(subset='Abstract')\n",
    "\n",
    "print('Row Numbers after removing duplicates: {}'.format(df_sum.shape[0]))\n",
    "\n",
    "#reset index\n",
    "df_sum=df_sum.reset_index(drop=True)"
   ]
  },
  {
   "cell_type": "code",
   "execution_count": 9,
   "metadata": {},
   "outputs": [
    {
     "name": "stdout",
     "output_type": "stream",
     "text": [
      "Total paper number in NSF web site: 458635\n",
      "Total cyber related paper number : 7056\n"
     ]
    }
   ],
   "source": [
    "print('Total paper number in NSF web site: {}'.format(df.shape[0]))\n",
    "print('Total cyber related paper number : {}'.format(df_sum.shape[0]))"
   ]
  },
  {
   "cell_type": "markdown",
   "metadata": {},
   "source": [
    "__B) Loading The Data of Investigators__"
   ]
  },
  {
   "cell_type": "code",
   "execution_count": 10,
   "metadata": {},
   "outputs": [
    {
     "data": {
      "text/html": [
       "<div>\n",
       "<style scoped>\n",
       "    .dataframe tbody tr th:only-of-type {\n",
       "        vertical-align: middle;\n",
       "    }\n",
       "\n",
       "    .dataframe tbody tr th {\n",
       "        vertical-align: top;\n",
       "    }\n",
       "\n",
       "    .dataframe thead th {\n",
       "        text-align: right;\n",
       "    }\n",
       "</style>\n",
       "<table border=\"1\" class=\"dataframe\">\n",
       "  <thead>\n",
       "    <tr style=\"text-align: right;\">\n",
       "      <th></th>\n",
       "      <th>AwardID</th>\n",
       "      <th>Investigator_FirstName</th>\n",
       "      <th>Investigator_LastName</th>\n",
       "      <th>Investigator_EmailAddress</th>\n",
       "      <th>Investigator_StartDate</th>\n",
       "      <th>Investigator_EndDate</th>\n",
       "      <th>Investigator_RoleCode</th>\n",
       "    </tr>\n",
       "  </thead>\n",
       "  <tbody>\n",
       "    <tr>\n",
       "      <th>0</th>\n",
       "      <td>0100009</td>\n",
       "      <td>David</td>\n",
       "      <td>Gidley</td>\n",
       "      <td>gidley@umich.edu</td>\n",
       "      <td>05/14/2001</td>\n",
       "      <td>None</td>\n",
       "      <td>Principal Investigator</td>\n",
       "    </tr>\n",
       "    <tr>\n",
       "      <th>1</th>\n",
       "      <td>0100009</td>\n",
       "      <td>William</td>\n",
       "      <td>Frieze</td>\n",
       "      <td>frieze@umich.edu</td>\n",
       "      <td>05/14/2001</td>\n",
       "      <td>None</td>\n",
       "      <td>Co-Principal Investigator</td>\n",
       "    </tr>\n",
       "    <tr>\n",
       "      <th>2</th>\n",
       "      <td>0100009</td>\n",
       "      <td>Albert</td>\n",
       "      <td>Yee</td>\n",
       "      <td>afyee@uci.edu</td>\n",
       "      <td>05/14/2001</td>\n",
       "      <td>None</td>\n",
       "      <td>Co-Principal Investigator</td>\n",
       "    </tr>\n",
       "  </tbody>\n",
       "</table>\n",
       "</div>"
      ],
      "text/plain": [
       "   AwardID Investigator_FirstName Investigator_LastName  \\\n",
       "0  0100009                  David                Gidley   \n",
       "1  0100009                William                Frieze   \n",
       "2  0100009                 Albert                   Yee   \n",
       "\n",
       "  Investigator_EmailAddress Investigator_StartDate Investigator_EndDate  \\\n",
       "0          gidley@umich.edu             05/14/2001                 None   \n",
       "1          frieze@umich.edu             05/14/2001                 None   \n",
       "2             afyee@uci.edu             05/14/2001                 None   \n",
       "\n",
       "       Investigator_RoleCode  \n",
       "0     Principal Investigator  \n",
       "1  Co-Principal Investigator  \n",
       "2  Co-Principal Investigator  "
      ]
     },
     "execution_count": 10,
     "metadata": {},
     "output_type": "execute_result"
    }
   ],
   "source": [
    "df_investigator=pd.read_parquet('investigator_parquet.gzip')\n",
    "df_investigator.head(3)"
   ]
  },
  {
   "cell_type": "markdown",
   "metadata": {},
   "source": [
    "__Filtering The Data with Cyber Releated Article__\n",
    "\n",
    "In this dataset we don't have abstract information, so we establish a relation between Award Data (the previous data) and Investigator Data (this data) with the help og AwardID column."
   ]
  },
  {
   "cell_type": "code",
   "execution_count": 11,
   "metadata": {},
   "outputs": [
    {
     "data": {
      "text/html": [
       "<div>\n",
       "<style scoped>\n",
       "    .dataframe tbody tr th:only-of-type {\n",
       "        vertical-align: middle;\n",
       "    }\n",
       "\n",
       "    .dataframe tbody tr th {\n",
       "        vertical-align: top;\n",
       "    }\n",
       "\n",
       "    .dataframe thead th {\n",
       "        text-align: right;\n",
       "    }\n",
       "</style>\n",
       "<table border=\"1\" class=\"dataframe\">\n",
       "  <thead>\n",
       "    <tr style=\"text-align: right;\">\n",
       "      <th></th>\n",
       "      <th>AwardID</th>\n",
       "      <th>Investigator_FirstName</th>\n",
       "      <th>Investigator_LastName</th>\n",
       "      <th>Investigator_EmailAddress</th>\n",
       "      <th>Investigator_StartDate</th>\n",
       "      <th>Investigator_EndDate</th>\n",
       "      <th>Investigator_RoleCode</th>\n",
       "    </tr>\n",
       "  </thead>\n",
       "  <tbody>\n",
       "    <tr>\n",
       "      <th>0</th>\n",
       "      <td>0100727</td>\n",
       "      <td>Albert</td>\n",
       "      <td>Fry</td>\n",
       "      <td>AFRY@WESLEYAN.EDU</td>\n",
       "      <td>06/26/2001</td>\n",
       "      <td>None</td>\n",
       "      <td>Principal Investigator</td>\n",
       "    </tr>\n",
       "    <tr>\n",
       "      <th>1</th>\n",
       "      <td>0103820</td>\n",
       "      <td>Mark</td>\n",
       "      <td>Klein</td>\n",
       "      <td>m_klein@mit.edu</td>\n",
       "      <td>06/10/2001</td>\n",
       "      <td>None</td>\n",
       "      <td>Principal Investigator</td>\n",
       "    </tr>\n",
       "    <tr>\n",
       "      <th>2</th>\n",
       "      <td>0104861</td>\n",
       "      <td>Jennifer</td>\n",
       "      <td>Mueller</td>\n",
       "      <td>mueller@math.colostate.edu</td>\n",
       "      <td>08/30/2001</td>\n",
       "      <td>None</td>\n",
       "      <td>Principal Investigator</td>\n",
       "    </tr>\n",
       "  </tbody>\n",
       "</table>\n",
       "</div>"
      ],
      "text/plain": [
       "   AwardID Investigator_FirstName Investigator_LastName  \\\n",
       "0  0100727                 Albert                   Fry   \n",
       "1  0103820                   Mark                 Klein   \n",
       "2  0104861               Jennifer               Mueller   \n",
       "\n",
       "    Investigator_EmailAddress Investigator_StartDate Investigator_EndDate  \\\n",
       "0           AFRY@WESLEYAN.EDU             06/26/2001                 None   \n",
       "1             m_klein@mit.edu             06/10/2001                 None   \n",
       "2  mueller@math.colostate.edu             08/30/2001                 None   \n",
       "\n",
       "    Investigator_RoleCode  \n",
       "0  Principal Investigator  \n",
       "1  Principal Investigator  \n",
       "2  Principal Investigator  "
      ]
     },
     "execution_count": 11,
     "metadata": {},
     "output_type": "execute_result"
    }
   ],
   "source": [
    "#creat the awardID list\n",
    "cyber_awardID_list=list(df_sum['AwardID'])\n",
    "\n",
    "#filter the dataframe\n",
    "df_investigator_cyber=df_investigator[df_investigator['AwardID'].isin(cyber_awardID_list)]\n",
    "\n",
    "#reset index\n",
    "df_investigator_cyber=df_investigator_cyber.reset_index(drop=True)\n",
    "\n",
    "df_investigator_cyber.head(3)"
   ]
  },
  {
   "cell_type": "code",
   "execution_count": 12,
   "metadata": {},
   "outputs": [
    {
     "name": "stdout",
     "output_type": "stream",
     "text": [
      "Total investigator number in NSF web site: 917270\n",
      "Total investigator number in cyber related papers: 15319\n"
     ]
    }
   ],
   "source": [
    "print('Total investigator number in NSF web site: {}'.format(df_investigator.shape[0]))\n",
    "print('Total investigator number in cyber related papers: {}'.format(df_investigator_cyber.shape[0]))"
   ]
  },
  {
   "cell_type": "markdown",
   "metadata": {},
   "source": [
    "## C-) Preprocessing Phase"
   ]
  },
  {
   "cell_type": "markdown",
   "metadata": {},
   "source": [
    "__Remove Unnecessary Columns__"
   ]
  },
  {
   "cell_type": "code",
   "execution_count": 13,
   "metadata": {},
   "outputs": [
    {
     "name": "stdout",
     "output_type": "stream",
     "text": [
      "Total columns number: 27\n",
      "\n",
      "['AwardTitle', 'AwardEffectiveDate', 'AwardExpirationDate', 'AwardTotalIntnAmount', 'AwardAmount', 'AwardInstrument', 'Organization_Code', 'Directorate_Abbreviation', 'Directorate_LongName', 'Division_Abbreviation', 'Division_LongName', 'ProgramOfficer', 'Abstract', 'MinAmdLetterDate', 'MaxAmdLetterDate', 'ARRAAmount', 'AwardID', 'Institution_Name', 'Institution_CityName', 'Institution_ZipCode', 'Institution_PhoneNumber', 'Institution_StreetAddress', 'Institution_CountryName', 'Institution_StateName', 'Institution_StateCode', 'ProgramElement_Code', 'ProgramElement_Text']\n"
     ]
    }
   ],
   "source": [
    "#See all columns names together\n",
    "print('Total columns number: {}\\n'.format(df_sum.shape[1]))\n",
    "print(list(df_sum.columns))"
   ]
  },
  {
   "cell_type": "code",
   "execution_count": 14,
   "metadata": {},
   "outputs": [
    {
     "name": "stdout",
     "output_type": "stream",
     "text": [
      "After dropping unnecessary columns,\n",
      "Currently total columns number: 9\n",
      "\n",
      "['AwardTitle', 'AwardEffectiveDate', 'AwardExpirationDate', 'AwardAmount', 'ProgramOfficer', 'Abstract', 'AwardID', 'Institution_Name', 'Institution_StateName']\n"
     ]
    }
   ],
   "source": [
    "#Drop unnecessary columns\n",
    "df_sum.drop([\n",
    "       'AwardTotalIntnAmount', 'AwardInstrument',\n",
    "       'Organization_Code', 'Directorate_Abbreviation', 'Directorate_LongName',\n",
    "       'Division_Abbreviation', 'Division_LongName',\n",
    "       'MinAmdLetterDate', 'MaxAmdLetterDate', 'ARRAAmount',\n",
    "      'Institution_CityName','Institution_CountryName',\n",
    "       'Institution_ZipCode', 'Institution_PhoneNumber',\n",
    "       'Institution_StreetAddress','Institution_StateCode',\n",
    "        'ProgramElement_Code',\n",
    "       'ProgramElement_Text'], axis=1, inplace=True) \n",
    "\n",
    "print('After dropping unnecessary columns,\\nCurrently total columns number: {}\\n'.format(df_sum.shape[1]))\n",
    "print(list(df_sum.columns))"
   ]
  },
  {
   "cell_type": "markdown",
   "metadata": {},
   "source": [
    "__Reorder The Columns Sequence__"
   ]
  },
  {
   "cell_type": "code",
   "execution_count": 15,
   "metadata": {},
   "outputs": [
    {
     "data": {
      "text/html": [
       "<div>\n",
       "<style scoped>\n",
       "    .dataframe tbody tr th:only-of-type {\n",
       "        vertical-align: middle;\n",
       "    }\n",
       "\n",
       "    .dataframe tbody tr th {\n",
       "        vertical-align: top;\n",
       "    }\n",
       "\n",
       "    .dataframe thead th {\n",
       "        text-align: right;\n",
       "    }\n",
       "</style>\n",
       "<table border=\"1\" class=\"dataframe\">\n",
       "  <thead>\n",
       "    <tr style=\"text-align: right;\">\n",
       "      <th></th>\n",
       "      <th>AwardID</th>\n",
       "      <th>AwardTitle</th>\n",
       "      <th>AwardEffectiveDate</th>\n",
       "      <th>AwardExpirationDate</th>\n",
       "      <th>AwardAmount</th>\n",
       "      <th>ProgramOfficer</th>\n",
       "      <th>Institution_Name</th>\n",
       "      <th>Institution_StateName</th>\n",
       "      <th>Abstract</th>\n",
       "    </tr>\n",
       "  </thead>\n",
       "  <tbody>\n",
       "    <tr>\n",
       "      <th>0</th>\n",
       "      <td>0110599</td>\n",
       "      <td>Collaborative Research Testing Affect Control ...</td>\n",
       "      <td>08/15/2001</td>\n",
       "      <td>07/31/2004</td>\n",
       "      <td>124135</td>\n",
       "      <td>Patricia White</td>\n",
       "      <td>University of Arizona</td>\n",
       "      <td>Arizona</td>\n",
       "      <td>The investigators will conduct a series of exp...</td>\n",
       "    </tr>\n",
       "    <tr>\n",
       "      <th>1</th>\n",
       "      <td>0112426</td>\n",
       "      <td>Federal Cyber Service Initiative</td>\n",
       "      <td>06/01/2001</td>\n",
       "      <td>06/30/2007</td>\n",
       "      <td>5105896</td>\n",
       "      <td>Timothy V. Fossum</td>\n",
       "      <td>University of Tulsa</td>\n",
       "      <td>Oklahoma</td>\n",
       "      <td>This program produces a cadre of computer scie...</td>\n",
       "    </tr>\n",
       "  </tbody>\n",
       "</table>\n",
       "</div>"
      ],
      "text/plain": [
       "   AwardID                                         AwardTitle  \\\n",
       "0  0110599  Collaborative Research Testing Affect Control ...   \n",
       "1  0112426                   Federal Cyber Service Initiative   \n",
       "\n",
       "  AwardEffectiveDate AwardExpirationDate AwardAmount     ProgramOfficer  \\\n",
       "0         08/15/2001          07/31/2004      124135     Patricia White   \n",
       "1         06/01/2001          06/30/2007     5105896  Timothy V. Fossum   \n",
       "\n",
       "        Institution_Name Institution_StateName  \\\n",
       "0  University of Arizona               Arizona   \n",
       "1    University of Tulsa              Oklahoma   \n",
       "\n",
       "                                            Abstract  \n",
       "0  The investigators will conduct a series of exp...  \n",
       "1  This program produces a cadre of computer scie...  "
      ]
     },
     "execution_count": 15,
     "metadata": {},
     "output_type": "execute_result"
    }
   ],
   "source": [
    "df_sum = df_sum[['AwardID', 'AwardTitle', 'AwardEffectiveDate', 'AwardExpirationDate','AwardAmount', 'ProgramOfficer','Institution_Name', 'Institution_StateName','Abstract']]\n",
    "df_sum.head(2)"
   ]
  },
  {
   "cell_type": "markdown",
   "metadata": {},
   "source": [
    "__Summarize The Values__"
   ]
  },
  {
   "cell_type": "code",
   "execution_count": 16,
   "metadata": {},
   "outputs": [
    {
     "data": {
      "text/html": [
       "<div>\n",
       "<style scoped>\n",
       "    .dataframe tbody tr th:only-of-type {\n",
       "        vertical-align: middle;\n",
       "    }\n",
       "\n",
       "    .dataframe tbody tr th {\n",
       "        vertical-align: top;\n",
       "    }\n",
       "\n",
       "    .dataframe thead th {\n",
       "        text-align: right;\n",
       "    }\n",
       "</style>\n",
       "<table border=\"1\" class=\"dataframe\">\n",
       "  <thead>\n",
       "    <tr style=\"text-align: right;\">\n",
       "      <th></th>\n",
       "      <th>Total NaN</th>\n",
       "      <th>Percentage of NaN</th>\n",
       "      <th>Unique Values</th>\n",
       "      <th>Value Type</th>\n",
       "    </tr>\n",
       "  </thead>\n",
       "  <tbody>\n",
       "    <tr>\n",
       "      <th>Institution_StateName</th>\n",
       "      <td>46</td>\n",
       "      <td>0.006519</td>\n",
       "      <td>54</td>\n",
       "      <td>object</td>\n",
       "    </tr>\n",
       "    <tr>\n",
       "      <th>Institution_Name</th>\n",
       "      <td>46</td>\n",
       "      <td>0.006519</td>\n",
       "      <td>900</td>\n",
       "      <td>object</td>\n",
       "    </tr>\n",
       "    <tr>\n",
       "      <th>ProgramOfficer</th>\n",
       "      <td>7</td>\n",
       "      <td>0.000992</td>\n",
       "      <td>1035</td>\n",
       "      <td>object</td>\n",
       "    </tr>\n",
       "    <tr>\n",
       "      <th>Abstract</th>\n",
       "      <td>0</td>\n",
       "      <td>0.000000</td>\n",
       "      <td>7056</td>\n",
       "      <td>object</td>\n",
       "    </tr>\n",
       "    <tr>\n",
       "      <th>AwardAmount</th>\n",
       "      <td>0</td>\n",
       "      <td>0.000000</td>\n",
       "      <td>4994</td>\n",
       "      <td>object</td>\n",
       "    </tr>\n",
       "    <tr>\n",
       "      <th>AwardExpirationDate</th>\n",
       "      <td>0</td>\n",
       "      <td>0.000000</td>\n",
       "      <td>393</td>\n",
       "      <td>object</td>\n",
       "    </tr>\n",
       "    <tr>\n",
       "      <th>AwardEffectiveDate</th>\n",
       "      <td>0</td>\n",
       "      <td>0.000000</td>\n",
       "      <td>609</td>\n",
       "      <td>object</td>\n",
       "    </tr>\n",
       "    <tr>\n",
       "      <th>AwardTitle</th>\n",
       "      <td>0</td>\n",
       "      <td>0.000000</td>\n",
       "      <td>6813</td>\n",
       "      <td>object</td>\n",
       "    </tr>\n",
       "    <tr>\n",
       "      <th>AwardID</th>\n",
       "      <td>0</td>\n",
       "      <td>0.000000</td>\n",
       "      <td>7056</td>\n",
       "      <td>object</td>\n",
       "    </tr>\n",
       "  </tbody>\n",
       "</table>\n",
       "</div>"
      ],
      "text/plain": [
       "                       Total NaN  Percentage of NaN  Unique Values Value Type\n",
       "Institution_StateName         46           0.006519             54     object\n",
       "Institution_Name              46           0.006519            900     object\n",
       "ProgramOfficer                 7           0.000992           1035     object\n",
       "Abstract                       0           0.000000           7056     object\n",
       "AwardAmount                    0           0.000000           4994     object\n",
       "AwardExpirationDate            0           0.000000            393     object\n",
       "AwardEffectiveDate             0           0.000000            609     object\n",
       "AwardTitle                     0           0.000000           6813     object\n",
       "AwardID                        0           0.000000           7056     object"
      ]
     },
     "execution_count": 16,
     "metadata": {},
     "output_type": "execute_result"
    }
   ],
   "source": [
    "#Create a new dataframe and describe the values\n",
    "df_values = pd.DataFrame()\n",
    "df_values[\"Total NaN\"]=df_sum.isnull().sum().sort_values(ascending=False)\n",
    "df_values['Percentage of NaN']= (df_sum.isnull().sum()/df_sum.isnull().count()).sort_values(ascending=False)\n",
    "df_values[\"Unique Values\"] = df_sum[df_values.index].nunique()\n",
    "df_values[\"Value Type\"] = df_sum[df_values.index].dtypes\n",
    "df_values"
   ]
  },
  {
   "cell_type": "markdown",
   "metadata": {},
   "source": [
    "__Handling Missing Data__\n",
    "\n",
    "In the data there are 3 group of data has missing values. As a glad to missig values, it is not possible to handle the __name of the program officers__. Also, __Institution Name__ and __Institution State Name__ also not possible to imputing. But, after analyze the __Abstract__ column, we understood that we can gain some names from there with NLP techniques. With our previous NLP experience, we prefer to use Python __spacy__ library, because it is more powerfull in NER than nltk, textblob etc."
   ]
  },
  {
   "cell_type": "code",
   "execution_count": 17,
   "metadata": {},
   "outputs": [
    {
     "ename": "FileNotFoundError",
     "evalue": "[Errno 2] File b'us_universities.csv' does not exist: b'us_universities.csv'",
     "output_type": "error",
     "traceback": [
      "\u001b[1;31m---------------------------------------------------------------------------\u001b[0m",
      "\u001b[1;31mFileNotFoundError\u001b[0m                         Traceback (most recent call last)",
      "\u001b[1;32m<ipython-input-17-ae854512231f>\u001b[0m in \u001b[0;36m<module>\u001b[1;34m\u001b[0m\n\u001b[0;32m      1\u001b[0m \u001b[0mdf_missing\u001b[0m\u001b[1;33m=\u001b[0m\u001b[0mdf_sum\u001b[0m\u001b[1;33m[\u001b[0m\u001b[0mdf_sum\u001b[0m\u001b[1;33m[\u001b[0m\u001b[1;34m'Institution_Name'\u001b[0m\u001b[1;33m]\u001b[0m\u001b[1;33m.\u001b[0m\u001b[0misnull\u001b[0m\u001b[1;33m(\u001b[0m\u001b[1;33m)\u001b[0m\u001b[1;33m]\u001b[0m\u001b[1;33m.\u001b[0m\u001b[0mreset_index\u001b[0m\u001b[1;33m(\u001b[0m\u001b[0mdrop\u001b[0m\u001b[1;33m=\u001b[0m\u001b[1;32mTrue\u001b[0m\u001b[1;33m)\u001b[0m\u001b[1;33m\u001b[0m\u001b[1;33m\u001b[0m\u001b[0m\n\u001b[1;32m----> 2\u001b[1;33m \u001b[0mdf_unv\u001b[0m\u001b[1;33m=\u001b[0m\u001b[0mpd\u001b[0m\u001b[1;33m.\u001b[0m\u001b[0mread_csv\u001b[0m\u001b[1;33m(\u001b[0m\u001b[1;34m'us_universities.csv'\u001b[0m\u001b[1;33m,\u001b[0m\u001b[0msep\u001b[0m\u001b[1;33m=\u001b[0m\u001b[1;34m';'\u001b[0m\u001b[1;33m)\u001b[0m\u001b[1;33m\u001b[0m\u001b[1;33m\u001b[0m\u001b[0m\n\u001b[0m\u001b[0;32m      3\u001b[0m \u001b[0mdf_unv\u001b[0m\u001b[1;33m.\u001b[0m\u001b[0mhead\u001b[0m\u001b[1;33m(\u001b[0m\u001b[1;36m2\u001b[0m\u001b[1;33m)\u001b[0m\u001b[1;33m\u001b[0m\u001b[1;33m\u001b[0m\u001b[0m\n",
      "\u001b[1;32m~\\Anaconda3\\lib\\site-packages\\pandas\\io\\parsers.py\u001b[0m in \u001b[0;36mparser_f\u001b[1;34m(filepath_or_buffer, sep, delimiter, header, names, index_col, usecols, squeeze, prefix, mangle_dupe_cols, dtype, engine, converters, true_values, false_values, skipinitialspace, skiprows, skipfooter, nrows, na_values, keep_default_na, na_filter, verbose, skip_blank_lines, parse_dates, infer_datetime_format, keep_date_col, date_parser, dayfirst, cache_dates, iterator, chunksize, compression, thousands, decimal, lineterminator, quotechar, quoting, doublequote, escapechar, comment, encoding, dialect, error_bad_lines, warn_bad_lines, delim_whitespace, low_memory, memory_map, float_precision)\u001b[0m\n\u001b[0;32m    683\u001b[0m         )\n\u001b[0;32m    684\u001b[0m \u001b[1;33m\u001b[0m\u001b[0m\n\u001b[1;32m--> 685\u001b[1;33m         \u001b[1;32mreturn\u001b[0m \u001b[0m_read\u001b[0m\u001b[1;33m(\u001b[0m\u001b[0mfilepath_or_buffer\u001b[0m\u001b[1;33m,\u001b[0m \u001b[0mkwds\u001b[0m\u001b[1;33m)\u001b[0m\u001b[1;33m\u001b[0m\u001b[1;33m\u001b[0m\u001b[0m\n\u001b[0m\u001b[0;32m    686\u001b[0m \u001b[1;33m\u001b[0m\u001b[0m\n\u001b[0;32m    687\u001b[0m     \u001b[0mparser_f\u001b[0m\u001b[1;33m.\u001b[0m\u001b[0m__name__\u001b[0m \u001b[1;33m=\u001b[0m \u001b[0mname\u001b[0m\u001b[1;33m\u001b[0m\u001b[1;33m\u001b[0m\u001b[0m\n",
      "\u001b[1;32m~\\Anaconda3\\lib\\site-packages\\pandas\\io\\parsers.py\u001b[0m in \u001b[0;36m_read\u001b[1;34m(filepath_or_buffer, kwds)\u001b[0m\n\u001b[0;32m    455\u001b[0m \u001b[1;33m\u001b[0m\u001b[0m\n\u001b[0;32m    456\u001b[0m     \u001b[1;31m# Create the parser.\u001b[0m\u001b[1;33m\u001b[0m\u001b[1;33m\u001b[0m\u001b[1;33m\u001b[0m\u001b[0m\n\u001b[1;32m--> 457\u001b[1;33m     \u001b[0mparser\u001b[0m \u001b[1;33m=\u001b[0m \u001b[0mTextFileReader\u001b[0m\u001b[1;33m(\u001b[0m\u001b[0mfp_or_buf\u001b[0m\u001b[1;33m,\u001b[0m \u001b[1;33m**\u001b[0m\u001b[0mkwds\u001b[0m\u001b[1;33m)\u001b[0m\u001b[1;33m\u001b[0m\u001b[1;33m\u001b[0m\u001b[0m\n\u001b[0m\u001b[0;32m    458\u001b[0m \u001b[1;33m\u001b[0m\u001b[0m\n\u001b[0;32m    459\u001b[0m     \u001b[1;32mif\u001b[0m \u001b[0mchunksize\u001b[0m \u001b[1;32mor\u001b[0m \u001b[0miterator\u001b[0m\u001b[1;33m:\u001b[0m\u001b[1;33m\u001b[0m\u001b[1;33m\u001b[0m\u001b[0m\n",
      "\u001b[1;32m~\\Anaconda3\\lib\\site-packages\\pandas\\io\\parsers.py\u001b[0m in \u001b[0;36m__init__\u001b[1;34m(self, f, engine, **kwds)\u001b[0m\n\u001b[0;32m    893\u001b[0m             \u001b[0mself\u001b[0m\u001b[1;33m.\u001b[0m\u001b[0moptions\u001b[0m\u001b[1;33m[\u001b[0m\u001b[1;34m\"has_index_names\"\u001b[0m\u001b[1;33m]\u001b[0m \u001b[1;33m=\u001b[0m \u001b[0mkwds\u001b[0m\u001b[1;33m[\u001b[0m\u001b[1;34m\"has_index_names\"\u001b[0m\u001b[1;33m]\u001b[0m\u001b[1;33m\u001b[0m\u001b[1;33m\u001b[0m\u001b[0m\n\u001b[0;32m    894\u001b[0m \u001b[1;33m\u001b[0m\u001b[0m\n\u001b[1;32m--> 895\u001b[1;33m         \u001b[0mself\u001b[0m\u001b[1;33m.\u001b[0m\u001b[0m_make_engine\u001b[0m\u001b[1;33m(\u001b[0m\u001b[0mself\u001b[0m\u001b[1;33m.\u001b[0m\u001b[0mengine\u001b[0m\u001b[1;33m)\u001b[0m\u001b[1;33m\u001b[0m\u001b[1;33m\u001b[0m\u001b[0m\n\u001b[0m\u001b[0;32m    896\u001b[0m \u001b[1;33m\u001b[0m\u001b[0m\n\u001b[0;32m    897\u001b[0m     \u001b[1;32mdef\u001b[0m \u001b[0mclose\u001b[0m\u001b[1;33m(\u001b[0m\u001b[0mself\u001b[0m\u001b[1;33m)\u001b[0m\u001b[1;33m:\u001b[0m\u001b[1;33m\u001b[0m\u001b[1;33m\u001b[0m\u001b[0m\n",
      "\u001b[1;32m~\\Anaconda3\\lib\\site-packages\\pandas\\io\\parsers.py\u001b[0m in \u001b[0;36m_make_engine\u001b[1;34m(self, engine)\u001b[0m\n\u001b[0;32m   1133\u001b[0m     \u001b[1;32mdef\u001b[0m \u001b[0m_make_engine\u001b[0m\u001b[1;33m(\u001b[0m\u001b[0mself\u001b[0m\u001b[1;33m,\u001b[0m \u001b[0mengine\u001b[0m\u001b[1;33m=\u001b[0m\u001b[1;34m\"c\"\u001b[0m\u001b[1;33m)\u001b[0m\u001b[1;33m:\u001b[0m\u001b[1;33m\u001b[0m\u001b[1;33m\u001b[0m\u001b[0m\n\u001b[0;32m   1134\u001b[0m         \u001b[1;32mif\u001b[0m \u001b[0mengine\u001b[0m \u001b[1;33m==\u001b[0m \u001b[1;34m\"c\"\u001b[0m\u001b[1;33m:\u001b[0m\u001b[1;33m\u001b[0m\u001b[1;33m\u001b[0m\u001b[0m\n\u001b[1;32m-> 1135\u001b[1;33m             \u001b[0mself\u001b[0m\u001b[1;33m.\u001b[0m\u001b[0m_engine\u001b[0m \u001b[1;33m=\u001b[0m \u001b[0mCParserWrapper\u001b[0m\u001b[1;33m(\u001b[0m\u001b[0mself\u001b[0m\u001b[1;33m.\u001b[0m\u001b[0mf\u001b[0m\u001b[1;33m,\u001b[0m \u001b[1;33m**\u001b[0m\u001b[0mself\u001b[0m\u001b[1;33m.\u001b[0m\u001b[0moptions\u001b[0m\u001b[1;33m)\u001b[0m\u001b[1;33m\u001b[0m\u001b[1;33m\u001b[0m\u001b[0m\n\u001b[0m\u001b[0;32m   1136\u001b[0m         \u001b[1;32melse\u001b[0m\u001b[1;33m:\u001b[0m\u001b[1;33m\u001b[0m\u001b[1;33m\u001b[0m\u001b[0m\n\u001b[0;32m   1137\u001b[0m             \u001b[1;32mif\u001b[0m \u001b[0mengine\u001b[0m \u001b[1;33m==\u001b[0m \u001b[1;34m\"python\"\u001b[0m\u001b[1;33m:\u001b[0m\u001b[1;33m\u001b[0m\u001b[1;33m\u001b[0m\u001b[0m\n",
      "\u001b[1;32m~\\Anaconda3\\lib\\site-packages\\pandas\\io\\parsers.py\u001b[0m in \u001b[0;36m__init__\u001b[1;34m(self, src, **kwds)\u001b[0m\n\u001b[0;32m   1915\u001b[0m         \u001b[0mkwds\u001b[0m\u001b[1;33m[\u001b[0m\u001b[1;34m\"usecols\"\u001b[0m\u001b[1;33m]\u001b[0m \u001b[1;33m=\u001b[0m \u001b[0mself\u001b[0m\u001b[1;33m.\u001b[0m\u001b[0musecols\u001b[0m\u001b[1;33m\u001b[0m\u001b[1;33m\u001b[0m\u001b[0m\n\u001b[0;32m   1916\u001b[0m \u001b[1;33m\u001b[0m\u001b[0m\n\u001b[1;32m-> 1917\u001b[1;33m         \u001b[0mself\u001b[0m\u001b[1;33m.\u001b[0m\u001b[0m_reader\u001b[0m \u001b[1;33m=\u001b[0m \u001b[0mparsers\u001b[0m\u001b[1;33m.\u001b[0m\u001b[0mTextReader\u001b[0m\u001b[1;33m(\u001b[0m\u001b[0msrc\u001b[0m\u001b[1;33m,\u001b[0m \u001b[1;33m**\u001b[0m\u001b[0mkwds\u001b[0m\u001b[1;33m)\u001b[0m\u001b[1;33m\u001b[0m\u001b[1;33m\u001b[0m\u001b[0m\n\u001b[0m\u001b[0;32m   1918\u001b[0m         \u001b[0mself\u001b[0m\u001b[1;33m.\u001b[0m\u001b[0munnamed_cols\u001b[0m \u001b[1;33m=\u001b[0m \u001b[0mself\u001b[0m\u001b[1;33m.\u001b[0m\u001b[0m_reader\u001b[0m\u001b[1;33m.\u001b[0m\u001b[0munnamed_cols\u001b[0m\u001b[1;33m\u001b[0m\u001b[1;33m\u001b[0m\u001b[0m\n\u001b[0;32m   1919\u001b[0m \u001b[1;33m\u001b[0m\u001b[0m\n",
      "\u001b[1;32mpandas\\_libs\\parsers.pyx\u001b[0m in \u001b[0;36mpandas._libs.parsers.TextReader.__cinit__\u001b[1;34m()\u001b[0m\n",
      "\u001b[1;32mpandas\\_libs\\parsers.pyx\u001b[0m in \u001b[0;36mpandas._libs.parsers.TextReader._setup_parser_source\u001b[1;34m()\u001b[0m\n",
      "\u001b[1;31mFileNotFoundError\u001b[0m: [Errno 2] File b'us_universities.csv' does not exist: b'us_universities.csv'"
     ]
    }
   ],
   "source": [
    "df_missing=df_sum[df_sum['Institution_Name'].isnull()].reset_index(drop=True)\n",
    "df_unv=pd.read_csv('us_universities.csv',sep=';')\n",
    "df_unv.head(2)"
   ]
  },
  {
   "cell_type": "markdown",
   "metadata": {},
   "source": [
    "__Impute The Institution Name and Institution StateName__"
   ]
  },
  {
   "cell_type": "code",
   "execution_count": null,
   "metadata": {},
   "outputs": [],
   "source": [
    "#create a list of all institution names in unique format\n",
    "institution_list=list(set(list(df_sum[df_sum['Institution_Name'].notnull()]['Institution_Name'])))\n",
    "\n",
    "\n",
    "#Check university name if it is not exist in institution_list\n",
    "def unv_name_check(unv_name,institution_list_temp):\n",
    "    if df_unv[df_unv['University_Name'].str.contains(unv_name)].shape[0]==1:      \n",
    "        instution_name=df_unv[df_unv['University_Name'].str.contains(unv_name)].reset_index(drop=True)['University_Name'][0]\n",
    "        institution_list_temp.append(instution_name.strip())\n",
    "        return institution_list_temp\n",
    "\n",
    "\n",
    "#define the nlp object\n",
    "nlp = en_core_web_sm.load()\n",
    "\n",
    "for n in range(df_missing.shape[0]):\n",
    "    #loading the document in string format\n",
    "    doc=nlp(str(df_missing['Abstract'][n]))\n",
    "    \n",
    "    #extract the organization names\n",
    "    NER_organization_list=[X.text.replace('The ','').replace('the ','') for X in doc.ents if X.label_=='ORG']\n",
    "    #print(NER_organization_list)\n",
    "    \n",
    "    \n",
    "    #cleaning the NERs\n",
    "    NER_organization_list2=[]\n",
    "    for w in NER_organization_list:\n",
    "        if '(' in w:\n",
    "            NER_organization_list2.append(w.split('(')[1])\n",
    "        elif \"'\" in w:\n",
    "            NER_organization_list2.append(w.split(\"'\")[0])\n",
    "        elif \"Gravitational\" in w:\n",
    "            NER_organization_list2.append(w.split(\" Gravitational\")[0])\n",
    "        else:\n",
    "            NER_organization_list2.append(w)\n",
    "\n",
    "    \n",
    "    #remove the short names\n",
    "    NER_organization_list2=[name for name in NER_organization_list2 if len(name)>3]\n",
    "\n",
    "    \n",
    "    #check the organization names if it exits in institution_list    \n",
    "    institution_list_temp=[]\n",
    "    for NER_organization in NER_organization_list2:  \n",
    "        \n",
    "        temp=[s for s in institution_list if NER_organization in s]\n",
    "        institution_list_temp.extend(temp) if len(temp)!=0 else unv_name_check(NER_organization,institution_list_temp)\n",
    "    \n",
    "    institution=(institution_list_temp[0]) if len(institution_list_temp)!=0 else 'NaN'\n",
    "    df_missing['Institution_Name'][n]=institution\n",
    "    if df_sum[df_sum['Institution_Name']==institution].shape[0]!=0:\n",
    "        df_missing['Institution_StateName'][n]=df_sum[df_sum['Institution_Name']==institution].reset_index(drop=True)['Institution_StateName'][0]   \n",
    "    elif df_sum[df_sum['Institution_Name']==institution].shape[0]==0 and len(institution)!=3:\n",
    "        df_missing['Institution_StateName'][n]=df_unv[df_unv['University_Name'].str.contains(institution)].reset_index(drop=True)['State'][0]\n",
    "    \n",
    "          \n",
    "    ###Transfering the Institution_Name and Institution_StateName values to orijinal DataFrame###\n",
    "    df_sum['Institution_Name'][df_sum.index[df_sum['AwardID']==df_missing['AwardID'][n]]]=df_missing['Institution_Name'][n]\n",
    "    df_sum['Institution_StateName'][df_sum.index[df_sum['AwardID']==df_missing['AwardID'][n]]]=df_missing['Institution_StateName'][n]\n",
    "\n",
    "df_sum.replace(to_replace=['NaN'], value=np.nan, inplace=True) \n",
    "df_missing.head(2)"
   ]
  },
  {
   "cell_type": "markdown",
   "metadata": {},
   "source": [
    "__Result Of Imputing__"
   ]
  },
  {
   "cell_type": "code",
   "execution_count": null,
   "metadata": {},
   "outputs": [],
   "source": [
    "#Changes in Missing Values\n",
    "print('Total missing values in Institution Name, BEFORE: {}'.format(df_values.loc['Institution_Name']['Total NaN']))\n",
    "print('Total missing values in Institution Name, AFTER: {}'.format(df_sum['Institution_Name'].isnull().sum()))"
   ]
  },
  {
   "cell_type": "markdown",
   "metadata": {},
   "source": [
    "__Arrange The Columns' Types__\n",
    "\n",
    "After completed the feature engineering phase, we should arrange the columns' type.\n",
    "\n",
    "As seen above, all columns seen as object (string) type. So we need to change some columns to relavent data type before starting to analyze.\n",
    "\n",
    "AwardID values consist of numbers but we shouldn't convert it to integer because some of them starts with 0 (zero) and when convert its type string to integer 0 is disappear and the data would be changed."
   ]
  },
  {
   "cell_type": "code",
   "execution_count": null,
   "metadata": {},
   "outputs": [],
   "source": [
    "#Change column type as datetime\n",
    "df_sum['AwardEffectiveDate'] = pd.to_datetime(df_sum['AwardEffectiveDate'], errors='coerce', format='%m/%d/%Y')\n",
    "df_sum['AwardExpirationDate'] = pd.to_datetime(df_sum['AwardExpirationDate'], errors='coerce', format='%m/%d/%Y')\n",
    "\n",
    "#change two columns type as float\n",
    "df_sum['AwardAmount'] = df['AwardAmount'].astype(float) "
   ]
  },
  {
   "cell_type": "markdown",
   "metadata": {},
   "source": [
    "__Create New Columns__"
   ]
  },
  {
   "cell_type": "code",
   "execution_count": null,
   "metadata": {},
   "outputs": [],
   "source": [
    "#Year Column\n",
    "df_sum['Year'] = df_sum['AwardEffectiveDate'].dt.year\n",
    "\n",
    "#Award Duration\n",
    "df_sum['Award_Duration']=df_sum['AwardExpirationDate']-df_sum['AwardEffectiveDate']\n",
    "\n",
    "#AwardAmount_Million\n",
    "df_sum['AwardAmount_Million'] = (df_sum['AwardAmount']/1000000).round(2)\n",
    "\n",
    "#Abstract_Lenght\n",
    "df_sum['Abstract_Lenght'] = df_sum['Abstract'].str.len()\n",
    "\n",
    "df_sum.head(2)"
   ]
  },
  {
   "cell_type": "markdown",
   "metadata": {},
   "source": [
    "__Save The Data__\n",
    "\n",
    "We prefer to use parquet format because, it store the data by compressed so takes up less space. But, pandas parquet options doesn't support timedelta type. So we need to use __fastparquet__, to keep the timedelta type format."
   ]
  },
  {
   "cell_type": "code",
   "execution_count": null,
   "metadata": {},
   "outputs": [],
   "source": [
    "df_sum.to_parquet('df_sum_parquet.gzip',engine='fastparquet', compression='gzip')\n",
    "df_investigator_cyber.to_parquet('df_investigator_cyber_parque.gzip',engine='fastparquet', compression='gzip')"
   ]
  }
 ],
 "metadata": {
  "kernelspec": {
   "display_name": "Python 3",
   "language": "python",
   "name": "python3"
  },
  "language_info": {
   "codemirror_mode": {
    "name": "ipython",
    "version": 3
   },
   "file_extension": ".py",
   "mimetype": "text/x-python",
   "name": "python",
   "nbconvert_exporter": "python",
   "pygments_lexer": "ipython3",
   "version": "3.7.4"
  }
 },
 "nbformat": 4,
 "nbformat_minor": 2
}

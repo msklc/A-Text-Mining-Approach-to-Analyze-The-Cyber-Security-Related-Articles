{
 "cells": [
  {
   "cell_type": "markdown",
   "metadata": {},
   "source": [
    "# A Text Mining Approach to Analyze The Cyber Security Related Articles"
   ]
  },
  {
   "cell_type": "markdown",
   "metadata": {},
   "source": [
    "## PART-1: Data Collection\n",
    "\n",
    "__Parsing the XML files__\n",
    "\n",
    "In [NFS web site](https://nsf.gov/awardsearch/download.jsp), all articles exist in XML format in separate folders yearly. To reach all data in one, we download all zipped folder and extract all of them in the same folder (for example __NFS_TEXT_Mining__ folder). Then, opening jupyter notebook file to parse all XML files and convert them to a tabular format, like CSV.\n",
    "\n",
    "__Hint:__ If Jupyter notebok file won't open/run in the folder where all XML files exist, then try to run the same code as .py file with the help of command page.\n"
   ]
  },
  {
   "cell_type": "markdown",
   "metadata": {},
   "source": [
    "__Creating A List With All XML File Names__"
   ]
  },
  {
   "cell_type": "code",
   "execution_count": null,
   "metadata": {},
   "outputs": [],
   "source": [
    "import pandas as pd\n",
    "from os import listdir\n",
    "import xml.etree.ElementTree as ET\n",
    "\n",
    "#Creating all file names in the folder\n",
    "file_list=[]\n",
    "for file_name in listdir('/Users/.../NFS_Text_Mining'):\n",
    "    file_list.append(file_name)\n",
    "file_list.remove('XML_Parse.ipynb') #ignore from the file_list\n",
    "\n",
    "print('The total XML files number is: {}'.format(len(file_list)))"
   ]
  },
  {
   "cell_type": "markdown",
   "metadata": {},
   "source": [
    "__Create an Empty Pandas DataFrame with Related Columns__"
   ]
  },
  {
   "cell_type": "code",
   "execution_count": null,
   "metadata": {
    "scrolled": true
   },
   "outputs": [],
   "source": [
    "cols=['AwardTitle', 'AwardEffectiveDate','AwardExpirationDate','AwardTotalIntnAmount','AwardAmount','AwardInstrument',\n",
    "'Organization_Code','Directorate_Abbreviation','Directorate_LongName','Division_Abbreviation','Division_LongName',\n",
    "'ProgramOfficer','Abstract','MinAmdLetterDate','MaxAmdLetterDate','ARRAAmount','AwardID','Investigator_FirstName',\n",
    "'Investigator_EmailAddress','Investigator_StartDate','Investigator_EndDate','Investigator_RoleCode','Institution_Name',\n",
    "'Institution_CityName','Institution_ZipCode','Institution_PhoneNumber','Institution_StreetAddress','Institution_CountryName',\n",
    "'Institution_StateName','Institution_StateCode','ProgramElement_Code','ProgramElement_Text']\n",
    "\n",
    "#column names for df_investigator\n",
    "cols2=['AwardID', 'Investigator_FirstName','Investigator_LastName','Investigator_EmailAddress','Investigator_StartDate',\n",
    "'Investigator_EndDate', 'Investigator_RoleCode']\n",
    "\n",
    "\n",
    "df = pd.DataFrame(columns=cols, index=range(len(file_list)))\n",
    "df_investigator = pd.DataFrame(columns=cols2, index=range(2*len(file_list)))\n",
    "\n",
    "print(\"'df' dataframe consist of {} rows and {} columns\".format(df.shape[0],df.shape[1]))\n",
    "print(\"'df_investigator' dataframe consist of {} rows and {} columns\".format(df_investigator.shape[0],df_investigator.shape[1]))"
   ]
  },
  {
   "cell_type": "markdown",
   "metadata": {},
   "source": [
    "__Parsing The Data And Recording Them To DataFrame__"
   ]
  },
  {
   "cell_type": "code",
   "execution_count": null,
   "metadata": {},
   "outputs": [],
   "source": [
    "counter_for_investigators=0\n",
    "for n,file_name in enumerate (file_list):\n",
    "    try:\n",
    "        root = ET.parse(file_name).getroot()\n",
    "        for data in root.findall('Award'):        \n",
    "            AwardTitle=data.find('AwardTitle').text\n",
    "            AwardEffectiveDate=data.find('AwardEffectiveDate').text \n",
    "            AwardExpirationDate=data.find('AwardExpirationDate').text\n",
    "            try:\n",
    "                AwardTotalIntnAmount=data.find('AwardTotalIntnAmount').text\n",
    "            except:\n",
    "                AwardTotalIntnAmount='NaN'\n",
    "            AwardAmount=data.find('AwardAmount').text \n",
    "            Value=data.find('AwardInstrument').find('Value').text\n",
    "            Organization_Code=data.find('Organization').find('Code').text\n",
    "            try:\n",
    "                Directorate_Abbreviation=data.find('Organization').find('Directorate').find('Abbreviation').text\n",
    "                Directorate_LongName=data.find('Organization').find('Directorate').find('LongName').text\n",
    "                Division_Abbreviation=data.find('Organization').find('Division').find('Abbreviation').text\n",
    "                Division_LongName=data.find('Organization').find('Division').find('LongName').text\n",
    "            except:\n",
    "                Directorate_Abbreviation='NaN'\n",
    "                Directorate_LongName='NaN'\n",
    "                Division_Abbreviation='NaN'\n",
    "                Division_LongName='NaN'\n",
    "            ProgramOfficer=data.find('ProgramOfficer').find('SignBlockName').text\n",
    "            Abstract=data.find('AbstractNarration').text\n",
    "            MinAmdLetterDate=data.find('MinAmdLetterDate').text\n",
    "            MaxAmdLetterDate=data.find('MaxAmdLetterDate').text\n",
    "            ARRAAmount=data.find('ARRAAmount').text\n",
    "            AwardID=data.find('AwardID').text\n",
    "\n",
    "\n",
    "            \n",
    "            for m,investigator in enumerate(data.findall('Investigator')):\n",
    "\n",
    "                Investigator_FirstName=investigator.find('FirstName').text\n",
    "                Investigator_LastName=investigator.find('LastName').text\n",
    "                try:\n",
    "                    Investigator_EmailAddress=investigator.find('EmailAddress').text\n",
    "                    Investigator_StartDate=investigator.find('StartDate').text\n",
    "                    Investigator_EndDate=investigator.find('EndDate').text\n",
    "                    Investigator_RoleCode=investigator.find('RoleCode').text\n",
    "                except:\n",
    "                    Investigator_EmailAddress='NaN'\n",
    "                    Investigator_StartDate='NaN'\n",
    "                    Investigator_EndDate='NaN'\n",
    "                    Investigator_RoleCode='NaN'\n",
    "\n",
    "                #Add data to df_investigator\n",
    "                df_investigator.loc[counter_for_investigators+m].AwardID=AwardID\n",
    "                df_investigator.loc[counter_for_investigators+m].Investigator_FirstName=Investigator_FirstName\n",
    "                df_investigator.loc[counter_for_investigators+m].Investigator_LastName=Investigator_LastName\n",
    "                df_investigator.loc[counter_for_investigators+m].Investigator_EmailAddress=Investigator_EmailAddress\n",
    "                df_investigator.loc[counter_for_investigators+m].Investigator_StartDate=Investigator_StartDate\n",
    "                df_investigator.loc[counter_for_investigators+m].Investigator_EndDate=Investigator_EndDate\n",
    "                df_investigator.loc[counter_for_investigators+m].Investigator_RoleCode=Investigator_RoleCode\n",
    "\n",
    "            counter_for_investigators=counter_for_investigators+m+1\n",
    "\n",
    "            try:\n",
    "                Institution_Name=data.find('Institution').find('Name').text\n",
    "                Institution_CityName=data.find('Institution').find('CityName').text\n",
    "                Institution_ZipCode=data.find('Institution').find('ZipCode').text\n",
    "                Institution_PhoneNumber=data.find('Institution').find('PhoneNumber').text\n",
    "                Institution_StreetAddress=data.find('Institution').find('StreetAddress').text\n",
    "                Institution_CountryName=data.find('Institution').find('CountryName').text\n",
    "                Institution_StateName=data.find('Institution').find('StateName').text\n",
    "                Institution_StateCode=data.find('Institution').find('StateCode').text \n",
    "\n",
    "            except:\n",
    "                Institution_Name='NaN'\n",
    "                Institution_CityName='NaN'\n",
    "                Institution_ZipCode='NaN'\n",
    "                Institution_PhoneNumber='NaN'\n",
    "                Institution_StreetAddress='NaN'\n",
    "                Institution_CountryName='NaN'\n",
    "                Institution_StateName='NaN'\n",
    "                Institution_StateCode='NaN'\n",
    "            try:  \n",
    "                ProgramElement_Code=data.find('ProgramElement').find('Code').text \n",
    "                ProgramElement_Text=data.find('ProgramElement').find('Text').text\n",
    "            except:\n",
    "                ProgramElement_Code='NaN'\n",
    "                ProgramElement_Text='NaN'\n",
    "\n",
    "\n",
    "\n",
    "            #Add data to df\n",
    "            df.loc[n].AwardTitle=AwardTitle\n",
    "            df.loc[n].AwardEffectiveDate=AwardEffectiveDate\n",
    "            df.loc[n].AwardExpirationDate=AwardExpirationDate\n",
    "            df.loc[n].AwardTotalIntnAmount=AwardTotalIntnAmount\n",
    "            df.loc[n].AwardAmount=AwardAmount\n",
    "            df.loc[n].AwardInstrument=Value\n",
    "            df.loc[n].Organization_Code=Organization_Code\n",
    "            df.loc[n].Directorate_Abbreviation=Directorate_Abbreviation\n",
    "            df.loc[n].Directorate_LongName=Directorate_LongName\n",
    "            df.loc[n].Division_Abbreviation=Division_Abbreviation\n",
    "            df.loc[n].Division_LongName=Division_LongName\n",
    "            df.loc[n].ProgramOfficer=ProgramOfficer\n",
    "            df.loc[n].Abstract=Abstract\n",
    "            df.loc[n].MinAmdLetterDate=MinAmdLetterDate\n",
    "            df.loc[n].MaxAmdLetterDate=MaxAmdLetterDate\n",
    "            df.loc[n].ARRAAmount=ARRAAmount\n",
    "            df.loc[n].AwardID=AwardID\n",
    "            df.loc[n].Institution_Name=Institution_Name\n",
    "            df.loc[n].Institution_CityName=Institution_CityName\n",
    "            df.loc[n].Institution_ZipCode=Institution_ZipCode\n",
    "            df.loc[n].Institution_PhoneNumber=Institution_PhoneNumber\n",
    "            df.loc[n].Institution_StreetAddress=Institution_StreetAddress\n",
    "            df.loc[n].Institution_CountryName=Institution_CountryName\n",
    "            df.loc[n].Institution_StateName=Institution_StateName\n",
    "            df.loc[n].Institution_StateCode=Institution_StateCode\n",
    "            df.loc[n].ProgramElement_Code=ProgramElement_Code\n",
    "            df.loc[n].ProgramElement_Text=ProgramElement_Text\n",
    "\n",
    "\n",
    "\n",
    "        print(\"Finish\", n, file_name)\n",
    "    except:\n",
    "        None\n",
    "        \n",
    "print(\"Finish!!!\")"
   ]
  },
  {
   "cell_type": "markdown",
   "metadata": {},
   "source": [
    "__Save The Data__\n",
    "\n",
    "We prefer to use parquet format because, it store the data by compressed so takes up less space."
   ]
  },
  {
   "cell_type": "code",
   "execution_count": null,
   "metadata": {},
   "outputs": [],
   "source": [
    "df.to_csv('award.csv')\n",
    "df.to_parquet('award_parquet.gzip',compression='gzip')"
   ]
  },
  {
   "cell_type": "code",
   "execution_count": null,
   "metadata": {},
   "outputs": [],
   "source": [
    "df_investigator.to_csv('investigator.csv')\n",
    "df_investigator.to_parquet('investigator_parquet.gzip',compression='gzip')"
   ]
  }
 ],
 "metadata": {
  "kernelspec": {
   "display_name": "Python 3",
   "language": "python",
   "name": "python3"
  },
  "language_info": {
   "codemirror_mode": {
    "name": "ipython",
    "version": 3
   },
   "file_extension": ".py",
   "mimetype": "text/x-python",
   "name": "python",
   "nbconvert_exporter": "python",
   "pygments_lexer": "ipython3",
   "version": "3.7.4"
  }
 },
 "nbformat": 4,
 "nbformat_minor": 2
}

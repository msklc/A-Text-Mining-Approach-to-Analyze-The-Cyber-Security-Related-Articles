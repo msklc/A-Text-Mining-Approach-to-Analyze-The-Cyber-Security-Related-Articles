{
 "cells": [
  {
   "cell_type": "markdown",
   "metadata": {},
   "source": [
    "# A Text Mining Approach to Analyze The Cyber Security Related Articles"
   ]
  },
  {
   "cell_type": "markdown",
   "metadata": {},
   "source": [
    "## PART-3: Text Mining\n",
    "\n",
    "__Feature Engineering with NLP techniques__\n"
   ]
  },
  {
   "cell_type": "markdown",
   "metadata": {},
   "source": [
    "__Importing of Required Libraries__"
   ]
  },
  {
   "cell_type": "code",
   "execution_count": 1,
   "metadata": {},
   "outputs": [],
   "source": [
    "import nltk\n",
    "from nltk.stem import WordNetLemmatizer\n",
    "from nltk.corpus import wordnet\n",
    "import pickle\n",
    "import re\n",
    "\n",
    "import spacy\n",
    "import en_core_web_sm\n",
    "from spacy import displacy\n",
    "\n",
    "import string\n",
    "from num2words import num2words\n",
    "\n",
    "import numpy as np\n",
    "import pandas as pd\n",
    "import matplotlib.pyplot as plt\n",
    "\n",
    "from sklearn.cluster import KMeans\n",
    "\n",
    "import warnings\n",
    "warnings.filterwarnings(\"ignore\")"
   ]
  },
  {
   "cell_type": "markdown",
   "metadata": {},
   "source": [
    "__Loading Data__\n",
    "\n",
    "As mentioned Part-2 that pandas parquet options doesn't support timedelta type. So we need to use __fastparquet__ option, to keep the timedelta type format."
   ]
  },
  {
   "cell_type": "code",
   "execution_count": 2,
   "metadata": {},
   "outputs": [
    {
     "data": {
      "text/html": [
       "<div>\n",
       "<style scoped>\n",
       "    .dataframe tbody tr th:only-of-type {\n",
       "        vertical-align: middle;\n",
       "    }\n",
       "\n",
       "    .dataframe tbody tr th {\n",
       "        vertical-align: top;\n",
       "    }\n",
       "\n",
       "    .dataframe thead th {\n",
       "        text-align: right;\n",
       "    }\n",
       "</style>\n",
       "<table border=\"1\" class=\"dataframe\">\n",
       "  <thead>\n",
       "    <tr style=\"text-align: right;\">\n",
       "      <th></th>\n",
       "      <th>AwardID</th>\n",
       "      <th>AwardTitle</th>\n",
       "      <th>AwardEffectiveDate</th>\n",
       "      <th>AwardExpirationDate</th>\n",
       "      <th>AwardAmount</th>\n",
       "      <th>ProgramOfficer</th>\n",
       "      <th>Institution_Name</th>\n",
       "      <th>Institution_StateName</th>\n",
       "      <th>Abstract</th>\n",
       "      <th>Year</th>\n",
       "      <th>Award_Duration</th>\n",
       "      <th>AwardAmount_Million</th>\n",
       "      <th>Abstract_Lenght</th>\n",
       "    </tr>\n",
       "  </thead>\n",
       "  <tbody>\n",
       "    <tr>\n",
       "      <th>0</th>\n",
       "      <td>0110599</td>\n",
       "      <td>Collaborative Research Testing Affect Control ...</td>\n",
       "      <td>2001-08-15</td>\n",
       "      <td>2004-07-31</td>\n",
       "      <td>300000.0</td>\n",
       "      <td>Patricia White</td>\n",
       "      <td>University of Arizona</td>\n",
       "      <td>Arizona</td>\n",
       "      <td>The investigators will conduct a series of exp...</td>\n",
       "      <td>2001</td>\n",
       "      <td>1081 days</td>\n",
       "      <td>0.30</td>\n",
       "      <td>2194</td>\n",
       "    </tr>\n",
       "    <tr>\n",
       "      <th>1</th>\n",
       "      <td>0112426</td>\n",
       "      <td>Federal Cyber Service Initiative</td>\n",
       "      <td>2001-06-01</td>\n",
       "      <td>2007-06-30</td>\n",
       "      <td>149995.0</td>\n",
       "      <td>Timothy V. Fossum</td>\n",
       "      <td>University of Tulsa</td>\n",
       "      <td>Oklahoma</td>\n",
       "      <td>This program produces a cadre of computer scie...</td>\n",
       "      <td>2001</td>\n",
       "      <td>2220 days</td>\n",
       "      <td>0.15</td>\n",
       "      <td>765</td>\n",
       "    </tr>\n",
       "  </tbody>\n",
       "</table>\n",
       "</div>"
      ],
      "text/plain": [
       "   AwardID                                         AwardTitle  \\\n",
       "0  0110599  Collaborative Research Testing Affect Control ...   \n",
       "1  0112426                   Federal Cyber Service Initiative   \n",
       "\n",
       "  AwardEffectiveDate AwardExpirationDate  AwardAmount     ProgramOfficer  \\\n",
       "0         2001-08-15          2004-07-31     300000.0     Patricia White   \n",
       "1         2001-06-01          2007-06-30     149995.0  Timothy V. Fossum   \n",
       "\n",
       "        Institution_Name Institution_StateName  \\\n",
       "0  University of Arizona               Arizona   \n",
       "1    University of Tulsa              Oklahoma   \n",
       "\n",
       "                                            Abstract  Year Award_Duration  \\\n",
       "0  The investigators will conduct a series of exp...  2001      1081 days   \n",
       "1  This program produces a cadre of computer scie...  2001      2220 days   \n",
       "\n",
       "   AwardAmount_Million  Abstract_Lenght  \n",
       "0                 0.30             2194  \n",
       "1                 0.15              765  "
      ]
     },
     "execution_count": 2,
     "metadata": {},
     "output_type": "execute_result"
    }
   ],
   "source": [
    "df_sum=pd.read_parquet('df_sum_parquet.gzip',engine='fastparquet')\n",
    "df_investigator_cyber=pd.read_parquet('df_investigator_cyber_parque.gzip',engine='fastparquet')\n",
    "df_sum.head(2)"
   ]
  },
  {
   "cell_type": "markdown",
   "metadata": {},
   "source": [
    "## A-) Clustering and Topic Modeling"
   ]
  },
  {
   "cell_type": "code",
   "execution_count": 3,
   "metadata": {},
   "outputs": [
    {
     "data": {
      "text/html": [
       "<div>\n",
       "<style scoped>\n",
       "    .dataframe tbody tr th:only-of-type {\n",
       "        vertical-align: middle;\n",
       "    }\n",
       "\n",
       "    .dataframe tbody tr th {\n",
       "        vertical-align: top;\n",
       "    }\n",
       "\n",
       "    .dataframe thead th {\n",
       "        text-align: right;\n",
       "    }\n",
       "</style>\n",
       "<table border=\"1\" class=\"dataframe\">\n",
       "  <thead>\n",
       "    <tr style=\"text-align: right;\">\n",
       "      <th></th>\n",
       "      <th>AwardID</th>\n",
       "      <th>AwardTitle</th>\n",
       "      <th>Abstract</th>\n",
       "    </tr>\n",
       "  </thead>\n",
       "  <tbody>\n",
       "    <tr>\n",
       "      <th>0</th>\n",
       "      <td>0110599</td>\n",
       "      <td>Collaborative Research Testing Affect Control ...</td>\n",
       "      <td>The investigators will conduct a series of exp...</td>\n",
       "    </tr>\n",
       "    <tr>\n",
       "      <th>1</th>\n",
       "      <td>0112426</td>\n",
       "      <td>Federal Cyber Service Initiative</td>\n",
       "      <td>This program produces a cadre of computer scie...</td>\n",
       "    </tr>\n",
       "  </tbody>\n",
       "</table>\n",
       "</div>"
      ],
      "text/plain": [
       "   AwardID                                         AwardTitle  \\\n",
       "0  0110599  Collaborative Research Testing Affect Control ...   \n",
       "1  0112426                   Federal Cyber Service Initiative   \n",
       "\n",
       "                                            Abstract  \n",
       "0  The investigators will conduct a series of exp...  \n",
       "1  This program produces a cadre of computer scie...  "
      ]
     },
     "execution_count": 3,
     "metadata": {},
     "output_type": "execute_result"
    }
   ],
   "source": [
    "#Create a new DataFrame\n",
    "df_sum2=df_sum[['AwardID','AwardTitle','Abstract']]\n",
    "df_sum2.head(2)"
   ]
  },
  {
   "cell_type": "markdown",
   "metadata": {},
   "source": [
    "__Replacing Of Contraction Words__"
   ]
  },
  {
   "cell_type": "code",
   "execution_count": 4,
   "metadata": {},
   "outputs": [
    {
     "data": {
      "text/html": [
       "<div>\n",
       "<style scoped>\n",
       "    .dataframe tbody tr th:only-of-type {\n",
       "        vertical-align: middle;\n",
       "    }\n",
       "\n",
       "    .dataframe tbody tr th {\n",
       "        vertical-align: top;\n",
       "    }\n",
       "\n",
       "    .dataframe thead th {\n",
       "        text-align: right;\n",
       "    }\n",
       "</style>\n",
       "<table border=\"1\" class=\"dataframe\">\n",
       "  <thead>\n",
       "    <tr style=\"text-align: right;\">\n",
       "      <th></th>\n",
       "      <th>AwardID</th>\n",
       "      <th>AwardTitle</th>\n",
       "      <th>Abstract</th>\n",
       "    </tr>\n",
       "  </thead>\n",
       "  <tbody>\n",
       "    <tr>\n",
       "      <th>0</th>\n",
       "      <td>0110599</td>\n",
       "      <td>Collaborative Research Testing Affect Control ...</td>\n",
       "      <td>The investigators will conduct a series of exp...</td>\n",
       "    </tr>\n",
       "    <tr>\n",
       "      <th>1</th>\n",
       "      <td>0112426</td>\n",
       "      <td>Federal Cyber Service Initiative</td>\n",
       "      <td>This program produces a cadre of computer scie...</td>\n",
       "    </tr>\n",
       "  </tbody>\n",
       "</table>\n",
       "</div>"
      ],
      "text/plain": [
       "   AwardID                                         AwardTitle  \\\n",
       "0  0110599  Collaborative Research Testing Affect Control ...   \n",
       "1  0112426                   Federal Cyber Service Initiative   \n",
       "\n",
       "                                            Abstract  \n",
       "0  The investigators will conduct a series of exp...  \n",
       "1  This program produces a cadre of computer scie...  "
      ]
     },
     "execution_count": 4,
     "metadata": {},
     "output_type": "execute_result"
    }
   ],
   "source": [
    "replacement_patterns = {\n",
    "    r\"won\\'t\": \"will not\",\n",
    "    r\"can\\'t\": \"cannot\",\n",
    "    r\"i\\'m\": \"i am\",\n",
    "    r\"ain\\'t\": \"is not\",\n",
    "    r\"(\\w+)\\'ll\": \"\\g<1> will\",\n",
    "    r\"(\\w+)n\\'t\": \"\\g<1> not\",\n",
    "    r\"(\\w+)\\'ve\": \"\\g<1> have\",\n",
    "    r\"(\\w+)\\'s\": \"\\g<1> is\",\n",
    "    r\"(\\w+)\\'re\": \"\\g<1> are\",\n",
    "    r\"(\\w+)\\'d\": \"\\g<1> would\",\n",
    "    r\"&\": \"and\",\n",
    "    r\"<br/>\":\"\"}\n",
    "\n",
    "df_sum2['Abstract'].replace(replacement_patterns, regex=True, inplace=True)\n",
    "df_sum2.head(2)"
   ]
  },
  {
   "cell_type": "markdown",
   "metadata": {},
   "source": [
    "__Removing Unneccesery Words__\n",
    "\n",
    "We use __NER__ (Named Entity Recognition) function of __spacy__ library to detect named entities (people, places, organizations, dates, times etc.) from the text. After analyzing this words, we understood that they are unnecessary for clustering.\n",
    "\n",
    "An example of visualization of NER:"
   ]
  },
  {
   "cell_type": "code",
   "execution_count": 5,
   "metadata": {},
   "outputs": [
    {
     "data": {
      "text/html": [
       "<span class=\"tex2jax_ignore\"><div class=\"entities\" style=\"line-height: 2.5; direction: ltr\">This program produces a cadre of computer scientists with strong specializations in information assurance and a commitment to federal service. \n",
       "<mark class=\"entity\" style=\"background: #e4e7d2; padding: 0.45em 0.6em; margin: 0 0.25em; line-height: 1; border-radius: 0.35em;\">\n",
       "    Three\n",
       "    <span style=\"font-size: 0.8em; font-weight: bold; line-height: 1; border-radius: 0.35em; text-transform: uppercase; vertical-align: middle; margin-left: 0.5rem\">CARDINAL</span>\n",
       "</mark>\n",
       " cohorts of students complete a \n",
       "<mark class=\"entity\" style=\"background: #bfe1d9; padding: 0.45em 0.6em; margin: 0 0.25em; line-height: 1; border-radius: 0.35em;\">\n",
       "    two-year\n",
       "    <span style=\"font-size: 0.8em; font-weight: bold; line-height: 1; border-radius: 0.35em; text-transform: uppercase; vertical-align: middle; margin-left: 0.5rem\">DATE</span>\n",
       "</mark>\n",
       " program that integrates intense information assurance studies with research and outreach. Students also spend \n",
       "<mark class=\"entity\" style=\"background: #bfe1d9; padding: 0.45em 0.6em; margin: 0 0.25em; line-height: 1; border-radius: 0.35em;\">\n",
       "    one summer\n",
       "    <span style=\"font-size: 0.8em; font-weight: bold; line-height: 1; border-radius: 0.35em; text-transform: uppercase; vertical-align: middle; margin-left: 0.5rem\">DATE</span>\n",
       "</mark>\n",
       " as interns in federal agencies. Upon completion of degrees at \n",
       "<mark class=\"entity\" style=\"background: #bfe1d9; padding: 0.45em 0.6em; margin: 0 0.25em; line-height: 1; border-radius: 0.35em;\">\n",
       "    the end of two years\n",
       "    <span style=\"font-size: 0.8em; font-weight: bold; line-height: 1; border-radius: 0.35em; text-transform: uppercase; vertical-align: middle; margin-left: 0.5rem\">DATE</span>\n",
       "</mark>\n",
       " the students then enter the federal cyber service. The program features an emphasis on collaborative research and outreach to the community. The program components train students in information assurance theory and practice while providing an environment that fosters teamwork, strengthens motivation, and builds a sense of professionalism and commitment to service. </div></span>"
      ],
      "text/plain": [
       "<IPython.core.display.HTML object>"
      ]
     },
     "metadata": {},
     "output_type": "display_data"
    }
   ],
   "source": [
    "#define the nlp object\n",
    "nlp = en_core_web_sm.load()\n",
    "\n",
    "#example text\n",
    "doc=nlp(str(df_sum2['Abstract'][1]))\n",
    "\n",
    "#visualization\n",
    "displacy.render(doc, style=\"ent\",jupyter=True)"
   ]
  },
  {
   "cell_type": "code",
   "execution_count": 6,
   "metadata": {},
   "outputs": [
    {
     "name": "stdout",
     "output_type": "stream",
     "text": [
      "Total NER words: 64069\n",
      "Total unique NER words: 18654\n",
      "Total words before removing NER: 11239471\n",
      "Total words after removing NER: 10507239\n"
     ]
    }
   ],
   "source": [
    "#create a list for NER\n",
    "NER_list=[]\n",
    "\n",
    "#Find\n",
    "for n in range(df_sum2.shape[0]):\n",
    "    doc=nlp(str(df_sum2['Abstract'][n]))\n",
    "\n",
    "    for ent in doc.ents:\n",
    "        NER_list.append(ent.text)\n",
    "\n",
    "NER_list = [' {0} '.format(elem) for elem in NER_list] #Add space to begins and ends of all NERs to prevent the \n",
    "print('Total NER words: {}'.format(len(NER_list)))\n",
    "NER_list=list(set(NER_list)) #for unique elements in list\n",
    "print('Total unique NER words: {}'.format(len(NER_list)))\n",
    "\n",
    "print('Total words before removing NER: {}'.format(sum(df_sum2['Abstract'].str.len())))\n",
    "\n",
    "for NER in NER_list:\n",
    "    df_sum2['Abstract']=df_sum2['Abstract'].str.replace(NER,' ',regex=False) #regex=False>> because, some NERs have punctuation\n",
    "print('Total words after removing NER: {}'.format(sum(df_sum2['Abstract'].str.len())))"
   ]
  },
  {
   "cell_type": "code",
   "execution_count": 7,
   "metadata": {},
   "outputs": [
    {
     "data": {
      "text/plain": [
       "'The investigators will conduct a of experiments that focus on crucial substantive implications of modeling social interaction as the result of a cybernetic process of meaning control whereby actors behave so as to maintain meanings in the situation.  describes a control system between identities and actions, with identity meanings acting as a reference level for interpreting social interactions.  Specifically, it suggests that people will not only try to maintain their own identities, but will also strive to restore the identities of others with whom they are interacting.  The theory also incorporates the restorative actions of other actors into the model.  If another person in the interaction takes a restorative action, it may restore the meanings so that no further reparation is necessary.  The studies described here propose to test these key predictions that differentiate from the other major control perspective.  Study challenges (negatively deflects) the identity of an alter, and tests to see whether this challenge evokes restorative behavior from ego.  Study creates an atypically positive interaction for the alter, to see if this evokes negative behavior by ego toward the alter (as predicted to be restorative of original meanings).  Study draws on pre-test results that indicate alternative means of restoring another is challenged identity.  Here, the investigator use computer-regulated interaction to make available alternative means of restoring another is identity.  The prediction involves the substitutability of different behaviors for meaning restoration.  Study elaborates the substitutability of restorative action hypothesis.   The investigators will test whether or not a restorative act by actor affects the probability of another actor is engaging in a restorative act.  Study examines whether or not the identity of the actors influences the effect of the restorative behavior.  Taken together, the experiments explore how we go about maintaining the identities of others, and how the social situation in which we are embedded affects those restorative efforts.'"
      ]
     },
     "execution_count": 7,
     "metadata": {},
     "output_type": "execute_result"
    }
   ],
   "source": [
    "df_sum2['Abstract'][0]"
   ]
  },
  {
   "cell_type": "markdown",
   "metadata": {},
   "source": [
    "__Tokenization and LowerCase__"
   ]
  },
  {
   "cell_type": "code",
   "execution_count": 8,
   "metadata": {},
   "outputs": [
    {
     "name": "stdout",
     "output_type": "stream",
     "text": [
      "Total words: 1653058\n"
     ]
    },
    {
     "data": {
      "text/html": [
       "<div>\n",
       "<style scoped>\n",
       "    .dataframe tbody tr th:only-of-type {\n",
       "        vertical-align: middle;\n",
       "    }\n",
       "\n",
       "    .dataframe tbody tr th {\n",
       "        vertical-align: top;\n",
       "    }\n",
       "\n",
       "    .dataframe thead th {\n",
       "        text-align: right;\n",
       "    }\n",
       "</style>\n",
       "<table border=\"1\" class=\"dataframe\">\n",
       "  <thead>\n",
       "    <tr style=\"text-align: right;\">\n",
       "      <th></th>\n",
       "      <th>AwardID</th>\n",
       "      <th>AwardTitle</th>\n",
       "      <th>Abstract</th>\n",
       "      <th>Abstract_Tokens</th>\n",
       "    </tr>\n",
       "  </thead>\n",
       "  <tbody>\n",
       "    <tr>\n",
       "      <th>0</th>\n",
       "      <td>0110599</td>\n",
       "      <td>Collaborative Research Testing Affect Control ...</td>\n",
       "      <td>The investigators will conduct a of experiment...</td>\n",
       "      <td>[the, investigators, will, conduct, a, of, exp...</td>\n",
       "    </tr>\n",
       "    <tr>\n",
       "      <th>1</th>\n",
       "      <td>0112426</td>\n",
       "      <td>Federal Cyber Service Initiative</td>\n",
       "      <td>This program produces a cadre of computer scie...</td>\n",
       "      <td>[this, program, produces, a, cadre, of, comput...</td>\n",
       "    </tr>\n",
       "  </tbody>\n",
       "</table>\n",
       "</div>"
      ],
      "text/plain": [
       "   AwardID                                         AwardTitle  \\\n",
       "0  0110599  Collaborative Research Testing Affect Control ...   \n",
       "1  0112426                   Federal Cyber Service Initiative   \n",
       "\n",
       "                                            Abstract  \\\n",
       "0  The investigators will conduct a of experiment...   \n",
       "1  This program produces a cadre of computer scie...   \n",
       "\n",
       "                                     Abstract_Tokens  \n",
       "0  [the, investigators, will, conduct, a, of, exp...  \n",
       "1  [this, program, produces, a, cadre, of, comput...  "
      ]
     },
     "execution_count": 8,
     "metadata": {},
     "output_type": "execute_result"
    }
   ],
   "source": [
    "#word tokenization and lowercase\n",
    "df_sum2['Abstract_Tokens'] = df_sum2['Abstract'].str.lower().apply(nltk.word_tokenize)\n",
    "print('Total words: {}'.format(sum(df_sum2['Abstract_Tokens'].str.len())))\n",
    "df_sum2.head(2)"
   ]
  },
  {
   "cell_type": "markdown",
   "metadata": {},
   "source": [
    "__Remove Numbers__"
   ]
  },
  {
   "cell_type": "code",
   "execution_count": 9,
   "metadata": {},
   "outputs": [
    {
     "name": "stdout",
     "output_type": "stream",
     "text": [
      "Total words consist of only alphabets: 1428418\n"
     ]
    },
    {
     "data": {
      "text/html": [
       "<div>\n",
       "<style scoped>\n",
       "    .dataframe tbody tr th:only-of-type {\n",
       "        vertical-align: middle;\n",
       "    }\n",
       "\n",
       "    .dataframe tbody tr th {\n",
       "        vertical-align: top;\n",
       "    }\n",
       "\n",
       "    .dataframe thead th {\n",
       "        text-align: right;\n",
       "    }\n",
       "</style>\n",
       "<table border=\"1\" class=\"dataframe\">\n",
       "  <thead>\n",
       "    <tr style=\"text-align: right;\">\n",
       "      <th></th>\n",
       "      <th>AwardID</th>\n",
       "      <th>AwardTitle</th>\n",
       "      <th>Abstract</th>\n",
       "      <th>Abstract_Tokens</th>\n",
       "    </tr>\n",
       "  </thead>\n",
       "  <tbody>\n",
       "    <tr>\n",
       "      <th>0</th>\n",
       "      <td>0110599</td>\n",
       "      <td>Collaborative Research Testing Affect Control ...</td>\n",
       "      <td>The investigators will conduct a of experiment...</td>\n",
       "      <td>[the, investigators, will, conduct, a, of, exp...</td>\n",
       "    </tr>\n",
       "    <tr>\n",
       "      <th>1</th>\n",
       "      <td>0112426</td>\n",
       "      <td>Federal Cyber Service Initiative</td>\n",
       "      <td>This program produces a cadre of computer scie...</td>\n",
       "      <td>[this, program, produces, a, cadre, of, comput...</td>\n",
       "    </tr>\n",
       "  </tbody>\n",
       "</table>\n",
       "</div>"
      ],
      "text/plain": [
       "   AwardID                                         AwardTitle  \\\n",
       "0  0110599  Collaborative Research Testing Affect Control ...   \n",
       "1  0112426                   Federal Cyber Service Initiative   \n",
       "\n",
       "                                            Abstract  \\\n",
       "0  The investigators will conduct a of experiment...   \n",
       "1  This program produces a cadre of computer scie...   \n",
       "\n",
       "                                     Abstract_Tokens  \n",
       "0  [the, investigators, will, conduct, a, of, exp...  \n",
       "1  [this, program, produces, a, cadre, of, comput...  "
      ]
     },
     "execution_count": 9,
     "metadata": {},
     "output_type": "execute_result"
    }
   ],
   "source": [
    "#remove numbers\n",
    "for n in range(df_sum2.shape[0]):\n",
    "    df_sum2['Abstract_Tokens'][n]=[w for w in df_sum2['Abstract_Tokens'][n] if w.isalpha()]\n",
    "print('Total words consist of only alphabets: {}'.format(sum(df_sum2['Abstract_Tokens'].str.len())))\n",
    "df_sum2.head(2)"
   ]
  },
  {
   "cell_type": "markdown",
   "metadata": {},
   "source": [
    "__Remove Written Form of Numbers__"
   ]
  },
  {
   "cell_type": "code",
   "execution_count": 10,
   "metadata": {},
   "outputs": [
    {
     "name": "stdout",
     "output_type": "stream",
     "text": [
      "Total words after removing written form of numbers: 1427881\n"
     ]
    },
    {
     "data": {
      "text/html": [
       "<div>\n",
       "<style scoped>\n",
       "    .dataframe tbody tr th:only-of-type {\n",
       "        vertical-align: middle;\n",
       "    }\n",
       "\n",
       "    .dataframe tbody tr th {\n",
       "        vertical-align: top;\n",
       "    }\n",
       "\n",
       "    .dataframe thead th {\n",
       "        text-align: right;\n",
       "    }\n",
       "</style>\n",
       "<table border=\"1\" class=\"dataframe\">\n",
       "  <thead>\n",
       "    <tr style=\"text-align: right;\">\n",
       "      <th></th>\n",
       "      <th>AwardID</th>\n",
       "      <th>AwardTitle</th>\n",
       "      <th>Abstract</th>\n",
       "      <th>Abstract_Tokens</th>\n",
       "    </tr>\n",
       "  </thead>\n",
       "  <tbody>\n",
       "    <tr>\n",
       "      <th>0</th>\n",
       "      <td>0110599</td>\n",
       "      <td>Collaborative Research Testing Affect Control ...</td>\n",
       "      <td>The investigators will conduct a of experiment...</td>\n",
       "      <td>[the, investigators, will, conduct, a, of, exp...</td>\n",
       "    </tr>\n",
       "    <tr>\n",
       "      <th>1</th>\n",
       "      <td>0112426</td>\n",
       "      <td>Federal Cyber Service Initiative</td>\n",
       "      <td>This program produces a cadre of computer scie...</td>\n",
       "      <td>[this, program, produces, a, cadre, of, comput...</td>\n",
       "    </tr>\n",
       "  </tbody>\n",
       "</table>\n",
       "</div>"
      ],
      "text/plain": [
       "   AwardID                                         AwardTitle  \\\n",
       "0  0110599  Collaborative Research Testing Affect Control ...   \n",
       "1  0112426                   Federal Cyber Service Initiative   \n",
       "\n",
       "                                            Abstract  \\\n",
       "0  The investigators will conduct a of experiment...   \n",
       "1  This program produces a cadre of computer scie...   \n",
       "\n",
       "                                     Abstract_Tokens  \n",
       "0  [the, investigators, will, conduct, a, of, exp...  \n",
       "1  [this, program, produces, a, cadre, of, comput...  "
      ]
     },
     "execution_count": 10,
     "metadata": {},
     "output_type": "execute_result"
    }
   ],
   "source": [
    "#Create a list about numbers in written form for ignoring\n",
    "num2words_list=[]\n",
    "\n",
    "for n in range(100):\n",
    "    num=num2words(n)\n",
    "    num2words_list.append(num)\n",
    "    num_ord=num2words(n, ordinal=True)\n",
    "    num2words_list.append(num_ord)\n",
    "num2words_list=[n.replace('-','') for n in num2words_list]#remove the \"-\" punctuation\n",
    "\n",
    "for n in range(df_sum2.shape[0]):\n",
    "    df_sum2['Abstract_Tokens'][n]=[w for w in df_sum2['Abstract_Tokens'][n] if w not in num2words_list]\n",
    "print('Total words after removing written form of numbers: {}'.format(sum(df_sum2['Abstract_Tokens'].str.len())))\n",
    "df_sum2.head(2)"
   ]
  },
  {
   "cell_type": "markdown",
   "metadata": {},
   "source": [
    "__Remove Stopwords__"
   ]
  },
  {
   "cell_type": "code",
   "execution_count": 11,
   "metadata": {},
   "outputs": [
    {
     "name": "stdout",
     "output_type": "stream",
     "text": [
      "Total words after removing stopwords: 843444\n"
     ]
    },
    {
     "data": {
      "text/html": [
       "<div>\n",
       "<style scoped>\n",
       "    .dataframe tbody tr th:only-of-type {\n",
       "        vertical-align: middle;\n",
       "    }\n",
       "\n",
       "    .dataframe tbody tr th {\n",
       "        vertical-align: top;\n",
       "    }\n",
       "\n",
       "    .dataframe thead th {\n",
       "        text-align: right;\n",
       "    }\n",
       "</style>\n",
       "<table border=\"1\" class=\"dataframe\">\n",
       "  <thead>\n",
       "    <tr style=\"text-align: right;\">\n",
       "      <th></th>\n",
       "      <th>AwardID</th>\n",
       "      <th>AwardTitle</th>\n",
       "      <th>Abstract</th>\n",
       "      <th>Abstract_Tokens</th>\n",
       "    </tr>\n",
       "  </thead>\n",
       "  <tbody>\n",
       "    <tr>\n",
       "      <th>0</th>\n",
       "      <td>0110599</td>\n",
       "      <td>Collaborative Research Testing Affect Control ...</td>\n",
       "      <td>The investigators will conduct a of experiment...</td>\n",
       "      <td>[investigators, conduct, experiments, focus, c...</td>\n",
       "    </tr>\n",
       "    <tr>\n",
       "      <th>1</th>\n",
       "      <td>0112426</td>\n",
       "      <td>Federal Cyber Service Initiative</td>\n",
       "      <td>This program produces a cadre of computer scie...</td>\n",
       "      <td>[produces, cadre, computer, scientists, strong...</td>\n",
       "    </tr>\n",
       "  </tbody>\n",
       "</table>\n",
       "</div>"
      ],
      "text/plain": [
       "   AwardID                                         AwardTitle  \\\n",
       "0  0110599  Collaborative Research Testing Affect Control ...   \n",
       "1  0112426                   Federal Cyber Service Initiative   \n",
       "\n",
       "                                            Abstract  \\\n",
       "0  The investigators will conduct a of experiment...   \n",
       "1  This program produces a cadre of computer scie...   \n",
       "\n",
       "                                     Abstract_Tokens  \n",
       "0  [investigators, conduct, experiments, focus, c...  \n",
       "1  [produces, cadre, computer, scientists, strong...  "
      ]
     },
     "execution_count": 11,
     "metadata": {},
     "output_type": "execute_result"
    }
   ],
   "source": [
    "#define stopwords list\n",
    "stopwords_list=nltk.corpus.stopwords.words('english')\n",
    "\n",
    "#extend the stopwords list\n",
    "stopwords_list.extend(['cannot','many','much','also','well','better','via','able','could','able','whether',\n",
    "                      'either','unfortunately'])\n",
    "\n",
    "#extend the stopwords list with unneccessary words for this study\n",
    "stopwords_list.extend(['abstract','program','pi'])\n",
    "\n",
    "\n",
    "for n in range(df_sum2.shape[0]):\n",
    "    df_sum2['Abstract_Tokens'][n]=[w for w in df_sum2['Abstract_Tokens'][n] if w not in stopwords_list]\n",
    "print('Total words after removing stopwords: {}'.format(sum(df_sum2['Abstract_Tokens'].str.len())))\n",
    "df_sum2.head(2)"
   ]
  },
  {
   "cell_type": "markdown",
   "metadata": {},
   "source": [
    "__Lemmatization with POS Tag__"
   ]
  },
  {
   "cell_type": "code",
   "execution_count": 13,
   "metadata": {},
   "outputs": [
    {
     "name": "stdout",
     "output_type": "stream",
     "text": [
      "Total words after lemmatization: 843444\n"
     ]
    },
    {
     "data": {
      "text/html": [
       "<div>\n",
       "<style scoped>\n",
       "    .dataframe tbody tr th:only-of-type {\n",
       "        vertical-align: middle;\n",
       "    }\n",
       "\n",
       "    .dataframe tbody tr th {\n",
       "        vertical-align: top;\n",
       "    }\n",
       "\n",
       "    .dataframe thead th {\n",
       "        text-align: right;\n",
       "    }\n",
       "</style>\n",
       "<table border=\"1\" class=\"dataframe\">\n",
       "  <thead>\n",
       "    <tr style=\"text-align: right;\">\n",
       "      <th></th>\n",
       "      <th>AwardID</th>\n",
       "      <th>AwardTitle</th>\n",
       "      <th>Abstract</th>\n",
       "      <th>Abstract_Tokens</th>\n",
       "    </tr>\n",
       "  </thead>\n",
       "  <tbody>\n",
       "    <tr>\n",
       "      <th>0</th>\n",
       "      <td>0110599</td>\n",
       "      <td>Collaborative Research Testing Affect Control ...</td>\n",
       "      <td>The investigators will conduct a of experiment...</td>\n",
       "      <td>[investigator, conduct, experiment, focus, cru...</td>\n",
       "    </tr>\n",
       "    <tr>\n",
       "      <th>1</th>\n",
       "      <td>0112426</td>\n",
       "      <td>Federal Cyber Service Initiative</td>\n",
       "      <td>This program produces a cadre of computer scie...</td>\n",
       "      <td>[produce, cadre, computer, scientist, strong, ...</td>\n",
       "    </tr>\n",
       "  </tbody>\n",
       "</table>\n",
       "</div>"
      ],
      "text/plain": [
       "   AwardID                                         AwardTitle  \\\n",
       "0  0110599  Collaborative Research Testing Affect Control ...   \n",
       "1  0112426                   Federal Cyber Service Initiative   \n",
       "\n",
       "                                            Abstract  \\\n",
       "0  The investigators will conduct a of experiment...   \n",
       "1  This program produces a cadre of computer scie...   \n",
       "\n",
       "                                     Abstract_Tokens  \n",
       "0  [investigator, conduct, experiment, focus, cru...  \n",
       "1  [produce, cadre, computer, scientist, strong, ...  "
      ]
     },
     "execution_count": 13,
     "metadata": {},
     "output_type": "execute_result"
    }
   ],
   "source": [
    "#define lemmatizer() object\n",
    "lemmatizer = WordNetLemmatizer()\n",
    "\n",
    "#lemmatize with POS Tag\n",
    "def get_wordnet_pos(word):\n",
    "    #Map POS tag to first character lemmatize() accepts\n",
    "    tag = nltk.pos_tag([word])[0][1][0].upper()\n",
    "    tag_dict = {\"J\": wordnet.ADJ,\n",
    "                \"N\": wordnet.NOUN,\n",
    "                \"V\": wordnet.VERB,\n",
    "                \"R\": wordnet.ADV}\n",
    "\n",
    "    return tag_dict.get(tag, wordnet.NOUN)\n",
    "\n",
    "\n",
    "for n in range(df_sum2.shape[0]):\n",
    "    df_sum2['Abstract_Tokens'][n]=[lemmatizer.lemmatize(w,get_wordnet_pos(w)) for w in df_sum2['Abstract_Tokens'][n]]\n",
    "\n",
    "print('Total words after lemmatization: {}'.format(sum(df_sum2['Abstract_Tokens'].str.len())))\n",
    "df_sum2.head(2)"
   ]
  },
  {
   "cell_type": "markdown",
   "metadata": {},
   "source": [
    "__Remove 1-Length Words__\n",
    "\n",
    "Punctuation\n",
    "Punctuation are the unnecessary symbols that are in our corpus documents,"
   ]
  },
  {
   "cell_type": "code",
   "execution_count": 14,
   "metadata": {
    "scrolled": true
   },
   "outputs": [
    {
     "name": "stdout",
     "output_type": "stream",
     "text": [
      "Total words after removing 1-len words: 842590\n"
     ]
    },
    {
     "data": {
      "text/html": [
       "<div>\n",
       "<style scoped>\n",
       "    .dataframe tbody tr th:only-of-type {\n",
       "        vertical-align: middle;\n",
       "    }\n",
       "\n",
       "    .dataframe tbody tr th {\n",
       "        vertical-align: top;\n",
       "    }\n",
       "\n",
       "    .dataframe thead th {\n",
       "        text-align: right;\n",
       "    }\n",
       "</style>\n",
       "<table border=\"1\" class=\"dataframe\">\n",
       "  <thead>\n",
       "    <tr style=\"text-align: right;\">\n",
       "      <th></th>\n",
       "      <th>AwardID</th>\n",
       "      <th>AwardTitle</th>\n",
       "      <th>Abstract</th>\n",
       "      <th>Abstract_Tokens</th>\n",
       "    </tr>\n",
       "  </thead>\n",
       "  <tbody>\n",
       "    <tr>\n",
       "      <th>0</th>\n",
       "      <td>0110599</td>\n",
       "      <td>Collaborative Research Testing Affect Control ...</td>\n",
       "      <td>The investigators will conduct a of experiment...</td>\n",
       "      <td>[investigator, conduct, experiment, focus, cru...</td>\n",
       "    </tr>\n",
       "    <tr>\n",
       "      <th>1</th>\n",
       "      <td>0112426</td>\n",
       "      <td>Federal Cyber Service Initiative</td>\n",
       "      <td>This program produces a cadre of computer scie...</td>\n",
       "      <td>[produce, cadre, computer, scientist, strong, ...</td>\n",
       "    </tr>\n",
       "  </tbody>\n",
       "</table>\n",
       "</div>"
      ],
      "text/plain": [
       "   AwardID                                         AwardTitle  \\\n",
       "0  0110599  Collaborative Research Testing Affect Control ...   \n",
       "1  0112426                   Federal Cyber Service Initiative   \n",
       "\n",
       "                                            Abstract  \\\n",
       "0  The investigators will conduct a of experiment...   \n",
       "1  This program produces a cadre of computer scie...   \n",
       "\n",
       "                                     Abstract_Tokens  \n",
       "0  [investigator, conduct, experiment, focus, cru...  \n",
       "1  [produce, cadre, computer, scientist, strong, ...  "
      ]
     },
     "execution_count": 14,
     "metadata": {},
     "output_type": "execute_result"
    }
   ],
   "source": [
    "#remove 1-len words\n",
    "for n in range(df_sum2.shape[0]):\n",
    "    df_sum2['Abstract_Tokens'][n]=[w for w in df_sum2['Abstract_Tokens'][n] if len(w)>=2]\n",
    "print('Total words after removing 1-len words: {}'.format(sum(df_sum2['Abstract_Tokens'].str.len())))\n",
    "df_sum2.head(2)"
   ]
  },
  {
   "attachments": {},
   "cell_type": "markdown",
   "metadata": {},
   "source": [
    "__Remove Meaningless Words__\n",
    "\n",
    "We can try to create a 'English Wordlist' from nltk with __nltk.corpus.words.words()__ method. But this wordlist has 236736 words. In this list some important words like 'internet', 'online', 'monitoring', 'firewall', 'crypto' etc.\n",
    "\n",
    "In this study, we prefer to use a comprehensive wordlist from a [github account](https://github.com/dwyl/english-words) which has 370104 words. But still, we need to add some critical words to list like 'cyberinfrastructure','cybersecurity' etc. So we extended the our wordlist."
   ]
  },
  {
   "cell_type": "code",
   "execution_count": 15,
   "metadata": {},
   "outputs": [
    {
     "name": "stdout",
     "output_type": "stream",
     "text": [
      "Total words after removing the meaningless words: 821247\n"
     ]
    },
    {
     "data": {
      "text/html": [
       "<div>\n",
       "<style scoped>\n",
       "    .dataframe tbody tr th:only-of-type {\n",
       "        vertical-align: middle;\n",
       "    }\n",
       "\n",
       "    .dataframe tbody tr th {\n",
       "        vertical-align: top;\n",
       "    }\n",
       "\n",
       "    .dataframe thead th {\n",
       "        text-align: right;\n",
       "    }\n",
       "</style>\n",
       "<table border=\"1\" class=\"dataframe\">\n",
       "  <thead>\n",
       "    <tr style=\"text-align: right;\">\n",
       "      <th></th>\n",
       "      <th>AwardID</th>\n",
       "      <th>AwardTitle</th>\n",
       "      <th>Abstract</th>\n",
       "      <th>Abstract_Tokens</th>\n",
       "    </tr>\n",
       "  </thead>\n",
       "  <tbody>\n",
       "    <tr>\n",
       "      <th>0</th>\n",
       "      <td>0110599</td>\n",
       "      <td>Collaborative Research Testing Affect Control ...</td>\n",
       "      <td>The investigators will conduct a of experiment...</td>\n",
       "      <td>[investigator, conduct, experiment, focus, cru...</td>\n",
       "    </tr>\n",
       "    <tr>\n",
       "      <th>1</th>\n",
       "      <td>0112426</td>\n",
       "      <td>Federal Cyber Service Initiative</td>\n",
       "      <td>This program produces a cadre of computer scie...</td>\n",
       "      <td>[produce, cadre, computer, scientist, strong, ...</td>\n",
       "    </tr>\n",
       "  </tbody>\n",
       "</table>\n",
       "</div>"
      ],
      "text/plain": [
       "   AwardID                                         AwardTitle  \\\n",
       "0  0110599  Collaborative Research Testing Affect Control ...   \n",
       "1  0112426                   Federal Cyber Service Initiative   \n",
       "\n",
       "                                            Abstract  \\\n",
       "0  The investigators will conduct a of experiment...   \n",
       "1  This program produces a cadre of computer scie...   \n",
       "\n",
       "                                     Abstract_Tokens  \n",
       "0  [investigator, conduct, experiment, focus, cru...  \n",
       "1  [produce, cadre, computer, scientist, strong, ...  "
      ]
     },
     "execution_count": 15,
     "metadata": {},
     "output_type": "execute_result"
    }
   ],
   "source": [
    "#Scrape a wordlist\n",
    "url='https://raw.githubusercontent.com/dwyl/english-words/master/words_alpha.txt'\n",
    "data = pd.read_csv(url,  header=None)\n",
    "wordlist=list(data[0].values)\n",
    "wordlist.extend(['cyberinfrastructure','cybersecurity','ci']) #extend the list with critical terms\n",
    "\n",
    "meaningless_list=[]\n",
    "#Check the tokens from wordlist\n",
    "for n in range(df_sum2.shape[0]):\n",
    "    meaningless=[w for w in  df_sum2['Abstract_Tokens'][n] if w not in wordlist]\n",
    "    meaningless_list.extend(meaningless)\n",
    "    df_sum2['Abstract_Tokens'][n]=[w for w in  df_sum2['Abstract_Tokens'][n] if w in wordlist]\n",
    "print('Total words after removing the meaningless words: {}'.format(sum(df_sum2['Abstract_Tokens'].str.len())))\n",
    "df_sum2.head(2)"
   ]
  },
  {
   "cell_type": "code",
   "execution_count": null,
   "metadata": {},
   "outputs": [],
   "source": []
  },
  {
   "cell_type": "code",
   "execution_count": 16,
   "metadata": {},
   "outputs": [
    {
     "name": "stdout",
     "output_type": "stream",
     "text": [
      "{'delawaretitle', 'lamont', 'tobacsig', 'endogeneity', 'tek', 'rodrigo', 'carefullydeveloping', 'blwt', 'tocttou', 'sunyit', 'nanowaveguiding', 'governmentlaboraties', 'bctc', 'withouthaving', 'finholtinstitution', 'fidmt', 'veriand', 'paleogeoscience', 'itrustso', 'maravelias', 'onboarding', 'markerless', 'murugesu', 'methathesis', 'underwaterbecause', 'reu', 'biomineralization', 'ourstudy', 'plcs', 'hokiespeed', 'threedimensional', 'meritcyberinfrastructure', 'utep', 'navdat', 'multispectral', 'beckman', 'shellcodebeing', 'explicitlyprogramming', 'bsns', 'myglucohealth', 'improvedefficiencies', 'smes', 'rov', 'neuroprostheses', 'qudits', 'ggsfp', 'lifemapper', 'cofunding', 'cci', 'intiaitive', 'collaborationsand', 'smte', 'dsu', 'turbopumped', 'paleobiologists', 'foundationproposal', 'starburstt', 'fixturing', 'noveltechniques', 'countersintellectual', 'sens', 'socioecological', 'espar', 'lablets', 'energyproduction', 'entropic', 'microfluidics', 'nanobuilding', 'bentcore', 'umbc', 'biosensors', 'williston', 'edl', 'devry', 'steelcase', 'bestpractical', 'mspnet', 'graphene', 'decisionmakers', 'ipcc', 'multiferroic', 'willbegin', 'greenhousesproject', 'spc', 'extenci', 'dissolveexisting', 'casc', 'corporationa', 'eit', 'kirkwood', 'applicationsthis', 'conware', 'paleogeosciences', 'fno', 'ahmad', 'barcoding', 'cta', 'cbol', 'bissds', 'cybercourts', 'systemsinstitution', 'pangeo', 'shoubra', 'advancedinstruments', 'gmo', 'ofoptimal', 'whoseadvanced', 'irem', 'levelalgorithms', 'aquaswarm', 'sastry', 'informationtechnologists', 'emt', 'bioheat', 'pvd', 'boulderabstract', 'issnip', 'theoreticalfoundations', 'parktitle', 'inconventional', 'tekbot', 'shakemovie', 'cyberinfrastructureprovided', 'woci', 'synergeticcompetency', 'livermore', 'simulat', 'cyberdefense', 'tweens', 'baid', 'trappe', 'theparticipation', 'facilitatethe', 'colby', 'vlc', 'impairedbroader', 'nanohub', 'scientificcomputing', 'universitybroader', 'pcbs', 'hantavirus', 'hoosris', 'pourkamali', 'ffts', 'cisa', 'cyberquest', 'mathematicalanalysis', 'gebze', 'wiki', 'remotedesktops', 'nanoos', 'ofdata', 'marlon', 'vms', 'mando', 'dmrg', 'sdx', 'bybuilding', 'cgc', 'rady', 'ucps', 'asu', 'bda', 'reducedcrop', 'rotc', 'cao', 'orlarge', 'highlyinteractive', 'parkside', 'tco', 'hawaiigoals', 'scottsboro', 'cliffordalgebras', 'nanopatterned', 'sami', 'meganewton', 'cayetano', 'ciso', 'containedin', 'hacu', 'withsignificant', 'isas', 'beneand', 'griphyn', 'lushbough', 'ofstudent', 'ftfs', 'parvovirus', 'microkernels', 'lambdagrids', 'hilton', 'bronstein', 'cnrs', 'optimizationand', 'fluorophores', 'ncar', 'uq', 'thaliana', 'interdisciplinarity', 'leadershipin', 'rocktitle', 'vscse', 'dsicovery', 'nitrandd', 'colleaguesthis', 'pbis', 'dehydroannulenes', 'xuxian', 'fau', 'caeiae', 'florianopolis', 'msu', 'openearth', 'dbm', 'qw', 'proposalthis', 'mcu', 'metastructure', 'aiaa', 'healthvault', 'ondemand', 'ofinterns', 'maldi', 'introductionthe', 'dsl', 'esb', 'xanes', 'machinesdaniela', 'chromodynamics', 'sedgwick', 'pmu', 'cycentr', 'szeged', 'spss', 'jha', 'fairfield', 'idw', 'swanson', 'metamaterial', 'indp', 'inclusivity', 'wastc', 'ergnomics', 'voeventnet', 'underserved', 'pharmacometrics', 'etb', 'kyrc', 'webcasts', 'commissionthis', 'pgrop', 'factoringgeometry', 'mrc', 'ipy', 'cne', 'anddeployment', 'publiclyavailable', 'neeshub', 'earthcubeframework', 'palanki', 'siloxides', 'petasha', 'raoinstitution', 'personalizable', 'asat', 'aws', 'biomolecule', 'bci', 'cmsp', 'abilityto', 'kesidisinstitution', 'cybertraining', 'ipta', 'zeo', 'nanobiotechnology', 'oneoklahoma', 'acsac', 'fdr', 'cawes', 'berea', 'hazzards', 'frontline', 'acivil', 'xms', 'heteropolymer', 'nostructure', 'ferrante', 'throughinformatization', 'xafs', 'biorenewables', 'nced', 'ghg', 'anddeveloping', 'microbiome', 'dataview', 'webcast', 'sixsubgroups', 'finninstitutions', 'crif', 'ofproducing', 'kostadin', 'colab', 'isgtw', 'videopaper', 'berkeleycadre', 'satc', 'computationalcapabilities', 'simulink', 'biomechatronic', 'discretized', 'nau', 'avetec', 'metasurface', 'sourcingand', 'cybercriminal', 'obd', 'frontends', 'narragansett', 'umd', 'dhs', 'incognitum', 'mcmullen', 'insup', 'infrastructural', 'pde', 'cannotpredict', 'instructionsequences', 'glideinwms', 'blockchain', 'smls', 'escc', 'mpqc', 'pflops', 'builtinto', 'audial', 'theglobal', 'nerc', 'niba', 'consortiumproject', 'idc', 'transfecting', 'pfi', 'ub', 'ferroelectrics', 'malware', 'documentviewers', 'cmes', 'flatow', 'gdbase', 'derivatization', 'randd', 'usm', 'winn', 'galerkin', 'oscl', 'geomorphologists', 'activites', 'planetlab', 'lannom', 'mhealth', 'plae', 'uwm', 'macrolab', 'mocvd', 'ncgas', 'cibred', 'datasheets', 'systemcheckpoints', 'inlined', 'gaas', 'sdm', 'nlp', 'biophotonic', 'adbc', 'cac', 'berenstein', 'ofheterogeneous', 'bioinformaticians', 'exogeni', 'wisconsinproposal', 'modelchecking', 'cacc', 'complexprobabilistic', 'manycore', 'relationextraction', 'suchas', 'cawe', 'nanostructured', 'hou', 'discretizations', 'gdpr', 'sonet', 'accessgrid', 'noncrystallographic', 'wawona', 'acombination', 'bbci', 'universität', 'hahn', 'organizationand', 'observables', 'azerbetke', 'crosslinkable', 'doerge', 'efficientlyuses', 'provideinformation', 'unidata', 'statisticalguarantees', 'mgaus', 'forsoftware', 'detectionframework', 'cyberworld', 'keyresearch', 'microgrids', 'cnea', 'efp', 'mayaguez', 'cscw', 'microsegmentation', 'marcellus', 'abstractresearch', 'datacapsules', 'geni', 'flamelets', 'geomicrobiology', 'authoringtechnology', 'anddiscovery', 'usda', 'fibrilar', 'cem', 'karabstractthere', 'lipon', 'waterhub', 'colciencias', 'polyolefins', 'bepossible', 'wikibook', 'edc', 'nanobiofabrication', 'reenen', 'abstractthe', 'ssd', 'classinfocus', 'terabyte', 'valavanis', 'cyberpredation', 'pennren', 'suny', 'rovibrational', 'geospacial', 'paleostrat', 'securityabstractthe', 'scienceproject', 'uponthe', 'acollapsed', 'multimax', 'havebeen', 'bsn', 'kentuckychanging', 'ebird', 'intelligencecapabilities', 'cyberscience', 'npa', 'highend', 'comparision', 'eisenstein', 'cph', 'fluxomic', 'capd', 'whichhas', 'addtional', 'pake', 'fosterspotential', 'wifire', 'infobox', 'spm', 'interfacetechnologies', 'educationinstitution', 'investigaciones', 'teragrid', 'summarymodeling', 'daplds', 'geodeepdive', 'afoundation', 'effortwill', 'libkrylov', 'prosocial', 'benedikt', 'andpotential', 'fciqmc', 'biomaterials', 'beamlines', 'eps', 'anaraki', 'temperaturegradient', 'cyberinfastructure', 'dspace', 'rcci', 'severelyrestricts', 'functionalization', 'hbcu', 'neuromechanical', 'nanomedical', 'nrel', 'modusoperandi', 'tian', 'tarandus', 'motifnetwork', 'reflexesthe', 'battlebots', 'neursocience', 'nc', 'scuola', 'pastsurface', 'uavs', 'fountaininstitution', 'desmond', 'snm', 'denlinger', 'ogce', 'cisr', 'toescape', 'inviteeschris', 'tcc', 'exosuits', 'asr', 'teleconnections', 'sphis', 'jantke', 'multiagent', 'cyberbullying', 'erent', 'hubzerotm', 'ttu', 'stojanovic', 'simulationsa', 'iwasawa', 'withfits', 'subawards', 'learningalgorithms', 'schulze', 'hydrometeorologists', 'kisti', 'salaheldin', 'contactless', 'roadintersections', 'mcve', 'emulab', 'nyu', 'lsu', 'byrd', 'accuracythat', 'informationthis', 'andsuperior', 'uab', 'taggable', 'thethree', 'hybridvehicles', 'composities', 'amolf', 'petabyte', 'hipaa', 'superlattices', 'ddos', 'supporto', 'theproposed', 'reynolds', 'uhm', 'atabstractnontechnical', 'hcbus', 'sbu', 'impacta', 'magdy', 'bilevel', 'learnfunctions', 'intellecutal', 'bcis', 'cyberinstrument', 'sctst', 'francesco', 'whichall', 'transcriptomics', 'thepractices', 'microclimes', 'twb', 'plugins', 'kinber', 'biovis', 'mrna', 'cmps', 'andbuilding', 'bcube', 'nmg', 'prebuilt', 'postdoc', 'vbes', 'watsonville', 'registerd', 'interestgroup', 'soundscapes', 'impactsthis', 'theircyberinfrastructure', 'sensoring', 'universitythis', 'toinformation', 'cosn', 'godm', 'tcia', 'systemthat', 'bbso', 'palomar', 'lsst', 'speculativestate', 'deconstruction', 'timescales', 'rotavirus', 'biobots', 'augmentarium', 'databasing', 'dmii', 'cloudlab', 'multipoles', 'aimeddata', 'caat', 'drydown', 'gpus', 'nlsdr', 'ctsc', 'roboticists', 'artis', 'subseafloor', 'wams', 'photoreactions', 'brendel', 'electrocorticography', 'knowledgebase', 'advanes', 'cofunded', 'hydoinformatics', 'summarythis', 'bhsu', 'ourability', 'rande', 'ip', 'areapproximate', 'ofcoding', 'forecastingfour', 'lightcurves', 'newestobservatories', 'bowdoin', 'crasta', 'otb', 'fullerene', 'townsuiuc', 'null', 'cyberpower', 'hacktivism', 'thegeoscience', 'bhef', 'oscer', 'platygastroid', 'latestneeds', 'neuro', 'feedbackfrom', 'perú', 'iacbp', 'nn', 'oldenburgthis', 'glms', 'kernelfrom', 'filesystems', 'summarythe', 'impactsas', 'assurancedesigned', 'iihitsls', 'usf', 'cyberbullied', 'foah', 'buckminsterfullerene', 'bioextract', 'subgradient', 'fromthis', 'biochemicals', 'iwarp', 'redshift', 'monitoringpi', 'seismogenic', 'ccla', 'cua', 'rootkits', 'microalgal', 'systemepilepsy', 'systemswith', 'regionand', 'movebank', 'memoization', 'ourthird', 'gpn', 'fantechnical', 'resourced', 'raiffa', 'hmscvc', 'brainprint', 'berkman', 'aninteractive', 'velea', 'ingolf', 'cybercheqs', 'challengesinclude', 'participatingagep', 'straub', 'truckee', 'seclab', 'ost', 'abstractteam', 'pilotstudy', 'masonuniversity', 'sensei', 'iprivacy', 'diradical', 'sygus', 'ofsystem', 'expandcapacity', 'dueto', 'dbir', 'allbio', 'thesestudents', 'virtualization', 'powerconstraints', 'isin', 'cni', 'ecrime', 'cytoskeletal', 'opm', 'inpolymers', 'nanocrystalline', 'uccre', 'ratsch', 'figshare', 'phenotyping', 'bionanotechnology', 'mitrea', 'countertop', 'isfs', 'descriptionaccording', 'oftechnology', 'theengineering', 'cyclophanes', 'deeplyinfluence', 'alsoimproving', 'strongteam', 'databasesand', 'vw', 'landuse', 'ingeo', 'drexeluniversity', 'optiportal', 'receivedconsiderable', 'opportunty', 'considercompression', 'plasmonics', 'developnovel', 'aandt', 'mostcommon', 'librariescarsten', 'earthtime', 'leveragingexisting', 'scidas', 'sanderstoday', 'cyberattack', 'atlss', 'srb', 'ccsf', 'iot', 'bymeans', 'renci', 'iwaniec', 'pokemon', 'moiré', 'semanticsand', 'alsoseeks', 'stimulationthe', 'penn', 'cyberattacks', 'ideasubmissions', 'biomacromolecular', 'ustar', 'sproul', 'cahsi', 'cyberloft', 'thom', 'cybercrime', 'cbk', 'nh', 'nanoliter', 'shs', 'ebraille', 'sadc', 'siccs', 'andenvironmental', 'softwaresystem', 'cybertracker', 'gaitheru', 'kostant', 'cyberlibrary', 'otero', 'protectthese', 'tocompression', 'biomolecules', 'segovia', 'cybercriminals', 'bottineau', 'cytse', 'bioquest', 'cyberflora', 'dehon', 'kaeli', 'prehispanic', 'eweek', 'hrdems', 'andto', 'raritan', 'hdr', 'nmr', 'tcl', 'theimage', 'peryear', 'vsc', 'cuahsi', 'wtl', 'geows', 'adnan', 'mudslide', 'dalian', 'moreexplicitly', 'zettabyte', 'beamforming', 'geoedf', 'connectome', 'arcyber', 'databank', 'speculativeprocesses', 'cuyahoga', 'naïve', 'mpc', 'jsc', 'imds', 'frontend', 'dendrimers', 'sesync', 'iarpa', 'transportationsafer', 'pid', 'inria', 'nrs', 'bioremediation', 'nanocatalysts', 'linnaeus', 'ptu', 'impactsmany', 'daycare', 'typicallyrequired', 'owensboro', 'developingprograms', 'mediamanagement', 'subnetting', 'madisoneven', 'urssa', 'microdiffractometer', 'sigs', 'adminstrative', 'huici', 'autosampler', 'stereoselective', 'ertc', 'ganz', 'crowston', 'hackweek', 'evolvability', 'theurl', 'cyberinsurance', 'theproject', 'bmbf', 'nir', 'advancementsin', 'pufs', 'macroscope', 'dfms', 'iscommunity', 'meritwithin', 'andriparian', 'vtechworks', 'dfir', 'pjaro', 'roweabstractthis', 'multifunctional', 'gargett', 'extremize', 'bossmann', 'icls', 'stockcertificates', 'gameplay', 'managementstrategy', 'perl', 'prms', 'hyperproperties', 'cybersystems', 'forsolving', 'ostracodes', 'infiniband', 'quadcopters', 'piren', 'discoverycapabilities', 'theentry', 'nsci', 'careertech', 'tezduyar', 'forgeoscience', 'toxics', 'thomasu', 'bilt', 'hpwren', 'biofuel', 'ofnew', 'securitysystems', 'namespace', 'centerjim', 'biopolymer', 'belarbi', 'thedynamical', 'haifeng', 'kyr', 'orexistence', 'jp', 'willsignificantly', 'photovoltage', 'icpsr', 'pnnl', 'iresearch', 'ncube', 'htcondor', 'chickering', 'alene', 'explicitcommunication', 'tbn', 'tbe', 'crystalphases', 'ewod', 'weisband', 'helmstetter', 'nrt', 'dronology', 'worksites', 'lec', 'sdb', 'cfsm', 'developmalware', 'sivapalan', 'geoprisms', 'botnets', 'phc', 'eukaryotic', 'dataas', 'cybertaxonomy', 'communitiesfacing', 'cpws', 'workshopthis', 'subaward', 'crnch', 'aect', 'icu', 'externships', 'qds', 'sangbae', 'osa', 'cybersafety', 'webcam', 'disbaled', 'sudha', 'diffractometers', 'falko', 'batterychanges', 'tsn', 'sts', 'datacenter', 'lstm', 'notonly', 'cyberinfrastructureproject', 'useit', 'andnationally', 'faultlines', 'encodingof', 'nse', 'dspg', 'inthe', 'usepa', 'phy', 'realisticexperiments', 'cipres', 'magnetoresitive', 'biomineral', 'wv', 'cyberconflict', 'chpc', 'californiavirtual', 'sampleand', 'roce', 'suchdata', 'providinggenerous', 'nanosystems', 'makerspace', 'theseparameters', 'emos', 'basedcontrol', 'methodsfor', 'voth', 'ucsf', 'gayle', 'upconverting', 'grns', 'sais', 'nmm', 'dlhub', 'nibib', 'cfits', 'nnlo', 'chc', 'onthe', 'belmont', 'krediblenet', 'ndn', 'cbe', 'isos', 'freemium', 'psic', 'geospatial', 'ucar', 'µm', 'oab', 'ru', 'roadmaps', 'fiducials', 'alternativejoint', 'conceptualunderstanding', 'semilattices', 'nistor', 'nanolithography', 'bryant', 'imua', 'modulesfor', 'numberof', 'aarnet', 'sead', 'jumprepeatedly', 'sushil', 'autostereoscopic', 'effprt', 'nevadanet', 'ppdg', 'wirelessnetworks', 'geogame', 'scn', 'infrastructuremonitoring', 'reaxff', 'pulkit', 'standalone', 'metabolomic', 'uasron', 'hcps', 'normale', 'nied', 'wavefunction', 'bloomsburg', 'henkelman', 'iaa', 'tentativeagenda', 'architecturalevolution', 'smud', 'cyberinfrastrucutre', 'blog', 'meritthe', 'pittsburghthis', 'harc', 'spafford', 'midnatsol', 'openkim', 'moldova', 'informatl', 'xperts', 'cubesats', 'developinteroperability', 'hackathon', 'litcloud', 'amountand', 'compositionality', 'jianginstitution', 'metabolome', 'penalizationof', 'toexplore', 'abengoa', 'torecognize', 'partof', 'mrsec', 'spectrometrists', 'mishrauniversity', 'terc', 'crowdsourced', 'maui', 'nonmonotonic', 'wabash', 'ofdynamic', 'denin', 'kumar', 'sendai', 'nanograv', 'oetzel', 'principalinvestigator', 'diagnosers', 'spacetimes', 'alreadyinitiated', 'scate', 'wwt', 'iskander', 'intoour', 'foundationoffice', 'csuf', 'toexamine', 'neuse', 'frcc', 'makeflow', 'mwst', 'drl', 'betterthan', 'isr', 'scp', 'traditionaltools', 'slos', 'peruana', 'mvsu', 'hpcc', 'assesment', 'utrc', 'narl', 'ccbc', 'fpgas', 'uptick', 'practicums', 'metatranscriptomes', 'acamera', 'kepler', 'profilling', 'sprinal', 'operationalizing', 'ierapetritou', 'synchrophasor', 'hadoop', 'videoconference', 'trajectoryplanners', 'coevolved', 'isamples', 'sagenext', 'umn', 'tempisque', 'systemspis', 'spartanburg', 'wrestt', 'teichoic', 'microgrid', 'cyberlaw', 'geogames', 'warshel', 'femtosecond', 'gomez', 'ultrastrong', 'synchrophasors', 'glycoconjugates', 'niwc', 'wids', 'wbans', 'theanalysis', 'casadonte', 'semiprotein', 'thecritical', 'hiseasnet', 'sytsem', 'icelink', 'remotelyo', 'apon', 'sciunit', 'asthose', 'demonstrationproject', 'medellín', 'gui', 'biocompatible', 'georeferenced', 'aimd', 'ofresearch', 'theundergraduate', 'cidr', 'almaden', 'nvm', 'terascale', 'videira', 'iup', 'interop', 'pui', 'cybertechnologists', 'tiv', 'theattackers', 'pmandr', 'serp', 'considerthe', 'uwsn', 'anonymization', 'basn', 'libmesh', 'anddiverse', 'coloradoproposal', 'njit', 'abstractintellectual', 'ots', 'amd', 'semiproteins', 'bibliome', 'csec', 'microcalorimeter', 'convenors', 'pilotcollaboratory', 'prebiotics', 'rootkit', 'shb', 'scaleduring', 'sampleidentifiers', 'gromacs', 'researchand', 'mickelsen', 'baikun', 'caigee', 'quaternionicgeometry', 'cetmons', 'socio', 'gacrc', 'responseabstractdavid', 'hayhoe', 'lineshape', 'lyme', 'sdgande', 'learningof', 'swm', 'nanowires', 'cesm', 'projectdevelops', 'amr', 'surfnet', 'micropillar', 'uccs', 'macroprogramming', 'meeings', 'cyberanalytics', 'osg', 'microspectrometer', 'pithouses', 'scalableonline', 'sftp', 'problemsand', 'petsc', 'presentated', 'flaura', 'gemc', 'abdelkhalik', 'productionvehicles', 'technología', 'bml', 'cyberthreats', 'biomodeling', 'icps', 'temsmani', 'usgs', 'jupyter', 'lucinstitution', 'afrl', 'researchtransfers', 'ipc', 'itunes', 'exoplanets', 'sanderson', 'landmines', 'knickpoints', 'scheller', 'ornl', 'nitrd', 'biocyberneticsand', 'rolla', 'interoperations', 'pnw', 'holodeck', 'wyomingmaohong', 'atandt', 'hprcf', 'macrostrat', 'ccni', 'samigo', 'engineeringdisciplines', 'joaquin', 'basc', 'controlmechanism', 'geographyuniversity', 'cim', 'adaptivesubsystem', 'datamanagement', 'exploratorium', 'collegethis', 'transcriptomes', 'pothen', 'biopolymers', 'nonadiabatic', 'impactthis', 'butlerinstitution', 'jessy', 'datalad', 'aag', 'cssia', 'geoinformatic', 'pullnix', 'meetups', 'mccpis', 'scienceeverywhere', 'interdiscipinary', 'isocyanides', 'igeni', 'xci', 'merwe', 'revelle', 'ofgovernment', 'preservice', 'dichalcogenide', 'safa', 'ccr', 'cyberinfrascructure', 'wii', 'databaseinterface', 'intendto', 'ccsc', 'firstgeneration', 'utsa', 'briefingopportunities', 'keychallenges', 'dht', 'ktec', 'checklisting', 'isinherently', 'eando', 'healy', 'tarek', 'monochalcogenides', 'cybertools', 'dataproject', 'thepractical', 'technologytools', 'uv', 'touchscreen', 'stemtube', 'thisprocess', 'mccpi', 'icnn', 'telehealth', 'pohl', 'manyother', 'scientificdomains', 'fiu', 'analysisidentifies', 'communitieshave', 'telerobot', 'ccgit', 'incommon', 'jawaharlal', 'ondifferent', 'facelli', 'microfabricated', 'ecomuve', 'pyscf', 'rbps', 'serverless', 'cyberinfrastructureproposal', 'hcp', 'broadacceptance', 'geonsummer', 'rtss', 'uvu', 'aehe', 'jacobusinstitution', 'formulasbetween', 'cryoelectron', 'pfs', 'toadvance', 'mram', 'nheri', 'ryanthis', 'manipulatives', 'ffrdc', 'lablet', 'spintop', 'karabanov', 'gbl', 'suas', 'tsri', 'tofollow', 'karplus', 'rowhammer', 'xmalab', 'andsupport', 'neuroimaging', 'scientistsat', 'universityís', 'climatevariability', 'icaleo', 'evo', 'uf', 'engneering', 'mhs', 'rhic', 'strobel', 'bioprocessing', 'willexpand', 'meetingpi', 'microarray', 'nacional', 'citylines', 'ligo', 'ivirus', 'annulenes', 'disaggregates', 'polyrotaxanes', 'analyzedand', 'wcc', 'richland', 'technologytitle', 'crowdsensing', 'chemometrics', 'cryptotephra', 'trouw', 'solvingthe', 'nanomanufacturingefficient', 'biosample', 'robotarium', 'idv', 'utig', 'gupta', 'micropolarizer', 'ramkrishna', 'icciacst', 'underperformance', 'visuospatial', 'oac', 'theeffort', 'otellione', 'ccas', 'rtos', 'umr', 'dhtc', 'ultracompact', 'symmetrybreaking', 'gainesville', 'capabilitiesalso', 'discussionamong', 'possibleeven', 'uma', 'andnicholas', 'cyberscholarship', 'wooley', 'toolset', 'lagos', 'itc', 'modelsand', 'beijing', 'petaflops', 'unclonable', 'littleinstitution', 'thecyberinfrastructure', 'willson', 'researchcomponent', 'semisupervised', 'datajosé', 'reram', 'bemade', 'cyberprof', 'clusterized', 'nano', 'hyperparameter', 'oma', 'dtcc', 'cpms', 'eastwood', 'anddemonstrated', 'ecse', 'cybercorps', 'nns', 'stt', 'dge', 'avcl', 'papadopoulosinstitution', 'geohazards', 'superlattice', 'cyneuro', 'computersobjective', 'oligocyclopentadienyl', 'schedulability', 'linewidth', 'username', 'atleast', 'voxelized', 'abstractnontechnical', 'ccv', 'klinotaxis', 'lifecycle', 'ogf', 'mcgill', 'supermedia', 'iap', 'ultramafic', 'epm', 'maop', 'doip', 'bigsce', 'utd', 'rangan', 'cwssp', 'calswim', 'andcyborg', 'cybernabo', 'wsns', 'bioconjugates', 'strategizing', 'cpath', 'underutilized', 'geoscientific', 'dataswarm', 'merced', 'studentswill', 'geoscienceeducation', 'dfw', 'smartgridlab', 'microengineered', 'continuedinnovation', 'batteryless', 'caron', 'workshopsthat', 'rgb', 'iomt', 'rpcs', 'geovisual', 'videogames', 'novelenvironments', 'vectorized', 'nanosustainability', 'measureable', 'reseachers', 'macroprogram', 'sdds', 'ostp', 'irods', 'lucasfilm', 'puf', 'scsc', 'sswi', 'improvedknowledge', 'partiallyordered', 'laboratoire', 'developmenteffort', 'andwebservers', 'developmentproposal', 'thefull', 'luquillo', 'cyberphysical', 'damevski', 'magneticsinformation', 'theevaluation', 'cari', 'cyprg', 'thatincludes', 'cyberling', 'aandm', 'aisl', 'polarglobe', 'theeducational', 'willdevelop', 'nsf', 'ahmadabad', 'nucleobases', 'fgdc', 'securecloud', 'advancedinformation', 'isc', 'passwordless', 'lonestar', 'cagr', 'automatatheoreticformalism', 'teleimmersion', 'phenomic', 'evaluatethe', 'outsource', 'datafy', 'playlist', 'café', 'biotechnical', 'peptoids', 'mios', 'uhcl', 'haveexperienced', 'universityproposal', 'oso', 'emphasison', 'inver', 'scienceworks', 'conficts', 'qd', 'tsu', 'uapb', 'wdc', 'stratigraphers', 'afronts', 'nanocomponents', 'polyketides', 'lego', 'strongrecord', 'initiallyhave', 'heterostructures', 'dmd', 'iupac', 'andauthentication', 'sppm', 'metalloenzymes', 'educationthe', 'nsps', 'vock', 'kotzinstitution', 'econtentplus', 'fingerprintable', 'nwc', 'lacksa', 'marianas', 'uog', 'nri', 'concordia', 'wildland', 'salk', 'mediakidz', 'epmd', 'crb', 'nanoparticles', 'typeof', 'spammer', 'selectiveconnectivity', 'componentizing', 'ncsa', 'isfeet', 'biogeosciences', 'arieh', 'mechatronics', 'cpgs', 'cybertutor', 'pursuingdoctoral', 'bremen', 'orderedaccording', 'nivd', 'iteams', 'revelare', 'disseminatednot', 'makecommunication', 'gda', 'mexicojohn', 'mimo', 'photodamage', 'ipt', 'tardis', 'itselfas', 'geounits', 'göttingen', 'aphysical', 'sandboxed', 'irminger', 'strategiesfor', 'trafficturk', 'rauschecker', 'heliosphere', 'vtk', 'tarboton', 'pmus', 'simulational', 'museink', 'mdcloud', 'cisal', 'solvercommunities', 'lapd', 'facebook', 'ndsu', 'ict', 'atep', 'postrelevant', 'rdv', 'nsrc', 'ucsd', 'universitygoals', 'datadriven', 'iscontinuous', 'barcode', 'cruz', 'parallelsupercomputers', 'rsl', 'omic', 'barcodes', 'butenko', 'thenational', 'cresis', 'developent', 'likelyto', 'opvc', 'hexel', 'plo', 'cyclizations', 'diagramand', 'irvine', 'geocamp', 'impactsthere', 'wpds', 'kerstin', 'nanotech', 'drexel', 'breckenridge', 'nsfcloud', 'ssac', 'amazonia', 'oef', 'pooihe', 'cyberball', 'progressin', 'cenic', 'technicalthis', 'mishratitle', 'sstsp', 'abstractpi', 'estela', 'uplearning', 'youmedia', 'multiferroics', 'removingrisk', 'sahai', 'secdev', 'toexpose', 'powertrains', 'simsam', 'researchthrough', 'brezonik', 'mtf', 'cytokine', 'hiv', 'processorlocally', 'omics', 'thusincreasing', 'sca', 'personalelectronics', 'steeringcommittee', 'mpdo', 'mkps', 'apersonalized', 'utiity', 'dsa', 'scimma', 'giscience', 'airlink', 'voevent', 'alexanmder', 'modelstheir', 'ereis', 'controlthis', 'faa', 'scec', 'liguo', 'fipes', 'theexchange', 'interleavings', 'lifecycles', 'soergel', 'metaheuristic', 'inimplementations', 'microheterogeneous', 'orreasoned', 'actities', 'unt', 'waitt', 'charrettes', 'feng', 'clancy', 'nshe', 'uw', 'neurodynamics', 'dpv', 'fullerton', 'weatherradar', 'tufo', 'mugrid', 'systemsgrowing', 'minecraft', 'weatherblur', 'nanomechanics', 'statisticalquantitative', 'lakebeds', 'doherty', 'abstractit', 'leotiomycetes', 'tierzero', 'tounderstanding', 'demaine', 'gsr', 'fortunato', 'cdna', 'fda', 'prdb', 'biocomplexity', 'havesignificant', 'esi', 'nhsemp', 'nbbs', 'cyberpatriot', 'msb', 'vignainstitution', 'socs', 'goasguen', 'onbridging', 'purdues', 'makkah', 'gpgpus', 'supportfor', 'activemalicious', 'uncertaintyappropriately', 'mccarthy', 'nue', 'habs', 'nanophotonic', 'universityabstract', 'essil', 'sait', 'vdms', 'thusthis', 'ultracold', 'greenstadt', 'tunedto', 'dichalcogenides', 'cybernizing', 'ssft', 'vittal', 'andother', 'mqws', 'efficientstrategies', 'kennesaw', 'activies', 'phtooxidation', 'blogging', 'krieger', 'nmap', 'geophylogeny', 'snri', 'schrdinger', 'duncaster', 'multiarticulating', 'devisestimulation', 'lwe', 'tephrochronological', 'transcoding', 'mesoporous', 'winlab', 'robustlearning', 'teos', 'geoed', 'ptsd', 'andtherefore', 'andwater', 'raothis', 'wssc', 'opensimulator', 'forspecifying', 'mesostructures', 'ngvla', 'multiparameter', 'stereoselectivity', 'ucsciencenet', 'hmds', 'abramson', 'cdsande', 'prokopyevtexas', 'thestart', 'nanomechanicsabstractthis', 'icme', 'collaboratories', 'shrs', 'lexias', 'bioorganic', 'theirgeneralizations', 'researchproject', 'nanoelectronics', 'idetect', 'informaticized', 'teleoperating', 'phillips', 'procedurescombining', 'bioderived', 'keweenaw', 'alkylidenes', 'capt', 'bhl', 'microchannel', 'iin', 'dtsl', 'camcor', 'ukcomputer', 'gchq', 'geocodes', 'pept', 'comanage', 'nanotips', 'polik', 'hsd', 'neurocomputational', 'acondition', 'ptf', 'researchprogram', 'curated', 'amisr', 'fermilab', 'infrastructuretechniques', 'nec', 'tf', 'agekeith', 'architecting', 'qura', 'sige', 'magnetoresistive', 'thesystems', 'bioelectronic', 'kruiser', 'byothers', 'conceptsproject', 'uwf', 'cybex', 'ikneer', 'telemedicine', 'nantes', 'inferenceprocedures', 'toemphasize', 'indigeneous', 'vehicledynamical', 'escience', 'wku', 'isa', 'ofegs', 'fpe', 'invetigators', 'sahi', 'rixs', 'ionomic', 'manycast', 'aproaches', 'geotechnical', 'nhtsa', 'gitlab', 'cbet', 'rge', 'paleogeosciencesand', 'stduy', 'theseinteroperability', 'cyberinstitute', 'thatgather', 'csdms', 'storeever', 'rfid', 'garcia', 'karonis', 'shonnard', 'oligopeptides', 'preterm', 'photodetaching', 'dsst', 'rmacc', 'ourrstore', 'serengeti', 'childrens', 'lersais', 'traditionaltechniques', 'irts', 'gabbs', 'underperform', 'lichtenberger', 'photovoltaics', 'geophylogenies', 'educationgreg', 'andtheir', 'pki', 'impactssolving', 'astro', 'personalinteraction', 'gsdnet', 'gnass', 'millennials', 'mainobjective', 'metalloprotein', 'whichhappen', 'ofcomputers', 'stealthincreases', 'iodp', 'campusesí', 'frequencyspectrum', 'gatekeeping', 'yardmap', 'kantardjieff', 'website', 'youtube', 'earthchem', 'udl', 'bdacps', 'intellegence', 'embeddedness', 'paradigmcombined', 'neesit', 'nanocrystallography', 'estudiantes', 'cgcc', 'stratasys', 'onenet', 'vandv', 'qcis', 'ecoforecastr', 'mjor', 'dehn', 'cct', 'cscibox', 'maxine', 'morenet', 'flowmodel', 'istailored', 'lasenby', 'photochromes', 'ttp', 'glycosylation', 'pincipal', 'aandp', 'screencast', 'ciiwork', 'floudasinstitution', 'thegeosciences', 'umrb', 'rasterization', 'mpifr', 'idam', 'andstatistical', 'astrategy', 'vistrails', 'msc', 'cyberfriends', 'sdsu', 'bamberg', 'radiochannels', 'fdl', 'opteron', 'kurchatov', 'bscs', 'casesfor', 'cecs', 'alexa', 'idre', 'systemof', 'gcom', 'supportingobservatory', 'simplot', 'becausethe', 'scriptinglanguages', 'hydrologycommunities', 'commoditized', 'technologiesand', 'diagnosability', 'posttranslational', 'domainand', 'sscp', 'embeddings', 'elasticsearch', 'designsafe', 'fastgeometric', 'uhmc', 'dalhousie', 'nanomechanical', 'apps', 'rces', 'cyberteam', 'doreen', 'volker', 'orthoses', 'sobieski', 'pna', 'decamouflage', 'tractography', 'carpetx', 'nordunetjun', 'mangharam', 'integratedbattery', 'affordances', 'integratermu', 'cyberterrorism', 'adeles', 'juelich', 'roppongi', 'phishing', 'ncalm', 'andsociety', 'ababa', 'praticipants', 'earthscope', 'scopeby', 'microrobots', 'josé', 'koenderink', 'cyberdyne', 'shroffinstitution', 'cuore', 'internationalknowledge', 'hampton', 'photophysics', 'cmos', 'cyberintrusions', 'particularlyimportant', 'ablamowicz', 'germline', 'tajana', 'asphaltenes', 'surveykirsten', 'electrotactile', 'yeager', 'uttc', 'manuscipts', 'ofan', 'soa', 'nucri', 'onlymarginal', 'causaldependencies', 'sustainabledevelopment', 'nno', 'gao', 'leiden', 'nanodisk', 'supermag', 'machineintrospection', 'snyder', 'camtasia', 'manufacturingintellectual', 'thisgoal', 'vulnerableprogram', 'brane', 'magnetofossils', 'rafie', 'crrc', 'dmv', 'cpeg', 'dmacc', 'fiuabstractthis', 'gigapixel', 'supersymmetric', 'tonsf', 'fema', 'asme', 'chatbots', 'pleth', 'beimplemented', 'nanoengineering', 'toolkits', 'pragma', 'thecheckpoint', 'butsince', 'anr', 'microhabitats', 'riinstitution', 'eigensolvers', 'mueller', 'bissd', 'fran', 'byempowering', 'caas', 'gc', 'predictivity', 'ucc', 'heliophysicists', 'kth', 'retargetable', 'floridaproposal', 'impactsinformation', 'arecritical', 'monocrops', 'thatcollaboration', 'geospace', 'iop', 'oxinitrides', 'teex', 'installable', 'saydjari', 'mesogens', 'sociologythe', 'resourcesand', 'extendexisting', 'metabelian', 'guevara', 'ei', 'biomolecular', 'amonginformation', 'uvsc', 'nanodusty', 'lpnmr', 'nanomaterial', 'multirotor', 'thevolume', 'midsize', 'sinx', 'amherst', 'operationalized', 'momp', 'pgande', 'packingschemes', 'photoelectrodes', 'homebank', 'metamine', 'velocimetry', 'wildlands', 'asm', 'cyberwarfare', 'harmfulsecurity', 'leinbach', 'bettersoftware', 'csula', 'itsenergy', 'edac', 'chtc', 'lter', 'ofwireless', 'bja', 'mankodiyathis', 'thekey', 'infosec', 'arederived', 'externaluncertainty', 'ecc', 'andexpectations', 'unachi', 'impactthroughout', 'washtenaw', 'thesetopics', 'technologyproposal', 'plasmapy', 'paleobiosciences', 'hmaf', 'reprobench', 'enablethe', 'distributionand', 'theirtelescopes', 'waubonsee', 'egi', 'bioimaging', 'wikis', 'rhode', 'organizationspi', 'ukri', 'switchit', 'infrastructuremany', 'ntsa', 'thesgc', 'thatcommunicate', 'scd', 'senserepresents', 'fia', 'dci', 'discretization', 'hyperspectral', 'cybercollage', 'plasmonic', 'orau', 'cmore', 'thermophysical', 'moresophisticated', 'cdm', 'willbe', 'namingsolid', 'thermophotovoltaic', 'cmu', 'isresearch', 'fomation', 'ccaa', 'whatthe', 'coc', 'ssho', 'cpns', 'mobius', 'msad', 'inmegalodonlt', 'polarizabilities', 'notjust', 'outreachand', 'multirobot', 'mobilevehicle', 'supportsspeculation', 'fairleigh', 'matusik', 'plb', 'openssh', 'rica', 'fromwithin', 'hopkins', 'biodefense', 'playtesting', 'computerarchitectures', 'andprovide', 'connectomics', 'hornak', 'diy', 'wsans', 'xiaosong', 'iptmnet', 'sheridan', 'physicalsubstrate', 'pse', 'gclt', 'shaowen', 'ngo', 'atitia', 'riken', 'meetingvenues', 'latech', 'hastac', 'scdi', 'scisim', 'cybersociety', 'codebases', 'kreyol', 'gatchel', 'mgp', 'webids', 'goldstein', 'pogil', 'rostislavabstracttitle', 'preparetomorrow', 'cyberseccurity', 'ijs', 'gloriads', 'nanodays', 'edmonson', 'authoringtool', 'uno', 'stuxnet', 'multimessenger', 'fabwave', 'cuhausi', 'anexpressive', 'runtimes', 'logfiles', 'dwb', 'inaugust', 'pvfs', 'wirelessand', 'sanikiluaq', 'bernardino', 'snowboard', 'dsrna', 'statedoug', 'linkedin', 'cbrne', 'microarchitectural', 'cpsmap', 'ptms', 'dagman', 'cirtas', 'homewood', 'moocs', 'nanosized', 'neage', 'vcls', 'practica', 'stormwater', 'vmd', 'undetectability', 'hydroinformatics', 'ctmc', 'talkbank', 'jhave', 'tarleton', 'voss', 'bioanalytical', 'cybertool', 'sztipanovits', 'nanotube', 'biodistribution', 'jittifff', 'fileshares', 'rens', 'isogeometric', 'marylandthe', 'nafeo', 'traceroute', 'theresulting', 'techniquesfor', 'abf', 'uass', 'atmosrpheric', 'sufficientlyconnected', 'subsamples', 'agu', 'erfurt', 'caradonna', 'cyberinfrastructurecristina', 'plr', 'thesuperb', 'itex', 'cet', 'mgi', 'biorepository', 'reengineers', 'shmt', 'holisticapproach', 'demystifies', 'liping', 'thepis', 'hrmc', 'hprc', 'optiportals', 'src', 'ofcommunication', 'aresearch', 'transferpi', 'thedata', 'rtm', 'leaderboard', 'lsmamp', 'anappropriate', 'securitythis', 'informationfor', 'jurisdictionsthis', 'solepurpose', 'rhodoquinone', 'voxelization', 'scelionini', 'nosql', 'misspecification', 'gonzalez', 'naas', 'mbr', 'unam', 'hanlon', 'rp', 'noril', 'isbased', 'palos', 'pb', 'poikliothermic', 'branson', 'applicationsin', 'fixedbudget', 'ncsi', 'cerevisiae', 'eap', 'dpo', 'nolenet', 'cybernetique', 'alam', 'bandgaps', 'paleoclimatologists', 'wanets', 'fsi', 'cyberinfrasructure', 'brainlink', 'biohybrid', 'czos', 'followee', 'refw', 'nfs', 'roseline', 'projectproject', 'metroplex', 'iandt', 'scientificvisualization', 'cortdra', 'ffrdcs', 'beyahgeorgia', 'tddft', 'ipfs', 'suitedeveloped', 'zooniverse', 'nna', 'imicrobe', 'dof', 'elearning', 'obo', 'stillaguamish', 'argumentationpi', 'geosciencesproblems', 'structuredgraphical', 'trackability', 'servicesto', 'hpcaas', 'typicallynot', 'studyingf', 'potosi', 'abm', 'chemoselective', 'zhang', 'interactome', 'hdss', 'tacc', 'ders', 'apci', 'esg', 'athttp', 'trumbull', 'snowpits', 'alsodevelops', 'cyberwater', 'articipation', 'gloriad', 'apredictive', 'esf', 'tcn', 'endophytes', 'aist', 'furthereducate', 'betalains', 'opensim', 'bothtechnology', 'planck', 'uncc', 'utc', 'supramolecules', 'vinaren', 'hotspot', 'ecite', 'wpdss', 'amundsen', 'andvariable', 'integratinglive', 'stata', 'metaproteomic', 'asts', 'lamar', 'himb', 'multifrequency', 'willnucleate', 'dfii', 'nanofabrication', 'cbr', 'santarsiero', 'distributedsurveillance', 'ofpropagation', 'plugin', 'geocomputation', 'feldman', 'refactor', 'understandingof', 'multiplayer', 'hillslopes', 'lonsdaleast', 'pawr', 'ofdifferent', 'mitm', 'networkingapplications', 'fnir', 'cyphyhouse', 'androadside', 'beliv', 'chipset', 'plc', 'ofkernel', 'safod', 'nanoassembly', 'andwidely', 'peterka', 'cmnst', 'proteomics', 'krzycki', 'biosurveillance', 'communicationnetworks', 'modiand', 'rpki', 'cogm', 'fundamentallimits', 'emc', 'correlationsamong', 'availablesource', 'garegin', 'hpcdna', 'adhd', 'withsimultaneously', 'irbs', 'gilf', 'gbif', 'iucrc', 'nanotoxicity', 'gcm', 'purdue', 'onclifford', 'terrainonline', 'biorefineries', 'communitydevelopment', 'heidelberg', 'memristive', 'highvalue', 'combustors', 'eec', 'thecontext', 'bitcoin', 'mygeohub', 'loyola', 'seyle', 'mofs', 'biocompatibility', 'collaboratory', 'pbl', 'ames', 'mtml', 'ul', 'eigenproblems', 'gwu', 'cyberinfrasture', 'isi', 'nadrian', 'digitalcertificates', 'rawlings', 'processingthat', 'fcic', 'ofspeculation', 'nanomfg', 'faang', 'vsto', 'matc', 'nof', 'steac', 'medford', 'widefield', 'transfected', 'amongresearchers', 'projectaddresses', 'ecogem', 'nijmegen', 'usfs', 'bucknell', 'ctd', 'loxahatchee', 'multiteam', 'strongmathematical', 'platygastroidea', 'analyte', 'learnability', 'strachan', 'ncwit', 'bronfenbrenner', 'horsburgh', 'roadnet', 'largescale', 'gsp', 'diffusivities', 'aapg', 'syngas', 'coeur', 'wou', 'etf', 'matlab', 'ablility', 'sandboxing', 'networkinformation', 'ogc', 'anddeepen', 'projectwill', 'mindlab', 'insupport', 'aquaponics', 'sciknowmine', 'cuny', 'tsgl', 'octonions', 'ultrascan', 'rui', 'astrostatistics', 'decamouflaging', 'ccmp', 'semulation', 'nanomachines', 'microtransponder', 'wirelessdevices', 'opex', 'microlasers', 'cmuintellectual', 'sbmqw', 'dnssec', 'uen', 'developedbetween', 'nanoparticle', 'arcata', 'complexityof', 'mandel', 'studentsand', 'voip', 'hilu', 'edd', 'bottum', 'cme', 'datamed', 'majid', 'aon', 'shinshu', 'cdebi', 'multivariable', 'abstractiis', 'bellmore', 'schlueter', 'instituto', 'sociopetal', 'memmax', 'nanotribology', 'openflow', 'longand', 'smartspaces', 'criminalize', 'forschungs', 'tosoftware', 'technologiesthis', 'systemsassistive', 'isdde', 'carriedout', 'futurejoint', 'vva', 'rdma', 'commmunication', 'cyberenabled', 'curriculumdesign', 'papero', 'beproposed', 'thetechnology', 'xrd', 'thegeoscientists', 'glif', 'formalspecifications', 'isalso', 'linkeddata', 'ramsar', 'educationat', 'hackproof', 'deprotonated', 'moorea', 'sensemaking', 'databanks', 'genbank', 'tues', 'sdn', 'csaw', 'shellcode', 'dimms', 'ndg', 'nanoscale', 'webcasting', 'boussinesq', 'dainorth', 'sizeand', 'iln', 'theuse', 'scriptable', 'cpni', 'compaas', 'oflearning', 'thepresentations', 'blacksburg', 'outcomeswill', 'hcss', 'asestimated', 'circl', 'ncfta', 'ecsu', 'csd', 'severalsmall', 'notall', 'muves', 'zno', 'dimensionful', 'forthe', 'trajectoryplanning', 'carbocycles', 'eas', 'spintronics', 'cybertaxonomic', 'thermoelectrics', 'eis', 'uber', 'geosciences', 'dnp', 'rbdil', 'meritexisting', 'morphotypes', 'chikyu', 'annulene', 'trh', 'tof', 'elsadek', 'gaylord', 'ebola', 'slas', 'rfp', 'möbius', 'diegothe', 'safl', 'elnashai', 'withincyberinfrastructure', 'mossbauer', 'areinspired', 'solverson', 'igns', 'homepage', 'caregiving', 'madesignificant', 'cei', 'ydstiethis', 'vm', 'christchurch', 'selectionof', 'romio', 'phenocams', 'communitiesof', 'ccsm', 'gaann', 'photodetached', 'gcels', 'svga', 'ofservice', 'rsr', 'microstructures', 'andcodes', 'cardioverter', 'elena', 'nanopores', 'nanopatterning', 'umkc', 'gridex', 'scos', 'ecohydrology', 'sger', 'vam', 'stapletonthe', 'turbotax', 'jiang', 'mgrid', 'underan', 'cyberware', 'fiatech', 'fpmd', 'fundsefforts', 'labview', 'visweek', 'coloradolarry', 'ua', 'fluoroorganic', 'stci', 'sparc', 'cyberinfrastructurefrom', 'intedisciplinary', 'jtf', 'boellstorff', 'universityfrom', 'researchopportunities', 'ccn', 'sros', 'nih', 'affordability', 'theamerican', 'cyberphysics', 'mprf', 'gpl', 'developmentto', 'sadet', 'csrc', 'bonn', 'harpole', 'sciencethis', 'midieval', 'plennary', 'aptamers', 'estudios', 'tocurrent', 'igrid', 'qos', 'dbedt', 'crovella', 'adistributed', 'transcriptome', 'cui', 'kure', 'andengineering', 'phagefish', 'geoinformatics', 'drs', 'programthe', 'andprovably', 'commugrate', 'baffin', 'tuscaloosa', 'afm', 'reseach', 'abstractday', 'scripps', 'otg', 'measurementinfrastructures', 'mdi', 'integratable', 'thedevelopment', 'theconference', 'uvm', 'reus', 'neuroscientific', 'synergized', 'walmart', 'mega', 'riscure', 'maisa', 'cistp', 'pri', 'nextgeneration', 'cyberinfrastructre', 'autonomousbattery', 'hurtado', 'thechronological', 'gbps', 'poject', 'isu', 'combinformation', 'microphotolithography', 'rao', 'sociologysteven', 'iisc', 'asee', 'qmc', 'environmentcan', 'goali', 'noncommutativespacetime', 'michiganproposal', 'allentown', 'multimodel', 'nanobasket', 'texasdavid', 'igc', 'doane', 'norwich', 'catenanes', 'acnn', 'mathematizing', 'hmd', 'kalmar', 'healpix', 'virgilio', 'manufacturingsystems', 'hyperlinking', 'streamflow', 'microcontrollers', 'oaxaca', 'aboutthe', 'chern', 'cnh', 'hydrodeoxygenation', 'metadata', 'ucd', 'wavefunctions', 'halfspace', 'skg', 'largestand', 'andcooperation', 'ambitiousprogram', 'asthe', 'ivros', 'carayon', 'gnrh', 'toolpath', 'montclair', 'centerilya', 'photonics', 'sande', 'jolla', 'petalibrary', 'cytoskeleton', 'qc', 'photogeneration', 'gossens', 'hinde', 'iam', 'managementunexpected', 'uhd', 'ipads', 'vizsec', 'cnrc', 'tflop', 'rfnest', 'fns', 'thestate', 'rutgers', 'chemxseer', 'cdp', 'publishedpapers', 'cybernet', 'comtree', 'teravoxel', 'abstractdr', 'toolsinto', 'phev', 'nstissi', 'cyberbridges', 'brc', 'projectproposal', 'butenkothis', 'slipchenko', 'meritdespite', 'conferenceidaho', 'subawardees', 'twoareas', 'ou', 'paxson', 'hostbenchmark', 'pcarp', 'markevery', 'levelso', 'emerginggeneration', 'cybercommunity', 'undergraduateand', 'biggs', 'eduation', 'scid', 'invovled', 'fbcc', 'bgp', 'rarelyintegrated', 'icts', 'papadopoulos', 'ctc', 'ishigh', 'nsidc', 'ntp', 'clsmce', 'bangalore', 'sjrwmd', 'incookeville', 'biofuels', 'dna', 'sinclair', 'morphodynamic', 'baum', 'plm', 'basiclinear', 'rwc', 'rths', 'underinvestment', 'basecamp', 'polyanilines', 'telerobotics', 'vmm', 'occp', 'pubmed', 'pda', 'tmc', 'niatec', 'ucsn', 'morehouse', 'ofcomputations', 'webserver', 'args', 'powerpc', 'dvd', 'cihub', 'microservice', 'metcalfe', 'multisided', 'cylab', 'permis', 'hydroshare', 'regressograms', 'cbl', 'currentimpediments', 'neuroplasticity', 'vanbriesenthe', 'representa', 'pmemd', 'oleracea', 'ftp', 'mechatronic', 'hangzhou', 'wais', 'freenet', 'cyberinfratstructure', 'ku', 'matpower', 'dcp', 'atp', 'swrc', 'andanalysis', 'futuregrid', 'cyberinfrastructureabstractpi', 'demonstratedthrough', 'complexsoftware', 'rcfl', 'npn', 'ferpa', 'venuefor', 'nanocolloid', 'institut', 'mvnos', 'eie', 'für', 'bia', 'inb', 'roadmap', 'multiresolution', 'potosino', 'sophya', 'financialconstraints', 'namespaces', 'fairfax', 'throughseemingly', 'mpi', 'qbase', 'accelnet', 'transformationally', 'meritnsf', 'pzt', 'superiores', 'leverageexisting', 'determinehow', 'illick', 'classp', 'psu', 'lewisville', 'barbaratitle', 'scannerandtable', 'andinteract', 'nanoindentation', 'perfomed', 'windus', 'fgit', 'bioterrorist', 'hfl', 'nanospheres', 'eia', 'misalign', 'setsep', 'gridftp', 'hersonissos', 'tcloud', 'geochronologists', 'metamodels', 'acif', 'mploy', 'systemsthis', 'toblast', 'deeppdb', 'distancealgebra', 'microtechnology', 'amnh', 'synergizing', 'hrcyber', 'srtm', 'ipf', 'sna', 'codevelopment', 'ftir', 'usap', 'seddb', 'groundworkfor', 'eci', 'rtas', 'ingeologic', 'icis', 'clm', 'mackerrell', 'synteny', 'paleorecords', 'gcc', 'jumpstart', 'shsa', 'ssnmr', 'perfluorocarbon', 'drillship', 'structureannotations', 'mcgillenabstract', 'yantao', 'rmu', 'offsite', 'geotagged', 'nanobelts', 'cyberattackers', 'tacred', 'bitbucket', 'messagesare', 'betranslated', 'vahdat', 'inunderwater', 'dcew', 'metabolomics', 'cyberlearners', 'hc', 'satnag', 'mobley', 'skillset', 'gpo', 'wordview', 'northampton', 'pti', 'gwp', 'hückel', 'rescuerobots', 'nonsmooth', 'crosslinked', 'cybercorp', 'sharedproperties', 'infoverse', 'trappecg', 'tippecanoe', 'fordistributed', 'xdmod', 'pbdb', 'terashake', 'sciencedmz', 'thisscalable', 'qubits', 'ncse', 'analysisthis', 'ionomichub', 'spawar', 'regentsproject', 'eggimann', 'lagcc', 'monolithicdatasets', 'opencl', 'dehaloperoxidase', 'cybercut', 'teachingmodules', 'rsj', 'forcoping', 'photosystem', 'urc', 'budburst', 'étale', 'toprevent', 'prodrugs', 'aadl', 'overfocus', 'cdc', 'maude', 'pbo', 'pif', 'amlight', 'rtds', 'geosystem', 'imls', 'quarknet', 'rbp', 'dqr', 'informatization', 'shodor', 'wirelessphysical', 'autodrive', 'dpatterson', 'uga', 'superhard', 'idp', 'nanocrystals', 'cooney', 'sdk', 'hackweeks', 'kavak', 'pnetcdf', 'kevininstitution', 'usb', 'kellogg', 'essentialmiddleware', 'cybher', 'nhgis', 'canarie', 'kbo', 'grfp', 'vcl', 'amphipathic', 'csr', 'twoworkshops', 'researchthis', 'cybertechnology', 'microcantilevers', 'mediaplayer', 'ferromagnets', 'anycast', 'reengineering', 'cyberprotection', 'mysql', 'lhpost', 'deeperunderstanding', 'micromaterials', 'astroinformatics', 'choudhary', 'researchsoc', 'quantiatively', 'pseudogap', 'andperhaps', 'forstudy', 'collaborateamongst', 'ioos', 'toreveal', 'isfocused', 'byod', 'nanosphere', 'counterplanning', 'itrustgh', 'oci', 'sunapee', 'qbd', 'netcdf', 'asc', 'noc', 'crowdturfer', 'supermassive', 'ofscience', 'cyberconnectivity', 'combinatorialists', 'mathforum', 'unr', 'thefrequency', 'sdv', 'khz', 'nanoplastics', 'neurorehabilitation', 'macalester', 'nbb', 'hoodlt', 'heliospheric', 'neweducational', 'vlabs', 'ssei', 'researchinvolvement', 'icam', 'polyimides', 'schildhauer', 'openwetware', 'vestibulo', 'optiputer', 'nanoclusters', 'wadc', 'facilitiate', 'leadingmanufacturers', 'differentloading', 'hccc', 'lno', 'spms', 'bestpractices', 'usc', 'hedevelops', 'ensurethat', 'terrapop', 'ortholog', 'dataprocessing', 'cww', 'anattractive', 'scilab', 'psd', 'yonginstitution', 'boudjoukproject', 'theenvisioned', 'lhc', 'biomimetics', 'byods', 'odl', 'neesgrid', 'sustainabilityof', 'sttr', 'aremade', 'ebam', 'biosampler', 'ofarkansas', 'chipsnontechnical', 'hubbard', 'bingthis', 'heliophysics', 'snl', 'metalloproteins', 'serc', 'walther', 'ergatis', 'onmodeling', 'uiuc', 'awareexoskeleton', 'demandsthat', 'refactored', 'solubilizes', 'arizonajim', 'czo', 'sccsnet', 'ofsophisticated', 'benefitgreatly', 'togenerate', 'theatreworks', 'nanobio', 'northark', 'malonaldehyde', 'ofpolymer', 'theoperating', 'accessdata', 'randomizedalgorithms', 'furi', 'septage', 'emergingareas', 'rsa', 'sandvol', 'nikos', 'netflow', 'filesystem', 'multigrain', 'cdse', 'worldview', 'systemcomponents', 'protasiewicz', 'thetechnologies', 'savi', 'goldstandard', 'broes', 'forcomputation', 'lemmatizers', 'lammps', 'assurancepi', 'cpnis', 'levelpolicies', 'contextualizing', 'makeathons', 'ldeo', 'openacc', 'cybereducation', 'keio', 'stromgren', 'ryan', 'improvethe', 'ldav', 'microtopographic', 'smt', 'voyles', 'syvitski', 'jhu', 'acp', 'wwtp', 'ncc', 'bypromoting', 'dsm', 'abstractour', 'phenomics', 'rstudio', 'rpi', 'ceser', 'conceptualbreakthrough', 'nexis', 'nw', 'aidsor', 'ofthis', 'ewa', 'agritechnological', 'endeavorand', 'scivis', 'reionization', 'lehigh', 'sepm', 'robokind', 'bfsn', 'ofbest', 'polyaromatic', 'issueidentified', 'dvnoc', 'nanomanufacturing', 'aihec', 'gainedfrom', 'cyberplus', 'ofchronological', 'anza', 'deelmaninstitution', 'niu', 'onlineprofessional', 'andexngineering', 'morehead', 'insitution', 'mesonet', 'heterojunctions', 'soas', 'esip', 'voicethread', 'systemsscratchpad', 'flexware', 'dipsocoromorpha', 'microrna', 'taskforce', 'isconsidered', 'honeyfarm', 'organogels', 'csus', 'dns', 'normalizedby', 'systemsother', 'siparcs', 'callingprocess', 'kanren', 'pupr', 'cserd', 'workshopwe', 'bgccrf', 'cybercommons', 'andperformance', 'integratingcomputation', 'mcmaster', 'oems', 'providetravel', 'kataphatic', 'mdcs', 'buffalotitle', 'irri', 'ofinvestments', 'inclue', 'chemometric', 'semicore', 'resultsof', 'buildingthis', 'dtns', 'darmstadt', 'socialnetworks', 'ghz', 'microaggressions', 'afloatin', 'dtr', 'tecnológico', 'ltri', 'designpractices', 'ihawke', 'emg', 'uah', 'webid', 'stevens', 'qi', 'incentivize', 'analysiscurrently', 'mmos', 'nvidia', 'contextualized', 'gmmi', 'danville', 'praxair', 'nebdih', 'formacrosystem', 'microfluidic', 'investmentsin', 'evl', 'wheelerinstitution', 'zetabytes', 'williamsburg', 'metagenomics', 'aeds', 'nanosensors', 'kaust', 'gaaas', 'interoperating', 'gmu', 'kunal', 'chemoelectromechanical', 'traveldelay', 'dataone', 'thebroader', 'urm', 'yearsfollowing', 'nanodisks', 'norwalk', 'sbe', 'testsuits', 'exchangingevidence', 'developingmethods', 'kpen', 'dataacquisition', 'phylogenomic', 'microservices', 'nanomedicine', 'nacubo', 'tcp', 'jozsef', 'au', 'sgrs', 'eigenanalysis', 'throughspecialization', 'nz', 'flickr', 'cdl', 'nctm', 'dicas', 'cryptosystems', 'borr', 'probeware', 'pn', 'informationally', 'advancedgraduate', 'ccecc', 'irt', 'nze', 'bic', 'eot', 'arnaud', 'greenlight', 'randra', 'cmmi', 'vccs', 'benefitpeople', 'ofposition', 'ciip', 'nyit', 'amaral', 'gcb', 'designthis', 'huynh', 'infrastructureaccording', 'cpltl', 'westnet', 'technologythe', 'dongle', 'hardwarefoundations', 'socioecosystems', 'fuland', 'fddp', 'mrefc', 'rnns', 'internationalproposal', 'successfuldevelopment', 'disun', 'sysml', 'deltocephalinae', 'pem', 'extractingstructured', 'biodefensepi', 'upconversion', 'polumers', 'paleopedologists', 'innovativefunctionalities', 'nanotheranostics', 'networksthis', 'synchronizability', 'rans', 'lta', 'expectedvalues', 'scsu', 'ramireztitle', 'cyberscholars', 'nerr', 'narayanan', 'brainprints', 'dapcep', 'pauluniversity', 'bewoven', 'biomonitoring', 'wban', 'toexhibit', 'cotaught', 'depackage', 'smartnic', 'videogame', 'transactive', 'braununiversity', 'geomapapp', 'teleobservation', 'resourcessecurity', 'robotically', 'universitytitle', 'zhijun', 'hevs', 'programoffice', 'viromics', 'acq', 'nanocapsules', 'smarrt', 'thatsupports', 'themeffectively', 'wikiwatershedtm', 'cjq', 'throughentertainment', 'microworlds', 'healthgis', 'dreamworks', 'conwarenet', 'downscaling', 'crimeinvestigations', 'peci', 'laituri', 'jgray', 'terapixel', 'vrac', 'knowledgethat', 'geoengineering', 'hrdem', 'physiometric', 'ofcyberinfrastructure', 'mahoning', 'winsar', 'gigapan', 'soecs', 'ucla', 'understandingfundamental', 'sharedfactors', 'orjeda', 'ctsnet', 'zaslavsky', 'biopharma', 'multisensor', 'reichman', 'theirpossibilities', 'datacenters', 'sciencepi', 'southcentral', 'learnscognitive', 'myspacetm', 'andapplications', 'interpolants', 'andprovides', 'wvu', 'providemore', 'andeducation', 'micromechanical', 'recommendationproposal', 'iip', 'sdci', 'qca', 'paleogeoscientists', 'vsb', 'smarr', 'shellos', 'semimetals', 'generativity', 'aposterpeer', 'moura', 'huntsville', 'leinen', 'bioinorganic', 'bycombining', 'bsd', 'hyst', 'fyfe', 'addressthese', 'spatiallyarranged', 'utct', 'publicaccess', 'juinstitution', 'infographic', 'skiplist', 'architected', 'cybershake', 'drm', 'itsb', 'wurman', 'aps', 'screenshots', 'beo', 'usr', 'mixmap', 'ualbany', 'inferencequeries', 'prostem', 'andindustry', 'andresearch', 'oflinear', 'sunnyvale', 'primarymechanism', 'icloud', 'http', 'nowcasting', 'ecd', 'uteachengineering', 'nanowire', 'nysci', 'gleska', 'sautet', 'severalhundreds', 'forprobabilistic', 'kipling', 'ueckertinstitution', 'toefficiently', 'dareize', 'integratededucational', 'rbnb', 'communicationsolutions', 'myanmar', 'coallition', 'interactomes', 'sensorcan', 'severini', 'smartutors', 'pdx', 'kyiv', 'bc', 'imagesequences', 'electricityneeds', 'blackhatworld', 'icecube', 'lilypad', 'ssh', 'kddi', 'ivision', 'exafs', 'cnn', 'integrationsolutions', 'wiil', 'theexpress', 'mahmood', 'zpss', 'microsoft', 'iurtp', 'lyudmila', 'lqcd', 'pittsburg', 'nanoelectromechanical', 'hz', 'insar', 'acrosspolymer', 'lto', 'sonora', 'ipsec', 'epiccs', 'atkins', 'boulderproposal', 'ofpackets', 'dwdm', 'andincrease', 'cbn', 'mobihoc', 'kinects', 'epcc', 'phenomenasuch', 'computists', 'efce', 'dpsir', 'dynashake', 'oversharing', 'suri', 'arrythmias', 'vanderbilt', 'multiterminal', 'streamwise', 'soec', 'cybersees', 'dlt', 'hscc', 'mtt', 'astandardized', 'dift', 'educaton', 'collegesthis', 'astheir', 'icac', 'queretaro', 'thecore', 'curca', 'hdfs', 'superelectrophiles', 'nanolayered', 'efec', 'bullyblocker', 'ev', 'ke', 'explora', 'hestenes', 'tosociety', 'perfsonar', 'transcriptomic', 'canuse', 'betweenstudent', 'eyetracking', 'paleoclimate', 'urvey', 'reinjection', 'eisseminate', 'speleothems', 'epstein', 'gdcsim', 'reputational', 'nanodevice', 'theinfrastructure', 'tcus', 'northridge', 'fdt', 'rl', 'cannotleverage', 'envisionedby', 'optoelectric', 'znmgo', 'existingcognitive', 'lczo', 'cgsc', 'efand', 'naregi', 'bienville', 'shiu', 'kesselman', 'sra', 'educausegoals', 'westmont', 'wienhausen', 'diegotitle', 'benchscale', 'ircs', 'modelingthe', 'generalizability', 'brantley', 'aflowlib', 'premontane', 'microcredentialing', 'msia', 'customizability', 'pdcs', 'impactskentucky', 'isutility', 'cavs', 'ioto', 'naspi', 'mooc', 'stackperformance', 'developped', 'markowitz', 'agroecology', 'ibp', 'bookmarking', 'massoud', 'kearns', 'petascale', 'thier', 'xromm', 'validationexperiments', 'rmd', 'comptia', 'cicomponents', 'imece', 'nrdc', 'naphthalocyanines', 'echolocating', 'fingerwearable', 'whichthat', 'rda', 'microcavity', 'meritcontributions', 'terrones', 'scholarpedia', 'broadwell', 'autonoma', 'nceasbruce', 'quadrotors', 'oise', 'sescs', 'streetview', 'kostas', 'ofsentence', 'swinburne', 'malone', 'onusers', 'simultaneoussources', 'polcyb', 'highthroughput', 'icoe', 'junwei', 'nnin', 'dietrich', 'westin', 'syndem', 'palo', 'adhoc', 'ofqualitative', 'bloomfield', 'mgfs', 'handheld', 'timestamped', 'vdt', 'ims', 'llela', 'thatparallel', 'pharmacometric', 'fudan', 'siloes', 'dickinson', 'fasttrack', 'interprocedural', 'galapagos', 'amdn', 'fcc', 'waikoloa', 'oregonproposal', 'cocneptual', 'hamers', 'macroinvertebrates', 'whitepaper', 'laplacians', 'andquantum', 'pitac', 'mexicoidaho', 'losetheir', 'intowildfire', 'peerings', 'communicatein', 'dirichlet', 'ofengineering', 'prokaryotic', 'paulo', 'kruger', 'paleoseismic', 'nanostructures', 'anonymizing', 'astroturfing', 'scalability', 'equivariant', 'vpsn', 'josephvarilly', 'rinard', 'nucia', 'legon', 'refactoring', 'fte', 'berman', 'dmps', 'metacognition', 'esno', 'intercomparisons', 'cyberwatch', 'civilinfrastructure', 'mrmr', 'magnetotactic', 'wse', 'rico', 'nvms', 'cctfs', 'datastorm', 'aplu', 'gws', 'stanboston', 'iea', 'nanoconstructs', 'counterpartners', 'conklin', 'bbcp', 'bedeveloped', 'technoscience', 'openpbs', 'beinvestigated', 'designthe', 'doj', 'unh', 'brownsville', 'frameworklaid', 'mdrb', 'bbmi', 'earthcomm', 'akes', 'pierceinstitution', 'hcd', 'goodwinproposal', 'pwd', 'raleigh', 'evm', 'lvads', 'wpi', 'waterville', 'adaboost', 'cydberinfrastructure', 'pradesh', 'ibarra', 'theconsumer', 'cysep', 'astroparticle', 'openmi', 'ayman', 'isee', 'klingensteininstitution', 'unavco', 'smithinstitution', 'wojciech', 'lamnids', 'phevs', 'ecsel', 'sheeets', 'mosdef', 'ina', 'ofdomestic', 'csandi', 'bayintroduction', 'physicaldevices', 'cfa', 'leuven', 'sacnas', 'manuone', 'icpss', 'casesproject', 'tesse', 'pichot', 'mbdh', 'masaryk', 'reproducability', 'enstinet', 'smolin', 'perovskites', 'ncat', 'nanohertz', 'nands', 'tayfun', 'interative', 'saml', 'mkg', 'dmproadmap', 'helics', 'plantgdbinstitution', 'transformatively', 'searchablearchives', 'aswe', 'cryptosystem', 'effectivesensor', 'multibiometric', 'uchicago', 'hdf', 'rappture', 'neurosciencein', 'cpsisa', 'nebraskalinked', 'benchmarkformulas', 'gna', 'interconnectivity', 'flr', 'kubernetes', 'opengl', 'biocollections', 'api', 'thesedatasets', 'hpe', 'presentedby', 'spbid', 'socioculturism', 'venkatesh', 'abstractwith', 'bioinformatics', 'bigelow', 'claytronics', 'areconsidered', 'sahra', 'heterogenity', 'porphyrinoid', 'sintentions', 'iru', 'cau', 'hariri', 'smartrouting', 'usma', 'adt', 'vehical', 'cpr', 'cyberinfrastucture', 'ccti', 'fluxbuster', 'extual', 'biomarkers', 'hsis', 'atrope', 'beloit', 'hres', 'ofthose', 'mri', 'mclennan', 'diaminocarbene', 'ali', 'doma', 'polyhomologation', 'hbcus', 'nuis', 'cici', 'foroperation', 'allowteachers', 'kemper', 'morgridge', 'nanogrids', 'prioritizes', 'pv', 'bioenergy', 'mustachieve', 'barnettthe', 'polarbear', 'frenklach', 'deploymenttechniques', 'dnns', 'dominguez', 'kluwer', 'ccc', 'neesr', 'theselive', 'afit', 'filesender', 'nanometric', 'infrastructuretitle', 'stl', 'newframework', 'ilja', 'hybriddynamical', 'cyberinfrastrcture', 'enculturationimua', 'csis', 'gigapop', 'haskell', 'dmfbs', 'oregonstate', 'scisip', 'nematics', 'htc', 'aspectsthe', 'cbts', 'fatiguetechnical', 'omnipop', 'hemt', 'plenaries', 'pitstructures', 'terraformer', 'partcipants', 'zapdos', 'arraysthis', 'thegulf', 'monoidal', 'physicalsystems', 'malvertising', 'andestimation', 'awerbuch', 'cset', 'microblog', 'redescriptions', 'globalnoc', 'frontlines', 'wfs', 'toparticipate', 'occ', 'workshopwill', 'wifi', 'geomaterials', 'anyons', 'behosted', 'cyberambassadors', 'reserch', 'microsystem', 'cnc', 'kendall', 'opensees', 'enablingfoundation', 'petashake', 'homophily', 'studiesmodern', 'topographyand', 'acg', 'wcag', 'karney', 'correlators', 'gridshib', 'graphtheoretic', 'mainstreamed', 'ska', 'alamogordo', 'descriptionthe', 'openmm', 'injectionattacks', 'idahotitle', 'potsdam', 'usrp', 'proteomicsscope', 'wildeinstitution', 'largecyberinfrastructure', 'efficientand', 'smartwatches', 'thrivability', 'ugolini', 'reston', 'jhuisi', 'dametitle', 'geospatially', 'roundtrip', 'midcareer', 'knl', 'sandc', 'ilight', 'phylogenetics', 'afsand', 'pnictogens', 'tointegrate', 'siepmann', 'edurange', 'cyberplasm', 'ucsc', 'pak', 'integrationinto', 'mlti', 'upr', 'mic', 'steganographic', 'kleppel', 'cryocell', 'mwm', 'optomechanical', 'radicl', 'microresonator', 'lbnl', 'microcantilever', 'nitrogenase', 'thatcan', 'smartwatch', 'robobooks', 'crowdsourcing', 'csems', 'amanner', 'ciaas', 'fmri', 'ceems', 'kofke', 'toc', 'ctds', 'mssi', 'requiredto', 'uaa', 'beingused', 'polypseudorotaxanes', 'fnirs', 'investigatehow', 'piv', 'tessa', 'policyaction', 'abstractproposal', 'urop', 'goalis', 'telepresence', 'internationalworkshop', 'workhop', 'microretarder', 'abstractct', 'bahrain', 'timeframe', 'synergisticwith', 'mirnas', 'subprojects', 'siem', 'epe', 'nanodevices', 'ociafe', 'fieldsfor', 'multiscale', 'nscl', 'nict', 'mustbe', 'madhavanre', 'ofpolar', 'theprocessing', 'geolink', 'metagenomic', 'biochip', 'vissec', 'piabdeldjelil', 'noubir', 'nanomine', 'mpinterfaces', 'cyberbalkanization', 'cwdd', 'californiaproposal', 'thedesired', 'massivesimulations', 'tmands', 'paterson', 'configurability', 'ilmenau', 'qot', 'sedimentologists', 'renambot', 'tulane', 'psc', 'ofunderrepresented', 'universitysenior', 'environmentaldigital', 'lcbs', 'subfacilities', 'fsu', 'ciac', 'bouldermainstreaming', 'keckcaves', 'datalogger', 'frontera', 'itsimplementation', 'otherwiseappear', 'mbl', 'imo', 'connecticuttitle', 'osf', 'overnights', 'cientificas', 'prototypability', 'timescape', 'newinvaders', 'wudapt', 'cansignificantly', 'neu', 'programabstractproposal', 'caregiver', 'uas', 'ruralshores', 'metatranscriptomics', 'alsothrough', 'hillprincipal', 'itr', 'cozzens', 'teleoperated', 'coadding', 'halloun', 'isso', 'enantioselective', 'eol', 'microparticles', 'crowdsource', 'lensing', 'hpn', 'fft', 'thereceiving', 'biokinetic', 'amsti', 'heterogeneousinformation', 'jeyanandh', 'magdi', 'trustassumptions', 'meyerhoff', 'provideresearchers', 'leandro', 'iathe', 'hydrologicinformation', 'geostructural', 'enkf', 'investigatoraddresses', 'experimentsproject', 'cloudtech', 'localevent', 'hinxton', 'rmg', 'idlow', 'curenet', 'microvascular', 'sdsmandt', 'crt', 'metasynthesis', 'darknet', 'nstissc', 'instrumentor', 'teleconferencing', 'willlearn', 'hokkaido', 'rcn', 'andaccurate', 'multiscaledecompositions', 'toharness', 'retrofittable', 'pcdp', 'torun', 'accuratelypredict', 'workshopinstitution', 'inacademia', 'atthe', 'cyberhub', 'creu', 'defensesstefan', 'acsle', 'ooi', 'inspiral', 'washingon', 'auc', 'tseen', 'domainsis', 'webassign', 'cisl', 'biosignals', 'ribotypes', 'severalmajor', 'teleoperation', 'grothe', 'scc', 'thuwal', 'meghdoot', 'itech', 'subnanometer', 'misconfigurations', 'bellesalle', 'petaflop', 'sciwinet', 'tuto', 'wilmington', 'nysernet', 'bilayers', 'engineeringresources', 'vnel', 'concolic', 'sunquist', 'cccs', 'mmurfs', 'abenaki', 'labrae', 'summatively', 'lfi', 'cernet', 'sclaroff', 'erc', 'csds', 'hsr', 'kingsville', 'llc', 'bigbelly', 'ofdetected', 'strouhal', 'raouniversity', 'nesta', 'universityaward', 'userbase', 'multidiscplinary', 'requirementsfrom', 'dac', 'podcasts', 'sandp', 'bioimpedance', 'minsker', 'researchrelated', 'xtalopt', 'museumgoers', 'vasp', 'producelarge', 'ascb', 'witheach', 'grainsize', 'nesco', 'hpem', 'csia', 'deployers', 'ercs', 'recieved', 'builda', 'efd', 'bigsec', 'skillsets', 'advancesin', 'ncpss', 'kroghobjective', 'gtm', 'cyberidentity', 'forrest', 'cadnano', 'pithouse', 'utmb', 'biofilms', 'hpcf', 'cyberattacked', 'uekae', 'monterrey', 'enzo', 'micropillars', 'scigap', 'thermochronology', 'vaulable', 'funcx', 'redshifted', 'theedo', 'universityof', 'subacuatica', 'thisresearch', 'idigbio', 'gso', 'daytona', 'ecodynamics', 'sandt', 'betke', 'uark', 'xsight', 'savio', 'lcst', 'biocomplex', 'groundbreaking', 'metamaterials', 'theefficient', 'cyberenvironmentsabstractthis', 'brigham', 'wikipedia', 'cusum', 'lipidthis', 'mghpcc', 'cyberinfrastructurebroader', 'sigcse', 'forencryption', 'andalgorithmic', 'nanophased', 'biocps', 'mindiola', 'programsintellectual', 'whatcom', 'pgas', 'auvs', 'universityshuckersclarkson', 'gw', 'nordunet', 'wilberforce', 'rrt', 'togethersuch', 'impactsthe', 'athitsos', 'tgen', 'teleoperator', 'vandecastle', 'phenylenes', 'uhv', 'allegra', 'speciand', 'iasp', 'ece', 'scientificbreakthroughs', 'rollins', 'arra', 'dse', 'los', 'systemsthat', 'westborough', 'retroactions', 'istec', 'cphs', 'studentexchange', 'domainsranging', 'msp', 'facebooktm', 'alcatel', 'polymerizable', 'bbsi', 'abstracta', 'xsede', 'linux', 'assessmentof', 'improvedservices', 'nanostar', 'isnarld', 'lanl', 'softwareengineers', 'eastcoast', 'sesar', 'neurocomputing', 'thismethodology', 'photoresistors', 'whyville', 'kba', 'hpfrcc', 'factintricately', 'geogebra', 'multibiometrics', 'mitigationzhuoqing', 'forenvironmental', 'geospataial', 'dmp', 'realtime', 'geodynamo', 'asassistants', 'napoli', 'ricoproposal', 'imcp', 'speculativeexecution', 'ricn', 'aprivate', 'uic', 'lmes', 'nceas', 'pararescuer', 'collabathons', 'humain', 'hx', 'xiaoge', 'admm', 'sadow', 'thesubsequent', 'geoprocessing', 'chrec', 'iac', 'securityproposal', 'herps', 'eeg', 'submodels', 'javascript', 'performanceand', 'sdscdavid', 'deephot', 'memristor', 'peatlands', 'atvarious', 'ksu', 'halim', 'proviz', 'alvarez', 'thermoml', 'sgx', 'cybersw', 'qol', 'immunet', 'kamchatka', 'geocyberinfrastructure', 'valueadding', 'pvamu', 'petra', 'qspr', 'geovision', 'iplant', 'orthologous', 'dbr', 'algebraictechniques', 'rssm', 'sharedcomputing', 'kleininstitution', 'researchthe', 'honeynet', 'rpid', 'bioinspired', 'foundationdirectorate', 'diegovern', 'semistochastic', 'qcn', 'kkt', 'commissionthe', 'andapproximates', 'egfi', 'myproxy', 'photocatalysts', 'indirectcontributions', 'proteìgeì', 'njits', 'dnps', 'jetscape', 'tadeusz', 'higgins', 'crassa', 'communicationrobust', 'cyberinfrastructureoriented', 'biomimetic', 'overfitting', 'ouachita', 'prodow', 'acci', 'hiearchical', 'interoperation', 'glucometer', 'complexenvironments', 'andfile', 'lightbulb', 'yakama', 'interdisciplinarytraining', 'whichhave', 'lehman', 'nrc', 'qcd', 'ofproviding', 'rtems', 'esper', 'dcl', 'anexciting', 'ncra', 'multidisicplinary', 'singaren', 'ieda', 'sfi', 'nlr', 'wwtps', 'informatic', 'abstractvoting', 'atspatial', 'toengage', 'ccg', 'shuttleworth', 'minutelectures', 'ceas', 'sgc', 'hisp', 'prioritization', 'involvingvariable', 'mastml', 'stissue', 'ulrich', 'dmr', 'investigatorextends', 'reimagined', 'bionet', 'voorhis', 'intelesense', 'qsar', 'cz', 'feedforward', 'isps', 'ubiquitination', 'thepotential', 'cbc', 'gmod', 'sonographic', 'vsbs', 'gopal', 'mcr', 'nanofibers', 'cicnet', 'ncsaoci', 'paraterized', 'robustifying', 'cber', 'interoperate', 'nsu', 'systemstechnologies', 'malden', 'thedissemination', 'ofinnovation', 'solidtheoretical', 'nsp', 'krueger', 'rockford', 'learningtheory', 'stochasticity', 'infographics', 'mvno', 'hpdmnet', 'vhub', 'broadacademic', 'aredr', 'gibabits', 'scienceand', 'gpu', 'contstruction', 'accuracyfind', 'peroxidasesand', 'yves', 'ahern', 'vidia', 'vatech', 'paramountimportance', 'kyndi', 'larsen', 'pmr', 'cpc', 'redstone', 'hostos', 'ccsia', 'paci', 'esri', 'sse', 'depauw', 'groupscope', 'emcc', 'durcik', 'nefi', 'margrit', 'hypervisor', 'arboraward', 'ctu', 'existingcyberinfrastructure', 'courseware', 'programproposal', 'cyberenvironment', 'smc', 'gatherinformation', 'theirenvironment', 'muste', 'andhence', 'ultralong', 'transfection', 'creativecommons', 'misperceptions', 'nanocomposite', 'hcc', 'longbeen', 'carfs', 'nics', 'itensor', 'byu', 'scis', 'efficientauthoring', 'ccaas', 'iridocytes', 'qft', 'cmcs', 'csdf', 'thatadaptive', 'iccdi', 'celina', 'isandt', 'exemple', 'firewalled', 'antichat', 'sagehen', 'sciserver', 'mcis', 'hirschi', 'epo', 'icsi', 'katg', 'cyberinfrastruture', 'cda', 'unitedstates', 'icert', 'debonding', 'abstractenergy', 'cca', 'aresult', 'esso', 'abstractin', 'knoxvillepi', 'cigs', 'gridabstract', 'futher', 'digitalgovernment', 'macarthur', 'hmsc', 'failureinformation', 'ensight', 'osh', 'daviscache', 'nanochemistry', 'frischknecht', 'iiot', 'dpa', 'woronowicz', 'tetraalkylammonium', 'ipython', 'anddictionary', 'medicalsystems', 'biomimicry', 'oai', 'yearthe', 'biotec', 'dispatchable', 'rcew', 'nrao', 'iseage', 'phytoalexins', 'neuromorphic', 'researchlabs', 'sosp', 'ccssm', 'icds', 'gabc', 'tl', 'heliopyhsicists', 'rasha', 'anddevelopers', 'slc', 'texting', 'pdes', 'inmany', 'sdvs', 'nextbio', 'davinci', 'utk', 'biotransport', 'dirac', 'ncdm', 'refreshable', 'chicagoproposal', 'scidac', 'cea', 'efri', 'andcharacterization', 'initiativeinstitution', 'octrees', 'waveguiding', 'undergradute', 'nanostructure', 'ntsb', 'forten', 'superharmonic', 'eac', 'cmc', 'nsa', 'glycopeptides', 'tetherless', 'sdr', 'unf', 'uwt', 'edee', 'educationthis', 'decontaminants', 'autonomousreasoning', 'inspirethis', 'ilhame', 'supraoperons', 'maxion', 'odf', 'mclennaninstitution', 'neurostimulators', 'telesurgery', 'bluerovs', 'grumman', 'cswr', 'sdi', 'myspace', 'multiphysics', 'todesign', 'cyberdata', 'chulalongkorn', 'genotyping', 'observatoryintellectual', 'netsblox', 'reasoningrepresentation', 'creativeit', 'workshopsusan', 'smartgrid', 'etl', 'datalog', 'bioprospecting', 'dillard', 'rafail', 'codebase', 'csf', 'nanocolloidal', 'chatbot', 'siegel', 'nvlink', 'logothetis', 'supportsexact', 'hopf', 'microalgae', 'ets', 'dvfs', 'accesscomputing', 'helga', 'vfts', 'cansec', 'lce', 'iu', 'andpractitioners', 'madisonthe', 'ccny', 'manville', 'lyft', 'logicalformulas', 'takesadvantage', 'ecosystemthis', 'uofsc', 'choi', 'andidentification', 'distributionally', 'technologyleadworkshop', 'webpage', 'calhoun', 'ipsn', 'tracs', 'gridcii', 'langston', 'softwareis', 'nrsns', 'andminorities', 'concludingsummit', 'tmdca', 'simplestpossible', 'dibbs', 'workgroup', 'printf', 'bioinformaticists', 'dsos', 'cvclab', 'cio', 'anns', 'dsfp', 'backstory', 'reelfx', 'scps', 'cyberscientists', 'ucst', 'abdullah', 'acm', 'takea', 'incyberengineering', 'blogger', 'cyberagenda', 'pittsburgh', 'nonribosomal', 'atnf', 'everyyear', 'ofefficient', 'schwab', 'hil', 'infovis', 'instituteaward', 'lmr', 'gctc', 'artificialintelligence', 'basiso', 'keyloggers', 'marius', 'mashup', 'ebi', 'wno', 'shimojo', 'laboratoryand', 'cctools', 'tw', 'assumptionthat', 'intermodal', 'hubbs', 'ciws', 'minimizingcost', 'pople', 'cpp', 'pertti', 'pft', 'freedm', 'magnetosome', 'mackay', 'susy', 'leesville', 'designingparts', 'georg', 'homophilious', 'superdarn', 'danse', 'wewill', 'mdr', 'wmss', 'iit', 'npo', 'subspacepursuit', 'cacs', 'andcurrent', 'kyron', 'ceo', 'oln', 'canlead', 'thisstudy', 'wai', 'bayes', 'sccoos', 'nsta', 'extensivelyuse', 'proteasomal', 'nanomaterials', 'cyberlogic', 'nanoresonator', 'shahn', 'quantifable', 'preconditioners', 'macroinvertebrate', 'earthlife', 'nanoenergetic', 'cctf', 'ccser', 'ecommerce', 'wpan', 'theability', 'gleon', 'toolsets', 'qbox', 'antiaromatic', 'stackv', 'darpa', 'andf', 'tomake', 'austinproposal', 'wsu', 'flowmodels', 'sbir', 'biodiversity', 'differentelements', 'cdzno', 'opensha', 'damm', 'misconfigured', 'mccarran', 'questek', 'gridchem', 'ucr', 'wssi', 'macroecology', 'konter', 'strategicapproach', 'vmware', 'dso', 'capturepi', 'newman', 'cysp', 'biologica', 'thespatial', 'gfg', 'preventmalware', 'dirse', 'ppcf', 'systemso', 'mundy', 'suv', 'avl', 'anintroductory', 'ardt', 'lsdi', 'irehab', 'mesoscopic', 'californaia', 'aikman', 'cyberfacility', 'amrc', 'cyberspace', 'reserachers', 'riseenag', 'ecotourism', 'organotransition', 'csail', 'faangmine', 'ftw', 'estimatorsof', 'wallingford', 'lifetm', 'netsolve', 'theweb', 'mathematicallysound', 'fibermatrix', 'withoutdemonstrating', 'qanda', 'circulatingwater', 'csci', 'wikitheoria', 'abwg', 'klagholz', 'areimproving', 'susanaffiliation', 'fmmi', 'trec', 'dnn', 'freebase', 'modelingand', 'tigersphere', 'ccsnh', 'nems', 'goldenberg', 'vvuq', 'snp', 'cvip', 'ethereum', 'bloomington', 'caes', 'toreconstruct', 'nexys', 'middleboxes', 'cybertower', 'abstractprogram', 'edse', 'meritclimate', 'khidir', 'thetechnical', 'rasterable', 'ysu', 'prepar', 'indie', 'ivdgl', 'lbnf', 'smreu', 'statisticalmodeling', 'chassi', 'sheninstitution', 'georgetown', 'sciencedate', 'uci', 'fom', 'tominstitution', 'alreadyproceeding', 'ibrahim', 'metaproteomics', 'rhoads', 'ostrovsky', 'microcal', 'cdi', 'middlebox', 'phosphorene', 'credentialing', 'kidgab', 'modis', 'ctsp', 'bioprocess', 'magnetoencephalography', 'caltech', 'nanotechnological', 'cri', 'ecst', 'mellanox', 'ccd', 'captioners', 'tamarackmedia', 'dmc', 'sttram', 'coursescreated', 'hmms', 'myristoylation', 'pel', 'meritthere', 'mundo', 'biradical', 'andindustrial', 'ofwater', 'dfg', 'jsde', 'annonymization', 'conenctomes', 'ntn', 'bpu', 'cti', 'threeoverarching', 'claflin', 'collaborationthis', 'lowcountry', 'neesinc', 'cyberinfractures', 'biomembranes', 'twistors', 'foodborne', 'uconn', 'pltl', 'vsphere', 'stc', 'usenix', 'ofplatforms', 'chvs', 'portablemodeling', 'systematictransformation', 'ntersection', 'meritcoping', 'activitiesinclude', 'thz', 'igsn', 'metalloprotiens', 'multinet', 'steganalysis', 'cybermists', 'byhardware', 'saas', 'bmet', 'nwrc', 'cwru', 'qolt', 'microarrays', 'puttinghundreds', 'codonics', 'nees', 'cyberinfrstructure', 'nrsc', 'collaboratorium', 'audioconferencing', 'ownresearch', 'mostimportant', 'holbrook', 'sewhip', 'qedc', 'increasedby', 'cybervictmization', 'pserc', 'glantz', 'gtisc', 'opentopography', 'lounesto', 'enso', 'huseyin', 'tegroup', 'icasa', 'diand', 'numericalsimulation', 'metallopeptides', 'sciencekit', 'qian', 'geosoft', 'engineeringliterature', 'forusers', 'mindset', 'ccis', 'shapeshifting', 'mec', 'arthurrpi', 'teradata', 'jurgen', 'nvd', 'delegatable', 'andprecision', 'itest', 'mitc', 'cse', 'lwf', 'beyondphase', 'wanet', 'throughsharing', 'amadeu', 'irb', 'seo', 'rtg', 'scientometrics', 'supportscientists', 'paleo', 'cabrillo', 'microdata', 'nirav', 'keitit', 'prooflets', 'digitalsts', 'collider', 'oligonucleotides', 'google', 'instructables', 'webinar', 'netlogo', 'rsfs', 'becomeincreasingly', 'potentiostat', 'bernoulli', 'ciw', 'buildingcognitive', 'uslhcnet', 'greatdiversity', 'naviator', 'statisticalmodels', 'dbscan', 'evenutally', 'industiral', 'sdrs', 'affordably', 'erickson', 'nvps', 'cancun', 'metasploit', 'whoi', 'chipsets', 'egs', 'laterincludes', 'paleoenvironmental', 'performancenetworking', 'copd', 'telematics', 'texsaw', 'minyard', 'ucsb', 'rovs', 'heterojunction', 'biclustering', 'themachine', 'rensselaer', 'corbato', 'fruitsly', 'asl', 'upfront', 'raytheon', 'joides', 'lmi', 'interpretating', 'willparticipate', 'includingthe', 'bcs', 'sgcs', 'terabit', 'siqib', 'mda', 'denverpi', 'netcrystals', 'cybersinfrastructure', 'tomanek', 'icepack', 'eic', 'thetransformative', 'pomdps', 'epscor', 'stillassuring', 'epl', 'wgt', 'andersoninstitution', 'urlhttp', 'thisundertaking', 'promoteglobal', 'inaccessable', 'tocharacterize', 'microtechnologies', 'uaf', 'contactresearch', 'backends', 'molssi', 'ner', 'fiss', 'epr', 'conduitsthrough', 'bmep', 'diegosdci', 'mckeesport', 'silvic', 'qhub', 'mdvs', 'scihm', 'cyberconnector', 'mma', 'acommunity', 'resensys', 'spproj', 'witin', 'cosee', 'sigurjonsdottir', 'lsmce', 'wuebblesabstracthydrologic', 'phenologies', 'tephrochronology', 'andphysical', 'sustainably', 'openmp', 'gridc', 'nanosciences', 'interconnectionswith', 'ffo', 'xps', 'cybermentors', 'gdsnet', 'adsl', 'forsensor', 'colocation', 'informaticians', 'astrochemists', 'edmonds', 'applicationsduring', 'mics', 'ofappropriately', 'tandd', 'ecodb', 'theperception', 'hetnets', 'chalcogenides', 'qubit', 'ofpractitioners', 'hubzero', 'whennecessary', 'complexdynamical', 'sentrywire', 'manoa', 'agroecosystems', 'icruiser', 'campusesin', 'blockchains', 'nessie', 'transdisciplinary', 'transpac', 'intersectionality', 'matdl', 'allelopathic', 'gb', 'multiproduct', 'dataverse', 'trialed', 'latina', 'heterogeneousand', 'internationalcollaborations', 'kimon', 'maidment', 'naturallanguage', 'nescent', 'openabm', 'toreduce', 'csudh', 'particularlychallenging', 'mlftc', 'nanoresonators', 'meme', 'miseq', 'univeristy', 'nafcs', 'camerasconnected', 'schedulingto', 'pire', 'github', 'iti', 'biostratigraphic', 'submodular', 'pcet', 'aboutcyberinfrastructure', 'monash', 'drabold', 'sensorscommonly', 'sdc', 'hrd', 'propulsors', 'pfaffians', 'cyberwar', 'oshean', 'aso', 'dlm', 'uclaproposal', 'graduatestudents', 'illinoismatt', 'biggestchallenge', 'subward', 'pisale', 'ccmc', 'newopportunities', 'quinn', 'overprovisioned', 'itsexpertise', 'collabrx', 'neuropeptide', 'opencloud', 'joneslinked', 'netstat', 'msw', 'nnmc', 'identifyrelationships', 'differentdimensions', 'multiplecyberinfrastructure', 'csu', 'earthcube', 'monodisperse', 'abstractcompressible', 'paraview', 'triplines', 'effat', 'jst', 'thenumber', 'smallerthan', 'shivakant', 'aciss', 'mumbai', 'toenhancing', 'exploratoryresearch', 'systemconsisting', 'tribeca', 'nde', 'dlese', 'badhacke', 'discretepotential', 'hanson', 'universitytowards', 'comanipulation', 'solicitinput', 'smartfarm', 'tohoku', 'theunderground', 'moog', 'geodynamicists', 'rlwe', 'responsphere', 'beamformers', 'pev', 'warepurdue', 'akers', 'apartial', 'wrf', 'wnet', 'proteomic', 'forcomputational', 'learntomod', 'computerscience', 'czen', 'cybergis', 'cybersite', 'particpants', 'sinte', 'quarantinability', 'bootcamps', 'thioesters', 'vtech', 'deceptionpi', 'fplc', 'inthanovations', 'uml', 'vbicig', 'cryptographypi', 'kickstart', 'nanophotonics', 'pces', 'atherton', 'bloomberg', 'andscientists', 'nakhleh', 'superoptimizers', 'softsec', 'dssv', 'campusthis', 'nirps', 'datathe', 'applicationsto', 'exabyte', 'incentivized', 'digitaluniverse', 'collaborationamongst', 'takeninto', 'oxynitride', 'mren', 'interoperability', 'modeof', 'huberoregon', 'espcor', 'cyberthreat', 'aidb', 'nordlander', 'privacyadvanced', 'venkat', 'workflow', 'theempirical', 'tata', 'evenlarger', 'intelligenttutoring', 'unconferences', 'hvac', 'organizinggeosciences', 'onr', 'cmi', 'conformally', 'arizonamatt', 'blogosphere', 'ccf', 'metabonomic', 'issuesand', 'llvm', 'tac', 'contextualization', 'andthe', 'enablebioinformatics', 'cpsdyn', 'iupui', 'gallaudet', 'cassel', 'ansp', 'macrosystem', 'bicliques', 'waterhackweek', 'lsamp', 'cyberinformatics', 'osdc', 'manufacturingand', 'ecr', 'cnri', 'nmsu', 'unicast', 'testdrive', 'tocreate', 'wested', 'levitt', 'bioactive', 'isense', 'hotsos', 'cssi', 'iffs', 'humboldt', 'vmc', 'guideways', 'crikit', 'cyse', 'doi', 'wsan', 'rdc', 'implementability', 'oia', 'quadrotor', 'cccc', 'impactsthrough', 'cyberteach', 'suchchronological', 'ovp', 'summarinzing', 'toconstruct', 'mvc', 'ruidoso', 'anonymized', 'nwcet', 'glucosinolate', 'evidenceis', 'cyber', 'usrs', 'andsample', 'middlewareproject', 'mathematicalavenues', 'fmr', 'keystroking', 'problemshave', 'graxml', 'wireline', 'geostatistical', 'fenway', 'aau', 'chepreo', 'byodlib', 'tecnologicas', 'optofluidics', 'evidencein', 'cryptocurrencies', 'seaworld', 'educationabstractproposal', 'agep', 'tennesseejerry', 'researcherís', 'myosg', 'microkinetic', 'dfc', 'decepticon', 'chemoinformatics', 'kochi', 'bertinoro', 'puis', 'analyzesystem', 'throughemulations', 'iubio', 'oneor', 'noaa', 'bluetooth', 'multiproxy', 'hprcs', 'vesll', 'productdevelopment', 'makerspaces', 'forinternational', 'utica', 'geolocations', 'microsensors', 'conversim', 'usarray', 'ofcurrent', 'axelrod', 'biobotic', 'panoiu', 'occurringsystem', 'toapplications', 'wicys', 'testingthis', 'flossmole', 'computationalresearch', 'aiche', 'aos', 'particulary', 'cybermech', 'milp', 'cedd', 'macrocycles', 'haswell', 'ascs', 'gonehal', 'tsinghua', 'trng', 'whichlessons', 'cyberready', 'inp', 'hec', 'forcefields', 'cacr', 'mpsoc', 'crii', 'locomotingover', 'mesocosms', 'operationalization', 'bvi', 'steganalytic', 'pdc', 'fsfo', 'landcover', 'nancomposite', 'proactively', 'atat', 'simeng', 'spintronic', 'aluminoborosilicate', 'forcings', 'cnt', 'grigoropoulos', 'neuroinflammation', 'nanotechnology', 'ntc', 'ciwill', 'cybergrid', 'kuester', 'adaptationcapabilities', 'tgh', 'logfile', 'npgi', 'cyberam', 'ourinitial', 'cnns', 'dqs', 'oneocii', 'bastani', 'sparsifying', 'marycollaborative', 'duquesne', 'hai', 'mckee', 'tosimultaneously', 'vespignani', 'environmentabstractthis', 'scitrust', 'nwacc', 'sparql', 'bionanomaterials', 'besubmitted', 'cygames', 'alecture', 'geochronapi', 'conferencesis', 'rtpc', 'pretschner', 'idm', 'codap', 'carbenes', 'torgersen', 'aci', 'foxproject', 'cpg', 'rcsm', 'brookings', 'cscl', 'teleteaching', 'analytes', 'eigen', 'gisella', 'nsdl', 'smb', 'vectorbase', 'majorrepositories', 'theviability', 'wlcg', 'sharnnia', 'cally', 'amrex', 'mitthis', 'tachykinin', 'trouve', 'technologicalsolutions', 'masson', 'piasecki', 'kus', 'nanofluid', 'maeviz', 'datarepresentation', 'bsph', 'forensicsanalysis', 'nsg', 'optoelectronics', 'kcc', 'protiens', 'marymount', 'stuctures', 'futureautomotive', 'photobioreactor', 'largeastronomical', 'ascomycota', 'ibss', 'blazar', 'collegeproposal', 'learningapproaches', 'systemproject', 'biospheric', 'knyazev', 'thoughtstem', 'mentees', 'microcontroller', 'ncl', 'impactour', 'dicp', 'php', 'schoolaged', 'biosamples', 'evolvablecyberinfrastructure', 'nicoya', 'toplan', 'cycloalkyl', 'nonexperts', 'pago', 'linc', 'bluefield', 'technologisst', 'biodevices', 'cyberinfrasturcture', 'swe', 'kirtland', 'deliverableseach', 'seniorundergraduates', 'driverbehavior', 'holocamera', 'tumblr', 'wysinwyx', 'cron', 'cyberforensics', 'productized', 'nonorthonormal', 'laaziz', 'collaboratioin', 'openrdc', 'thenew', 'kuo', 'namical', 'hbm', 'watersmart', 'clementi', 'preuss', 'luay', 'terpenoids', 'rwa', 'ccli', 'cbeo', 'scalenumerical', 'sdsc', 'neren', 'mitie', 'hsandp', 'mocness', 'pittsmartliving', 'neumaninstitution', 'papi', 'scalabletechniques', 'resequence', 'bdsp', 'inactivators', 'developmentthis', 'alelo', 'cyberbased', 'complementthe', 'sametools', 'debuggable', 'researchseminar', 'warfighters', 'addressedinclude', 'significantrole', 'vlans', 'outcomesthis', 'decentpredictive', 'nanomos', 'noisefiltering', 'scitech', 'prosumers', 'meda', 'microcavities', 'flatowprogram', 'againstmalware', 'communicationthe', 'archaeologicalartifacts', 'lcs', 'aligo', 'foundationnsf', 'inkjet', 'biorepositories', 'cimi', 'dmf', 'etes', 'aconcept', 'retweet', 'effectiveonline', 'birck', 'cvdi', 'sonified', 'pahs', 'hci', 'hypergame', 'andarchitectures', 'géant', 'gige', 'andblast', 'uk', 'burnetttitle', 'unols', 'approachabstractintellectual', 'cae', 'dimacs', 'datacollected', 'xquery', 'khanna', 'aunifed', 'infotech', 'dtn', 'samya', 'pnictides', 'cybersecure', 'qfqi', 'gridwise', 'improvementof', 'theunderlying', 'integrityestablishment', 'andaffect', 'wnmu', 'fasterprogress', 'amo', 'biosensing', 'knowops', 'competitivity', 'executables', 'northside', 'powerdata', 'theseattacks', 'tetrapodes', 'engineeringsystems', 'oncyberinfrastructure', 'oarnet', 'lumbee', 'oled', 'greenerroutes', 'expectedto', 'interoperable', 'caricato', 'philadelphiatitle', 'schuermannmathematical', 'gamelets', 'tescase', 'veeramani', 'coursework', 'mtconnect', 'cishell', 'thatneed', 'ifnot', 'commoditization', 'descriptionnh', 'queryable', 'wherejoint', 'smartnics', 'ccgs', 'userprincipal', 'offshoring', 'verne', 'clemson', 'repeatably', 'pnwgp', 'outmigration', 'theprofessoriate', 'backend', 'freeware', 'dataway', 'challengesnot', 'ironcad', 'cyberplatform', 'hacktion', 'elastography', 'kalivas', 'gsa', 'nfv', 'ciser', 'tusi', 'twelf', 'existin', 'fermionic', 'dakotaaccurate', 'lcw', 'hioa', 'staticinformation', 'ncsm', 'teraflop', 'hypermedia', 'overallproduct', 'andreinvestment', 'demaineinstitution', 'cyanobacterial', 'timetabling', 'biocomputation', 'endosymbionts', 'bynsf', 'copiah', 'iwatch', 'ovide', 'osu', 'octech', 'sciencethe', 'underexplored', 'thresholding', 'nfc', 'andtimely', 'peptidomimetic', 'nagt', 'honeynets', 'narf', 'edu', 'lofar', 'mcit', 'superfund', 'crowdturfers', 'rumic', 'controlalgorithms', 'msi', 'cic', 'problemssuch', 'kongregate', 'infraorder', 'fromtraditional', 'ecg', 'smartgrids', 'bioreactor', 'isoc', 'aninterfaced', 'hypergraph', 'ecph', 'rna', 'morooneyinstitution', 'zonfrillo', 'nanofiber', 'bethe', 'ctsim', 'gans', 'hlt', 'hyattsville', 'geobiological', 'ri', 'researchto', 'delss', 'auniversal', 'sqmc', 'connectionbetween', 'mehl', 'assink', 'skm', 'timetree', 'superiore', 'ctos', 'systemscontamination', 'hchi', 'projectis', 'qnats', 'xsp', 'cybertechnologies', 'fromunderrepresented', 'goodwin', 'sio', 'theyneed', 'ofthe', 'toanother', 'captioner', 'tochtrop', 'ceneci', 'areviewed', 'belinked', 'networkingpi', 'bioparticles', 'imc', 'hkoep', 'metavir', 'gatorcloud', 'dbi', 'transitionstrategies', 'icalt', 'scatteringproblem', 'edm', 'tfs', 'polyer', 'intheir', 'withrelaxed', 'importantthan', 'resourcesfinding', 'realisticdesign', 'pollutionview', 'implicitand', 'generationbroader', 'eukhits', 'collaboratives', 'nci', 'wiggio', 'gec', 'sosonkina', 'atacama', 'sinnott', 'uwa', 'evid', 'mcafee', 'whowill', 'futurescientists', 'sandcc', 'ifthe', 'cyberrisk', 'environmentsthis', 'routable', 'geolocation', 'iihr', 'diazotrophs', 'ladderanes', 'geoss', 'mba', 'equilibriathe', 'tolman', 'morreale', 'knoxvilleengineering', 'esnet', 'lecompte', 'andsoftware', 'incenting', 'gpa', 'largecomputer', 'cybhor', 'gsce', 'aaaaa', 'projct', 'osdt', 'servicesabstractcyberinfrastructure', 'fastlane', 'tumer', 'shm', 'whileproviding', 'flate', 'stylometric', 'cetb', 'practicingscientists', 'geophysicsl', 'traditionallybeen', 'sfsu', 'managementwayne', 'ehealthcare', 'juarez', 'wakefield', 'ofsociety', 'huang', 'esm', 'noyce', 'staq', 'refactors', 'cyberlearning', 'minimizingthe', 'ncsu', 'cyberinfrastructures', 'nwsc', 'solidearth', 'shf', 'forfederal', 'dmft', 'ionome', 'uav', 'keychallenge', 'universitybiometric', 'diradicals', 'ihub', 'rcaat', 'vanlehn', 'eils', 'sonesta', 'newchallenge', 'eod', 'hasaccumulated', 'theseconcerns', 'multipleresolutions', 'fdm', 'soummya', 'bfoit', 'sbms', 'familywise', 'ofcritical', 'seti', 'mwn', 'ciara', 'optofluidic', 'modifed', 'dni', 'studiesunderwater', 'hrt', 'hatfield', 'ssrl', 'systemsthe', 'holyoke', 'pca', 'mullins', 'biointerfaces', 'ccent', 'ransomware', 'aamu', 'cryptoreads', 'corenlp', 'meade', 'kraus', 'thecollege', 'ophiolites', 'universtiy', 'alcorn', 'miroscope', 'irc', 'sensys', 'bellsouth', 'mmwave', 'icer', 'tomaintain', 'templating', 'microextraction', 'hartnell', 'microlensing', 'proposedapproach', 'webinars', 'minlps', 'msho', 'cimmyt', 'cybersickness', 'telecollaborations', 'plale', 'ricci', 'ndr', 'timetrees', 'tocommon', 'microblogs', 'lcrl', 'maxmin', 'hofstra', 'gamification', 'pacom', 'cybermanufacturing', 'angelos', 'sociocomputational', 'webmaster', 'rsearch', 'nacua', 'candc', 'ethnographicparticipant', 'mccall', 'wavefields', 'starexec', 'higherutilization', 'saidworkload', 'forpaleobiological', 'offn', 'biofluids', 'universitycomputer', 'pyrrolysine', 'bragg', 'templated', 'ehr', 'csusb', 'cybervisits', 'lapack', 'achievethe', 'itase', 'thenremove', 'pevs', 'properlytrack', 'lehnert', 'kmc', 'nihon', 'ualr', 'burcin', 'ica', 'hostcompetitions', 'cpsor', 'ccdc', 'testingmethods', 'saddlepoint', 'vsm', 'cyberfoundations', 'sserca', 'onknown', 'aoi', 'vehicularcyber', 'bioreactors', 'investigatorsto', 'metacognitive', 'eachdiscipline', 'arup', 'photodetectors', 'drinkingwater', 'incentivizing', 'antiferromagnets', 'virtualized', 'autosteoscopic', 'ecog', 'nwp', 'playtest', 'informationtechnologies', 'zoomable', 'devicesthat', 'cyberstem', 'simulationists', 'alohanet', 'biosignal', 'powertrain', 'yeunginstitution', 'espin', 'icssp', 'curating', 'hydrofracture', 'constitutethe', 'collectionsweb', 'seeman', 'degreeprograms', 'crowdturfing', 'cossmo', 'nceasmark', 'neumann', 'andpartnerships', 'makedon', 'pyle', 'studentcollaboration', 'khalid', 'bakac', 'competiveness', 'systemsproject', 'famu', 'iri', 'focapo', 'psa', 'voluminousdata', 'cyberlamp', 'foundationalresearch', 'aretwo', 'aerorths', 'shrublands', 'probiotic', 'mulheim', 'educause', 'multicastinformation', 'nanoscience', 'suminstitution', 'colorectal', 'globalparameters', 'computingsystem', 'ultrasensitive', 'tuscaloosatitle', 'beused', 'ofnatural', 'microcrystals', 'houtenproject', 'ipdc', 'iuse', 'evanston', 'arslan', 'disciplinaryboundaries', 'ppvs', 'terrainwith', 'cmp', 'courte', 'tflops', 'binghamton', 'fundation', 'moethods', 'specificform', 'electroactive', 'urgs', 'taxic', 'sigridur', 'bioinformatic', 'thesynthesis', 'swann', 'bnl', 'highavailability', 'xiamen', 'testbeds', 'itsinterfaces', 'anduncertain', 'policymakers', 'ecoed', 'mauna', 'indepth', 'blueroof', 'trustedcomputations', 'thebenefit', 'kinesthesiology', 'reengineer', 'jaynes', 'atol', 'submillimeter', 'pfp', 'biosystems', 'ebsd', 'swanyinstitution', 'piedras', 'upcycling', 'nanogrid', 'belarus', 'wecare', 'gencyber', 'abstractfossil', 'paramesh', 'nsm', 'smartphone', 'minidiffractometer', 'behindthe', 'microtoroidal', 'gund', 'theuniversity', 'willexperience', 'devicesthe', 'itwf', 'alsoplanned', 'experimentspi', 'bmcc', 'applicationdomain', 'eprc', 'nonconvex', 'thatinclude', 'vassilis', 'certiport', 'selig', 'managementapproaches', 'ibmwatson', 'vbi', 'egee', 'nanotec', 'postsecondary', 'geolocating', 'microparticle', 'selmer', 'porewater', 'scientizing', 'sourcecode', 'communityto', 'chiasson', 'nccu', 'granularproperties', 'anyterm', 'transitgenie', 'electroporation', 'cyberspatial', 'networkx', 'mirai', 'ucf', 'sro', 'cyberaggression', 'gdp', 'astroturf', 'rnp', 'catalys', 'silanides', 'thedepth', 'dozensof', 'iab', 'subnanoporous', 'theirintegrity', 'thequality', 'acadis', 'mexicojim', 'eldercare', 'cpess', 'yunsi', 'ivfts', 'superieure', 'xilinx', 'andand', 'rounsleyarizona', 'welchpi', 'czodata', 'abstractthis', 'cstnet', 'konnerth', 'bangor', 'oandm', 'hpdc', 'elie', 'cyberseminars', 'botnet', 'technicalbreakthroughs', 'auditability', 'cyberway', 'modelsused', 'geomatics', 'fulton', 'zaim', 'thestudy', 'timeline', 'eigendistribution', 'donnell', 'cybercop', 'aiddevelopment', 'outbursting', 'cilogon', 'cvd', 'metpetdb', 'composability', 'theupstream', 'cissp', 'theinformatics', 'nanojapan', 'fsafe', 'northrop', 'opendap', 'nlo', 'towireless', 'challengesand', 'umscc', 'biosignatures', 'microlenses', 'praveen', 'informaticists', 'greywolf', 'vtl', 'smartphones', 'heterointerfaces', 'experimentalevidence', 'neescentral', 'mpsocs', 'bwac', 'fmitf', 'biomanufacturing', 'kinect', 'floquet', 'ecosystemthe', 'evidentialtransactions', 'ofbro', 'meritunlike', 'holonic', 'influencers', 'furtherapplies', 'developsvariational', 'uhecr', 'impactthe', 'thisworkshop', 'tds', 'feasibilityof', 'jisc', 'cvar', 'boyle', 'knowlegeable', 'universitykrishna', 'tfa', 'exibility', 'sustainability', 'jsu', 'modelfor', 'igert', 'rii', 'canemploy', 'ehealth', 'meaningfulmeasurements', 'noninvasively', 'iacr', 'savviness', 'esl', 'startap', 'adler', 'attributeswill', 'solvedfully', 'brokering', 'tetraplegic', 'kinova', 'eb', 'bertfriedfauser', 'iots', 'scada', 'bfs', 'downbursts', 'darknets', 'directionsproject', 'dccdi', 'requirephysical', 'taskof', 'cybersecured', 'affordedby', 'assurability', 'dehydro', 'manufacturability', 'oram', 'windborne', 'streamsor', 'elp', 'ecogenomic', 'efficientalgorithms', 'saadawi', 'ultrametric', 'gridpi', 'researchactivities', 'fulbright', 'jajodia', 'thensf', 'ecogeo', 'centerspis', 'cyanobacteria', 'ciently', 'nvo', 'supercomputing', 'cyberspaceroy', 'ionomics', 'hayden', 'highlyconnected', 'crn', 'hybridoma', 'nwchem', 'beovercome', 'areasof', 'fpga', 'andpotentially', 'dipyrromethane', 'ispopularity', 'bcc', 'opv', 'microfabrication', 'alkylheteroarene', 'theseversions', 'crescynt', 'willis', 'fluiddynamics', 'serviceinterfacing', 'yablonovitch', 'neuroinformatics', 'discotic', 'qprc', 'cybertech', 'nanotoroids', 'widevariety', 'kwh', 'cns', 'wsn', 'thefuture', 'sensorsystems', 'mio', 'xstate', 'floudas', 'jupyterhubs', 'tuncel', 'policyperformance', 'unitethem', 'mccd', 'genomics', 'triana', 'memristors', 'keynes', 'replicator', 'meritscyberinfrastructure', 'xsedenet', 'centernet', 'nanochannels', 'inundergraduate', 'thatshould', 'significantscientific', 'hyperpolarizabilities', 'rilg', 'bioarrayanalysis', 'www', 'mallick', 'csusm', 'boinc', 'cuahsisue', 'neurotechnology', 'directlypatching', 'berkeleycomputer', 'cyclopropanation', 'defanti', 'theopportunities', 'kineticspublic', 'geochron', 'gomc', 'interestin', 'iaga', 'ultrathin', 'biogeophysical', 'isanda', 'thesoftware', 'hackathons', 'und', 'xrm', 'winstoninstitution', 'dsc', 'isye', 'tcns', 'withthe', 'cyberchase', 'ofmathematical', 'polarregions', 'christodoulos', 'stereolithography', 'viromes', 'theircampus', 'ofinterdisciplinary', 'rmc', 'llcc', 'lindaabstract', 'thes', 'hefei', 'cyberresources', 'videoconferencing', 'crm', 'focusof', 'townhall', 'parabal', 'cyberzine', 'nanoscopic', 'bionanomaterial', 'ncn', 'lbl', 'validators', 'jeddah', 'brookabstract', 'icare', 'uop', 'cybermule', 'shinji', 'nothave', 'larock', 'navigatingthrough', 'mentee', 'applicationprogramming', 'phylogenomics', 'finholt', 'rdf', 'csig', 'opioid', 'exploittheir', 'comorbidities', 'infotainment', 'fromanother', 'wateroneflow', 'dlv', 'loni', 'minlp', 'whichare', 'dimatia', 'cyberinfrastructural', 'sfs', 'glerl', 'criticalapplications', 'jacinto', 'akhtar', 'phasors', 'impactsbenefits', 'shareware', 'cyberlaboratory', 'rof', 'oncogene', 'learningresource', 'nanoporous', 'gabriele', 'usd', 'nehrp', 'vos', 'nanobiointerfaces', 'aied', 'pechoucek', 'jupyterlab', 'romeoville', 'nanoarrays', 'newtechnologies', 'ilam', 'sciencesthis', 'sensorized', 'bengalura', 'toolchain', 'crosslinks', 'microbubbles', 'renewables', 'pbe', 'littleis', 'pepnet', 'theimplementors', 'risksense', 'mcps', 'pdf', 'ssds', 'siavash', 'universitythe', 'alsoenhances', 'messagingor', 'bootcamp', 'anadaptive', 'exascale', 'cumulenes', 'metagenome', 'becauseindividual', 'middleware', 'adaptiveonline', 'cyphertexts', 'jayathi', 'bsetm', 'nwm', 'theprimary', 'completecriminal', 'phd', 'teamsthis', 'ditelluride', 'thisproject', 'christi', 'theseinvestments', 'lbdu', 'assistments', 'asic', 'dmitri', 'operationalize', 'downscale', 'andoverlapping', 'ecm', 'smpc', 'groundwaters', 'raptorx', 'lastdecade', 'ncr', 'shepens', 'heatby', 'hmi', 'onlinecourses', 'fhdi', 'subdisciplinary', 'theresults', 'apb', 'multiscaled', 'mapconcepts', 'irnc', 'acheived', 'neuroinformatic', 'managementsystem', 'patras', 'geobiologists', 'broder', 'lhcb', 'cyberfrastructure', 'tnrp', 'mvcc', 'mbvl', 'publicationin', 'nmt', 'scientifc', 'msps', 'cyberworkshops', 'doerrer', 'rrna', 'nanocomposites', 'hpc', 'gep', 'usefulwhen', 'photodegradable', 'smartgreen', 'irm', 'toanalyze', 'kocaeli', 'url', 'stnos', 'chemomechanical', 'qoe', 'unm', 'andwill', 'controlparameters', 'tamu', 'polyhydrides', 'simulationsby', 'sgci', 'programofficers', 'nightscape', 'berkeleyefi', 'lsa', 'benchtop', 'srop', 'nthsa', 'skype', 'queensland', 'conclustions', 'bpcc', 'soaf', 'fma', 'fiwin', 'greenville', 'arundel', 'potentialimportance', 'nanofluidic', 'engieering', 'betweenresearch', 'darmstadtium', 'theresearch', 'otheir', 'cyverse', 'biomacromolecules', 'raghav', 'simcenter', 'jsme', 'hypergames', 'parallelizable', 'nmi', 'cybermedia', 'bielefeld', 'polychlorinated', 'onsite', 'mhcc', 'uniqueopportunity', 'cybermentoring', 'autoscaling', 'rijnhuizen', 'tt', 'npr', 'radboud', 'dmz', 'phytoestrogens', 'turbosoft', 'visstore', 'universitynsf', 'synergiesthe', 'mmw', 'plantgdb', 'designthat', 'msis', 'buildaccurate', 'openod', 'marquette', 'magnaporthales', 'hyperproperty', 'msml', 'anagile', 'verkade', 'nij', 'dhabi', 'tomotherapy', 'videoconferences', 'tmcc', 'metagenomes', 'ncbi'}\n"
     ]
    }
   ],
   "source": [
    "print(set(meaningless_list))"
   ]
  },
  {
   "cell_type": "markdown",
   "metadata": {},
   "source": [
    "Abstract2 uniqi!!!\n",
    "#Recounting the Words Frequency\n",
    "freq_dict=nltk.FreqDist(wrd_list_lemmas)\n",
    "\n",
    "print('Total unique words after lemmatization: {}'.format(len(freq_dict)))\n"
   ]
  },
  {
   "cell_type": "markdown",
   "metadata": {},
   "source": [
    "__Convert Tokens To String For Tf-idf Vectorize__"
   ]
  },
  {
   "cell_type": "code",
   "execution_count": 17,
   "metadata": {},
   "outputs": [
    {
     "data": {
      "text/html": [
       "<div>\n",
       "<style scoped>\n",
       "    .dataframe tbody tr th:only-of-type {\n",
       "        vertical-align: middle;\n",
       "    }\n",
       "\n",
       "    .dataframe tbody tr th {\n",
       "        vertical-align: top;\n",
       "    }\n",
       "\n",
       "    .dataframe thead th {\n",
       "        text-align: right;\n",
       "    }\n",
       "</style>\n",
       "<table border=\"1\" class=\"dataframe\">\n",
       "  <thead>\n",
       "    <tr style=\"text-align: right;\">\n",
       "      <th></th>\n",
       "      <th>AwardID</th>\n",
       "      <th>AwardTitle</th>\n",
       "      <th>Abstract</th>\n",
       "      <th>Abstract_Tokens</th>\n",
       "      <th>Tokens_String</th>\n",
       "    </tr>\n",
       "  </thead>\n",
       "  <tbody>\n",
       "    <tr>\n",
       "      <th>0</th>\n",
       "      <td>0110599</td>\n",
       "      <td>Collaborative Research Testing Affect Control ...</td>\n",
       "      <td>The investigators will conduct a of experiment...</td>\n",
       "      <td>[investigator, conduct, experiment, focus, cru...</td>\n",
       "      <td>investigator conduct experiment focus crucial ...</td>\n",
       "    </tr>\n",
       "    <tr>\n",
       "      <th>1</th>\n",
       "      <td>0112426</td>\n",
       "      <td>Federal Cyber Service Initiative</td>\n",
       "      <td>This program produces a cadre of computer scie...</td>\n",
       "      <td>[produce, cadre, computer, scientist, strong, ...</td>\n",
       "      <td>produce cadre computer scientist strong specia...</td>\n",
       "    </tr>\n",
       "  </tbody>\n",
       "</table>\n",
       "</div>"
      ],
      "text/plain": [
       "   AwardID                                         AwardTitle  \\\n",
       "0  0110599  Collaborative Research Testing Affect Control ...   \n",
       "1  0112426                   Federal Cyber Service Initiative   \n",
       "\n",
       "                                            Abstract  \\\n",
       "0  The investigators will conduct a of experiment...   \n",
       "1  This program produces a cadre of computer scie...   \n",
       "\n",
       "                                     Abstract_Tokens  \\\n",
       "0  [investigator, conduct, experiment, focus, cru...   \n",
       "1  [produce, cadre, computer, scientist, strong, ...   \n",
       "\n",
       "                                       Tokens_String  \n",
       "0  investigator conduct experiment focus crucial ...  \n",
       "1  produce cadre computer scientist strong specia...  "
      ]
     },
     "execution_count": 17,
     "metadata": {},
     "output_type": "execute_result"
    }
   ],
   "source": [
    "df_sum2['Tokens_String']=df_sum2['Abstract']\n",
    "for n in range(df_sum2.shape[0]):\n",
    "    df_sum2['Tokens_String'][n]=' '.join([str(item) for item in df_sum2['Abstract_Tokens'][n]])\n",
    "df_sum2.head(2)"
   ]
  },
  {
   "cell_type": "markdown",
   "metadata": {},
   "source": [
    "__TfidfVectorizer__"
   ]
  },
  {
   "cell_type": "code",
   "execution_count": 18,
   "metadata": {},
   "outputs": [
    {
     "data": {
      "text/plain": [
       "array([[0., 0., 0., ..., 0., 0., 0.],\n",
       "       [0., 0., 0., ..., 0., 0., 0.]])"
      ]
     },
     "execution_count": 18,
     "metadata": {},
     "output_type": "execute_result"
    }
   ],
   "source": [
    "from sklearn.feature_extraction.text import TfidfVectorizer\n",
    "v = TfidfVectorizer()\n",
    "X = v.fit_transform(df_sum2['Tokens_String'])\n",
    "X.toarray()[:2]"
   ]
  },
  {
   "cell_type": "code",
   "execution_count": 28,
   "metadata": {},
   "outputs": [
    {
     "name": "stdout",
     "output_type": "stream",
     "text": [
      "First 10 Feature Name:\n",
      " ['aa', 'aaa', 'ab', 'abandonment', 'abdomen', 'aberrant', 'abet', 'abide', 'ability', 'abiotic']\n"
     ]
    }
   ],
   "source": [
    "print('First 10 Feature Name:\\n {}'.format(v.get_feature_names()[:10]))"
   ]
  },
  {
   "cell_type": "code",
   "execution_count": 27,
   "metadata": {},
   "outputs": [
    {
     "name": "stdout",
     "output_type": "stream",
     "text": [
      "Total Feature Number: 13021\n"
     ]
    }
   ],
   "source": [
    "print('Total Feature Number: {}'.format(len(v.vocabulary_)))"
   ]
  },
  {
   "cell_type": "markdown",
   "metadata": {},
   "source": [
    "__Create New DataFrame For Clustering__"
   ]
  },
  {
   "cell_type": "code",
   "execution_count": 29,
   "metadata": {},
   "outputs": [
    {
     "data": {
      "text/html": [
       "<div>\n",
       "<style scoped>\n",
       "    .dataframe tbody tr th:only-of-type {\n",
       "        vertical-align: middle;\n",
       "    }\n",
       "\n",
       "    .dataframe tbody tr th {\n",
       "        vertical-align: top;\n",
       "    }\n",
       "\n",
       "    .dataframe thead th {\n",
       "        text-align: right;\n",
       "    }\n",
       "</style>\n",
       "<table border=\"1\" class=\"dataframe\">\n",
       "  <thead>\n",
       "    <tr style=\"text-align: right;\">\n",
       "      <th></th>\n",
       "      <th>aa</th>\n",
       "      <th>aaa</th>\n",
       "      <th>ab</th>\n",
       "      <th>abandonment</th>\n",
       "      <th>abdomen</th>\n",
       "      <th>aberrant</th>\n",
       "      <th>abet</th>\n",
       "      <th>abide</th>\n",
       "      <th>ability</th>\n",
       "      <th>abiotic</th>\n",
       "      <th>...</th>\n",
       "      <th>zip</th>\n",
       "      <th>zircon</th>\n",
       "      <th>zonal</th>\n",
       "      <th>zone</th>\n",
       "      <th>zoo</th>\n",
       "      <th>zoom</th>\n",
       "      <th>zoonotic</th>\n",
       "      <th>zooplankton</th>\n",
       "      <th>zurich</th>\n",
       "      <th>zwitterionic</th>\n",
       "    </tr>\n",
       "  </thead>\n",
       "  <tbody>\n",
       "    <tr>\n",
       "      <th>0</th>\n",
       "      <td>0.0</td>\n",
       "      <td>0.0</td>\n",
       "      <td>0.0</td>\n",
       "      <td>0.0</td>\n",
       "      <td>0.0</td>\n",
       "      <td>0.0</td>\n",
       "      <td>0.0</td>\n",
       "      <td>0.0</td>\n",
       "      <td>0.0</td>\n",
       "      <td>0.0</td>\n",
       "      <td>...</td>\n",
       "      <td>0.0</td>\n",
       "      <td>0.0</td>\n",
       "      <td>0.0</td>\n",
       "      <td>0.0</td>\n",
       "      <td>0.0</td>\n",
       "      <td>0.0</td>\n",
       "      <td>0.0</td>\n",
       "      <td>0.0</td>\n",
       "      <td>0.0</td>\n",
       "      <td>0.0</td>\n",
       "    </tr>\n",
       "    <tr>\n",
       "      <th>1</th>\n",
       "      <td>0.0</td>\n",
       "      <td>0.0</td>\n",
       "      <td>0.0</td>\n",
       "      <td>0.0</td>\n",
       "      <td>0.0</td>\n",
       "      <td>0.0</td>\n",
       "      <td>0.0</td>\n",
       "      <td>0.0</td>\n",
       "      <td>0.0</td>\n",
       "      <td>0.0</td>\n",
       "      <td>...</td>\n",
       "      <td>0.0</td>\n",
       "      <td>0.0</td>\n",
       "      <td>0.0</td>\n",
       "      <td>0.0</td>\n",
       "      <td>0.0</td>\n",
       "      <td>0.0</td>\n",
       "      <td>0.0</td>\n",
       "      <td>0.0</td>\n",
       "      <td>0.0</td>\n",
       "      <td>0.0</td>\n",
       "    </tr>\n",
       "  </tbody>\n",
       "</table>\n",
       "<p>2 rows × 13021 columns</p>\n",
       "</div>"
      ],
      "text/plain": [
       "    aa  aaa   ab  abandonment  abdomen  aberrant  abet  abide  ability  \\\n",
       "0  0.0  0.0  0.0          0.0      0.0       0.0   0.0    0.0      0.0   \n",
       "1  0.0  0.0  0.0          0.0      0.0       0.0   0.0    0.0      0.0   \n",
       "\n",
       "   abiotic  ...  zip  zircon  zonal  zone  zoo  zoom  zoonotic  zooplankton  \\\n",
       "0      0.0  ...  0.0     0.0    0.0   0.0  0.0   0.0       0.0          0.0   \n",
       "1      0.0  ...  0.0     0.0    0.0   0.0  0.0   0.0       0.0          0.0   \n",
       "\n",
       "   zurich  zwitterionic  \n",
       "0     0.0           0.0  \n",
       "1     0.0           0.0  \n",
       "\n",
       "[2 rows x 13021 columns]"
      ]
     },
     "execution_count": 29,
     "metadata": {},
     "output_type": "execute_result"
    }
   ],
   "source": [
    "df_for_clustering = pd.DataFrame(data=X.toarray(), columns=v.get_feature_names())\n",
    "df_for_clustering.head(2)"
   ]
  },
  {
   "cell_type": "markdown",
   "metadata": {},
   "source": [
    "__Add The 'Top Word' and 'Top Word Frequency' To Each Row__"
   ]
  },
  {
   "cell_type": "code",
   "execution_count": 31,
   "metadata": {},
   "outputs": [
    {
     "data": {
      "text/html": [
       "<div>\n",
       "<style scoped>\n",
       "    .dataframe tbody tr th:only-of-type {\n",
       "        vertical-align: middle;\n",
       "    }\n",
       "\n",
       "    .dataframe tbody tr th {\n",
       "        vertical-align: top;\n",
       "    }\n",
       "\n",
       "    .dataframe thead th {\n",
       "        text-align: right;\n",
       "    }\n",
       "</style>\n",
       "<table border=\"1\" class=\"dataframe\">\n",
       "  <thead>\n",
       "    <tr style=\"text-align: right;\">\n",
       "      <th></th>\n",
       "      <th>AwardID</th>\n",
       "      <th>AwardTitle</th>\n",
       "      <th>Abstract</th>\n",
       "      <th>Abstract_Tokens</th>\n",
       "      <th>Tokens_String</th>\n",
       "      <th>Top_Word</th>\n",
       "      <th>Top_Word_Freq</th>\n",
       "    </tr>\n",
       "  </thead>\n",
       "  <tbody>\n",
       "    <tr>\n",
       "      <th>0</th>\n",
       "      <td>0110599</td>\n",
       "      <td>Collaborative Research Testing Affect Control ...</td>\n",
       "      <td>The investigators will conduct a of experiment...</td>\n",
       "      <td>[investigator, conduct, experiment, focus, cru...</td>\n",
       "      <td>investigator conduct experiment focus crucial ...</td>\n",
       "      <td>restorative</td>\n",
       "      <td>0.604803</td>\n",
       "    </tr>\n",
       "    <tr>\n",
       "      <th>1</th>\n",
       "      <td>0112426</td>\n",
       "      <td>Federal Cyber Service Initiative</td>\n",
       "      <td>This program produces a cadre of computer scie...</td>\n",
       "      <td>[produce, cadre, computer, scientist, strong, ...</td>\n",
       "      <td>produce cadre computer scientist strong specia...</td>\n",
       "      <td>assurance</td>\n",
       "      <td>0.355636</td>\n",
       "    </tr>\n",
       "  </tbody>\n",
       "</table>\n",
       "</div>"
      ],
      "text/plain": [
       "   AwardID                                         AwardTitle  \\\n",
       "0  0110599  Collaborative Research Testing Affect Control ...   \n",
       "1  0112426                   Federal Cyber Service Initiative   \n",
       "\n",
       "                                            Abstract  \\\n",
       "0  The investigators will conduct a of experiment...   \n",
       "1  This program produces a cadre of computer scie...   \n",
       "\n",
       "                                     Abstract_Tokens  \\\n",
       "0  [investigator, conduct, experiment, focus, cru...   \n",
       "1  [produce, cadre, computer, scientist, strong, ...   \n",
       "\n",
       "                                       Tokens_String     Top_Word  \\\n",
       "0  investigator conduct experiment focus crucial ...  restorative   \n",
       "1  produce cadre computer scientist strong specia...    assurance   \n",
       "\n",
       "   Top_Word_Freq  \n",
       "0       0.604803  \n",
       "1       0.355636  "
      ]
     },
     "execution_count": 31,
     "metadata": {},
     "output_type": "execute_result"
    }
   ],
   "source": [
    "df_sum2['Top_Word']=df.idxmax(axis=1)\n",
    "df_sum2['Top_Word_Freq']=df.max(axis=1)\n",
    "df_sum2.head(2)"
   ]
  },
  {
   "cell_type": "markdown",
   "metadata": {},
   "source": [
    "__KMeans Clustering__"
   ]
  },
  {
   "cell_type": "code",
   "execution_count": 32,
   "metadata": {},
   "outputs": [
    {
     "name": "stdout",
     "output_type": "stream",
     "text": [
      "Modeling with k-means: 1 is finish...\n",
      "Modeling with k-means: 2 is finish...\n",
      "Modeling with k-means: 3 is finish...\n",
      "Modeling with k-means: 4 is finish...\n",
      "Modeling with k-means: 5 is finish...\n"
     ]
    },
    {
     "data": {
      "image/png": "[encoded data removed]",
      "text/plain": [
       "<Figure size 432x288 with 1 Axes>"
      ]
     },
     "metadata": {
      "needs_background": "light"
     },
     "output_type": "display_data"
    }
   ],
   "source": [
    "\n",
    "#for each value of k, we can initialise k_means and use inertia to identify the sum of squared distances of samples to the nearest cluster centre\n",
    "sum_of_squared_distances = []\n",
    "\n",
    "K_top=6 #\n",
    "K = range(1,K_top)\n",
    "for k in K:\n",
    "    k_means = KMeans(n_clusters=k)\n",
    "    model = k_means.fit(df_for_clustering)\n",
    "    sum_of_squared_distances.append(k_means.inertia_)\n",
    "    print('Modeling with k-means: {} is finish...'.format(k))\n",
    "    \n",
    "plt.plot(K, sum_of_squared_distances, 'bx-')\n",
    "plt.xlabel('k')\n",
    "plt.ylabel('sum_of_squared_distances')\n",
    "plt.title('Elbow method for optimal k')\n",
    "plt.show()"
   ]
  },
  {
   "cell_type": "code",
   "execution_count": 33,
   "metadata": {},
   "outputs": [],
   "source": [
    "n_clusters=3"
   ]
  },
  {
   "cell_type": "code",
   "execution_count": 34,
   "metadata": {},
   "outputs": [
    {
     "data": {
      "text/plain": [
       "array([0, 2, 2, ..., 0, 0, 0])"
      ]
     },
     "execution_count": 34,
     "metadata": {},
     "output_type": "execute_result"
    }
   ],
   "source": [
    "\n",
    "k_means = KMeans(n_clusters=n_clusters)\n",
    "#Run the clustering algorithm\n",
    "model = k_means.fit(df_for_clustering)\n",
    "#Generate cluster predictions and store in y_hat\n",
    "y_hat = k_means.predict(X)\n",
    "y_hat"
   ]
  },
  {
   "cell_type": "code",
   "execution_count": 94,
   "metadata": {},
   "outputs": [
    {
     "name": "stdout",
     "output_type": "stream",
     "text": [
      "Topic 0: Total research paper is 2328\n",
      "Topic 1: Total research paper is 1504\n",
      "Topic 2: Total research paper is 721\n"
     ]
    },
    {
     "data": {
      "text/html": [
       "<div>\n",
       "<style scoped>\n",
       "    .dataframe tbody tr th:only-of-type {\n",
       "        vertical-align: middle;\n",
       "    }\n",
       "\n",
       "    .dataframe tbody tr th {\n",
       "        vertical-align: top;\n",
       "    }\n",
       "\n",
       "    .dataframe thead th {\n",
       "        text-align: right;\n",
       "    }\n",
       "</style>\n",
       "<table border=\"1\" class=\"dataframe\">\n",
       "  <thead>\n",
       "    <tr style=\"text-align: right;\">\n",
       "      <th></th>\n",
       "      <th>AwardID</th>\n",
       "      <th>AwardTitle</th>\n",
       "      <th>Abstract</th>\n",
       "      <th>Abstract_Tokens</th>\n",
       "      <th>Tokens_String</th>\n",
       "      <th>Top_Word</th>\n",
       "      <th>Top_Word_Freq</th>\n",
       "      <th>Label</th>\n",
       "    </tr>\n",
       "  </thead>\n",
       "  <tbody>\n",
       "    <tr>\n",
       "      <th>0</th>\n",
       "      <td>110599</td>\n",
       "      <td>Collaborative Research Testing Affect Control ...</td>\n",
       "      <td>The investigators will conduct a of experiment...</td>\n",
       "      <td>[investigator, conduct, experiment, focus, cru...</td>\n",
       "      <td>investigator conduct experiment focus crucial ...</td>\n",
       "      <td>restorative</td>\n",
       "      <td>0.604803</td>\n",
       "      <td>0</td>\n",
       "    </tr>\n",
       "    <tr>\n",
       "      <th>1</th>\n",
       "      <td>112426</td>\n",
       "      <td>Federal Cyber Service Initiative</td>\n",
       "      <td>This program produces a cadre of computer scie...</td>\n",
       "      <td>[produce, cadre, computer, scientist, strong, ...</td>\n",
       "      <td>produce cadre computer scientist strong specia...</td>\n",
       "      <td>assurance</td>\n",
       "      <td>0.355636</td>\n",
       "      <td>2</td>\n",
       "    </tr>\n",
       "  </tbody>\n",
       "</table>\n",
       "</div>"
      ],
      "text/plain": [
       "   AwardID                                         AwardTitle  \\\n",
       "0   110599  Collaborative Research Testing Affect Control ...   \n",
       "1   112426                   Federal Cyber Service Initiative   \n",
       "\n",
       "                                            Abstract  \\\n",
       "0  The investigators will conduct a of experiment...   \n",
       "1  This program produces a cadre of computer scie...   \n",
       "\n",
       "                                     Abstract_Tokens  \\\n",
       "0  [investigator, conduct, experiment, focus, cru...   \n",
       "1  [produce, cadre, computer, scientist, strong, ...   \n",
       "\n",
       "                                       Tokens_String     Top_Word  \\\n",
       "0  investigator conduct experiment focus crucial ...  restorative   \n",
       "1  produce cadre computer scientist strong specia...    assurance   \n",
       "\n",
       "   Top_Word_Freq  Label  \n",
       "0       0.604803      0  \n",
       "1       0.355636      2  "
      ]
     },
     "execution_count": 94,
     "metadata": {},
     "output_type": "execute_result"
    }
   ],
   "source": [
    "labels=list(y_hat)\n",
    "df_sum2['Label']=labels\n",
    "df_sum2.to_csv('df_sum_clustering.csv',sep=';')\n",
    "for n in range(n_clusters):\n",
    "    print('Topic {}: Total research paper is {}'.format(n, df_sum2[df_sum2['Label']==n].shape[0]))\n",
    "df_sum2.head(2)"
   ]
  },
  {
   "cell_type": "markdown",
   "metadata": {},
   "source": [
    "__Create New DataFrame with Topic Words__"
   ]
  },
  {
   "cell_type": "code",
   "execution_count": 36,
   "metadata": {},
   "outputs": [
    {
     "data": {
      "text/html": [
       "<div>\n",
       "<style scoped>\n",
       "    .dataframe tbody tr th:only-of-type {\n",
       "        vertical-align: middle;\n",
       "    }\n",
       "\n",
       "    .dataframe tbody tr th {\n",
       "        vertical-align: top;\n",
       "    }\n",
       "\n",
       "    .dataframe thead th {\n",
       "        text-align: right;\n",
       "    }\n",
       "</style>\n",
       "<table border=\"1\" class=\"dataframe\">\n",
       "  <thead>\n",
       "    <tr style=\"text-align: right;\">\n",
       "      <th></th>\n",
       "      <th>TopicWords</th>\n",
       "      <th>TopicWord</th>\n",
       "      <th>TopicTitle</th>\n",
       "      <th>TopicAbstract</th>\n",
       "    </tr>\n",
       "  </thead>\n",
       "  <tbody>\n",
       "    <tr>\n",
       "      <th>0</th>\n",
       "      <td>[restorative, packet, chaotic, algebra, sensor...</td>\n",
       "      <td>[transit, sketch, cpi, artist, emotion, compil...</td>\n",
       "      <td>[EXP: Attention-Aware Cyberlearning to Detect ...</td>\n",
       "      <td>[The ability to concentrate on tasks is critic...</td>\n",
       "    </tr>\n",
       "    <tr>\n",
       "      <th>1</th>\n",
       "      <td>[arkansas, geoscience, geoscience, history, ab...</td>\n",
       "      <td>[gateway, permafrost, hydrologic, combustion, ...</td>\n",
       "      <td>[Collaborative Research: Development of Inform...</td>\n",
       "      <td>[0413182HellyThis proposal will advance integr...</td>\n",
       "    </tr>\n",
       "    <tr>\n",
       "      <th>2</th>\n",
       "      <td>[assurance, assurance, externship, program, ex...</td>\n",
       "      <td>[forensics, creat]</td>\n",
       "      <td>[\"Gamified\" Digital Forensics Course Modules f...</td>\n",
       "      <td>[Cybersecurity and forensics are critical area...</td>\n",
       "    </tr>\n",
       "  </tbody>\n",
       "</table>\n",
       "</div>"
      ],
      "text/plain": [
       "                                          TopicWords  \\\n",
       "0  [restorative, packet, chaotic, algebra, sensor...   \n",
       "1  [arkansas, geoscience, geoscience, history, ab...   \n",
       "2  [assurance, assurance, externship, program, ex...   \n",
       "\n",
       "                                           TopicWord  \\\n",
       "0  [transit, sketch, cpi, artist, emotion, compil...   \n",
       "1  [gateway, permafrost, hydrologic, combustion, ...   \n",
       "2                                 [forensics, creat]   \n",
       "\n",
       "                                          TopicTitle  \\\n",
       "0  [EXP: Attention-Aware Cyberlearning to Detect ...   \n",
       "1  [Collaborative Research: Development of Inform...   \n",
       "2  [\"Gamified\" Digital Forensics Course Modules f...   \n",
       "\n",
       "                                       TopicAbstract  \n",
       "0  [The ability to concentrate on tasks is critic...  \n",
       "1  [0413182HellyThis proposal will advance integr...  \n",
       "2  [Cybersecurity and forensics are critical area...  "
      ]
     },
     "execution_count": 36,
     "metadata": {},
     "output_type": "execute_result"
    }
   ],
   "source": [
    "df_cluster_words = pd.DataFrame(columns=['TopicWords','TopicWord','TopicTitle','TopicAbstract'], index=range(n_clusters))\n",
    "for n in range(n_clusters):\n",
    "    df_cluster_words.loc[n].TopicWords=list(df_sum2[df_sum2['Label']==n]['Top_Word'])\n",
    "    df_cluster_words.loc[n].TopicWord=list(set(df_sum2[(df_sum2['Label']==n)&(df_sum2['Top_Word_Freq']>0.75)]['Top_Word'].values))\n",
    "    df_cluster_words.loc[n].TopicTitle=df_sum2[df_sum2['Label']==n].sort_values(by='Top_Word_Freq',ascending=False)[:1]['AwardTitle'].values\n",
    "    df_cluster_words.loc[n].TopicAbstract=df_sum2[df_sum2['Label']==n].sort_values(by='Top_Word_Freq',ascending=False)[:1]['Abstract'].values\n",
    "df_cluster_words.to_csv('df_cluster_words.csv',sep=';')\n",
    "df_cluster_words"
   ]
  },
  {
   "cell_type": "markdown",
   "metadata": {},
   "source": [
    "__Word Cloud__"
   ]
  },
  {
   "cell_type": "code",
   "execution_count": 96,
   "metadata": {},
   "outputs": [
    {
     "name": "stdout",
     "output_type": "stream",
     "text": [
      "Topic 0: Total research paper is 2328\n",
      "Topic 1: Total research paper is 1504\n",
      "Topic 2: Total research paper is 721\n"
     ]
    },
    {
     "data": {
      "image/png": "[encoded data removed]",
      "text/plain": [
       "<Figure size 1080x1080 with 3 Axes>"
      ]
     },
     "metadata": {
      "needs_background": "light"
     },
     "output_type": "display_data"
    }
   ],
   "source": [
    "# 1. Wordcloud of Top N words in each topic\n",
    "from matplotlib import pyplot as plt\n",
    "from wordcloud import WordCloud, STOPWORDS\n",
    "import matplotlib.colors as mcolors\n",
    "\n",
    "cols = [color for name, color in mcolors.TABLEAU_COLORS.items()]\n",
    "\n",
    "cloud = WordCloud(\n",
    "                  background_color='white',\n",
    "                  width=2500,\n",
    "                  height=1800,\n",
    "                  max_words=20,\n",
    "                  colormap='tab10',\n",
    "                  color_func=lambda *args, **kwargs: cols[i],\n",
    "                  prefer_horizontal=1.0)\n",
    "\n",
    "fig, axes = plt.subplots(1, 3, figsize=(15,15), sharex=True, sharey=True)\n",
    "\n",
    "for i, ax in enumerate(axes.flatten()):\n",
    "    fig.add_subplot(ax)\n",
    "    topic_words = ', '.join(list(dict(nltk.FreqDist(df_cluster_words['TopicWords'][i]).most_common(20))))\n",
    "    cloud.generate(topic_words)\n",
    "    plt.gca().imshow(cloud)\n",
    "    plt.gca().set_title('Topic ' + str(i), fontdict=dict(size=16))\n",
    "    plt.gca().axis('off')\n",
    "    print('Topic {}: Total research paper is {}'.format(i, df_sum2[df_sum2['Label']==i].shape[0]))\n",
    "\n",
    "plt.subplots_adjust(wspace=0, hspace=0)\n",
    "plt.axis('off')\n",
    "plt.margins(x=0, y=0)\n",
    "plt.tight_layout()\n",
    "plt.show()"
   ]
  },
  {
   "cell_type": "markdown",
   "metadata": {},
   "source": [
    "### B-) Word Frequency"
   ]
  },
  {
   "cell_type": "markdown",
   "metadata": {},
   "source": [
    "__Reload The Data__"
   ]
  },
  {
   "cell_type": "code",
   "execution_count": 38,
   "metadata": {},
   "outputs": [
    {
     "data": {
      "text/html": [
       "<div>\n",
       "<style scoped>\n",
       "    .dataframe tbody tr th:only-of-type {\n",
       "        vertical-align: middle;\n",
       "    }\n",
       "\n",
       "    .dataframe tbody tr th {\n",
       "        vertical-align: top;\n",
       "    }\n",
       "\n",
       "    .dataframe thead th {\n",
       "        text-align: right;\n",
       "    }\n",
       "</style>\n",
       "<table border=\"1\" class=\"dataframe\">\n",
       "  <thead>\n",
       "    <tr style=\"text-align: right;\">\n",
       "      <th></th>\n",
       "      <th>AwardID</th>\n",
       "      <th>AwardTitle</th>\n",
       "      <th>Abstract</th>\n",
       "      <th>Abstract_Tokens</th>\n",
       "      <th>Tokens_String</th>\n",
       "      <th>Top_Word</th>\n",
       "      <th>Top_Word_Freq</th>\n",
       "      <th>Label</th>\n",
       "    </tr>\n",
       "  </thead>\n",
       "  <tbody>\n",
       "    <tr>\n",
       "      <th>0</th>\n",
       "      <td>110599</td>\n",
       "      <td>Collaborative Research Testing Affect Control ...</td>\n",
       "      <td>The investigators will conduct a of experiment...</td>\n",
       "      <td>['investigator', 'conduct', 'experiment', 'foc...</td>\n",
       "      <td>investigator conduct experiment focus crucial ...</td>\n",
       "      <td>restorative</td>\n",
       "      <td>0.604803</td>\n",
       "      <td>0</td>\n",
       "    </tr>\n",
       "    <tr>\n",
       "      <th>1</th>\n",
       "      <td>112426</td>\n",
       "      <td>Federal Cyber Service Initiative</td>\n",
       "      <td>This program produces a cadre of computer scie...</td>\n",
       "      <td>['produce', 'cadre', 'computer', 'scientist', ...</td>\n",
       "      <td>produce cadre computer scientist strong specia...</td>\n",
       "      <td>assurance</td>\n",
       "      <td>0.355636</td>\n",
       "      <td>2</td>\n",
       "    </tr>\n",
       "  </tbody>\n",
       "</table>\n",
       "</div>"
      ],
      "text/plain": [
       "   AwardID                                         AwardTitle  \\\n",
       "0   110599  Collaborative Research Testing Affect Control ...   \n",
       "1   112426                   Federal Cyber Service Initiative   \n",
       "\n",
       "                                            Abstract  \\\n",
       "0  The investigators will conduct a of experiment...   \n",
       "1  This program produces a cadre of computer scie...   \n",
       "\n",
       "                                     Abstract_Tokens  \\\n",
       "0  ['investigator', 'conduct', 'experiment', 'foc...   \n",
       "1  ['produce', 'cadre', 'computer', 'scientist', ...   \n",
       "\n",
       "                                       Tokens_String     Top_Word  \\\n",
       "0  investigator conduct experiment focus crucial ...  restorative   \n",
       "1  produce cadre computer scientist strong specia...    assurance   \n",
       "\n",
       "   Top_Word_Freq  Label  \n",
       "0       0.604803      0  \n",
       "1       0.355636      2  "
      ]
     },
     "execution_count": 38,
     "metadata": {},
     "output_type": "execute_result"
    }
   ],
   "source": [
    "df_sum2=pd.read_csv('df_sum_clustering.csv', sep=';').drop(['Unnamed: 0'],axis=1)\n",
    "df_sum2.head(2)"
   ]
  },
  {
   "cell_type": "markdown",
   "metadata": {},
   "source": [
    "__Change the Tokens Type as 'list'__"
   ]
  },
  {
   "cell_type": "code",
   "execution_count": 39,
   "metadata": {},
   "outputs": [
    {
     "data": {
      "text/html": [
       "<div>\n",
       "<style scoped>\n",
       "    .dataframe tbody tr th:only-of-type {\n",
       "        vertical-align: middle;\n",
       "    }\n",
       "\n",
       "    .dataframe tbody tr th {\n",
       "        vertical-align: top;\n",
       "    }\n",
       "\n",
       "    .dataframe thead th {\n",
       "        text-align: right;\n",
       "    }\n",
       "</style>\n",
       "<table border=\"1\" class=\"dataframe\">\n",
       "  <thead>\n",
       "    <tr style=\"text-align: right;\">\n",
       "      <th></th>\n",
       "      <th>AwardID</th>\n",
       "      <th>AwardTitle</th>\n",
       "      <th>Abstract</th>\n",
       "      <th>Abstract_Tokens</th>\n",
       "      <th>Tokens_String</th>\n",
       "      <th>Top_Word</th>\n",
       "      <th>Top_Word_Freq</th>\n",
       "      <th>Label</th>\n",
       "    </tr>\n",
       "  </thead>\n",
       "  <tbody>\n",
       "    <tr>\n",
       "      <th>0</th>\n",
       "      <td>110599</td>\n",
       "      <td>Collaborative Research Testing Affect Control ...</td>\n",
       "      <td>The investigators will conduct a of experiment...</td>\n",
       "      <td>[investigator, conduct, experiment, focus, cru...</td>\n",
       "      <td>investigator conduct experiment focus crucial ...</td>\n",
       "      <td>restorative</td>\n",
       "      <td>0.604803</td>\n",
       "      <td>0</td>\n",
       "    </tr>\n",
       "    <tr>\n",
       "      <th>1</th>\n",
       "      <td>112426</td>\n",
       "      <td>Federal Cyber Service Initiative</td>\n",
       "      <td>This program produces a cadre of computer scie...</td>\n",
       "      <td>[produce, cadre, computer, scientist, strong, ...</td>\n",
       "      <td>produce cadre computer scientist strong specia...</td>\n",
       "      <td>assurance</td>\n",
       "      <td>0.355636</td>\n",
       "      <td>2</td>\n",
       "    </tr>\n",
       "  </tbody>\n",
       "</table>\n",
       "</div>"
      ],
      "text/plain": [
       "   AwardID                                         AwardTitle  \\\n",
       "0   110599  Collaborative Research Testing Affect Control ...   \n",
       "1   112426                   Federal Cyber Service Initiative   \n",
       "\n",
       "                                            Abstract  \\\n",
       "0  The investigators will conduct a of experiment...   \n",
       "1  This program produces a cadre of computer scie...   \n",
       "\n",
       "                                     Abstract_Tokens  \\\n",
       "0  [investigator, conduct, experiment, focus, cru...   \n",
       "1  [produce, cadre, computer, scientist, strong, ...   \n",
       "\n",
       "                                       Tokens_String     Top_Word  \\\n",
       "0  investigator conduct experiment focus crucial ...  restorative   \n",
       "1  produce cadre computer scientist strong specia...    assurance   \n",
       "\n",
       "   Top_Word_Freq  Label  \n",
       "0       0.604803      0  \n",
       "1       0.355636      2  "
      ]
     },
     "execution_count": 39,
     "metadata": {},
     "output_type": "execute_result"
    }
   ],
   "source": [
    "df_sum2['Abstract_Tokens']=df_sum2['Abstract_Tokens'].str.replace(\"'\",\"\") #Remove the quotes\n",
    "df_sum2['Abstract_Tokens'] = df_sum2['Abstract_Tokens'].apply(lambda x: x[1:-1].split(', ')) #Convert string to list\n",
    "df_sum2.head(2)"
   ]
  },
  {
   "cell_type": "code",
   "execution_count": 40,
   "metadata": {},
   "outputs": [
    {
     "name": "stdout",
     "output_type": "stream",
     "text": [
      "Total words in abstract: 821247\n"
     ]
    }
   ],
   "source": [
    "abstract_keyword_list=[]\n",
    "for n in range(df_sum2.shape[0]):\n",
    "    abstract_keyword_list.extend(df_sum2['Abstract_Tokens'][n])\n",
    "print('Total words in abstract: {}'.format(len(abstract_keyword_list)))"
   ]
  },
  {
   "cell_type": "markdown",
   "metadata": {},
   "source": [
    "__Counting The Words Frequency__\n",
    "\n",
    "Pay attention!!! The total number of unique words in the abstract should be equal the 'tf-idf vectorize' columns number. Because both of them use the same counting method."
   ]
  },
  {
   "cell_type": "code",
   "execution_count": 84,
   "metadata": {},
   "outputs": [
    {
     "data": {
      "text/plain": [
       "['material',\n",
       " 'security',\n",
       " 'simulation',\n",
       " 'network',\n",
       " 'power',\n",
       " 'device',\n",
       " 'grid',\n",
       " 'attack',\n",
       " 'spectrometer',\n",
       " 'system',\n",
       " 'robot',\n",
       " 'energy',\n",
       " 'privacy',\n",
       " 'manufacturing',\n",
       " 'traffic',\n",
       " 'internet',\n",
       " 'control',\n",
       " 'verification',\n",
       " 'vehicle',\n",
       " 'model']"
      ]
     },
     "execution_count": 84,
     "metadata": {},
     "output_type": "execute_result"
    }
   ],
   "source": [
    "\n",
    "list(dict(nltk.FreqDist(df_cluster_words['TopicWords'][0]).most_common(20)).keys())\n"
   ]
  },
  {
   "cell_type": "code",
   "execution_count": 41,
   "metadata": {},
   "outputs": [
    {
     "name": "stderr",
     "output_type": "stream",
     "text": [
      "ERROR:root:Internal Python error in the inspect module.\n",
      "Below is the traceback from this internal error.\n",
      "\n"
     ]
    },
    {
     "name": "stdout",
     "output_type": "stream",
     "text": [
      "Traceback (most recent call last):\n",
      "  File \"C:\\Users\\WIN\\Anaconda3\\lib\\site-packages\\IPython\\core\\interactiveshell.py\", line 3331, in run_code\n",
      "    exec(code_obj, self.user_global_ns, self.user_ns)\n",
      "  File \"<ipython-input-41-55abfc832efa>\", line 2, in <module>\n",
      "    abstract_freq_dict=nltk.FreqDist(abstract_list)\n",
      "NameError: name 'abstract_list' is not defined\n",
      "\n",
      "During handling of the above exception, another exception occurred:\n",
      "\n",
      "Traceback (most recent call last):\n",
      "  File \"C:\\Users\\WIN\\Anaconda3\\lib\\site-packages\\IPython\\core\\interactiveshell.py\", line 2044, in showtraceback\n",
      "    stb = value._render_traceback_()\n",
      "AttributeError: 'NameError' object has no attribute '_render_traceback_'\n",
      "\n",
      "During handling of the above exception, another exception occurred:\n",
      "\n",
      "Traceback (most recent call last):\n",
      "  File \"C:\\Users\\WIN\\Anaconda3\\lib\\site-packages\\tensorflow_core\\python\\pywrap_tensorflow.py\", line 58, in <module>\n",
      "    from tensorflow.python.pywrap_tensorflow_internal import *\n",
      "  File \"C:\\Users\\WIN\\Anaconda3\\lib\\site-packages\\tensorflow_core\\python\\pywrap_tensorflow_internal.py\", line 28, in <module>\n",
      "    _pywrap_tensorflow_internal = swig_import_helper()\n",
      "  File \"C:\\Users\\WIN\\Anaconda3\\lib\\site-packages\\tensorflow_core\\python\\pywrap_tensorflow_internal.py\", line 24, in swig_import_helper\n",
      "    _mod = imp.load_module('_pywrap_tensorflow_internal', fp, pathname, description)\n",
      "  File \"C:\\Users\\WIN\\Anaconda3\\lib\\imp.py\", line 242, in load_module\n",
      "    return load_dynamic(name, filename, file)\n",
      "  File \"C:\\Users\\WIN\\Anaconda3\\lib\\imp.py\", line 342, in load_dynamic\n",
      "    return _load(spec)\n",
      "ImportError: DLL load failed: The specified module could not be found.\n",
      "\n",
      "During handling of the above exception, another exception occurred:\n",
      "\n",
      "Traceback (most recent call last):\n",
      "  File \"C:\\Users\\WIN\\Anaconda3\\lib\\site-packages\\IPython\\core\\ultratb.py\", line 1148, in get_records\n",
      "    return _fixed_getinnerframes(etb, number_of_lines_of_context, tb_offset)\n",
      "  File \"C:\\Users\\WIN\\Anaconda3\\lib\\site-packages\\IPython\\core\\ultratb.py\", line 316, in wrapped\n",
      "    return f(*args, **kwargs)\n",
      "  File \"C:\\Users\\WIN\\Anaconda3\\lib\\site-packages\\IPython\\core\\ultratb.py\", line 350, in _fixed_getinnerframes\n",
      "    records = fix_frame_records_filenames(inspect.getinnerframes(etb, context))\n",
      "  File \"C:\\Users\\WIN\\Anaconda3\\lib\\inspect.py\", line 1502, in getinnerframes\n",
      "    frameinfo = (tb.tb_frame,) + getframeinfo(tb, context)\n",
      "  File \"C:\\Users\\WIN\\Anaconda3\\lib\\inspect.py\", line 1460, in getframeinfo\n",
      "    filename = getsourcefile(frame) or getfile(frame)\n",
      "  File \"C:\\Users\\WIN\\Anaconda3\\lib\\inspect.py\", line 696, in getsourcefile\n",
      "    if getattr(getmodule(object, filename), '__loader__', None) is not None:\n",
      "  File \"C:\\Users\\WIN\\Anaconda3\\lib\\inspect.py\", line 733, in getmodule\n",
      "    if ismodule(module) and hasattr(module, '__file__'):\n",
      "  File \"C:\\Users\\WIN\\Anaconda3\\lib\\site-packages\\tensorflow\\__init__.py\", line 50, in __getattr__\n",
      "    module = self._load()\n",
      "  File \"C:\\Users\\WIN\\Anaconda3\\lib\\site-packages\\tensorflow\\__init__.py\", line 44, in _load\n",
      "    module = _importlib.import_module(self.__name__)\n",
      "  File \"C:\\Users\\WIN\\Anaconda3\\lib\\importlib\\__init__.py\", line 127, in import_module\n",
      "    return _bootstrap._gcd_import(name[level:], package, level)\n",
      "  File \"<frozen importlib._bootstrap>\", line 1006, in _gcd_import\n",
      "  File \"<frozen importlib._bootstrap>\", line 983, in _find_and_load\n",
      "  File \"<frozen importlib._bootstrap>\", line 953, in _find_and_load_unlocked\n",
      "  File \"<frozen importlib._bootstrap>\", line 219, in _call_with_frames_removed\n",
      "  File \"<frozen importlib._bootstrap>\", line 1006, in _gcd_import\n",
      "  File \"<frozen importlib._bootstrap>\", line 983, in _find_and_load\n",
      "  File \"<frozen importlib._bootstrap>\", line 967, in _find_and_load_unlocked\n",
      "  File \"<frozen importlib._bootstrap>\", line 677, in _load_unlocked\n",
      "  File \"<frozen importlib._bootstrap_external>\", line 728, in exec_module\n",
      "  File \"<frozen importlib._bootstrap>\", line 219, in _call_with_frames_removed\n",
      "  File \"C:\\Users\\WIN\\Anaconda3\\lib\\site-packages\\tensorflow_core\\__init__.py\", line 42, in <module>\n",
      "    from . _api.v2 import audio\n",
      "  File \"C:\\Users\\WIN\\Anaconda3\\lib\\site-packages\\tensorflow_core\\_api\\v2\\audio\\__init__.py\", line 10, in <module>\n",
      "    from tensorflow.python.ops.gen_audio_ops import decode_wav\n",
      "  File \"C:\\Users\\WIN\\Anaconda3\\lib\\site-packages\\tensorflow_core\\python\\ops\\gen_audio_ops.py\", line 9, in <module>\n",
      "    from tensorflow.python import pywrap_tensorflow as _pywrap_tensorflow\n",
      "  File \"C:\\Users\\WIN\\Anaconda3\\lib\\site-packages\\tensorflow\\__init__.py\", line 50, in __getattr__\n",
      "    module = self._load()\n",
      "  File \"C:\\Users\\WIN\\Anaconda3\\lib\\site-packages\\tensorflow\\__init__.py\", line 44, in _load\n",
      "    module = _importlib.import_module(self.__name__)\n",
      "  File \"C:\\Users\\WIN\\Anaconda3\\lib\\importlib\\__init__.py\", line 127, in import_module\n",
      "    return _bootstrap._gcd_import(name[level:], package, level)\n",
      "  File \"C:\\Users\\WIN\\Anaconda3\\lib\\site-packages\\tensorflow_core\\python\\__init__.py\", line 49, in <module>\n",
      "    from tensorflow.python import pywrap_tensorflow\n",
      "  File \"C:\\Users\\WIN\\Anaconda3\\lib\\site-packages\\tensorflow_core\\python\\pywrap_tensorflow.py\", line 74, in <module>\n",
      "    raise ImportError(msg)\n",
      "ImportError: Traceback (most recent call last):\n",
      "  File \"C:\\Users\\WIN\\Anaconda3\\lib\\site-packages\\IPython\\core\\interactiveshell.py\", line 3331, in run_code\n",
      "    exec(code_obj, self.user_global_ns, self.user_ns)\n",
      "  File \"<ipython-input-41-55abfc832efa>\", line 2, in <module>\n",
      "    abstract_freq_dict=nltk.FreqDist(abstract_list)\n",
      "NameError: name 'abstract_list' is not defined\n",
      "\n",
      "During handling of the above exception, another exception occurred:\n",
      "\n",
      "Traceback (most recent call last):\n",
      "  File \"C:\\Users\\WIN\\Anaconda3\\lib\\site-packages\\IPython\\core\\interactiveshell.py\", line 2044, in showtraceback\n",
      "    stb = value._render_traceback_()\n",
      "AttributeError: 'NameError' object has no attribute '_render_traceback_'\n",
      "\n",
      "During handling of the above exception, another exception occurred:\n",
      "\n",
      "Traceback (most recent call last):\n",
      "  File \"C:\\Users\\WIN\\Anaconda3\\lib\\site-packages\\tensorflow_core\\python\\pywrap_tensorflow.py\", line 58, in <module>\n",
      "    from tensorflow.python.pywrap_tensorflow_internal import *\n",
      "  File \"C:\\Users\\WIN\\Anaconda3\\lib\\site-packages\\tensorflow_core\\python\\pywrap_tensorflow_internal.py\", line 28, in <module>\n",
      "    _pywrap_tensorflow_internal = swig_import_helper()\n",
      "  File \"C:\\Users\\WIN\\Anaconda3\\lib\\site-packages\\tensorflow_core\\python\\pywrap_tensorflow_internal.py\", line 24, in swig_import_helper\n",
      "    _mod = imp.load_module('_pywrap_tensorflow_internal', fp, pathname, description)\n",
      "  File \"C:\\Users\\WIN\\Anaconda3\\lib\\imp.py\", line 242, in load_module\n",
      "    return load_dynamic(name, filename, file)\n",
      "  File \"C:\\Users\\WIN\\Anaconda3\\lib\\imp.py\", line 342, in load_dynamic\n",
      "    return _load(spec)\n",
      "ImportError: DLL load failed: The specified module could not be found.\n",
      "\n",
      "\n",
      "Failed to load the native TensorFlow runtime.\n",
      "\n",
      "See https://www.tensorflow.org/install/errors\n",
      "\n",
      "for some common reasons and solutions.  Include the entire stack trace\n",
      "above this error message when asking for help.\n"
     ]
    },
    {
     "ename": "NameError",
     "evalue": "name 'abstract_list' is not defined",
     "output_type": "error",
     "traceback": [
      "\u001b[1;31m---------------------------------------------------------------------------\u001b[0m"
     ]
    }
   ],
   "source": [
    "# Words Frequency\n",
    "abstract_freq_dict=nltk.FreqDist(abstract_keyword_list)\n",
    "print('Total unique words in abstract: {}'.format(len(abstract_freq_dict)))"
   ]
  },
  {
   "cell_type": "code",
   "execution_count": null,
   "metadata": {},
   "outputs": [],
   "source": [
    "#Frequencies of most common 50 words\n",
    "print('First 50 frequency words:\\n{}'.format(abstract_freq_dict.most_common(50)))"
   ]
  },
  {
   "cell_type": "code",
   "execution_count": null,
   "metadata": {},
   "outputs": [],
   "source": [
    "#Frequency of a specific word\n",
    "print(\"The frequency of word 'internet': {}\".format(abstract_freq_dict['internet']))"
   ]
  },
  {
   "cell_type": "markdown",
   "metadata": {},
   "source": [
    "__Save The Result__"
   ]
  },
  {
   "cell_type": "code",
   "execution_count": null,
   "metadata": {},
   "outputs": [],
   "source": [
    "df_FreqDist=pd.DataFrame({'Words':list(abstract_freq_dict.keys()),'Count':list(abstract_freq_dict.values())})\n",
    "df_FreqDist.sort_values(by=['Count'],ascending=False,inplace=True)\n",
    "df_FreqDist=df_FreqDist.reset_index(drop=True)\n",
    "df_FreqDist.to_csv('FreqDist.csv', sep=';')\n",
    "df_FreqDist.head(2)"
   ]
  },
  {
   "cell_type": "code",
   "execution_count": null,
   "metadata": {},
   "outputs": [],
   "source": [
    "'four' in abstract_freq_dict"
   ]
  },
  {
   "cell_type": "code",
   "execution_count": null,
   "metadata": {},
   "outputs": [],
   "source": []
  }
 ],
 "metadata": {
  "kernelspec": {
   "display_name": "Python 3",
   "language": "python",
   "name": "python3"
  },
  "language_info": {
   "codemirror_mode": {
    "name": "ipython",
    "version": 3
   },
   "file_extension": ".py",
   "mimetype": "text/x-python",
   "name": "python",
   "nbconvert_exporter": "python",
   "pygments_lexer": "ipython3",
   "version": "3.7.4"
  }
 },
 "nbformat": 4,
 "nbformat_minor": 2
}

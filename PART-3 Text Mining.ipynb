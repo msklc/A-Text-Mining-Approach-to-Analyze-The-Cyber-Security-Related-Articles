{
 "cells": [
  {
   "cell_type": "markdown",
   "metadata": {},
   "source": [
    "# A Text Mining Approach to Analyze The Cyber Security Related Articles"
   ]
  },
  {
   "cell_type": "markdown",
   "metadata": {},
   "source": [
    "## PART-3: Text Mining\n",
    "\n",
    "__Feature Engineering with NLP techniques__\n"
   ]
  },
  {
   "cell_type": "markdown",
   "metadata": {},
   "source": [
    "__Importing of Required Libraries__"
   ]
  },
  {
   "cell_type": "code",
   "execution_count": 1,
   "metadata": {},
   "outputs": [],
   "source": [
    "import nltk\n",
    "import nltk\n",
    "from nltk.stem import WordNetLemmatizer\n",
    "from nltk.stem import PorterStemmer\n",
    "from nltk.corpus import wordnet\n",
    "import pickle\n",
    "import re\n",
    "\n",
    "\n",
    "import spacy\n",
    "import en_core_web_sm\n",
    "from spacy import displacy\n",
    "\n",
    "import string\n",
    "import numpy as np\n",
    "import pandas as pd\n",
    "import matplotlib.pyplot as plt\n",
    "\n",
    "from sklearn.cluster import KMeans\n",
    "\n",
    "import warnings\n",
    "warnings.filterwarnings(\"ignore\")"
   ]
  },
  {
   "cell_type": "markdown",
   "metadata": {},
   "source": [
    "__Loading Data__\n",
    "\n",
    "As mentioned Part-2 that pandas parquet options doesn't support timedelta type. So we need to use __fastparquet__ option, to keep the timedelta type format."
   ]
  },
  {
   "cell_type": "code",
   "execution_count": 2,
   "metadata": {},
   "outputs": [
    {
     "data": {
      "text/html": [
       "<div>\n",
       "<style scoped>\n",
       "    .dataframe tbody tr th:only-of-type {\n",
       "        vertical-align: middle;\n",
       "    }\n",
       "\n",
       "    .dataframe tbody tr th {\n",
       "        vertical-align: top;\n",
       "    }\n",
       "\n",
       "    .dataframe thead th {\n",
       "        text-align: right;\n",
       "    }\n",
       "</style>\n",
       "<table border=\"1\" class=\"dataframe\">\n",
       "  <thead>\n",
       "    <tr style=\"text-align: right;\">\n",
       "      <th></th>\n",
       "      <th>AwardID</th>\n",
       "      <th>AwardTitle</th>\n",
       "      <th>AwardEffectiveDate</th>\n",
       "      <th>AwardExpirationDate</th>\n",
       "      <th>AwardAmount</th>\n",
       "      <th>ProgramOfficer</th>\n",
       "      <th>Institution_Name</th>\n",
       "      <th>Institution_StateName</th>\n",
       "      <th>Abstract</th>\n",
       "      <th>Year</th>\n",
       "      <th>Award_Duration</th>\n",
       "      <th>AwardAmount_Million</th>\n",
       "      <th>Abstract_Lenght</th>\n",
       "    </tr>\n",
       "  </thead>\n",
       "  <tbody>\n",
       "    <tr>\n",
       "      <th>0</th>\n",
       "      <td>0110599</td>\n",
       "      <td>Collaborative Research Testing Affect Control ...</td>\n",
       "      <td>2001-08-15</td>\n",
       "      <td>2004-07-31</td>\n",
       "      <td>300000.0</td>\n",
       "      <td>Patricia White</td>\n",
       "      <td>University of Arizona</td>\n",
       "      <td>Arizona</td>\n",
       "      <td>The investigators will conduct a series of exp...</td>\n",
       "      <td>2001</td>\n",
       "      <td>1081 days</td>\n",
       "      <td>0.30</td>\n",
       "      <td>2194</td>\n",
       "    </tr>\n",
       "    <tr>\n",
       "      <th>1</th>\n",
       "      <td>0112426</td>\n",
       "      <td>Federal Cyber Service Initiative</td>\n",
       "      <td>2001-06-01</td>\n",
       "      <td>2007-06-30</td>\n",
       "      <td>149995.0</td>\n",
       "      <td>Timothy V. Fossum</td>\n",
       "      <td>University of Tulsa</td>\n",
       "      <td>Oklahoma</td>\n",
       "      <td>This program produces a cadre of computer scie...</td>\n",
       "      <td>2001</td>\n",
       "      <td>2220 days</td>\n",
       "      <td>0.15</td>\n",
       "      <td>765</td>\n",
       "    </tr>\n",
       "  </tbody>\n",
       "</table>\n",
       "</div>"
      ],
      "text/plain": [
       "   AwardID                                         AwardTitle  \\\n",
       "0  0110599  Collaborative Research Testing Affect Control ...   \n",
       "1  0112426                   Federal Cyber Service Initiative   \n",
       "\n",
       "  AwardEffectiveDate AwardExpirationDate  AwardAmount     ProgramOfficer  \\\n",
       "0         2001-08-15          2004-07-31     300000.0     Patricia White   \n",
       "1         2001-06-01          2007-06-30     149995.0  Timothy V. Fossum   \n",
       "\n",
       "        Institution_Name Institution_StateName  \\\n",
       "0  University of Arizona               Arizona   \n",
       "1    University of Tulsa              Oklahoma   \n",
       "\n",
       "                                            Abstract  Year Award_Duration  \\\n",
       "0  The investigators will conduct a series of exp...  2001      1081 days   \n",
       "1  This program produces a cadre of computer scie...  2001      2220 days   \n",
       "\n",
       "   AwardAmount_Million  Abstract_Lenght  \n",
       "0                 0.30             2194  \n",
       "1                 0.15              765  "
      ]
     },
     "execution_count": 2,
     "metadata": {},
     "output_type": "execute_result"
    }
   ],
   "source": [
    "df_sum=pd.read_parquet('df_sum_parquet.gzip',engine='fastparquet')\n",
    "df_investigator_cyber=pd.read_parquet('df_investigator_cyber_parque.gzip',engine='fastparquet')\n",
    "df_sum.head(2)"
   ]
  },
  {
   "cell_type": "markdown",
   "metadata": {},
   "source": [
    "### A-) Word Frequency"
   ]
  },
  {
   "cell_type": "markdown",
   "metadata": {},
   "source": [
    "__Replacing Of Contraction Words__"
   ]
  },
  {
   "cell_type": "code",
   "execution_count": 3,
   "metadata": {},
   "outputs": [
    {
     "data": {
      "text/html": [
       "<div>\n",
       "<style scoped>\n",
       "    .dataframe tbody tr th:only-of-type {\n",
       "        vertical-align: middle;\n",
       "    }\n",
       "\n",
       "    .dataframe tbody tr th {\n",
       "        vertical-align: top;\n",
       "    }\n",
       "\n",
       "    .dataframe thead th {\n",
       "        text-align: right;\n",
       "    }\n",
       "</style>\n",
       "<table border=\"1\" class=\"dataframe\">\n",
       "  <thead>\n",
       "    <tr style=\"text-align: right;\">\n",
       "      <th></th>\n",
       "      <th>AwardID</th>\n",
       "      <th>AwardTitle</th>\n",
       "      <th>AwardEffectiveDate</th>\n",
       "      <th>AwardExpirationDate</th>\n",
       "      <th>AwardAmount</th>\n",
       "      <th>ProgramOfficer</th>\n",
       "      <th>Institution_Name</th>\n",
       "      <th>Institution_StateName</th>\n",
       "      <th>Abstract</th>\n",
       "      <th>Year</th>\n",
       "      <th>Award_Duration</th>\n",
       "      <th>AwardAmount_Million</th>\n",
       "      <th>Abstract_Lenght</th>\n",
       "    </tr>\n",
       "  </thead>\n",
       "  <tbody>\n",
       "    <tr>\n",
       "      <th>0</th>\n",
       "      <td>0110599</td>\n",
       "      <td>Collaborative Research Testing Affect Control ...</td>\n",
       "      <td>2001-08-15</td>\n",
       "      <td>2004-07-31</td>\n",
       "      <td>300000.0</td>\n",
       "      <td>Patricia White</td>\n",
       "      <td>University of Arizona</td>\n",
       "      <td>Arizona</td>\n",
       "      <td>The investigators will conduct a series of exp...</td>\n",
       "      <td>2001</td>\n",
       "      <td>1081 days</td>\n",
       "      <td>0.30</td>\n",
       "      <td>2194</td>\n",
       "    </tr>\n",
       "    <tr>\n",
       "      <th>1</th>\n",
       "      <td>0112426</td>\n",
       "      <td>Federal Cyber Service Initiative</td>\n",
       "      <td>2001-06-01</td>\n",
       "      <td>2007-06-30</td>\n",
       "      <td>149995.0</td>\n",
       "      <td>Timothy V. Fossum</td>\n",
       "      <td>University of Tulsa</td>\n",
       "      <td>Oklahoma</td>\n",
       "      <td>This program produces a cadre of computer scie...</td>\n",
       "      <td>2001</td>\n",
       "      <td>2220 days</td>\n",
       "      <td>0.15</td>\n",
       "      <td>765</td>\n",
       "    </tr>\n",
       "  </tbody>\n",
       "</table>\n",
       "</div>"
      ],
      "text/plain": [
       "   AwardID                                         AwardTitle  \\\n",
       "0  0110599  Collaborative Research Testing Affect Control ...   \n",
       "1  0112426                   Federal Cyber Service Initiative   \n",
       "\n",
       "  AwardEffectiveDate AwardExpirationDate  AwardAmount     ProgramOfficer  \\\n",
       "0         2001-08-15          2004-07-31     300000.0     Patricia White   \n",
       "1         2001-06-01          2007-06-30     149995.0  Timothy V. Fossum   \n",
       "\n",
       "        Institution_Name Institution_StateName  \\\n",
       "0  University of Arizona               Arizona   \n",
       "1    University of Tulsa              Oklahoma   \n",
       "\n",
       "                                            Abstract  Year Award_Duration  \\\n",
       "0  The investigators will conduct a series of exp...  2001      1081 days   \n",
       "1  This program produces a cadre of computer scie...  2001      2220 days   \n",
       "\n",
       "   AwardAmount_Million  Abstract_Lenght  \n",
       "0                 0.30             2194  \n",
       "1                 0.15              765  "
      ]
     },
     "execution_count": 3,
     "metadata": {},
     "output_type": "execute_result"
    }
   ],
   "source": [
    "#Replace contraction words to alternative forms before tokenization\n",
    "replacement_patterns = {\n",
    "    r\"won\\'t\": \"will not\",\n",
    "    r\"can\\'t\": \"cannot\",\n",
    "    r\"i\\'m\": \"i am\",\n",
    "    r\"ain\\'t\": \"is not\",\n",
    "    r\"(\\w+)\\'ll\": \"\\g<1> will\",\n",
    "    r\"(\\w+)n\\'t\": \"\\g<1> not\",\n",
    "    r\"(\\w+)\\'ve\": \"\\g<1> have\",\n",
    "    r\"(\\w+)\\'s\": \"\\g<1> is\",\n",
    "    r\"(\\w+)\\'re\": \"\\g<1> are\",\n",
    "    r\"(\\w+)\\'d\": \"\\g<1> would\",\n",
    "    r\"&\": \"and\",\n",
    "    r\"<br/>\":\" \"}\n",
    "\n",
    "df_sum['Abstract']=df_sum['Abstract'].replace(replacement_patterns, regex=True)\n",
    "df_sum.head(2)"
   ]
  },
  {
   "cell_type": "markdown",
   "metadata": {},
   "source": [
    "__Merge All Values in Abstract Columns to A Single String__"
   ]
  },
  {
   "cell_type": "code",
   "execution_count": 4,
   "metadata": {},
   "outputs": [
    {
     "name": "stdout",
     "output_type": "stream",
     "text": [
      "Total character number of all Abstract columns is: 11265082\n"
     ]
    }
   ],
   "source": [
    "abstract_list=df_sum['Abstract'].tolist()\n",
    "abstract_sum=' '.join(abstract_list)\n",
    "print('Total character number of all Abstract columns is: {}'.format(len(abstract_sum)))"
   ]
  },
  {
   "cell_type": "markdown",
   "metadata": {},
   "source": [
    "__Tokenization and LowerCase__"
   ]
  },
  {
   "cell_type": "code",
   "execution_count": 5,
   "metadata": {},
   "outputs": [
    {
     "name": "stdout",
     "output_type": "stream",
     "text": [
      "Total lowercase words: 1765676\n"
     ]
    }
   ],
   "source": [
    "#word tokenization\n",
    "wrd_list = nltk.word_tokenize(abstract_sum)\n",
    "\n",
    "#lowercase\n",
    "wrd_list=[w.lower() for w in wrd_list]\n",
    "print('Total lowercase words: {}'.format(len(wrd_list)))"
   ]
  },
  {
   "cell_type": "markdown",
   "metadata": {},
   "source": [
    "__Remove Numbers__"
   ]
  },
  {
   "cell_type": "code",
   "execution_count": 6,
   "metadata": {},
   "outputs": [
    {
     "name": "stdout",
     "output_type": "stream",
     "text": [
      "Total words consist of only alphabets: 1532313\n"
     ]
    }
   ],
   "source": [
    "#remove numbers\n",
    "wrd_list_alpha=[w for w in wrd_list if w.isalpha()]\n",
    "print('Total words consist of only alphabets: {}'.format(len(wrd_list_alpha)))"
   ]
  },
  {
   "cell_type": "markdown",
   "metadata": {},
   "source": [
    "__Remove Written Form of Numbers__"
   ]
  },
  {
   "cell_type": "code",
   "execution_count": 7,
   "metadata": {},
   "outputs": [
    {
     "name": "stdout",
     "output_type": "stream",
     "text": [
      "Total words consist of only alphabets: 1527908\n"
     ]
    }
   ],
   "source": [
    "#Create numbers in written form for ignoring\n",
    "num_written= {1: 'one', 2: 'two', 3: 'three', 4: 'four', 5: 'five', \\\n",
    "             6: 'six', 7: 'seven', 8: 'eight', 9: 'nine', 10: 'ten', \\\n",
    "            11: 'eleven', 12: 'twelve', 13: 'thirteen', 14: 'fourteen', \\\n",
    "            15: 'fifteen', 16: 'sixteen', 17: 'seventeen', 18: 'eighteen', \\\n",
    "            19: 'nineteen', 20: 'twenty', 30: 'thirty', 40: 'forty', \\\n",
    "            50: 'fifty', 60: 'sixty', 70: 'seventy', 80: 'eighty', \\\n",
    "            90: 'ninety', 0: 'zero'}\n",
    "\n",
    "num_list=list(np.arange(0,100))\n",
    "\n",
    "num2words_list=[]\n",
    "\n",
    "def num2words(n):\n",
    "    try:\n",
    "        return num_written[n]\n",
    "    except:\n",
    "        try:\n",
    "            return num2words(n-n%10) + num2words(n%10)\n",
    "        except:\n",
    "            return 'None'\n",
    "\n",
    "        \n",
    "for num in num_list:\n",
    "    num2words_list.append(num2words(num))\n",
    "    \n",
    "wrd_list_rm_written_form = [w for w in wrd_list_alpha if w not in num2words_list]\n",
    "print('Total words consist of only alphabets: {}'.format(len(wrd_list_rm_written_form)))"
   ]
  },
  {
   "cell_type": "markdown",
   "metadata": {},
   "source": [
    "__Remove Stopwords__"
   ]
  },
  {
   "cell_type": "code",
   "execution_count": 8,
   "metadata": {},
   "outputs": [
    {
     "name": "stdout",
     "output_type": "stream",
     "text": [
      "Total words after removing stopwords: 936335\n"
     ]
    }
   ],
   "source": [
    "#define stopwords list\n",
    "stopwords_list=nltk.corpus.stopwords.words('english')\n",
    "\n",
    "#extend the stopwords list\n",
    "stopwords_list.extend(['cannot','many','much','also','well','better','via'])\n",
    "\n",
    "wrd_list_rm_stopwords = [w for w in wrd_list_rm_written_form if w not in stopwords_list]\n",
    "print('Total words after removing stopwords: {}'.format(len(wrd_list_rm_stopwords)))"
   ]
  },
  {
   "cell_type": "markdown",
   "metadata": {},
   "source": [
    "__Remove 1-Length Words__"
   ]
  },
  {
   "cell_type": "code",
   "execution_count": 9,
   "metadata": {},
   "outputs": [
    {
     "name": "stdout",
     "output_type": "stream",
     "text": [
      "Total words after removing 1-len words: 935577\n"
     ]
    }
   ],
   "source": [
    "#remove 1-len words\n",
    "wrd_list_one_len = [w for w in wrd_list_rm_stopwords if len(w)>=2]\n",
    "\n",
    "print('Total words after removing 1-len words: {}'.format(len(wrd_list_one_len)))"
   ]
  },
  {
   "cell_type": "markdown",
   "metadata": {},
   "source": [
    "__Counting The Words Frequency__"
   ]
  },
  {
   "cell_type": "code",
   "execution_count": 10,
   "metadata": {},
   "outputs": [
    {
     "name": "stdout",
     "output_type": "stream",
     "text": [
      "Total unique words before lemmatization: 25204\n"
     ]
    }
   ],
   "source": [
    "freq_dict_before=nltk.FreqDist(wrd_list_one_len)\n",
    "print('Total unique words before lemmatization: {}'.format(len(freq_dict_before)))"
   ]
  },
  {
   "cell_type": "code",
   "execution_count": 11,
   "metadata": {},
   "outputs": [
    {
     "name": "stdout",
     "output_type": "stream",
     "text": [
      "First 50 frequency words:\n",
      "[('research', 13368), ('project', 11564), ('data', 9591), ('students', 6695), ('systems', 6029), ('science', 5818), ('new', 5583), ('security', 3842), ('support', 3592), ('development', 3556), ('system', 3538), ('community', 3537), ('information', 3485), ('education', 3409), ('program', 3367), ('learning', 3334), ('engineering', 3166), ('university', 3126), ('cyberinfrastructure', 2987), ('software', 2973), ('design', 2966), ('network', 2899), ('develop', 2867), ('using', 2847), ('use', 2817), ('tools', 2793), ('cybersecurity', 2770), ('provide', 2713), ('computing', 2629), ('researchers', 2506), ('scientific', 2475), ('nsf', 2431), ('computational', 2419), ('technology', 2393), ('computer', 2337), ('infrastructure', 2291), ('national', 2215), ('broader', 2196), ('materials', 2153), ('cyber', 2139), ('award', 2091), ('work', 2066), ('activities', 2042), ('including', 2041), ('analysis', 2022), ('control', 1987), ('applications', 1975), ('resources', 1940), ('models', 1925), ('methods', 1868)]\n"
     ]
    }
   ],
   "source": [
    "print('First 50 frequency words:\\n{}'.format(freq_dict_before.most_common(50)))"
   ]
  },
  {
   "cell_type": "markdown",
   "metadata": {},
   "source": [
    "__Lemmatization__"
   ]
  },
  {
   "cell_type": "code",
   "execution_count": 12,
   "metadata": {},
   "outputs": [
    {
     "name": "stdout",
     "output_type": "stream",
     "text": [
      "Total unique words after lemmatization: 22290\n"
     ]
    }
   ],
   "source": [
    "#Lemmatization\n",
    "lemmatizer = WordNetLemmatizer()\n",
    "\n",
    "wrd_list_lemmas = [lemmatizer.lemmatize(w) for w in wrd_list_one_len]\n",
    "\n",
    "#Recounting the Words Frequency\n",
    "freq_dict=nltk.FreqDist(wrd_list_lemmas)\n",
    "\n",
    "print('Total unique words after lemmatization: {}'.format(len(freq_dict)))\n"
   ]
  },
  {
   "cell_type": "code",
   "execution_count": 13,
   "metadata": {},
   "outputs": [
    {
     "name": "stdout",
     "output_type": "stream",
     "text": [
      "First 50 frequency words:\n",
      "[('research', 13374), ('project', 12881), ('data', 9591), ('system', 9567), ('student', 7861), ('science', 6785), ('new', 5583), ('program', 4688), ('community', 4631), ('network', 4451), ('support', 4268), ('technology', 3977), ('security', 3842), ('development', 3748), ('impact', 3693), ('university', 3676), ('information', 3485), ('model', 3446), ('education', 3411), ('tool', 3348), ('learning', 3334), ('design', 3218), ('engineering', 3166), ('cyberinfrastructure', 2987), ('software', 2975), ('develop', 2867), ('using', 2847), ('application', 2837), ('use', 2817), ('cybersecurity', 2770), ('provide', 2713), ('computing', 2629), ('resource', 2604), ('infrastructure', 2604), ('researcher', 2592), ('computer', 2586), ('material', 2532), ('scientific', 2475), ('activity', 2450), ('nsf', 2433), ('computational', 2419), ('workshop', 2399), ('approach', 2285), ('analysis', 2282), ('national', 2215), ('broader', 2196), ('award', 2180), ('work', 2154), ('cyber', 2139), ('method', 2115)]\n"
     ]
    }
   ],
   "source": [
    "#Most common words\n",
    "print('First 50 frequency words:\\n{}'.format(freq_dict.most_common(50)))"
   ]
  },
  {
   "cell_type": "code",
   "execution_count": 92,
   "metadata": {},
   "outputs": [
    {
     "name": "stdout",
     "output_type": "stream",
     "text": [
      "The frequency of word 'internet': 731\n"
     ]
    }
   ],
   "source": [
    "#A specific word\n",
    "print(\"The frequency of word 'internet': {}\".format(freq_dict['internet']))"
   ]
  },
  {
   "cell_type": "markdown",
   "metadata": {},
   "source": [
    "__Saving The Result__"
   ]
  },
  {
   "cell_type": "code",
   "execution_count": 14,
   "metadata": {},
   "outputs": [
    {
     "data": {
      "text/html": [
       "<div>\n",
       "<style scoped>\n",
       "    .dataframe tbody tr th:only-of-type {\n",
       "        vertical-align: middle;\n",
       "    }\n",
       "\n",
       "    .dataframe tbody tr th {\n",
       "        vertical-align: top;\n",
       "    }\n",
       "\n",
       "    .dataframe thead th {\n",
       "        text-align: right;\n",
       "    }\n",
       "</style>\n",
       "<table border=\"1\" class=\"dataframe\">\n",
       "  <thead>\n",
       "    <tr style=\"text-align: right;\">\n",
       "      <th></th>\n",
       "      <th>Words</th>\n",
       "      <th>Count</th>\n",
       "    </tr>\n",
       "  </thead>\n",
       "  <tbody>\n",
       "    <tr>\n",
       "      <th>0</th>\n",
       "      <td>research</td>\n",
       "      <td>13374</td>\n",
       "    </tr>\n",
       "    <tr>\n",
       "      <th>1</th>\n",
       "      <td>project</td>\n",
       "      <td>12881</td>\n",
       "    </tr>\n",
       "    <tr>\n",
       "      <th>2</th>\n",
       "      <td>data</td>\n",
       "      <td>9591</td>\n",
       "    </tr>\n",
       "  </tbody>\n",
       "</table>\n",
       "</div>"
      ],
      "text/plain": [
       "      Words  Count\n",
       "0  research  13374\n",
       "1   project  12881\n",
       "2      data   9591"
      ]
     },
     "execution_count": 14,
     "metadata": {},
     "output_type": "execute_result"
    }
   ],
   "source": [
    "df_FreqDist=pd.DataFrame({'Words':list(freq_dict.keys()),'Count':list(freq_dict.values())})\n",
    "df_FreqDist.sort_values(by=['Count'],ascending=False,inplace=True)\n",
    "df_FreqDist=df_FreqDist.reset_index(drop=True)\n",
    "df_FreqDist.to_csv('FreqDist.csv', sep=';')\n",
    "df_FreqDist.head(3)"
   ]
  },
  {
   "cell_type": "markdown",
   "metadata": {},
   "source": [
    "## B-) Clustering and Topic Modeling"
   ]
  },
  {
   "cell_type": "code",
   "execution_count": 124,
   "metadata": {},
   "outputs": [
    {
     "data": {
      "text/html": [
       "<div>\n",
       "<style scoped>\n",
       "    .dataframe tbody tr th:only-of-type {\n",
       "        vertical-align: middle;\n",
       "    }\n",
       "\n",
       "    .dataframe tbody tr th {\n",
       "        vertical-align: top;\n",
       "    }\n",
       "\n",
       "    .dataframe thead th {\n",
       "        text-align: right;\n",
       "    }\n",
       "</style>\n",
       "<table border=\"1\" class=\"dataframe\">\n",
       "  <thead>\n",
       "    <tr style=\"text-align: right;\">\n",
       "      <th></th>\n",
       "      <th>AwardID</th>\n",
       "      <th>AwardTitle</th>\n",
       "      <th>Abstract</th>\n",
       "    </tr>\n",
       "  </thead>\n",
       "  <tbody>\n",
       "    <tr>\n",
       "      <th>0</th>\n",
       "      <td>0110599</td>\n",
       "      <td>Collaborative Research Testing Affect Control ...</td>\n",
       "      <td>The investigators will conduct a series of exp...</td>\n",
       "    </tr>\n",
       "    <tr>\n",
       "      <th>1</th>\n",
       "      <td>0112426</td>\n",
       "      <td>Federal Cyber Service Initiative</td>\n",
       "      <td>This program produces a cadre of computer scie...</td>\n",
       "    </tr>\n",
       "  </tbody>\n",
       "</table>\n",
       "</div>"
      ],
      "text/plain": [
       "   AwardID                                         AwardTitle  \\\n",
       "0  0110599  Collaborative Research Testing Affect Control ...   \n",
       "1  0112426                   Federal Cyber Service Initiative   \n",
       "\n",
       "                                            Abstract  \n",
       "0  The investigators will conduct a series of exp...  \n",
       "1  This program produces a cadre of computer scie...  "
      ]
     },
     "execution_count": 124,
     "metadata": {},
     "output_type": "execute_result"
    }
   ],
   "source": [
    "#Create a new DataFrame\n",
    "df_sum2=df_sum[['AwardID','AwardTitle','Abstract']]\n",
    "df_sum2.head(2)"
   ]
  },
  {
   "cell_type": "markdown",
   "metadata": {},
   "source": [
    "__Replacing Of Contraction Words__"
   ]
  },
  {
   "cell_type": "code",
   "execution_count": 125,
   "metadata": {},
   "outputs": [
    {
     "data": {
      "text/html": [
       "<div>\n",
       "<style scoped>\n",
       "    .dataframe tbody tr th:only-of-type {\n",
       "        vertical-align: middle;\n",
       "    }\n",
       "\n",
       "    .dataframe tbody tr th {\n",
       "        vertical-align: top;\n",
       "    }\n",
       "\n",
       "    .dataframe thead th {\n",
       "        text-align: right;\n",
       "    }\n",
       "</style>\n",
       "<table border=\"1\" class=\"dataframe\">\n",
       "  <thead>\n",
       "    <tr style=\"text-align: right;\">\n",
       "      <th></th>\n",
       "      <th>AwardID</th>\n",
       "      <th>AwardTitle</th>\n",
       "      <th>Abstract</th>\n",
       "    </tr>\n",
       "  </thead>\n",
       "  <tbody>\n",
       "    <tr>\n",
       "      <th>0</th>\n",
       "      <td>0110599</td>\n",
       "      <td>Collaborative Research Testing Affect Control ...</td>\n",
       "      <td>The investigators will conduct a series of exp...</td>\n",
       "    </tr>\n",
       "    <tr>\n",
       "      <th>1</th>\n",
       "      <td>0112426</td>\n",
       "      <td>Federal Cyber Service Initiative</td>\n",
       "      <td>This program produces a cadre of computer scie...</td>\n",
       "    </tr>\n",
       "  </tbody>\n",
       "</table>\n",
       "</div>"
      ],
      "text/plain": [
       "   AwardID                                         AwardTitle  \\\n",
       "0  0110599  Collaborative Research Testing Affect Control ...   \n",
       "1  0112426                   Federal Cyber Service Initiative   \n",
       "\n",
       "                                            Abstract  \n",
       "0  The investigators will conduct a series of exp...  \n",
       "1  This program produces a cadre of computer scie...  "
      ]
     },
     "execution_count": 125,
     "metadata": {},
     "output_type": "execute_result"
    }
   ],
   "source": [
    "replacement_patterns = {\n",
    "    r\"won\\'t\": \"will not\",\n",
    "    r\"can\\'t\": \"cannot\",\n",
    "    r\"i\\'m\": \"i am\",\n",
    "    r\"ain\\'t\": \"is not\",\n",
    "    r\"(\\w+)\\'ll\": \"\\g<1> will\",\n",
    "    r\"(\\w+)n\\'t\": \"\\g<1> not\",\n",
    "    r\"(\\w+)\\'ve\": \"\\g<1> have\",\n",
    "    r\"(\\w+)\\'s\": \"\\g<1> is\",\n",
    "    r\"(\\w+)\\'re\": \"\\g<1> are\",\n",
    "    r\"(\\w+)\\'d\": \"\\g<1> would\",\n",
    "    r\"&\": \"and\",\n",
    "    r\"<br/>\":\" \"}\n",
    "\n",
    "df_sum2['Abstract'].replace(replacement_patterns, regex=True, inplace=True)\n",
    "df_sum2.head(2)"
   ]
  },
  {
   "cell_type": "markdown",
   "metadata": {},
   "source": [
    "__Removing Unneccesery Words__\n",
    "\n",
    "We use __NER__ (Named Entity Recognition) function of __spacy__ library to detect named entities (people, places, organizations, dates, times etc.) from the text. After analyzing this words, we understood that they are unnecessary for clustering.\n",
    "\n",
    "An example of visualization of NER:"
   ]
  },
  {
   "cell_type": "code",
   "execution_count": 126,
   "metadata": {},
   "outputs": [
    {
     "data": {
      "text/html": [
       "<span class=\"tex2jax_ignore\"><div class=\"entities\" style=\"line-height: 2.5; direction: ltr\">This program produces a cadre of computer scientists with strong specializations in information assurance and a commitment to federal service. \n",
       "<mark class=\"entity\" style=\"background: #e4e7d2; padding: 0.45em 0.6em; margin: 0 0.25em; line-height: 1; border-radius: 0.35em;\">\n",
       "    Three\n",
       "    <span style=\"font-size: 0.8em; font-weight: bold; line-height: 1; border-radius: 0.35em; text-transform: uppercase; vertical-align: middle; margin-left: 0.5rem\">CARDINAL</span>\n",
       "</mark>\n",
       " cohorts of students complete a \n",
       "<mark class=\"entity\" style=\"background: #bfe1d9; padding: 0.45em 0.6em; margin: 0 0.25em; line-height: 1; border-radius: 0.35em;\">\n",
       "    two-year\n",
       "    <span style=\"font-size: 0.8em; font-weight: bold; line-height: 1; border-radius: 0.35em; text-transform: uppercase; vertical-align: middle; margin-left: 0.5rem\">DATE</span>\n",
       "</mark>\n",
       " program that integrates intense information assurance studies with research and outreach. Students also spend \n",
       "<mark class=\"entity\" style=\"background: #bfe1d9; padding: 0.45em 0.6em; margin: 0 0.25em; line-height: 1; border-radius: 0.35em;\">\n",
       "    one summer\n",
       "    <span style=\"font-size: 0.8em; font-weight: bold; line-height: 1; border-radius: 0.35em; text-transform: uppercase; vertical-align: middle; margin-left: 0.5rem\">DATE</span>\n",
       "</mark>\n",
       " as interns in federal agencies. Upon completion of degrees at \n",
       "<mark class=\"entity\" style=\"background: #bfe1d9; padding: 0.45em 0.6em; margin: 0 0.25em; line-height: 1; border-radius: 0.35em;\">\n",
       "    the end of two years\n",
       "    <span style=\"font-size: 0.8em; font-weight: bold; line-height: 1; border-radius: 0.35em; text-transform: uppercase; vertical-align: middle; margin-left: 0.5rem\">DATE</span>\n",
       "</mark>\n",
       " the students then enter the federal cyber service. The program features an emphasis on collaborative research and outreach to the community. The program components train students in information assurance theory and practice while providing an environment that fosters teamwork, strengthens motivation, and builds a sense of professionalism and commitment to service.  </div></span>"
      ],
      "text/plain": [
       "<IPython.core.display.HTML object>"
      ]
     },
     "metadata": {},
     "output_type": "display_data"
    }
   ],
   "source": [
    "#define the nlp object\n",
    "nlp = en_core_web_sm.load()\n",
    "\n",
    "doc=nlp(str(df_sum2['Abstract'][1]))\n",
    "\n",
    "displacy.render(doc, style=\"ent\",jupyter=True)"
   ]
  },
  {
   "cell_type": "code",
   "execution_count": 127,
   "metadata": {},
   "outputs": [
    {
     "name": "stdout",
     "output_type": "stream",
     "text": [
      "Total NER words: 64756\n",
      "Total unique NER words: 18582\n",
      "Total words before removing NER: 11260530\n",
      "Total words after removing NER: 10506240\n"
     ]
    }
   ],
   "source": [
    "#create a list for NER\n",
    "NER_list=[]\n",
    "\n",
    "#Find\n",
    "for n in range(df_sum2.shape[0]):\n",
    "    doc=nlp(str(df_sum2['Abstract'][n]))\n",
    "\n",
    "    for ent in doc.ents:\n",
    "        NER_list.append(ent.text)\n",
    "        \n",
    "NER_list = [' {0} '.format(elem) for elem in NER_list] #Add space to begins and ends of all NERs\n",
    "\n",
    "print('Total NER words: {}'.format(len(NER_list)))\n",
    "NER_list=list(set(NER_list)) #for unique elements in list\n",
    "print('Total unique NER words: {}'.format(len(NER_list)))\n",
    "\n",
    "print('Total words before removing NER: {}'.format(sum(df_sum2['Abstract'].str.len())))\n",
    "\n",
    "for NER in NER_list:\n",
    "    df_sum2['Abstract']=df_sum2['Abstract'].str.replace(NER,' ',regex=False) #Because,some NERs have punctuation\n",
    "print('Total words after removing NER: {}'.format(sum(df_sum2['Abstract'].str.len())))"
   ]
  },
  {
   "cell_type": "markdown",
   "metadata": {},
   "source": [
    "__Tokenization and LowerCase__"
   ]
  },
  {
   "cell_type": "code",
   "execution_count": 128,
   "metadata": {},
   "outputs": [
    {
     "name": "stdout",
     "output_type": "stream",
     "text": [
      "Total words: 1662401\n"
     ]
    },
    {
     "data": {
      "text/html": [
       "<div>\n",
       "<style scoped>\n",
       "    .dataframe tbody tr th:only-of-type {\n",
       "        vertical-align: middle;\n",
       "    }\n",
       "\n",
       "    .dataframe tbody tr th {\n",
       "        vertical-align: top;\n",
       "    }\n",
       "\n",
       "    .dataframe thead th {\n",
       "        text-align: right;\n",
       "    }\n",
       "</style>\n",
       "<table border=\"1\" class=\"dataframe\">\n",
       "  <thead>\n",
       "    <tr style=\"text-align: right;\">\n",
       "      <th></th>\n",
       "      <th>AwardID</th>\n",
       "      <th>AwardTitle</th>\n",
       "      <th>Abstract</th>\n",
       "      <th>Abstract_Tokens</th>\n",
       "    </tr>\n",
       "  </thead>\n",
       "  <tbody>\n",
       "    <tr>\n",
       "      <th>0</th>\n",
       "      <td>0110599</td>\n",
       "      <td>Collaborative Research Testing Affect Control ...</td>\n",
       "      <td>The investigators will conduct a of experiment...</td>\n",
       "      <td>[the, investigators, will, conduct, a, of, exp...</td>\n",
       "    </tr>\n",
       "    <tr>\n",
       "      <th>1</th>\n",
       "      <td>0112426</td>\n",
       "      <td>Federal Cyber Service Initiative</td>\n",
       "      <td>This program produces a cadre of computer scie...</td>\n",
       "      <td>[this, program, produces, a, cadre, of, comput...</td>\n",
       "    </tr>\n",
       "  </tbody>\n",
       "</table>\n",
       "</div>"
      ],
      "text/plain": [
       "   AwardID                                         AwardTitle  \\\n",
       "0  0110599  Collaborative Research Testing Affect Control ...   \n",
       "1  0112426                   Federal Cyber Service Initiative   \n",
       "\n",
       "                                            Abstract  \\\n",
       "0  The investigators will conduct a of experiment...   \n",
       "1  This program produces a cadre of computer scie...   \n",
       "\n",
       "                                     Abstract_Tokens  \n",
       "0  [the, investigators, will, conduct, a, of, exp...  \n",
       "1  [this, program, produces, a, cadre, of, comput...  "
      ]
     },
     "execution_count": 128,
     "metadata": {},
     "output_type": "execute_result"
    }
   ],
   "source": [
    "#word tokenization and lowercase\n",
    "df_sum2['Abstract_Tokens'] = df_sum2['Abstract'].str.lower().apply(nltk.word_tokenize)\n",
    "print('Total words: {}'.format(sum(df_sum2['Abstract_Tokens'].str.len())))\n",
    "df_sum2.head(2)"
   ]
  },
  {
   "cell_type": "markdown",
   "metadata": {},
   "source": [
    "__Remove Numbers__"
   ]
  },
  {
   "cell_type": "code",
   "execution_count": 129,
   "metadata": {},
   "outputs": [
    {
     "name": "stdout",
     "output_type": "stream",
     "text": [
      "Total words consist of only alphabets: 1437802\n"
     ]
    },
    {
     "data": {
      "text/html": [
       "<div>\n",
       "<style scoped>\n",
       "    .dataframe tbody tr th:only-of-type {\n",
       "        vertical-align: middle;\n",
       "    }\n",
       "\n",
       "    .dataframe tbody tr th {\n",
       "        vertical-align: top;\n",
       "    }\n",
       "\n",
       "    .dataframe thead th {\n",
       "        text-align: right;\n",
       "    }\n",
       "</style>\n",
       "<table border=\"1\" class=\"dataframe\">\n",
       "  <thead>\n",
       "    <tr style=\"text-align: right;\">\n",
       "      <th></th>\n",
       "      <th>AwardID</th>\n",
       "      <th>AwardTitle</th>\n",
       "      <th>Abstract</th>\n",
       "      <th>Abstract_Tokens</th>\n",
       "    </tr>\n",
       "  </thead>\n",
       "  <tbody>\n",
       "    <tr>\n",
       "      <th>0</th>\n",
       "      <td>0110599</td>\n",
       "      <td>Collaborative Research Testing Affect Control ...</td>\n",
       "      <td>The investigators will conduct a of experiment...</td>\n",
       "      <td>[the, investigators, will, conduct, a, of, exp...</td>\n",
       "    </tr>\n",
       "    <tr>\n",
       "      <th>1</th>\n",
       "      <td>0112426</td>\n",
       "      <td>Federal Cyber Service Initiative</td>\n",
       "      <td>This program produces a cadre of computer scie...</td>\n",
       "      <td>[this, program, produces, a, cadre, of, comput...</td>\n",
       "    </tr>\n",
       "  </tbody>\n",
       "</table>\n",
       "</div>"
      ],
      "text/plain": [
       "   AwardID                                         AwardTitle  \\\n",
       "0  0110599  Collaborative Research Testing Affect Control ...   \n",
       "1  0112426                   Federal Cyber Service Initiative   \n",
       "\n",
       "                                            Abstract  \\\n",
       "0  The investigators will conduct a of experiment...   \n",
       "1  This program produces a cadre of computer scie...   \n",
       "\n",
       "                                     Abstract_Tokens  \n",
       "0  [the, investigators, will, conduct, a, of, exp...  \n",
       "1  [this, program, produces, a, cadre, of, comput...  "
      ]
     },
     "execution_count": 129,
     "metadata": {},
     "output_type": "execute_result"
    }
   ],
   "source": [
    "#remove numbers\n",
    "for n in range(df_sum2.shape[0]):\n",
    "    #print(n)\n",
    "    df_sum2['Abstract_Tokens'][n]=[w for w in df_sum2['Abstract_Tokens'][n] if w.isalpha()]\n",
    "print('Total words consist of only alphabets: {}'.format(sum(df_sum2['Abstract_Tokens'].str.len())))\n",
    "df_sum2.head(2)"
   ]
  },
  {
   "cell_type": "markdown",
   "metadata": {},
   "source": [
    "__Remove Stopwords__"
   ]
  },
  {
   "cell_type": "code",
   "execution_count": 130,
   "metadata": {},
   "outputs": [
    {
     "name": "stdout",
     "output_type": "stream",
     "text": [
      "Total words after removing stopwords: 848752\n"
     ]
    },
    {
     "data": {
      "text/html": [
       "<div>\n",
       "<style scoped>\n",
       "    .dataframe tbody tr th:only-of-type {\n",
       "        vertical-align: middle;\n",
       "    }\n",
       "\n",
       "    .dataframe tbody tr th {\n",
       "        vertical-align: top;\n",
       "    }\n",
       "\n",
       "    .dataframe thead th {\n",
       "        text-align: right;\n",
       "    }\n",
       "</style>\n",
       "<table border=\"1\" class=\"dataframe\">\n",
       "  <thead>\n",
       "    <tr style=\"text-align: right;\">\n",
       "      <th></th>\n",
       "      <th>AwardID</th>\n",
       "      <th>AwardTitle</th>\n",
       "      <th>Abstract</th>\n",
       "      <th>Abstract_Tokens</th>\n",
       "    </tr>\n",
       "  </thead>\n",
       "  <tbody>\n",
       "    <tr>\n",
       "      <th>0</th>\n",
       "      <td>0110599</td>\n",
       "      <td>Collaborative Research Testing Affect Control ...</td>\n",
       "      <td>The investigators will conduct a of experiment...</td>\n",
       "      <td>[investigators, conduct, experiments, focus, c...</td>\n",
       "    </tr>\n",
       "    <tr>\n",
       "      <th>1</th>\n",
       "      <td>0112426</td>\n",
       "      <td>Federal Cyber Service Initiative</td>\n",
       "      <td>This program produces a cadre of computer scie...</td>\n",
       "      <td>[produces, cadre, computer, scientists, strong...</td>\n",
       "    </tr>\n",
       "  </tbody>\n",
       "</table>\n",
       "</div>"
      ],
      "text/plain": [
       "   AwardID                                         AwardTitle  \\\n",
       "0  0110599  Collaborative Research Testing Affect Control ...   \n",
       "1  0112426                   Federal Cyber Service Initiative   \n",
       "\n",
       "                                            Abstract  \\\n",
       "0  The investigators will conduct a of experiment...   \n",
       "1  This program produces a cadre of computer scie...   \n",
       "\n",
       "                                     Abstract_Tokens  \n",
       "0  [investigators, conduct, experiments, focus, c...  \n",
       "1  [produces, cadre, computer, scientists, strong...  "
      ]
     },
     "execution_count": 130,
     "metadata": {},
     "output_type": "execute_result"
    }
   ],
   "source": [
    "#define stopwords list\n",
    "stopwords_list=nltk.corpus.stopwords.words('english')\n",
    "\n",
    "#extend the stopwords list\n",
    "stopwords_list.extend(['cannot','many','much','also','well','better','via','able'])\n",
    "\n",
    "#extend the stopwords list with unneccessary words for this study\n",
    "stopwords_list.extend(['abstract','program','pi'])\n",
    "\n",
    "\n",
    "for n in range(df_sum2.shape[0]):\n",
    "    df_sum2['Abstract_Tokens'][n]=[w for w in df_sum2['Abstract_Tokens'][n] if w not in stopwords_list]\n",
    "print('Total words after removing stopwords: {}'.format(sum(df_sum2['Abstract_Tokens'].str.len())))\n",
    "df_sum2.head(2)"
   ]
  },
  {
   "cell_type": "markdown",
   "metadata": {},
   "source": [
    "__Lemmatization with POS Tag__"
   ]
  },
  {
   "cell_type": "code",
   "execution_count": 131,
   "metadata": {},
   "outputs": [
    {
     "name": "stdout",
     "output_type": "stream",
     "text": [
      "Total words after lemmatization: 848752\n"
     ]
    },
    {
     "data": {
      "text/html": [
       "<div>\n",
       "<style scoped>\n",
       "    .dataframe tbody tr th:only-of-type {\n",
       "        vertical-align: middle;\n",
       "    }\n",
       "\n",
       "    .dataframe tbody tr th {\n",
       "        vertical-align: top;\n",
       "    }\n",
       "\n",
       "    .dataframe thead th {\n",
       "        text-align: right;\n",
       "    }\n",
       "</style>\n",
       "<table border=\"1\" class=\"dataframe\">\n",
       "  <thead>\n",
       "    <tr style=\"text-align: right;\">\n",
       "      <th></th>\n",
       "      <th>AwardID</th>\n",
       "      <th>AwardTitle</th>\n",
       "      <th>Abstract</th>\n",
       "      <th>Abstract_Tokens</th>\n",
       "    </tr>\n",
       "  </thead>\n",
       "  <tbody>\n",
       "    <tr>\n",
       "      <th>0</th>\n",
       "      <td>0110599</td>\n",
       "      <td>Collaborative Research Testing Affect Control ...</td>\n",
       "      <td>The investigators will conduct a of experiment...</td>\n",
       "      <td>[investigator, conduct, experiment, focus, cru...</td>\n",
       "    </tr>\n",
       "    <tr>\n",
       "      <th>1</th>\n",
       "      <td>0112426</td>\n",
       "      <td>Federal Cyber Service Initiative</td>\n",
       "      <td>This program produces a cadre of computer scie...</td>\n",
       "      <td>[produce, cadre, computer, scientist, strong, ...</td>\n",
       "    </tr>\n",
       "  </tbody>\n",
       "</table>\n",
       "</div>"
      ],
      "text/plain": [
       "   AwardID                                         AwardTitle  \\\n",
       "0  0110599  Collaborative Research Testing Affect Control ...   \n",
       "1  0112426                   Federal Cyber Service Initiative   \n",
       "\n",
       "                                            Abstract  \\\n",
       "0  The investigators will conduct a of experiment...   \n",
       "1  This program produces a cadre of computer scie...   \n",
       "\n",
       "                                     Abstract_Tokens  \n",
       "0  [investigator, conduct, experiment, focus, cru...  \n",
       "1  [produce, cadre, computer, scientist, strong, ...  "
      ]
     },
     "execution_count": 131,
     "metadata": {},
     "output_type": "execute_result"
    }
   ],
   "source": [
    "#define lemmatizer() object\n",
    "lemmatizer = WordNetLemmatizer()\n",
    "\n",
    "#lemmatize with POS Tag\n",
    "def get_wordnet_pos(word):\n",
    "    #Map POS tag to first character lemmatize() accepts\n",
    "    tag = nltk.pos_tag([word])[0][1][0].upper()\n",
    "    tag_dict = {\"J\": wordnet.ADJ,\n",
    "                \"N\": wordnet.NOUN,\n",
    "                \"V\": wordnet.VERB,\n",
    "                \"R\": wordnet.ADV}\n",
    "\n",
    "    return tag_dict.get(tag, wordnet.NOUN)\n",
    "\n",
    "\n",
    "for n in range(df_sum2.shape[0]):\n",
    "    df_sum2['Abstract_Tokens'][n]=[lemmatizer.lemmatize(w,get_wordnet_pos(w)) for w in df_sum2['Abstract_Tokens'][n]]\n",
    "\n",
    "print('Total words after lemmatization: {}'.format(sum(df_sum2['Abstract_Tokens'].str.len())))\n",
    "df_sum2.head(2)"
   ]
  },
  {
   "cell_type": "markdown",
   "metadata": {},
   "source": [
    "__Remove 1-Length Words__\n",
    "\n",
    "Punctuation\n",
    "Punctuation are the unnecessary symbols that are in our corpus documents,"
   ]
  },
  {
   "cell_type": "code",
   "execution_count": 132,
   "metadata": {
    "scrolled": true
   },
   "outputs": [
    {
     "name": "stdout",
     "output_type": "stream",
     "text": [
      "Total words after removing 1-len words: 847894\n"
     ]
    },
    {
     "data": {
      "text/html": [
       "<div>\n",
       "<style scoped>\n",
       "    .dataframe tbody tr th:only-of-type {\n",
       "        vertical-align: middle;\n",
       "    }\n",
       "\n",
       "    .dataframe tbody tr th {\n",
       "        vertical-align: top;\n",
       "    }\n",
       "\n",
       "    .dataframe thead th {\n",
       "        text-align: right;\n",
       "    }\n",
       "</style>\n",
       "<table border=\"1\" class=\"dataframe\">\n",
       "  <thead>\n",
       "    <tr style=\"text-align: right;\">\n",
       "      <th></th>\n",
       "      <th>AwardID</th>\n",
       "      <th>AwardTitle</th>\n",
       "      <th>Abstract</th>\n",
       "      <th>Abstract_Tokens</th>\n",
       "    </tr>\n",
       "  </thead>\n",
       "  <tbody>\n",
       "    <tr>\n",
       "      <th>0</th>\n",
       "      <td>0110599</td>\n",
       "      <td>Collaborative Research Testing Affect Control ...</td>\n",
       "      <td>The investigators will conduct a of experiment...</td>\n",
       "      <td>[investigator, conduct, experiment, focus, cru...</td>\n",
       "    </tr>\n",
       "    <tr>\n",
       "      <th>1</th>\n",
       "      <td>0112426</td>\n",
       "      <td>Federal Cyber Service Initiative</td>\n",
       "      <td>This program produces a cadre of computer scie...</td>\n",
       "      <td>[produce, cadre, computer, scientist, strong, ...</td>\n",
       "    </tr>\n",
       "  </tbody>\n",
       "</table>\n",
       "</div>"
      ],
      "text/plain": [
       "   AwardID                                         AwardTitle  \\\n",
       "0  0110599  Collaborative Research Testing Affect Control ...   \n",
       "1  0112426                   Federal Cyber Service Initiative   \n",
       "\n",
       "                                            Abstract  \\\n",
       "0  The investigators will conduct a of experiment...   \n",
       "1  This program produces a cadre of computer scie...   \n",
       "\n",
       "                                     Abstract_Tokens  \n",
       "0  [investigator, conduct, experiment, focus, cru...  \n",
       "1  [produce, cadre, computer, scientist, strong, ...  "
      ]
     },
     "execution_count": 132,
     "metadata": {},
     "output_type": "execute_result"
    }
   ],
   "source": [
    "#remove 1-len words\n",
    "for n in range(df_sum2.shape[0]):\n",
    "    df_sum2['Abstract_Tokens'][n]=[w for w in df_sum2['Abstract_Tokens'][n] if len(w)>=2]\n",
    "print('Total words after removing 1-len words: {}'.format(sum(df_sum2['Abstract_Tokens'].str.len())))\n",
    "df_sum2.head(2)"
   ]
  },
  {
   "cell_type": "code",
   "execution_count": 123,
   "metadata": {},
   "outputs": [
    {
     "data": {
      "text/plain": [
       "370104"
      ]
     },
     "execution_count": 123,
     "metadata": {},
     "output_type": "execute_result"
    }
   ],
   "source": [
    "url='https://raw.githubusercontent.com/dwyl/english-words/master/words_alpha.txt'\n",
    "data = pd.read_csv(url,  header=None)\n",
    "wordlist=list(data[0].values)\n",
    "len(wordlist)"
   ]
  },
  {
   "cell_type": "code",
   "execution_count": 133,
   "metadata": {},
   "outputs": [
    {
     "name": "stdout",
     "output_type": "stream",
     "text": [
      "Total words after removing the meaningless words: 823027\n"
     ]
    },
    {
     "data": {
      "text/html": [
       "<div>\n",
       "<style scoped>\n",
       "    .dataframe tbody tr th:only-of-type {\n",
       "        vertical-align: middle;\n",
       "    }\n",
       "\n",
       "    .dataframe tbody tr th {\n",
       "        vertical-align: top;\n",
       "    }\n",
       "\n",
       "    .dataframe thead th {\n",
       "        text-align: right;\n",
       "    }\n",
       "</style>\n",
       "<table border=\"1\" class=\"dataframe\">\n",
       "  <thead>\n",
       "    <tr style=\"text-align: right;\">\n",
       "      <th></th>\n",
       "      <th>AwardID</th>\n",
       "      <th>AwardTitle</th>\n",
       "      <th>Abstract</th>\n",
       "      <th>Abstract_Tokens</th>\n",
       "    </tr>\n",
       "  </thead>\n",
       "  <tbody>\n",
       "    <tr>\n",
       "      <th>0</th>\n",
       "      <td>0110599</td>\n",
       "      <td>Collaborative Research Testing Affect Control ...</td>\n",
       "      <td>The investigators will conduct a of experiment...</td>\n",
       "      <td>[investigator, conduct, experiment, focus, cru...</td>\n",
       "    </tr>\n",
       "    <tr>\n",
       "      <th>1</th>\n",
       "      <td>0112426</td>\n",
       "      <td>Federal Cyber Service Initiative</td>\n",
       "      <td>This program produces a cadre of computer scie...</td>\n",
       "      <td>[produce, cadre, computer, scientist, strong, ...</td>\n",
       "    </tr>\n",
       "  </tbody>\n",
       "</table>\n",
       "</div>"
      ],
      "text/plain": [
       "   AwardID                                         AwardTitle  \\\n",
       "0  0110599  Collaborative Research Testing Affect Control ...   \n",
       "1  0112426                   Federal Cyber Service Initiative   \n",
       "\n",
       "                                            Abstract  \\\n",
       "0  The investigators will conduct a of experiment...   \n",
       "1  This program produces a cadre of computer scie...   \n",
       "\n",
       "                                     Abstract_Tokens  \n",
       "0  [investigator, conduct, experiment, focus, cru...  \n",
       "1  [produce, cadre, computer, scientist, strong, ...  "
      ]
     },
     "execution_count": 133,
     "metadata": {},
     "output_type": "execute_result"
    }
   ],
   "source": [
    "#Creat a wordlist\n",
    "url='https://raw.githubusercontent.com/dwyl/english-words/master/words_alpha.txt'\n",
    "data = pd.read_csv(url,  header=None)\n",
    "wordlist=list(data[0].values)\n",
    "\n",
    "meaningless_list=[]\n",
    "\n",
    "#Check the tokens from wordlist\n",
    "for n in range(df_sum2.shape[0]):\n",
    "    meaningless=[w for w in  df_sum2['Abstract_Tokens'][n] if w not in wordlist]\n",
    "    meaningless_list.extend(meaningless)\n",
    "    df_sum2['Abstract_Tokens'][n]=[w for w in  df_sum2['Abstract_Tokens'][n] if w in wordlist]\n",
    "print('Total words after removing the meaningless words: {}'.format(sum(df_sum2['Abstract_Tokens'].str.len())))\n",
    "df_sum2.head(2)"
   ]
  },
  {
   "cell_type": "code",
   "execution_count": 134,
   "metadata": {},
   "outputs": [
    {
     "name": "stdout",
     "output_type": "stream",
     "text": [
      "{'cmi', 'nicoya', 'venkatesh', 'hantavirus', 'fnirs', 'dmrg', 'wabash', 'photochromes', 'atp', 'jantke', 'autostereoscopic', 'wais', 'yeung', 'tandd', 'pna', 'uconn', 'fsafe', 'filesender', 'iacbp', 'magnetoencephalography', 'compositionality', 'byod', 'databasing', 'conversim', 'aquaponics', 'ntp', 'streamwise', 'sserca', 'ebam', 'pleth', 'sandt', 'ccc', 'activies', 'stnos', 'metastructure', 'logothetis', 'virtualized', 'nrdc', 'vectorbase', 'uw', 'quadrotors', 'qw', 'mudslide', 'rbdil', 'faultlines', 'zetabytes', 'lipon', 'ciac', 'operationalization', 'qedc', 'rcn', 'stereoselective', 'sfsu', 'chikyu', 'byu', 'iffs', 'pnetcdf', 'belarbi', 'systemof', 'bronfenbrenner', 'plae', 'mgp', 'disbaled', 'overnights', 'biocomputation', 'cipres', 'infotainment', 'registerd', 'ayman', 'seddb', 'reputational', 'competitivity', 'mellanox', 'msi', 'uno', 'dimatia', 'francesco', 'planetlab', 'blueroof', 'chipset', 'shepens', 'synergizing', 'http', 'sepm', 'cyberstem', 'supersymmetric', 'buell', 'oaxaca', 'nibib', 'opentopography', 'fluxbuster', 'socioculturism', 'mploy', 'transcriptomes', 'gdpr', 'eot', 'jeyanandh', 'sftp', 'szeged', 'nanoparticles', 'henkelman', 'forrest', 'chipsets', 'oligopeptides', 'ctos', 'superdarn', 'kinect', 'cca', 'geounits', 'rhodoquinone', 'qwalk', 'macrosystem', 'dift', 'multiarticulating', 'bernoulli', 'icam', 'spc', 'neuroinformatics', 'feedforward', 'citylines', 'mainstreaming', 'mpqc', 'biomineralization', 'stromgren', 'distributionally', 'nanopores', 'ilam', 'videoconferencing', 'rmd', 'diy', 'idc', 'phy', 'hyst', 'gibabits', 'apb', 'conformally', 'llvm', 'pak', 'cnrc', 'validators', 'kataphatic', 'tractography', 'kinova', 'kruiser', 'bielefeld', 'anns', 'phytoalexins', 'praxair', 'sociocomputational', 'fmri', 'ibp', 'rhode', 'aadl', 'assistments', 'freebase', 'dcew', 'hbm', 'umrb', 'maravelias', 'dibbs', 'cyberplus', 'cydberinfrastructure', 'ijs', 'kluwer', 'uk', 'iisc', 'saddlepoint', 'espar', 'gsce', 'skynet', 'biomineral', 'sonographic', 'lbdu', 'sescs', 'ncalm', 'cyberthreats', 'geostatistical', 'wilmington', 'polyrotaxanes', 'collabrx', 'magdy', 'skormin', 'bioreactors', 'rrna', 'ionome', 'myproxy', 'chpc', 'akes', 'socioecological', 'wuchun', 'tbn', 'digitaluniverse', 'mimo', 'fluoroorganic', 'gisella', 'npo', 'tecnológico', 'emc', 'vsto', 'vsb', 'chatbots', 'informaticists', 'hypergraph', 'collaboratioin', 'microbubbles', 'bioderived', 'meyerhoff', 'cryptoreads', 'metabonomic', 'rtss', 'cybersite', 'hpcaas', 'metagenomic', 'iin', 'biradical', 'counterpartners', 'ciw', 'bienville', 'startap', 'bdsp', 'glerl', 'smartgreen', 'sygus', 'asic', 'nci', 'auc', 'ctsc', 'geomicrobiology', 'virgilio', 'ccny', 'cyberscholars', 'nonorthonormal', 'ppdg', 'multirotor', 'kocaeli', 'bowring', 'kofke', 'syngas', 'schrdinger', 'interpolants', 'aluminoborosilicate', 'nsa', 'creu', 'zhijun', 'dmitri', 'soecs', 'caas', 'qolt', 'prms', 'nitrandd', 'rths', 'hyperparameter', 'fiu', 'amadeu', 'fau', 'huseyin', 'upfront', 'smartutors', 'micromechanical', 'gb', 'salk', 'asphaltenes', 'igns', 'courte', 'hydrodeoxygenation', 'cyberterrorism', 'cryptocurrencies', 'iodp', 'microcavity', 'mindset', 'dqs', 'circl', 'ccsia', 'ortholog', 'alexanmder', 'ecogeo', 'automatatheoretic', 'electroporation', 'genotyping', 'tseen', 'shrublands', 'ecse', 'zoomable', 'pohl', 'reu', 'multifunctional', 'xci', 'icalt', 'lbnl', 'vbes', 'biomacromolecules', 'phishing', 'blockchain', 'transcriptomics', 'elie', 'masaryk', 'nehrp', 'trouve', 'tacc', 'bioelectronic', 'microcontroller', 'ssh', 'fdr', 'scp', 'cmes', 'gallaudet', 'microalgal', 'powertrain', 'sivapalan', 'tcloud', 'openmp', 'trialed', 'colby', 'metamaterials', 'tempisque', 'snyder', 'calhoun', 'cyse', 'carayon', 'ksu', 'psd', 'scsu', 'cybertaxonomy', 'gbps', 'biomimicry', 'georgetown', 'bestavros', 'crosslinks', 'reston', 'irb', 'warshel', 'dmps', 'uv', 'laboratoire', 'videoconferences', 'eweek', 'mkps', 'liping', 'ptf', 'jhave', 'tnrp', 'userbase', 'nancomposite', 'mesoscopic', 'staq', 'seyle', 'carfs', 'occ', 'cvdi', 'waterville', 'scdi', 'arrythmias', 'terapixel', 'nanosustainability', 'trumbull', 'czo', 'vasp', 'ncat', 'ccmc', 'bfs', 'camtasia', 'valavanis', 'plasmapy', 'geochronologists', 'dge', 'rmc', 'blogosphere', 'deprotonated', 'wpan', 'eb', 'hurtado', 'wsans', 'morehouse', 'xdmod', 'uhm', 'edm', 'fdm', 'undetectability', 'vaulable', 'miroscope', 'bertinoro', 'printf', 'jetscape', 'aandp', 'scivis', 'deeppdb', 'washingon', 'mobihoc', 'geoed', 'longand', 'learntomod', 'shellos', 'knickpoints', 'teleobservation', 'convenors', 'rsl', 'holbrook', 'mirnas', 'labview', 'cyphyhouse', 'lucasfilm', 'sjrwmd', 'siepmann', 'hres', 'scn', 'riscure', 'multidisicplinary', 'geodeepdive', 'veriand', 'rsr', 'rotavirus', 'cyberbullying', 'uasron', 'scalability', 'hpcdna', 'palos', 'smc', 'edd', 'ecoforecastr', 'herps', 'cyberseminars', 'dns', 'cofunded', 'ipcc', 'cosn', 'ece', 'geoscientific', 'sgc', 'acsac', 'nanosystems', 'chemoselective', 'kraus', 'ghz', 'mindiola', 'highend', 'mqws', 'polyhomologation', 'gclt', 'iiot', 'au', 'marianas', 'fingerwearable', 'cici', 'tfs', 'medellín', 'misconfigured', 'chemometric', 'synergized', 'xperts', 'morphodynamic', 'rao', 'suv', 'aoi', 'mtt', 'hmaf', 'baum', 'microtopographic', 'cyberteach', 'mullins', 'twistors', 'teleoperating', 'metatranscriptomics', 'porewater', 'vmware', 'bc', 'orau', 'renci', 'mec', 'baffin', 'ioto', 'oab', 'tribeca', 'webserver', 'hcc', 'metaheuristic', 'contextualizing', 'orthologous', 'netcdf', 'bengalura', 'xms', 'npa', 'tgh', 'reducedcrop', 'cisl', 'cyberphysics', 'cyberspace', 'inb', 'videoconference', 'refactoring', 'cpws', 'microcredentialing', 'kyndi', 'boyle', 'ociafe', 'uaf', 'tf', 'bronstein', 'ftfs', 'curenet', 'cyberinstitute', 'potsdam', 'pgrop', 'namespace', 'cnri', 'microsensors', 'mccarran', 'czen', 'huynh', 'efi', 'floudas', 'hdss', 'resesearch', 'siavash', 'nanofibers', 'adhd', 'cyberinfrastructures', 'microresonator', 'cvclab', 'midnatsol', 'eigenproblems', 'tigersphere', 'faangmine', 'snri', 'mckee', 'tues', 'rbnb', 'rens', 'nonconvex', 'manoa', 'haifeng', 'neu', 'strouhal', 'nordunet', 'memmax', 'testsuits', 'biosensing', 'ipsec', 'ogf', 'concordia', 'gmmi', 'replicator', 'bluerovs', 'biofuel', 'voss', 'serverless', 'megapixels', 'sangbae', 'particpants', 'industiral', 'uwa', 'diffractometers', 'siccs', 'whoi', 'gso', 'tsgl', 'aisl', 'allegra', 'nvo', 'gloriad', 'mocvd', 'snl', 'spafford', 'cyberware', 'lammps', 'ueckert', 'eit', 'scholarpedia', 'tobacsig', 'ccecc', 'acci', 'mcafee', 'multisensor', 'georeferenced', 'microclimes', 'instituto', 'fgdc', 'csf', 'cyberinfrastruture', 'ftw', 'informatic', 'runtimes', 'infographics', 'nwchem', 'steganographic', 'interoperate', 'rsj', 'sahra', 'micromaterials', 'vesll', 'lersais', 'pragma', 'westar', 'iu', 'ceems', 'kimon', 'nanomfg', 'cyberinfrasture', 'classinfocus', 'nanodays', 'nitrd', 'databanks', 'acg', 'danville', 'metalloprotiens', 'southcentral', 'anr', 'nw', 'isandt', 'camcor', 'mrsec', 'magnetoresistive', 'renambot', 'ourrstore', 'petaflops', 'ciaas', 'cybercut', 'cofunding', 'tekbot', 'scottsboro', 'biosignatures', 'nlr', 'nue', 'hscc', 'cmore', 'loyola', 'neuro', 'nanoenergetic', 'hazzards', 'talkbank', 'decisionmakers', 'sro', 'paleogeoscientists', 'stereoselectivity', 'hückel', 'gdbase', 'powerdata', 'kus', 'mathforum', 'biopharma', 'pincipal', 'hinxton', 'biobots', 'manycore', 'oram', 'codebases', 'routable', 'caregiving', 'kleppel', 'ppvs', 'berkman', 'nceas', 'cscw', 'wku', 'micropolarizer', 'icasa', 'cpltl', 'anyons', 'gdcsim', 'deconstruction', 'biosensors', 'annulenes', 'simulational', 'itensor', 'componentizing', 'mwst', 'microsegmentation', 'shareware', 'photodetached', 'nsm', 'nvms', 'doerge', 'tesse', 'uvm', 'honeynets', 'crii', 'witin', 'geodynamo', 'hubzerotm', 'kurchatov', 'obo', 'biosurveillance', 'rodrigo', 'nanomine', 'neage', 'kalmar', 'proteomic', 'fairleigh', 'ssnmr', 'nh', 'dmii', 'cbk', 'rootkits', 'feldman', 'preterm', 'tarek', 'cwru', 'gpa', 'streetview', 'µm', 'doherty', 'diazotrophs', 'mba', 'ssft', 'dnssec', 'acm', 'romeoville', 'bottum', 'rp', 'dfw', 'dmc', 'bandgaps', 'mashup', 'nsfcloud', 'ostp', 'carbocycles', 'monash', 'freemium', 'geogebra', 'nanoresonator', 'healpix', 'californaia', 'biocps', 'icelink', 'ascs', 'ciara', 'nfc', 'cyclophanes', 'cybertracker', 'ffrdcs', 'biodiversity', 'cmcs', 'petsc', 'marcellus', 'cyberambassadors', 'macroprogram', 'fluxomic', 'ua', 'nanoporous', 'scannerandtable', 'gwu', 'plugin', 'connectomics', 'neuroimaging', 'twelf', 'dispatchable', 'stemtube', 'hayhoe', 'hpcc', 'nanojapan', 'neurodynamics', 'sciencekit', 'tescase', 'flr', 'robustifying', 'goodall', 'irc', 'airlink', 'cyberplasm', 'sgx', 'irbs', 'fabwave', 'hisp', 'cua', 'cybernabo', 'videopaper', 'hai', 'commoditization', 'cybereducation', 'polarbear', 'sinha', 'ffrdc', 'spintronics', 'coc', 'pmus', 'colciencias', 'lagcc', 'oregonstate', 'pcarp', 'heteropolymer', 'nmt', 'cyberpredation', 'sudha', 'rawlings', 'pui', 'databank', 'doip', 'geophylogeny', 'methathesis', 'opencloud', 'faa', 'sdsu', 'bioprospecting', 'ntersection', 'microcrystals', 'usda', 'nanoconstructs', 'prostem', 'endosymbionts', 'terraformer', 'cybermentors', 'cyberinfrascructure', 'snowpits', 'nanometric', 'testdrive', 'lifecycles', 'rmg', 'decamouflage', 'peterka', 'bryant', 'backends', 'cyberattackers', 'slas', 'cac', 'njit', 'levitt', 'goodwin', 'cnns', 'freeware', 'fullerton', 'evenutally', 'checklisting', 'westborough', 'nrt', 'ereis', 'artis', 'esi', 'followee', 'technoscience', 'cscl', 'museink', 'codonics', 'usr', 'asat', 'lto', 'lhpost', 'benchtop', 'cuhausi', 'biomarkers', 'eeg', 'cybercourts', 'posttranslational', 'biophotonic', 'hchi', 'mickelsen', 'disun', 'customizability', 'beratan', 'kmc', 'für', 'nheri', 'stylometric', 'hcss', 'sra', 'rgb', 'cuyahoga', 'nns', 'kddi', 'nhgis', 'igsn', 'elsadek', 'potts', 'pyscf', 'nanowaveguiding', 'smartnics', 'petabyte', 'mesocosms', 'strategizing', 'questek', 'papero', 'samya', 'edac', 'oligocyclopentadienyl', 'nanohub', 'microarchitectural', 'nosql', 'telerobot', 'olin', 'kreyol', 'afronts', 'benedikt', 'geomapapp', 'pevs', 'tocharacterize', 'catenanes', 'czodata', 'thrivability', 'dspg', 'csd', 'naas', 'shinji', 'econtentplus', 'ctd', 'rbp', 'iot', 'evo', 'kidgab', 'ihub', 'geolink', 'neescentral', 'sros', 'ccas', 'egi', 'lounesto', 'efd', 'informatization', 'cumulenes', 'myristoylation', 'ngvla', 'tmands', 'pharmacometric', 'dipyrromethane', 'mcmullen', 'fddp', 'semisupervised', 'trh', 'neeshub', 'satc', 'renewables', 'univeristy', 'openearth', 'williamsburg', 'aihec', 'username', 'waitt', 'bertfried', 'biorenewables', 'sige', 'nightscape', 'codap', 'litcloud', 'dataway', 'desmond', 'ipfs', 'vvuq', 'overfitting', 'uark', 'theevaluation', 'csaw', 'multiproxy', 'hackweeks', 'dsst', 'caigee', 'isps', 'ccni', 'rica', 'microcalorimeter', 'dsu', 'bmep', 'doma', 'cilogon', 'cyberinfrastructure', 'clusterized', 'mysql', 'ffo', 'pmemd', 'huntsville', 'atep', 'dynashake', 'insar', 'dwdm', 'sse', 'bic', 'informaticians', 'tetraplegic', 'reionization', 'holodeck', 'gigapixel', 'andf', 'uaa', 'touchscreen', 'krieger', 'lofar', 'wban', 'pnictides', 'homewood', 'cybhor', 'useit', 'voxelized', 'istec', 'ptsd', 'teex', 'honeyfarm', 'monterrey', 'middleboxes', 'voicethread', 'paleo', 'massoud', 'hastac', 'teichoic', 'livny', 'mram', 'icoe', 'nanotechnological', 'gctc', 'burcin', 'cyberinstrument', 'biodevices', 'teleoperation', 'adt', 'goasguen', 'ke', 'microrobots', 'hsd', 'exabyte', 'ebola', 'enso', 'emt', 'biclustering', 'refw', 'indie', 'macroprogramming', 'webid', 'kcc', 'gmo', 'mcnamara', 'dse', 'spintop', 'biochemicals', 'ehealth', 'lablets', 'crowdturfers', 'ferromagnets', 'bissd', 'cbts', 'amd', 'teos', 'biotechnical', 'idv', 'mangharam', 'sdi', 'petasha', 'ceser', 'sandboxed', 'polychlorinated', 'pev', 'sdb', 'amlight', 'nstissi', 'cns', 'mumbai', 'dht', 'ladderanes', 'cfa', 'teleconferencing', 'semiprotein', 'modiand', 'atkins', 'corbato', 'inmegalodonlt', 'mgaus', 'microtoroidal', 'cae', 'gaann', 'zapdos', 'jaynes', 'hubzero', 'icme', 'lpnmr', 'nanofabrication', 'sdci', 'stratigraphers', 'utiity', 'capt', 'gc', 'tumer', 'westmont', 'starburstt', 'biotransport', 'selig', 'taskforce', 'eisseminate', 'hyattsville', 'lensing', 'caat', 'cyberling', 'telematics', 'pvd', 'ergatis', 'cybertechnology', 'intermodal', 'neuromechanical', 'ulrich', 'repeatably', 'igrid', 'logfile', 'wildland', 'arun', 'cytoskeletal', 'platygastroid', 'iupac', 'drm', 'risksense', 'microsoft', 'fft', 'multiscale', 'peci', 'pri', 'paleobiologists', 'pnictogens', 'wordview', 'ilja', 'opvc', 'znmgo', 'maude', 'quantifable', 'amazonia', 'dtcc', 'hcd', 'discotic', 'contextualization', 'derivatization', 'hevs', 'gamelets', 'erickson', 'jozsef', 'peterson', 'brainprint', 'hydroinformatics', 'pdf', 'velocimetry', 'cbl', 'cybergrid', 'interpretating', 'ecogenomic', 'cni', 'rmacc', 'profilling', 'exosuits', 'idp', 'cagr', 'cybertutor', 'amolf', 'legon', 'isense', 'qft', 'hipaa', 'octrees', 'ssrl', 'dlhub', 'atol', 'miseq', 'makkah', 'sgci', 'texsaw', 'webpage', 'uwf', 'mega', 'narragansett', 'socio', 'optiportal', 'badhacke', 'strachan', 'polyer', 'khalid', 'creativecommons', 'ebi', 'jessy', 'inclue', 'paleorecords', 'frcc', 'psc', 'nacional', 'vmm', 'redstone', 'stuctures', 'multiteam', 'nanoplastics', 'dtsl', 'gpn', 'scuola', 'nanosized', 'middlebox', 'plm', 'softsec', 'cpp', 'joaquin', 'xiaosong', 'parabal', 'uccs', 'electroactive', 'voip', 'cissp', 'www', 'retweet', 'pfs', 'laredo', 'monocrops', 'qmc', 'benchscale', 'neurocomputing', 'landuse', 'flexware', 'ionomichub', 'pel', 'wpi', 'biomodeling', 'hydroshare', 'csandi', 'randra', 'giedroc', 'gda', 'wavefunction', 'bja', 'nhsemp', 'eils', 'bioterrorist', 'bitcoin', 'globalnoc', 'nanocomposites', 'elnashai', 'belmont', 'geohazards', 'extenci', 'scc', 'visweek', 'ccli', 'ivdgl', 'makedon', 'hdfs', 'credentialing', 'mpi', 'gsdnet', 'nonmonotonic', 'csuf', 'bfoit', 'faang', 'cryocell', 'veeramani', 'cybertool', 'alohanet', 'metadata', 'outsource', 'caron', 'arra', 'nanoengineering', 'wildlands', 'tfa', 'nyu', 'neren', 'murugesu', 'mpsocs', 'keweenaw', 'handheld', 'presentated', 'weatherblur', 'quarknet', 'fcc', 'cuny', 'nmap', 'ssac', 'metamodels', 'aproaches', 'usc', 'northark', 'nano', 'heliophysicists', 'larock', 'halfspace', 'intercomparisons', 'antichat', 'nrc', 'ecd', 'acif', 'bioinformaticians', 'cisr', 'microservice', 'doane', 'techical', 'tumblr', 'lczo', 'rhoads', 'fmr', 'ansp', 'caeiae', 'knl', 'accessgrid', 'collectionsweb', 'nscl', 'milp', 'nowcasting', 'hydoinformatics', 'blwt', 'winn', 'beamlines', 'athitsos', 'hsandp', 'underserved', 'testbeds', 'leinen', 'photonics', 'architecting', 'bioinorganic', 'krzycki', 'apci', 'helics', 'microtechnologies', 'nctm', 'pyrrolysine', 'ethobotany', 'proviz', 'mishra', 'careertech', 'dimensionful', 'technología', 'elearning', 'redshift', 'gigapan', 'gridwise', 'ferrante', 'igert', 'usgs', 'smartphone', 'stojanovic', 'mitm', 'cankdeska', 'trappe', 'bioremediation', 'screenshots', 'dhs', 'opendap', 'qcn', 'itunes', 'instabilties', 'gaaas', 'chemoinformatics', 'emg', 'nerr', 'lannom', 'subward', 'reram', 'usf', 'plugins', 'nanotube', 'tflops', 'echolocating', 'vccs', 'evl', 'fairfield', 'openssh', 'hyperproperty', 'ecommerce', 'microtransponder', 'psa', 'kickstart', 'allelopathic', 'crt', 'dpsir', 'ablility', 'bioorganic', 'geolocating', 'biogeophysical', 'amphipathic', 'sastry', 'sensorized', 'pake', 'photodetaching', 'mkg', 'listserv', 'rstudio', 'meetups', 'cybernizing', 'sedimentologists', 'lyft', 'platygastroidea', 'paulo', 'brane', 'standalone', 'sosonkina', 'cyverse', 'onenet', 'ponemon', 'lehman', 'oscl', 'ntsb', 'msad', 'openod', 'dbm', 'idigbio', 'teraflop', 'playtest', 'duchesne', 'voth', 'warfighters', 'orthoses', 'brendel', 'bgccrf', 'ilhame', 'rfid', 'ccssm', 'dietrich', 'iea', 'ub', 'mygeohub', 'pwd', 'interleavings', 'geolocations', 'hydrometeorologists', 'gao', 'aied', 'conclustions', 'sahinidis', 'pfp', 'kerstin', 'terashake', 'geoinformatic', 'cyberball', 'nanosciences', 'hostos', 'misperceptions', 'microblogs', 'cybernet', 'nrs', 'xsede', 'perfsonar', 'bootcamp', 'nanohertz', 'commmunication', 'cryptosystem', 'dataview', 'zonfrillo', 'photosystem', 'ncube', 'serc', 'vam', 'gpus', 'movebank', 'lhcb', 'sttram', 'siegel', 'webcasting', 'cihub', 'maxmin', 'norwalk', 'uic', 'raleigh', 'facelli', 'pithouses', 'egfi', 'csusb', 'espin', 'cyberfrastructure', 'hersonissos', 'asr', 'und', 'townhall', 'hyperspectral', 'atnf', 'darknet', 'nsu', 'krueger', 'nanobiofabrication', 'vlans', 'theatreworks', 'ecm', 'cibred', 'iurtp', 'fasttrack', 'ferroelectrics', 'diagnosers', 'maxine', 'cyberintrusions', 'idam', 'eac', 'curated', 'hpdmnet', 'assink', 'fermilab', 'cotaught', 'maidment', 'auvs', 'nanotheranostics', 'wested', 'ultrasensitive', 'puf', 'retargetable', 'gigapop', 'cyberenabled', 'neuroinformatic', 'cdm', 'nanomachines', 'toolkits', 'nfs', 'dpo', 'orland', 'gtm', 'optiportals', 'cyberhub', 'alcatel', 'subnetting', 'semicore', 'harford', 'ogc', 'parvovirus', 'afrl', 'probiotic', 'awerbuch', 'tajana', 'irem', 'ict', 'socioecosystems', 'finholt', 'ipta', 'iwarp', 'dmft', 'ciip', 'dtr', 'neesr', 'kaeli', 'mccall', 'abenaki', 'paleogeosciences', 'fortunato', 'fundation', 'arcata', 'frischknecht', 'wfs', 'neuse', 'magnetotactic', 'emos', 'randd', 'nanophotonic', 'vock', 'ccaa', 'usfs', 'nbb', 'agu', 'iucrc', 'infovis', 'niwc', 'ciiwork', 'mbdh', 'srtm', 'cicnet', 'cybersecurity', 'micropillars', 'epr', 'nacubo', 'superlattices', 'skm', 'diaminocarbene', 'winsar', 'beloit', 'xquery', 'mhealth', 'toxics', 'polymerizable', 'wpdss', 'wikipedia', 'laboraties', 'dbscan', 'cyberinfrastructureoriented', 'linkedin', 'biomembranes', 'aptamers', 'aikman', 'ysu', 'teleconnections', 'lcst', 'sgcs', 'noubir', 'cyberlibrary', 'ecoplex', 'regressograms', 'itex', 'oetzel', 'kingsville', 'darpa', 'pjaro', 'responsphere', 'opengl', 'potosi', 'nucleobases', 'interop', 'accesscomputing', 'adeles', 'hil', 'cyberflora', 'sproul', 'bsetm', 'ihawke', 'bluetooth', 'optoelectric', 'bci', 'utc', 'carc', 'daplds', 'dichalcogenides', 'akhtar', 'nexis', 'triana', 'majid', 'wdc', 'curca', 'skiplist', 'langston', 'flossmole', 'cmnst', 'erc', 'reaxff', 'hyunmin', 'tcn', 'freedm', 'eduation', 'metpetdb', 'linc', 'phev', 'uab', 'novacor', 'griffiss', 'rhic', 'mcit', 'iskander', 'sts', 'wavefunctions', 'informatl', 'sagenext', 'esm', 'incommon', 'willl', 'microlasers', 'deelman', 'markowitz', 'homepage', 'cybercorps', 'ndr', 'raghav', 'biorepository', 'mdvs', 'botnet', 'shrs', 'combinatorialists', 'makeathons', 'shsa', 'microvascular', 'epiccs', 'nwc', 'oneoklahoma', 'shivakant', 'ooi', 'cybermentoring', 'halim', 'claflin', 'composities', 'taxic', 'sfi', 'manville', 'csr', 'ipads', 'texting', 'sonesta', 'pti', 'hyperpolarizabilities', 'deltocephalinae', 'integratable', 'mechatronics', 'toc', 'cyberthreat', 'nc', 'soundscapes', 'hydrofracture', 'irods', 'odf', 'dehydroannulenes', 'ecodynamics', 'cyberwater', 'kotz', 'geocamp', 'cz', 'karney', 'lce', 'efce', 'templating', 'maggioni', 'isu', 'autoscaling', 'inlined', 'stormwater', 'pomdps', 'singaren', 'microparticles', 'iru', 'ieda', 'learnability', 'affordances', 'metroplex', 'canarie', 'idre', 'rollins', 'sagehen', 'voxelization', 'sdv', 'wtl', 'budburst', 'skillsets', 'idetect', 'hotsos', 'imece', 'scitech', 'andand', 'acsle', 'metabelian', 'kkt', 'activites', 'rii', 'drs', 'oshean', 'cbrne', 'ska', 'otb', 'revelle', 'microchannel', 'dtn', 'unt', 'dai', 'sdsmandt', 'rpi', 'myglucohealth', 'mcis', 'thermoml', 'cyberlearning', 'postdoc', 'abengoa', 'jian', 'prehispanic', 'wssc', 'gaither', 'almaden', 'fibrilar', 'muves', 'prepar', 'dicas', 'multimessenger', 'nanocolloidal', 'brainlab', 'arieh', 'wakefield', 'pfi', 'intiaitive', 'geogames', 'nanoparticle', 'tadeusz', 'dac', 'wrestt', 'eldercare', 'hci', 'integratermu', 'adler', 'jsu', 'mtconnect', 'nanodisks', 'carpetx', 'vdms', 'escience', 'mossbauer', 'bamberg', 'dvfs', 'queryable', 'linewidth', 'slc', 'ionomics', 'turbotax', 'aerorths', 'isoc', 'chvs', 'myspacetm', 'strobel', 'navdat', 'florianopolis', 'fenway', 'petra', 'famu', 'anyterm', 'ercs', 'backend', 'sophya', 'cycentr', 'metamaterial', 'bml', 'beamformers', 'bioprocessing', 'abm', 'xiamen', 'betke', 'feng', 'palo', 'nmi', 'soaf', 'cswr', 'qfqi', 'sens', 'ransomware', 'cesm', 'lumbee', 'ncsi', 'uvsc', 'goldstein', 'bgp', 'sigcse', 'ironcad', 'espcor', 'shyhtsun', 'optomechanical', 'nijmegen', 'kenan', 'qoe', 'edmonson', 'stratasys', 'helmstetter', 'davinci', 'nysernet', 'graphene', 'nno', 'itrustgh', 'rinard', 'hcps', 'epmd', 'ucr', 'neurostimulators', 'maisa', 'haskell', 'ardt', 'basecamp', 'nrao', 'biomaterials', 'latina', 'designpractices', 'gonehal', 'ingeo', 'bionanotechnology', 'semiproteins', 'smud', 'usb', 'mdi', 'qubits', 'healthgis', 'nmr', 'monoidal', 'czos', 'operationalized', 'nanomos', 'knyazev', 'mayaguez', 'gsa', 'suas', 'metagenome', 'saas', 'photovoltage', 'delss', 'cic', 'klinotaxis', 'infobox', 'conware', 'toolpath', 'gomez', 'plennary', 'rockford', 'opensha', 'arnaud', 'cbet', 'geoss', 'overprovisioned', 'nebdih', 'ftp', 'cmc', 'subgradient', 'khz', 'cdse', 'sentrywire', 'esg', 'interactome', 'vtl', 'geows', 'nsf', 'tgen', 'willis', 'fulbright', 'actities', 'cyberidentity', 'dsc', 'dehn', 'utica', 'wwtp', 'gige', 'cybersystems', 'pbo', 'enkf', 'phenomic', 'lcrl', 'dataone', 'ilight', 'erfurt', 'berman', 'stochasticity', 'cybersickness', 'hiseasnet', 'xmalab', 'powerpc', 'tddft', 'gbl', 'doreen', 'morenet', 'ali', 'damm', 'cyberwarfare', 'midieval', 'neuromorphic', 'keystroking', 'ncn', 'boinc', 'pmu', 'hopf', 'tuncel', 'equivariant', 'cientificas', 'ultrascan', 'aist', 'visstore', 'genomics', 'ruralshores', 'nics', 'worldview', 'laguardia', 'nof', 'beliv', 'mpifr', 'azer', 'pahs', 'pisale', 'aag', 'nanocrystallography', 'upconverting', 'candc', 'iaa', 'fpe', 'podcasts', 'pvfs', 'instructables', 'aau', 'wsan', 'tthe', 'ultracompact', 'nematics', 'ecph', 'msb', 'hmms', 'vsm', 'scherrer', 'wpds', 'gainesville', 'petascale', 'wai', 'noyce', 'dvd', 'lakebeds', 'multimax', 'dsfp', 'scps', 'endogeneity', 'urssa', 'computists', 'kpen', 'icis', 'pnwgp', 'lsdi', 'lowcountry', 'porphyrinoid', 'nerc', 'cansec', 'escc', 'cyberpower', 'esso', 'matc', 'phevs', 'bloomington', 'rda', 'wifire', 'refactor', 'vectorized', 'uekae', 'uf', 'tco', 'rnp', 'hacktivism', 'cpns', 'earthtime', 'uwm', 'depauw', 'implementability', 'wavefields', 'mckeesport', 'yong', 'frontline', 'ricn', 'pem', 'ktec', 'grainsize', 'corvallis', 'msc', 'infotech', 'arslan', 'ewod', 'hx', 'nwm', 'geospacial', 'clymer', 'advanes', 'madhavan', 'geobiologists', 'hfl', 'informaticized', 'hpcf', 'pokemon', 'ccd', 'smreu', 'cybercommunity', 'anaraki', 'spbid', 'ramkrishna', 'pv', 'reseachers', 'microaggressions', 'alkylheteroarene', 'indigeneous', 'bbn', 'cusum', 'exngineering', 'voyles', 'nrel', 'magnetoresitive', 'mdcloud', 'vmd', 'nsdl', 'rcew', 'metaproteomics', 'exoplanets', 'telecollaborations', 'roppongi', 'resequence', 'sesar', 'kinber', 'mundy', 'nanograv', 'wikitheoria', 'coevolved', 'aos', 'sead', 'quinn', 'amr', 'makerspaces', 'pseudogap', 'subnanometer', 'nanocolloid', 'qprc', 'dvnoc', 'filesystems', 'htc', 'epe', 'rmu', 'karabanov', 'nbbs', 'goali', 'cyberinfratstructure', 'femtosecond', 'raytheon', 'beo', 'atrope', 'boellstorff', 'cyberattacks', 'ipdc', 'imls', 'noaa', 'itr', 'wsu', 'bioheat', 'semulation', 'trouw', 'gabbs', 'microfluidic', 'nitrogenase', 'prebiotics', 'transformationally', 'fipes', 'dccdi', 'aplu', 'bbso', 'cdna', 'glushkov', 'apon', 'cber', 'sandc', 'gayle', 'nexys', 'hackathons', 'ultralong', 'epcc', 'embeddings', 'biosample', 'gameplay', 'morehead', 'uofsc', 'leaderboard', 'eigendistribution', 'practicums', 'cybertechnologists', 'crowston', 'solubilizes', 'plenaries', 'irvine', 'unicast', 'fdl', 'mspnet', 'tierzero', 'voeventnet', 'dreamworks', 'mhcc', 'gaas', 'rfp', 'csci', 'comanage', 'wastc', 'collider', 'microstructures', 'osa', 'metatranscriptomes', 'sbir', 'moorea', 'cybershake', 'heliospheric', 'bioinformatics', 'microcantilevers', 'rasterable', 'pse', 'cei', 'semilattices', 'hrd', 'ltri', 'timetrees', 'paleoenvironmental', 'bourdin', 'hyperproperties', 'whitepaper', 'cgcc', 'lanl', 'ev', 'richland', 'ptms', 'gatorcloud', 'monochalcogenides', 'ccmp', 'dmacc', 'iaga', 'multimodel', 'dfii', 'microextraction', 'montclair', 'crowdsource', 'marlon', 'metacognition', 'hpdc', 'cyberworkshops', 'metabolome', 'iti', 'flatow', 'uga', 'microfabrication', 'wwtps', 'huang', 'xsight', 'microworlds', 'entropic', 'tcl', 'wsn', 'manuscipts', 'gws', 'hirschi', 'plr', 'sautet', 'undergradute', 'ncsa', 'dimms', 'geomaterials', 'dscs', 'smartnic', 'pmr', 'uhd', 'wou', 'cyberinstrumentation', 'namical', 'nanopatterning', 'ccaas', 'drl', 'asm', 'magnaporthales', 'qspr', 'kepler', 'kuo', 'agroecosystems', 'rotc', 'dicp', 'utct', 'steganalysis', 'cdp', 'nanobiointerfaces', 'amdn', 'metagenomes', 'papi', 'iasp', 'competiveness', 'scienceeverywhere', 'usarray', 'gans', 'vbi', 'westin', 'autodrive', 'nanosphere', 'ncl', 'tezduyar', 'mgi', 'paraview', 'paleobiosciences', 'ccgit', 'cari', 'phenologies', 'nanofluidic', 'markerless', 'cuahsi', 'outmigration', 'lcw', 'forschungs', 'supramolecules', 'cybercorp', 'mentee', 'phylogenomics', 'verkade', 'nze', 'foodborne', 'celina', 'kyr', 'futher', 'scis', 'krediblenet', 'healy', 'cnrs', 'pzt', 'kumar', 'bibliome', 'gatchel', 'ncc', 'gonzalez', 'memristive', 'dnp', 'vrac', 'plasmonic', 'thuwal', 'sedgwick', 'jupyterhubs', 'dehon', 'malvertising', 'ualbany', 'dbir', 'telemedicine', 'moldova', 'exafs', 'newman', 'microparticle', 'ribotypes', 'mbl', 'sgrs', 'yakama', 'supercomputing', 'chemoelectromechanical', 'superelectrophiles', 'cecs', 'manycast', 'dmproadmap', 'ccr', 'gdp', 'oscer', 'masson', 'aaaaa', 'unidata', 'museumgoers', 'merced', 'qhub', 'kanren', 'csis', 'lapd', 'cmmi', 'datalad', 'icssp', 'csu', 'thioesters', 'efand', 'nanoelectronics', 'shimojo', 'cui', 'gilf', 'fema', 'hou', 'basn', 'arcyber', 'educaton', 'sensei', 'futuregrid', 'screencast', 'cmos', 'hypermedia', 'byrd', 'nanocatalysts', 'kirtland', 'npr', 'microfluidics', 'fpga', 'hpn', 'preservice', 'smt', 'wysinwyx', 'cnea', 'bioinformaticists', 'mallick', 'acp', 'captioner', 'phagefish', 'mgfs', 'executables', 'stc', 'ecrime', 'sensys', 'discretization', 'biocybernetics', 'hprcf', 'simulat', 'nanowire', 'holocamera', 'smarrt', 'bcis', 'peerings', 'idw', 'ehr', 'phosphorene', 'infiniband', 'huici', 'swinburne', 'sinnott', 'sstsp', 'eia', 'choudhary', 'jiang', 'oai', 'telepresence', 'funcx', 'wurman', 'webids', 'largescale', 'kba', 'preconditioners', 'campusesí', 'revelare', 'osdc', 'landcover', 'scriptable', 'garegin', 'mainstreamed', 'seismogenic', 'geolocation', 'macrostrat', 'denlinger', 'yardmap', 'kendall', 'biomacromolecular', 'biomimetics', 'ramsar', 'gebze', 'eigensolvers', 'lsmamp', 'bookmarking', 'oden', 'datafy', 'redescriptions', 'hybridoma', 'geotechnical', 'nn', 'interconnectivity', 'moethods', 'teleteaching', 'demystifies', 'observables', 'hccc', 'bangalore', 'drydown', 'dlv', 'nanodevice', 'cnc', 'cyberway', 'charrettes', 'proactively', 'narf', 'nefi', 'nands', 'vbicig', 'estudios', 'seo', 'gleska', 'datasheets', 'pittsburgh', 'redshifted', 'adhoc', 'cyberspatial', 'ibss', 'beijing', 'multifrequency', 'reichman', 'plo', 'enstinet', 'nanolayered', 'atmosrpheric', 'ecite', 'isocyanides', 'perovskites', 'fte', 'terrapop', 'addtional', 'nees', 'itc', 'cyberwar', 'misconfigurations', 'nvidia', 'iptmnet', 'chemxseer', 'beneand', 'bioprocess', 'waubonsee', 'tecnologicas', 'paleostrat', 'eukaryotic', 'opm', 'mandel', 'axelrod', 'assurability', 'sumter', 'icert', 'abwg', 'kearns', 'tian', 'hadoop', 'perfomed', 'pde', 'misspecification', 'optofluidics', 'uiuc', 'hornak', 'nesta', 'rpid', 'cfits', 'northrop', 'panoiu', 'blackhatworld', 'analytes', 'nsta', 'xbox', 'hz', 'cyberdyne', 'iresearch', 'invovled', 'thoughtstem', 'qot', 'nanolithography', 'openpbs', 'napoli', 'doi', 'vos', 'hmscvc', 'biokinetic', 'mccarthy', 'phenocams', 'photoreactions', 'cau', 'oso', 'kbo', 'cyberinsurance', 'gcm', 'tek', 'cdebi', 'robotically', 'interoperable', 'pbdb', 'bloomberg', 'topographyand', 'ims', 'reelfx', 'fiss', 'mugrid', 'lonsdale', 'jhuisi', 'zaslavsky', 'ciws', 'cyberinfrasructure', 'smartphones', 'naphthalocyanines', 'graxml', 'omics', 'irts', 'cimmyt', 'ccsm', 'obd', 'paci', 'nanoelectromechanical', 'ceas', 'gmod', 'plantgdb', 'xromm', 'mprf', 'metacognitive', 'lineshape', 'onboarding', 'socs', 'rpki', 'cybersafety', 'roadmaps', 'bilevel', 'ensight', 'csems', 'uncc', 'sdr', 'ccn', 'myanmar', 'gbif', 'uma', 'tocttou', 'uvu', 'hypergame', 'spacetimes', 'superlattice', 'sociopetal', 'pda', 'transfecting', 'cyberconflict', 'args', 'intellegence', 'mdcs', 'hpem', 'cyberzine', 'ecst', 'blogging', 'hexel', 'wmss', 'soas', 'sdm', 'gsp', 'cybernetique', 'loni', 'pichot', 'konnerth', 'gfg', 'usepa', 'zpss', 'praticipants', 'sigurjonsdottir', 'pire', 'waterhackweek', 'audial', 'terabyte', 'minyard', 'interoperations', 'jgray', 'cpnis', 'incognitum', 'sctst', 'durcik', 'vanderbilt', 'microcavities', 'geospatially', 'gchq', 'nanoindentation', 'hefei', 'nanoscale', 'nevadanet', 'paramesh', 'contstruction', 'pif', 'peatlands', 'maop', 'facilitiate', 'mrefc', 'etf', 'scienceworks', 'bioinspired', 'switchit', 'uhv', 'ugolini', 'nvlink', 'cyberbridges', 'cim', 'isc', 'ipsn', 'iac', 'speleothems', 'ornl', 'vigna', 'nuis', 'meganewton', 'knowops', 'ctc', 'brokering', 'bioimaging', 'ul', 'mccd', 'cubesats', 'hangzhou', 'windus', 'oncogene', 'microtechnology', 'bsns', 'researcherís', 'lambdagrids', 'unclonable', 'atat', 'bdacps', 'cawes', 'reprobench', 'counterplanning', 'pdcs', 'cao', 'gpu', 'globalparameters', 'dwb', 'prebuilt', 'icnn', 'kennesaw', 'neesit', 'irri', 'bakac', 'freenet', 'rande', 'subawards', 'soec', 'millennials', 'ahmad', 'sccoos', 'midsize', 'bucknell', 'msp', 'interfacetechnologies', 'irehab', 'dbi', 'ertc', 'adaboost', 'cozzens', 'discretizations', 'neuroinflammation', 'netflow', 'dsm', 'topomath', 'biomimetic', 'microcantilever', 'nsps', 'aci', 'cybermedia', 'eps', 'templated', 'nivd', 'developped', 'cctfs', 'tusi', 'stl', 'carbenes', 'lfi', 'vissec', 'subsamples', 'installable', 'vtk', 'delegatable', 'denin', 'biomolecular', 'phylogenomic', 'coadding', 'tamu', 'amrc', 'anonymizing', 'aiche', 'dalian', 'ivfts', 'neuroplasticity', 'hokkaido', 'pertti', 'nthsa', 'prototypability', 'nyit', 'shs', 'sccsnet', 'humain', 'rsa', 'pvamu', 'offshoring', 'myspace', 'purdues', 'ddos', 'jumpstart', 'umscc', 'supermassive', 'xrm', 'sensemaking', 'bda', 'connectome', 'riken', 'geocyberinfrastructure', 'pittsmartliving', 'anycast', 'rensselaer', 'reserch', 'icaleo', 'pharmacometrics', 'uah', 'qian', 'ebird', 'logfiles', 'superhard', 'tds', 'cyberagenda', 'nse', 'plcs', 'wsns', 'nanobasket', 'tsri', 'permis', 'ivirus', 'dsa', 'cytoskeleton', 'csus', 'supermag', 'scisim', 'biospheric', 'ei', 'openkim', 'organogels', 'unconferences', 'nanochemistry', 'vahdat', 'brc', 'cnh', 'sandcc', 'duquesne', 'caltech', 'nz', 'fno', 'cybertechnologies', 'biogeosciences', 'wcc', 'moura', 'dci', 'samigo', 'asu', 'schwab', 'bissds', 'multinet', 'hpwren', 'cybertraining', 'bottineau', 'frenklach', 'leesville', 'fda', 'gloriads', 'viromes', 'lsst', 'csusm', 'maeviz', 'satnag', 'owensboro', 'phillips', 'icpss', 'hdr', 'huaiyu', 'casadonte', 'brezonik', 'pgas', 'frontends', 'personalizable', 'insup', 'geovision', 'ica', 'baikun', 'meme', 'courseware', 'pdx', 'umbc', 'hacu', 'indp', 'teleoperator', 'hiearchical', 'dmp', 'susy', 'collaboratory', 'cysep', 'nextbio', 'worksites', 'ecoed', 'telecom', 'workhop', 'ftir', 'agritechnological', 'wilberforce', 'nadrian', 'intellecutal', 'timestamped', 'hypergames', 'cookeville', 'godm', 'cysp', 'vcls', 'ccbc', 'cpr', 'cpgs', 'metalloenzymes', 'prooflets', 'biopolymers', 'opencl', 'aandt', 'ultracold', 'ngo', 'ncdm', 'ccg', 'rijnhuizen', 'halloun', 'heidelberg', 'morgridge', 'nirav', 'kaust', 'geovisual', 'nict', 'kesidis', 'brainprints', 'namespaces', 'mulheim', 'petashake', 'efec', 'ricci', 'nanostructures', 'bilt', 'cyberinfrastrcture', 'cyberplatform', 'iacr', 'conklin', 'glucometer', 'usap', 'hmds', 'operationalize', 'dipsocoromorpha', 'nlp', 'cistp', 'crn', 'hcbus', 'mrmr', 'simulink', 'nanoassembly', 'spproj', 'opv', 'moiré', 'trafficturk', 'keitit', 'geoinformatics', 'chepreo', 'lbnf', 'dpv', 'dfg', 'gacrc', 'gencyber', 'geosoft', 'pourkamali', 'phenomics', 'sclaroff', 'enzo', 'instrumentor', 'physiometric', 'fastlane', 'subacuatica', 'refreshable', 'fcic', 'fruitsly', 'frontend', 'norwich', 'cybersociety', 'sswi', 'hc', 'nanopatterned', 'synchrophasor', 'helga', 'scd', 'xstate', 'leotiomycetes', 'minlps', 'surfnet', 'papadopoulos', 'vespignani', 'accesscontrol', 'swann', 'oleracea', 'biorefineries', 'anonymized', 'hagerstown', 'volker', 'makeflow', 'cahsi', 'aligo', 'illick', 'schedulability', 'mren', 'wikiwatershedtm', 'gcn', 'scimma', 'dehaloperoxidase', 'adminstrative', 'csig', 'amnh', 'estrella', 'stissue', 'neurotechnology', 'bahrain', 'ucsciencenet', 'autosteoscopic', 'nvps', 'hrdems', 'nordlander', 'grothe', 'comptia', 'earthcomm', 'fran', 'cyphertexts', 'urc', 'chemomechanical', 'andrei', 'catalys', 'pennren', 'opteron', 'octonions', 'qbase', 'infographic', 'mpc', 'uhcl', 'mtf', 'invetigators', 'wireline', 'diagnosability', 'lstm', 'kth', 'dapcep', 'egee', 'stata', 'retroactions', 'microheterogeneous', 'asee', 'bossmann', 'cpeg', 'brookdale', 'tetraalkylammonium', 'lsu', 'earthscope', 'wallingford', 'mcps', 'niu', 'kisti', 'simcenter', 'diradicals', 'aflowlib', 'mics', 'urvey', 'cyberattacked', 'cyberseccurity', 'netlogo', 'ldav', 'embeddedness', 'malone', 'cpni', 'lamont', 'bioquest', 'subaward', 'shoubra', 'edse', 'saadawi', 'winlab', 'haswell', 'datacenters', 'imds', 'keynes', 'comanipulation', 'nna', 'blogger', 'predictivity', 'arup', 'gui', 'sunnyvale', 'ciser', 'shellcode', 'codebase', 'fpmd', 'onr', 'lifecycle', 'nanobiotechnology', 'suzhou', 'iwatch', 'ecsu', 'ditelluride', 'mastml', 'clancy', 'cybertech', 'multiagent', 'prodrugs', 'mofs', 'estela', 'nanotechnology', 'wirelessand', 'uq', 'dataswarm', 'taggable', 'debuggable', 'cti', 'icps', 'jtf', 'multidiscplinary', 'proteasomal', 'aehe', 'shapeshifting', 'vatech', 'beckman', 'pepnet', 'insitution', 'breckenridge', 'hayden', 'resourced', 'cmps', 'macalester', 'dongarra', 'sparql', 'cyberscholarship', 'thermochronology', 'motifnetwork', 'ganz', 'klagholz', 'rixs', 'emulab', 'cci', 'lhc', 'nccu', 'mvsu', 'scsc', 'fnir', 'cbr', 'egs', 'bilayers', 'datanet', 'cyber', 'nanostar', 'tmdca', 'microkernels', 'sna', 'scidas', 'mobley', 'sciunit', 'opensim', 'broder', 'ncbi', 'nanogrid', 'smartwatches', 'cocneptual', 'planck', 'sandboxing', 'misalign', 'sca', 'ibmwatson', 'cpsisa', 'icsi', 'cccc', 'xiaoge', 'resourcessecurity', 'shonnard', 'scigap', 'wse', 'rangan', 'extual', 'fhdi', 'nanomanufacturing', 'nanofluid', 'hanson', 'moog', 'sewhip', 'simsam', 'crescynt', 'tippecanoe', 'raptorx', 'higgins', 'bhef', 'mios', 'pid', 'gpl', 'bioenergy', 'uog', 'dso', 'psu', 'tetrapodes', 'hackathon', 'datacapsules', 'vandv', 'prdb', 'tomanek', 'birck', 'asl', 'watersmart', 'utrc', 'cdi', 'washtenaw', 'erent', 'particiation', 'astroturf', 'cigs', 'inclusivity', 'multibiometric', 'bhsu', 'nikos', 'tcia', 'pajaro', 'moser', 'cooney', 'nanomedicine', 'gridchem', 'iup', 'cet', 'swanson', 'ultrastrong', 'radboud', 'hampton', 'oahu', 'cta', 'nanochannels', 'kostas', 'nau', 'csia', 'cyberinfrastrucutre', 'belarus', 'scihm', 'refactored', 'sbmqw', 'ikneer', 'incentivizing', 'nied', 'pflops', 'ucsn', 'bigbelly', 'magnetofossils', 'dfms', 'cybervictmization', 'mma', 'terascale', 'photogeneration', 'gcels', 'nessie', 'ecogem', 'datalogger', 'cryptotephra', 'siloxides', 'dtns', 'pn', 'geoprocessing', 'microretarder', 'photodamage', 'qc', 'rtas', 'probeware', 'linux', 'dassault', 'dmz', 'biocompatible', 'spintronic', 'qos', 'otheir', 'fiwin', 'uav', 'knowlegeable', 'utmb', 'kostant', 'ou', 'rui', 'flate', 'hec', 'njits', 'smb', 'website', 'byodlib', 'horsburgh', 'makerspace', 'thaliana', 'arundel', 'workshopsthat', 'goldenberg', 'photocatalysts', 'incentivize', 'ecsel', 'aizu', 'annulene', 'facebook', 'metasurface', 'scidac', 'technologisst', 'reengineers', 'orjeda', 'riseenag', 'geocomputation', 'cdzno', 'geophysicsl', 'dsl', 'dlm', 'dmfbs', 'wvu', 'safl', 'caregiver', 'photobioreactor', 'nanocrystals', 'paleoclimatologists', 'iip', 'chtc', 'thier', 'hprc', 'exibility', 'aws', 'neesgrid', 'ri', 'nesco', 'klingenstein', 'tephrochronological', 'parallelizable', 'lsmce', 'thes', 'fom', 'api', 'tsinghua', 'webservers', 'whyville', 'rappture', 'combinformation', 'inp', 'hsis', 'mitie', 'wojciech', 'bioanalytical', 'smartfarm', 'septage', 'earthcube', 'phytoestrogens', 'cleo', 'vdt', 'wlcg', 'cyberbased', 'generalizability', 'sonified', 'nonexperts', 'nhtsa', 'nucri', 'tcus', 'nanophased', 'pulkit', 'blacksburg', 'oneocii', 'spss', 'guevara', 'seales', 'biomolecule', 'avcl', 'nanoscopic', 'wudapt', 'cyberready', 'mobius', 'cri', 'xrd', 'microblog', 'sger', 'mindlab', 'scientometrics', 'vsphere', 'aidb', 'simplot', 'cyberfoundations', 'mackay', 'ncse', 'plale', 'eastwood', 'aon', 'siparcs', 'darmstadtium', 'hemt', 'fciqmc', 'tarandus', 'biovis', 'cyberprotection', 'ucsf', 'cstnet', 'paleoseismic', 'biomechatronic', 'iwasawa', 'morphotypes', 'bsd', 'hbcu', 'cybercommons', 'cyberchase', 'cbe', 'malware', 'memoization', 'metallopeptides', 'aso', 'rdf', 'cybermule', 'tessa', 'pople', 'etes', 'avl', 'pogil', 'offsite', 'los', 'vva', 'roseline', 'biotec', 'sparc', 'iccdi', 'firewalled', 'crnch', 'shf', 'nanomechanics', 'microdata', 'uttc', 'msw', 'malden', 'qcd', 'supermedia', 'cybersecured', 'dnn', 'mahoning', 'subdisciplinary', 'cdc', 'pangeo', 'llela', 'nanoresonators', 'nanomechanical', 'safod', 'downbursts', 'toolchain', 'ucsc', 'nucia', 'evolvability', 'garcia', 'gep', 'cetmons', 'smls', 'cyberphysical', 'engneering', 'viromics', 'microdiffractometer', 'ergnomics', 'eic', 'interactomes', 'zno', 'github', 'pittsburg', 'leinbach', 'isfs', 'thermoelectrics', 'unm', 'giscience', 'scelionini', 'unavco', 'openrdc', 'ucsd', 'iri', 'vandecastle', 'directstream', 'biocompatibility', 'biopolymer', 'koenderink', 'yeager', 'openmi', 'cyberworld', 'blockchains', 'fsfo', 'paraterized', 'ebsd', 'microservices', 'metabolomics', 'zhuoqing', 'denton', 'harpole', 'cfsm', 'ccla', 'eigen', 'cavs', 'healthvault', 'uccre', 'ierapetritou', 'quadrotor', 'mvc', 'biodistribution', 'jacinto', 'fpgas', 'submodels', 'bangor', 'cssi', 'rtm', 'fdt', 'csrc', 'nvm', 'tuscaloosa', 'csula', 'phasors', 'bellesalle', 'rutgers', 'dcp', 'practica', 'rl', 'lcbs', 'hvac', 'zooniverse', 'rcaat', 'crosslinked', 'operationalizing', 'geomorphologists', 'itsb', 'vpsn', 'braunschweig', 'siloes', 'littleis', 'sande', 'proteìgeì', 'metagenomics', 'möbius', 'ucla', 'mitrea', 'heliopyhsicists', 'silvic', 'ucps', 'nfv', 'sood', 'ovide', 'cyberteam', 'eec', 'tbe', 'geophylogenies', 'neumann', 'tayfun', 'srop', 'groundwaters', 'generativity', 'abdeldjelil', 'ccsc', 'marymount', 'qanda', 'pmandr', 'openflow', 'fraunhofer', 'gec', 'boussinesq', 'wcag', 'metabolomic', 'aciss', 'fidmt', 'batteryless', 'explora', 'bigsec', 'multiparameter', 'csudh', 'seti', 'homebank', 'rauschecker', 'transfected', 'cpsdyn', 'rady', 'maxion', 'aamu', 'webinars', 'cytokine', 'cyanobacteria', 'kettering', 'cedd', 'transpac', 'microgrid', 'suny', 'asts', 'speciand', 'multiscaled', 'astroparticle', 'broadwell', 'bernardino', 'accessdata', 'transactive', 'waterhub', 'scid', 'mauna', 'htcondor', 'cccs', 'traceroute', 'cortdra', 'url', 'nanocomposite', 'timescales', 'wssi', 'cogm', 'timeframe', 'pft', 'tacred', 'xin', 'sio', 'biomolecules', 'takeninto', 'wwt', 'smartgridlab', 'osg', 'cawe', 'llcc', 'hyperlinking', 'thermophysical', 'loxahatchee', 'dehydro', 'pki', 'microspectrometer', 'reengineer', 'cyberanalytics', 'paleopedologists', 'hmd', 'lapack', 'agroecology', 'reus', 'isi', 'biomanufacturing', 'cgsc', 'microsystem', 'fluorophores', 'phc', 'rilg', 'tegroup', 'tcns', 'mackerrell', 'tata', 'collaboratories', 'microcontrollers', 'cyanobacterial', 'manuone', 'tulane', 'transcoding', 'zhang', 'cph', 'kwh', 'dnps', 'bioarray', 'cybercop', 'wrf', 'pbl', 'upconversion', 'bowdoin', 'epl', 'clm', 'biosignals', 'playlist', 'vsc', 'mdrb', 'aarnet', 'tephrochronology', 'dlese', 'pechoucek', 'foah', 'inria', 'isogeometric', 'asc', 'nanotips', 'unf', 'otg', 'lsa', 'ture', 'inaccessable', 'nafcs', 'oia', 'tmc', 'tt', 'srb', 'ders', 'dmr', 'tufo', 'mtml', 'glucosinolate', 'yantao', 'visuospatial', 'betalains', 'mosdef', 'rovs', 'utd', 'adsl', 'cyberlamp', 'copd', 'jolla', 'homophilious', 'dlt', 'ccsnh', 'ipt', 'savviness', 'amisr', 'meeings', 'sigs', 'botnets', 'uslhcnet', 'bastani', 'peptoids', 'roadmap', 'cpg', 'angelos', 'ip', 'dsrna', 'cww', 'chrec', 'nanotec', 'msho', 'virtualization', 'metasploit', 'bionet', 'cmsp', 'stduy', 'protiens', 'bmcc', 'crasta', 'benefitgreatly', 'iwaniec', 'pullnix', 'noncrystallographic', 'tsn', 'sytsem', 'sciwinet', 'krogh', 'ouachita', 'hacktion', 'roblee', 'institut', 'geosystem', 'wbans', 'cabrillo', 'mbvl', 'borr', 'utsa', 'gmu', 'isnarld', 'concolic', 'cayetano', 'ahern', 'biorepositories', 'josé', 'storeever', 'microarrays', 'classp', 'lilypad', 'thom', 'comses', 'gcc', 'pitac', 'terabit', 'ecog', 'bayes', 'autonoma', 'groundbreaking', 'scec', 'exemple', 'memristors', 'voorhis', 'beamforming', 'drillship', 'octech', 'superiores', 'kirkwood', 'gatekeeping', 'udl', 'bctc', 'multigrain', 'fixturing', 'dbedt', 'wiki', 'thz', 'webcasts', 'sustainably', 'dmv', 'elastography', 'multisided', 'landmines', 'alvarez', 'swm', 'qcis', 'smartspaces', 'wii', 'conficts', 'yanni', 'pca', 'transcriptome', 'karplus', 'cyberlaw', 'plata', 'williston', 'matanzas', 'dnns', 'atacama', 'uptick', 'xanes', 'opensees', 'cisa', 'prosocial', 'submodular', 'nems', 'mjor', 'lifetm', 'cyberquest', 'groupscope', 'radicl', 'interdisciplinarity', 'cyberrisk', 'mssi', 'smartgrids', 'sdds', 'göttingen', 'skype', 'bioinformatic', 'biofluids', 'shahn', 'anant', 'pb', 'hubbs', 'unols', 'cybercriminals', 'ciently', 'conenctomes', 'cyberinfastructure', 'iots', 'nanotoroids', 'netcrystals', 'rolla', 'aandm', 'iubio', 'augmentarium', 'pces', 'raiffa', 'ultrathin', 'cybersecure', 'heterointerfaces', 'silanides', 'rowhammer', 'corenlp', 'etl', 'submillimeter', 'researchsoc', 'configurability', 'fbcc', 'heterostructures', 'multivariable', 'src', 'wateroneflow', 'eod', 'offn', 'cyberpatriot', 'mahmood', 'roce', 'xuxian', 'flamelets', 'geoprisms', 'tflop', 'cyberconnectivity', 'qubit', 'diagramand', 'ctds', 'tracs', 'aapg', 'dpa', 'bionanomaterial', 'oln', 'cacs', 'lwf', 'iuse', 'mclennan', 'amsti', 'smartwatch', 'dichalcogenide', 'rssm', 'polyanilines', 'doerrer', 'honeynet', 'gridc', 'eando', 'cryoelectron', 'tarleton', 'gamification', 'sendai', 'shmt', 'externships', 'pothen', 'uen', 'alene', 'mpsoc', 'yu', 'tl', 'gaylord', 'netstat', 'streamflow', 'alam', 'cnt', 'fibermatrix', 'shodor', 'microrna', 'itwf', 'figshare', 'eggimann', 'cygames', 'nantes', 'cybersinfrastructure', 'spartanburg', 'mcve', 'snowboard', 'jsc', 'gcom', 'aect', 'sdk', 'mankodiya', 'turbosoft', 'cybermanufacturing', 'sparsifying', 'nrsc', 'schoolaged', 'frontlines', 'optofluidic', 'ssho', 'pararescuer', 'wadc', 'efri', 'multibiometrics', 'cyberinformatics', 'afit', 'slos', 'lec', 'sharnnia', 'soa', 'ncsu', 'infrastructural', 'ovp', 'tmcc', 'kellogg', 'segovia', 'tamarackmedia', 'geodynamicists', 'imo', 'chaitan', 'openmm', 'selmer', 'exogeni', 'xafs', 'stuxnet', 'educause', 'bpu', 'nri', 'schlueter', 'ipython', 'wikis', 'cwdd', 'tac', 'darknets', 'maldi', 'communitiesof', 'vidia', 'marcus', 'nanophotonics', 'terpenoids', 'rasha', 'urgs', 'naregi', 'vm', 'geni', 'sdx', 'icepack', 'qds', 'pcbs', 'bbmi', 'ucf', 'spectrometrists', 'biochip', 'dongle', 'spatiallyarranged', 'ablamowicz', 'frontera', 'nanomaterial', 'underutilized', 'greenville', 'shaowen', 'rge', 'pserc', 'qsar', 'mesonet', 'centernet', 'oma', 'underperformance', 'chc', 'geosciences', 'swrc', 'polarglobe', 'svga', 'nanocomponents', 'curating', 'geochron', 'epo', 'dirac', 'trappecg', 'vassilis', 'kuester', 'particulary', 'ioos', 'metamine', 'lecompte', 'ilmenau', 'pnnl', 'scheller', 'robokind', 'wiggio', 'omnipop', 'spawar', 'eukhits', 'gitlab', 'uteachengineering', 'sonet', 'ndg', 'niatec', 'rcfl', 'alelo', 'piv', 'vinaren', 'reengineering', 'yablonovitch', 'nsp', 'sphis', 'contextualized', 'ubiquitination', 'teravoxel', 'nmsu', 'webcast', 'uavs', 'seaworld', 'fulton', 'bwac', 'openwetware', 'fsu', 'cancun', 'berea', 'bpcc', 'varilly', 'shinshu', 'cybex', 'ccti', 'usrs', 'sacnas', 'kinects', 'iprivacy', 'synchrophasors', 'westnet', 'fauser', 'reenen', 'duncaster', 'griphyn', 'rasterization', 'upcycling', 'sami', 'certiport', 'icciacst', 'itase', 'macroscope', 'pitstructures', 'triplines', 'clemson', 'geoedf', 'cdsande', 'robobooks', 'php', 'dhabi', 'creativeit', 'mpinterfaces', 'stackv', 'mic', 'pyle', 'mlftc', 'hartnell', 'salaheldin', 'cyberlaboratory', 'cybertower', 'falko', 'sandp', 'hcp', 'bicliques', 'intelesense', 'linnaeus', 'bmet', 'sadow', 'ntn', 'postsecondary', 'mueller', 'fuland', 'aquaswarm', 'grns', 'mmw', 'sonora', 'superfund', 'etb', 'hatfield', 'geogame', 'cjq', 'stt', 'cyberfriends', 'reseach', 'nlsdr', 'csec', 'keyloggers', 'ingolf', 'nanobuilding', 'javascript', 'aeds', 'biofilms', 'iandt', 'msu', 'productized', 'ames', 'diradical', 'cyberinfractures', 'ultramafic', 'subawardees', 'bcube', 'cacr', 'rounsley', 'opex', 'techniquesfor', 'captioners', 'ryan', 'osu', 'sahai', 'crm', 'nstc', 'projct', 'urm', 'subseafloor', 'bscs', 'cctools', 'summatively', 'mehl', 'oci', 'csail', 'ncwit', 'rtems', 'sbgrid', 'syndem', 'tuto', 'floquet', 'plasmonics', 'kunal', 'shuttleworth', 'dpatterson', 'acadis', 'scisip', 'kemper', 'furi', 'galerkin', 'neesinc', 'mmos', 'hetnets', 'blog', 'sinclair', 'sanikiluaq', 'pept', 'teragrid', 'cylab', 'turbopumped', 'sheeets', 'ttu', 'timeline', 'nanodusty', 'wnet', 'comtree', 'multiplayer', 'hpe', 'threedimensional', 'sandvol', 'hdf', 'nvd', 'blazar', 'cassel', 'annonymization', 'nanofiber', 'videogames', 'leuven', 'brownsville', 'unifed', 'nafeo', 'semistochastic', 'knowledgebase', 'nirps', 'byods', 'antiaromatic', 'dickinson', 'luay', 'ligo', 'edmonds', 'oled', 'vistrails', 'potosino', 'clivar', 'countertop', 'mgrid', 'reimagined', 'secdev', 'esb', 'xps', 'utig', 'focapo', 'icac', 'commugrate', 'mvno', 'amherst', 'cyberam', 'pgande', 'codevelopment', 'lmr', 'syvitski', 'interdiscipinary', 'nsg', 'sunapee', 'dimacs', 'umn', 'cwssp', 'bioextract', 'icts', 'cybergis', 'clementi', 'google', 'dirichlet', 'uml', 'ku', 'exascale', 'bentcore', 'vhub', 'dcl', 'nec', 'incenting', 'widefield', 'itech', 'gupta', 'mwm', 'cloudtech', 'pltl', 'glycoconjugates', 'ukri', 'jsme', 'gridftp', 'quarantinability', 'lasenby', 'cacc', 'cvar', 'nakhleh', 'salvatore', 'plb', 'nmm', 'astrostatistics', 'pbe', 'mcr', 'osdt', 'mechanobiology', 'trec', 'flickr', 'jupyterlab', 'mitc', 'pradesh', 'umr', 'indepth', 'icer', 'cbeo', 'vscse', 'naïve', 'refactors', 'esri', 'downscaling', 'nwrc', 'biodefense', 'lexias', 'dmd', 'amrex', 'bbci', 'bloomfield', 'darmstadt', 'nacua', 'sadet', 'wnmu', 'magdi', 'ucsb', 'katg', 'virome', 'greenstadt', 'depackage', 'poikliothermic', 'uass', 'dominguez', 'severini', 'gabc', 'rfnest', 'ehealthcare', 'neuropeptide', 'rafal', 'geomatics', 'collaboratorium', 'ncfta', 'photophysics', 'uber', 'mentees', 'hanlon', 'infraorder', 'icu', 'isanda', 'khanna', 'noninvasively', 'elasticsearch', 'smarr', 'interative', 'safa', 'nanomaterials', 'isa', 'mwn', 'adbc', 'woci', 'wifi', 'qbox', 'ttp', 'sciencedmz', 'heterogenity', 'lamnids', 'atandt', 'kantardjieff', 'interoperating', 'abdelkhalik', 'sciknowmine', 'sahi', 'analyte', 'gcb', 'pcet', 'brainlink', 'drexel', 'lmi', 'synteny', 'cidr', 'multiproduct', 'shb', 'opioid', 'fmitf', 'mixmap', 'noc', 'mvnos', 'cybercriminal', 'toolsets', 'greywolf', 'puis', 'ccf', 'fingerprintable', 'gargett', 'stevens', 'meghdoot', 'digitalsts', 'tw', 'pcdp', 'verne', 'videira', 'wienhausen', 'organotransition', 'ucd', 'idlow', 'ssei', 'superharmonic', 'oandm', 'eie', 'swe', 'hrdem', 'downscale', 'lyudmila', 'café', 'datastorm', 'reproducability', 'barcoding', 'kostadin', 'momp', 'amo', 'sysml', 'cosee', 'miron', 'perl', 'edx', 'rtds', 'microcal', 'metcalfe', 'psic', 'plc', 'pretschner', 'chatbot', 'cscibox', 'mesogens', 'colorectal', 'ipf', 'dillard', 'urop', 'ccser', 'gw', 'parkside', 'gopal', 'usma', 'memristor', 'atitia', 'hpfrcc', 'preuss', 'gwp', 'mocness', 'debonding', 'polumers', 'irt', 'tolomato', 'wams', 'oarnet', 'webmaster', 'cikana', 'lemmatizers', 'ucst', 'immunet', 'glideinwms', 'nonadiabatic', 'hmsc', 'emcc', 'alcorn', 'effprt', 'dendrimers', 'ntsa', 'geospataial', 'agep', 'biosampler', 'larsen', 'electrocorticography', 'glms', 'cne', 'cpsmap', 'cyberloft', 'vanbriesen', 'cgc', 'simeng', 'gnrh', 'policymakers', 'scilab', 'cyberinfrastructural', 'palanki', 'bsn', 'crosslinkable', 'biointerfaces', 'hackweek', 'dssv', 'architected', 'iihitsls', 'cybersees', 'ratsch', 'bbcp', 'rico', 'articipation', 'esper', 'setsep', 'bremen', 'nanobio', 'esip', 'tardis', 'konter', 'diffusivities', 'multiferroics', 'spammer', 'himb', 'teleimmersion', 'epstein', 'gemc', 'tsu', 'peruana', 'odl', 'hrcyber', 'photoelectrodes', 'transfection', 'usrp', 'rof', 'micropillar', 'macroinvertebrates', 'ndsu', 'openabm', 'semimetals', 'investigaciones', 'sensoring', 'exploratorium', 'cyberbalkanization', 'allbio', 'universtiy', 'lehigh', 'ru', 'intersectionality', 'fns', 'malonaldehyde', 'nanoos', 'epm', 'sztipanovits', 'diand', 'qol', 'cossmo', 'vms', 'drabold', 'glycopeptides', 'cybervisits', 'minidiffractometer', 'nanoliter', 'maui', 'bmbf', 'manufacturability', 'hinde', 'shakemovie', 'bluefield', 'sfs', 'ivision', 'cyberenvironment', 'northside', 'sesync', 'nwcet', 'ots', 'vtech', 'workgroup', 'ggsfp', 'phenotyping', 'bbsi', 'cset', 'mbr', 'hillslopes', 'photovoltaics', 'siem', 'criminalize', 'naspi', 'cyberaggression', 'romio', 'esnet', 'geostructural', 'msml', 'mio', 'kavak', 'ccsf', 'geospace', 'nanobelts', 'scripps', 'microhabitats', 'christodoulos', 'ipc', 'sbu', 'tof', 'ivros', 'rov', 'roboticists', 'polyhydrides', 'biosystems', 'petaflop', 'dna', 'decamouflaging', 'xtalopt', 'aimd', 'gpo', 'ydstie', 'uhmc', 'symmetrybreaking', 'pacom', 'nanotech', 'prosumers', 'pupr', 'ctmc', 'deployers', 'crif', 'wanets', 'nanotoxicity', 'sscp', 'ctsim', 'northridge', 'ssds', 'nlo', 'georg', 'polcyb', 'afm', 'minlp', 'heterojunction', 'hioa', 'nshe', 'jeddah', 'multiresolution', 'nsci', 'hmi', 'ipy', 'iupui', 'kyrc', 'qudits', 'functionalization', 'temsmani', 'bnl', 'hsr', 'gpgpus', 'cpess', 'ncr', 'ntc', 'grigoropoulos', 'endophytes', 'manipulatives', 'cadnano', 'nir', 'fargo', 'saml', 'reserachers', 'essil', 'nnlo', 'christchurch', 'uop', 'unam', 'pbis', 'piedras', 'soergel', 'telesurgery', 'nanospheres', 'idm', 'cyberwatch', 'lehnert', 'ucar', 'oac', 'fmmi', 'rsearch', 'daytona', 'mcgill', 'nnmc', 'steganalytic', 'magnetosome', 'icecube', 'iit', 'jhu', 'iomt', 'icare', 'retrofittable', 'summarinzing', 'electrotactile', 'isos', 'biocomplexity', 'pollutionview', 'prioritizes', 'isso', 'edl', 'ifac', 'laituri', 'berenstein', 'ncra', 'mmurfs', 'anza', 'shiu', 'telehealth', 'cyberinfrasturcture', 'biomonitoring', 'asme', 'rootkit', 'watsonville', 'biofuels', 'cyberinfrstructure', 'csds', 'raritan', 'livermore', 'dsos', 'voevent', 'interoperability', 'genbank', 'umd', 'baltay', 'spm', 'isgtw', 'ceneci', 'iap', 'merwe', 'datadriven', 'laaziz', 'cybertaxonomic', 'glif', 'crassa', 'tomotherapy', 'adnan', 'isamples', 'ccent', 'microlensing', 'isye', 'auditability', 'microfabricated', 'gabriele', 'msps', 'biohybrid', 'datamed', 'ethereum', 'hokiespeed', 'rcsm', 'nonribosomal', 'naviator', 'bioconjugates', 'powertrains', 'bitbucket', 'ophiolites', 'sais', 'cyberdata', 'ctsnet', 'commoditized', 'imapct', 'mvcc', 'sdvs', 'gleon', 'neurocomputational', 'inspiral', 'bcc', 'rtpc', 'microgrids', 'stillaguamish', 'barcode', 'lamar', 'collabathons', 'latech', 'ci', 'danse', 'fullerene', 'mlti', 'intedisciplinary', 'subprojects', 'sdgande', 'crowdturfer', 'georeference', 'cssia', 'muste', 'crowdsourced', 'monodisperse', 'estudiantes', 'icruiser', 'homophily', 'mesostructures', 'saydjari', 'brantley', 'fplc', 'wooley', 'nanogrids', 'eas', 'slipchenko', 'molssi', 'nanocapsules', 'dmf', 'sadc', 'influencers', 'schulze', 'qbd', 'quantiatively', 'lqcd', 'cybertools', 'chemometrics', 'hubbard', 'iseage', 'multiferroic', 'ctsp', 'walmart', 'mri', 'geotagged', 'cyberfacility', 'hoodlt', 'thresholding', 'extremize', 'imua', 'llc', 'geospatial', 'cserd', 'youtube', 'telerobotics', 'cisal', 'biosignal', 'ondemand', 'dirse', 'mpdo', 'palomar', 'epscor', 'macrocycles', 'meade', 'gridcii', 'cvd', 'cyberscience', 'kochi', 'vmc', 'wicys', 'tochtrop', 'acq', 'hlt', 'claytronics', 'eis', 'audioconferencing', 'demaine', 'crowdturfing', 'brigham', 'multipoles', 'nwp', 'bullyblocker', 'bioparticles', 'cyneuro', 'christi', 'waveguiding', 'bvi', 'cimi', 'ascomycota', 'ecotourism', 'nanotribology', 'polik', 'hestenes', 'datacenter', 'metavir', 'discretized', 'isr', 'opportunty', 'igeni', 'hbcus', 'lmes', 'cme', 'mda', 'biobotic', 'qi', 'praveen', 'kamchatka', 'utep', 'bioimpedance', 'lagos', 'rafie', 'weisband', 'ssd', 'osf', 'marius', 'nescent', 'noril', 'astroturfing', 'hypervisor', 'imicrobe', 'galapagos', 'sciserver', 'polypseudorotaxanes', 'alamogordo', 'edc', 'proteomics', 'hofstra', 'abramson', 'underexplored', 'polarizabilities', 'choi', 'ncsm', 'tcc', 'gridex', 'fiducials', 'simulationists', 'evanston', 'informationally', 'iihr', 'bioprobes', 'kinesthesiology', 'eprc', 'compaas', 'rdc', 'mechatronic', 'familywise', 'dronology', 'dqr', 'damevski', 'cnn', 'playtesting', 'nij', 'kyiv', 'vanlehn', 'irnc', 'gsr', 'nwacc', 'schildhauer', 'cyberinfrastructre', 'nysci', 'nanostructured', 'sustainability', 'rpcs', 'cybermech', 'dhtc', 'microengineered', 'paleoclimate', 'vfts', 'assesment', 'facebooktm', 'starexec', 'usenix', 'crikit', 'cyberbullied', 'netsolve', 'modifed', 'acnn', 'recieved', 'petalibrary', 'mesoporous', 'microbiome', 'mathematizing', 'hrmc', 'normale', 'khidir', 'ecomuve', 'ogce', 'optoelectronics', 'sigridur', 'securecloud', 'webinar', 'nmg', 'smte', 'itrustso', 'ppcf', 'osh', 'nih', 'autosampler', 'lightcurves', 'kongregate', 'geobiological', 'windborne', 'toolset', 'scate', 'oxynitride', 'roundtrip', 'ferpa', 'cbc', 'nanosensors', 'enantioselective', 'ncpss', 'mirai', 'wno', 'juelich', 'scientifc', 'tweens', 'piasecki', 'heliophysics', 'usm', 'edurange', 'midcareer', 'hprcs', 'willson', 'gridshib', 'heterojunctions', 'lifemapper', 'bragg', 'donnell', 'iridocytes', 'rbps', 'caradonna', 'nnin', 'bootcamps', 'buckminsterfullerene', 'iam', 'vw', 'teleoperated', 'yunsi', 'fma', 'cio', 'jawaharlal', 'penn', 'ascb', 'subfacilities', 'snp', 'biocomplex', 'fermionic', 'minsker', 'lcs', 'pfaffians', 'uwt', 'hopkins', 'premontane', 'xsp', 'lbl', 'hkoep', 'cybercollage', 'teradata', 'aiaa', 'skg', 'jp', 'chickering', 'mdr', 'videogame', 'cyberattack', 'csdms', 'lushbough', 'matpower', 'hahn', 'paxson', 'propulsors', 'anexpressive', 'phenylenes', 'ceo', 'cybher', 'openacc', 'regli', 'nanoscience', 'qnats', 'apps', 'mrc', 'sdc', 'icds', 'shm', 'barcodes', 'polyaromatic', 'developent', 'cpms', 'csdf', 'uhecr', 'subnanoporous', 'middleware', 'vizsec', 'cycloalkyl', 'mcmaster', 'avetec', 'ffts', 'polyolefins', 'reinjection', 'cyberconnector', 'unr', 'eap', 'universityís', 'pnw', 'mrna', 'rovibrational', 'xilinx', 'lwe', 'hariri', 'cyberprof', 'cirtas', 'chern', 'cyberscientists', 'esf', 'transcriptomic', 'libmesh', 'crb', 'cardioverter', 'bionanomaterials', 'kubernetes', 'icpsr', 'pdes', 'bellmore', 'ibarra', 'rans', 'zaim', 'sqmc', 'abdullah', 'cernet', 'wgt', 'nrsns', 'metasynthesis', 'cyberengineering', 'stci', 'occp', 'irm', 'mghpcc', 'usd', 'ahmadabad', 'battlebots', 'designsafe', 'suri', 'kalivas', 'imc', 'phylogenetics', 'biocollections', 'oxinitrides', 'ndn', 'qca', 'rodgers', 'utk', 'rtos', 'habs', 'cerevisiae', 'kyron', 'gund', 'issnip', 'ghg', 'marquette', 'bioactive', 'cron', 'daycare', 'dspace', 'abf', 'wikibook', 'wiil', 'clsmce', 'ecodb', 'bhl', 'nolenet', 'ostracodes', 'siqib', 'eol', 'sinx', 'oldow', 'dagman', 'hilu', 'inthanovations', 'sbe', 'fairfax', 'oise', 'lichtenberger', 'nistor', 'ewa', 'cctf', 'biostratigraphic', 'uchicago', 'microalgae', 'cpsor', 'copiah', 'metalloprotein', 'crovella', 'matusik', 'ets', 'crowdsensing', 'ost', 'wanet', 'qunfeng', 'étale', 'prokaryotic', 'labrae', 'vcl', 'cbol', 'mundo', 'hoosris', 'lno', 'capd', 'collaboratives', 'vestibulo', 'dsicovery', 'rrt', 'passwordless', 'prioritization', 'msia', 'cvip', 'otero', 'tohoku', 'ionomic', 'upr', 'atlss', 'ualr', 'decontaminants', 'scada', 'cphs', 'sdn', 'lyme', 'sait', 'sppm', 'underperform', 'omic', 'ccv', 'doj', 'cmp', 'ner', 'jupyter', 'hpc', 'workflow', 'rumic', 'paterson', 'nde', 'eigenanalysis', 'ccgs', 'systeme', 'transformatively', 'oef', 'lsamp', 'matdl', 'iab', 'libkrylov', 'sprinal', 'forcings', 'cyclizations', 'ultrametric', 'geochronapi', 'outbursting', 'realtime', 'queensland', 'quadcopters', 'cryptosystems', 'lvads', 'uci', 'mcu', 'potentiostat', 'branson', 'nanoarrays', 'nanodevices', 'smolin', 'maricopa', 'coeur', 'timescape', 'fiatech', 'kruger', 'dareize', 'ccdc', 'rdma', 'neuroprostheses', 'polyimides', 'saporito', 'margrit', 'cally', 'cyberlearners', 'nsrc', 'ebraille', 'cbn', 'peptidomimetic', 'opensimulator', 'vittal', 'rlwe', 'ncgas', 'multispectral', 'skillset', 'hrt', 'colab', 'ucc', 'pufs', 'accelnet', 'zettabyte', 'twb', 'snm', 'cct', 'purdue', 'crrc', 'fomation', 'mooc', 'ruidoso', 'colocation', 'biosamples', 'woronowicz', 'fileshares', 'synchronizability', 'oversharing', 'sunyit', 'phd', 'afs', 'phtooxidation', 'eisenstein', 'sinte', 'herkimer', 'acheived', 'cdl', 'rwc', 'ecohydrology', 'rces', 'nsidc', 'terrones', 'infosec', 'npn', 'macroinvertebrate', 'transdisciplinary', 'lightbulb', 'edu', 'hackproof', 'cpc', 'nanostructure', 'ldeo', 'spms', 'goalis', 'microlenses', 'photodegradable', 'crowdsourcing', 'photoresistors', 'effat', 'iop', 'multiterminal', 'cybercrime', 'cybermists', 'steelcase', 'tetherless', 'tarboton', 'cishell', 'null', 'multiphysics', 'webassign', 'affordability', 'cyberdefense', 'dfir', 'dbr', 'efp', 'overfocus', 'uwsn', 'comorbidities', 'vehical', 'onsite', 'mando', 'biologica', 'sosp', 'savi', 'interprocedural', 'laplacians', 'oce', 'ciso', 'ramirez', 'joides', 'scitrust', 'iarpa', 'gtisc', 'cytse', 'geoengineering', 'evid', 'esl', 'jittifff', 'umkc', 'eyetracking', 'uas', 'queretaro', 'dyknow', 'wv', 'uapb', 'timetabling', 'cuore', 'icls', 'minecraft', 'bcs', 'robotarium', 'amaral', 'rsfs', 'gomc', 'ccis', 'pdc', 'rcci', 'shidler', 'grfp', 'npgi', 'unh', 'cenic', 'terc', 'seeman', 'gromacs', 'whatcom', 'rwa', 'grumman', 'scos', 'rtg', 'holyoke', 'itest', 'velea', 'macarthur', 'webcam', 'microkinetic', 'cyberresources', 'cyberforensics', 'kure', 'baid', 'transitgenie', 'admm', 'atherton', 'steac', 'sbms', 'oligonucleotides', 'cse', 'unachi', 'modis', 'holonic', 'waikoloa', 'keckcaves', 'oems', 'glycosylation', 'defanti', 'timetree', 'mmwave', 'optiputer', 'ecg', 'chassi', 'coallition', 'superieure', 'lego', 'eci', 'resensys', 'geocodes', 'westmoreland', 'networkx', 'ibrahim', 'mhs', 'jst', 'photodetectors', 'narl', 'glantz', 'patras', 'polyketides', 'grigorchuk', 'contactless', 'nanowires', 'superoptimizers', 'conwarenet', 'graphtheoretic', 'cresis', 'hiv', 'nanocrystalline', 'supraoperons', 'perú', 'moocs', 'juarez', 'cyclopropanation', 'sdsc', 'ircs', 'coursework', 'earthchem', 'evm', 'dataverse', 'cybersw', 'tiv', 'sanderson', 'backstory', 'microarray', 'microphotolithography', 'sobieski', 'géant', 'cyprg', 'truckee', 'cetb', 'basc', 'interoperation', 'pubmed', 'medford', 'myosg', 'seclab', 'caricato', 'wids', 'gna', 'smpc', 'greenlight', 'calswim', 'fyfe', 'msis', 'vnel', 'iln', 'otellione', 'fsi', 'aps', 'icloud', 'daniela', 'prodow', 'youmedia', 'antiferromagnets', 'vlabs', 'binghamton', 'fia', 'serengeti', 'studyingf', 'mccpi', 'tcp', 'nanomedical', 'multirobot', 'sdrs', 'correlators', 'iplant', 'measureable', 'paleogeoscience', 'inkjet', 'sttr', 'elp', 'macroecology', 'matlab', 'bia', 'dfc', 'vsbs', 'trng', 'inactivators', 'tolman', 'macrolab', 'zeo', 'anonymization', 'scientizing', 'nwsc', 'trackability', 'incentivized', 'serp', 'ecr', 'pawr', 'cybercheqs', 'jisc', 'hotspot', 'savio', 'rnns', 'ababa', 'partcipants', 'gdsnet', 'astro', 'alkylidenes', 'cda', 'bfsn', 'rdv', 'lter', 'affordably', 'venkat', 'tachykinin', 'mccpis', 'metalloproteins', 'underinvestment', 'vtechworks', 'bigsce', 'infoverse', 'disaggregates', 'astroinformatics', 'composability', 'liguo', 'datalog', 'guideways', 'morreale', 'walther', 'astrochemists', 'neuroscientific', 'pithouse', 'cloudlab', 'lta', 'nanoclusters', 'chalcogenides', 'poject', 'cmu', 'nced', 'broes', 'xsedenet', 'cpath', 'neurorehabilitation', 'nanodisk', 'piren', 'imcp', 'pooihe', 'forcefields', 'netsblox', 'engieering', 'cem', 'combustors', 'ncar', 'harc', 'icnet', 'cea', 'dof', 'cyberinfrastucture', 'caes', 'flaura', 'ecc', 'bsph', 'smes', 'comparision', 'akers', 'nagt', 'ctu', 'perfluorocarbon', 'thermophotovoltaic', 'epsrc', 'qd', 'isdde', 'fgit', 'earthlife', 'convenor', 'universität', 'allentown', 'heliosphere', 'germline', 'cruz', 'casc', 'metaproteomic', 'nonsmooth', 'reynolds', 'leandro', 'brookings', 'roadnet', 'stereolithography', 'jsde', 'neursocience', 'meda', 'igc', 'filesystem', 'vlc', 'rna', 'gnass', 'niba', 'superiore', 'nstissc', 'inver', 'esno', 'junwei', 'isee'}\n"
     ]
    }
   ],
   "source": [
    "print(set(meaningless_list))"
   ]
  },
  {
   "cell_type": "markdown",
   "metadata": {},
   "source": [
    "__Remove Meaningless Words__"
   ]
  },
  {
   "cell_type": "code",
   "execution_count": 24,
   "metadata": {},
   "outputs": [
    {
     "name": "stdout",
     "output_type": "stream",
     "text": [
      "Total words after removing the meaningless words: 783935\n"
     ]
    },
    {
     "data": {
      "text/html": [
       "<div>\n",
       "<style scoped>\n",
       "    .dataframe tbody tr th:only-of-type {\n",
       "        vertical-align: middle;\n",
       "    }\n",
       "\n",
       "    .dataframe tbody tr th {\n",
       "        vertical-align: top;\n",
       "    }\n",
       "\n",
       "    .dataframe thead th {\n",
       "        text-align: right;\n",
       "    }\n",
       "</style>\n",
       "<table border=\"1\" class=\"dataframe\">\n",
       "  <thead>\n",
       "    <tr style=\"text-align: right;\">\n",
       "      <th></th>\n",
       "      <th>AwardID</th>\n",
       "      <th>AwardTitle</th>\n",
       "      <th>Abstract</th>\n",
       "      <th>Abstract_Tokens</th>\n",
       "    </tr>\n",
       "  </thead>\n",
       "  <tbody>\n",
       "    <tr>\n",
       "      <th>0</th>\n",
       "      <td>0110599</td>\n",
       "      <td>Collaborative Research Testing Affect Control ...</td>\n",
       "      <td>The investigators will conduct a of experiment...</td>\n",
       "      <td>[investigator, conduct, experiment, focus, cru...</td>\n",
       "    </tr>\n",
       "    <tr>\n",
       "      <th>1</th>\n",
       "      <td>0112426</td>\n",
       "      <td>Federal Cyber Service Initiative</td>\n",
       "      <td>This program produces a cadre of computer scie...</td>\n",
       "      <td>[produce, cadre, computer, scientist, strong, ...</td>\n",
       "    </tr>\n",
       "  </tbody>\n",
       "</table>\n",
       "</div>"
      ],
      "text/plain": [
       "   AwardID                                         AwardTitle  \\\n",
       "0  0110599  Collaborative Research Testing Affect Control ...   \n",
       "1  0112426                   Federal Cyber Service Initiative   \n",
       "\n",
       "                                            Abstract  \\\n",
       "0  The investigators will conduct a of experiment...   \n",
       "1  This program produces a cadre of computer scie...   \n",
       "\n",
       "                                     Abstract_Tokens  \n",
       "0  [investigator, conduct, experiment, focus, cru...  \n",
       "1  [produce, cadre, computer, scientist, strong, ...  "
      ]
     },
     "execution_count": 24,
     "metadata": {},
     "output_type": "execute_result"
    }
   ],
   "source": [
    "wordlist = nltk.corpus.words.words()#Creat a wordlist\n",
    "meaningless_list=[]\n",
    "\n",
    "#Check the tokens from wordlist\n",
    "for n in range(df_sum2.shape[0]):\n",
    "    meaningless=[w for w in  df_sum2['Abstract_Tokens'][n] if w not in wordlist]\n",
    "    meaningless_list.extend(meaningless)\n",
    "    df_sum2['Abstract_Tokens'][n]=[w for w in  df_sum2['Abstract_Tokens'][n] if w in wordlist]\n",
    "print('Total words after removing the meaningless words: {}'.format(sum(df_sum2['Abstract_Tokens'].str.len())))\n",
    "df_sum2.head(2)"
   ]
  },
  {
   "cell_type": "code",
   "execution_count": 93,
   "metadata": {},
   "outputs": [
    {
     "name": "stdout",
     "output_type": "stream",
     "text": [
      "{'cmi', 'nicoya', 'venkatesh', 'hantavirus', 'uncovers', 'multichannel', 'delaware', 'unencrypted', 'fnirs', 'dmrg', 'depends', 'heightens', 'wabash', 'photochromes', 'externship', 'magmatism', 'atp', 'jantke', 'autostereoscopic', 'milan', 'wais', 'yeung', 'tandd', 'pna', 'anytime', 'uconn', 'fsafe', 'eng', 'filesender', 'iacbp', 'ron', 'evaluates', 'delayed', 'baryon', 'magnetoencephalography', 'compositionality', 'byod', 'databasing', 'georgia', 'conversim', 'wider', 'aquaponics', 'ntp', 'streamwise', 'sserca', 'ebam', 'gaussian', 'pleth', 'sandt', 'ccc', 'makeup', 'atlantis', 'activies', 'eugene', 'stnos', 'metastructure', 'logothetis', 'bursty', 'arbitrage', 'virtualized', 'bakersfield', 'intergroup', 'nrdc', 'vectorbase', 'uw', 'quadrotors', 'qw', 'mudslide', 'rbdil', 'faultlines', 'formalizes', 'zetabytes', 'lipon', 'ciac', 'ald', 'operationalization', 'qedc', 'rcn', 'ricky', 'stereoselective', 'sfsu', 'decrypts', 'chikyu', 'byu', 'iffs', 'nazarene', 'pnetcdf', 'belarbi', 'systemof', 'reconfigure', 'bronfenbrenner', 'establishes', 'plae', 'mgp', 'disbaled', 'overnights', 'conveys', 'biocomputation', 'cipres', 'infotainment', 'rifting', 'campout', 'registerd', 'ayman', 'ontario', 'seddb', 'reputational', 'competitivity', 'esp', 'mellanox', 'msi', 'uno', 'dimatia', 'francesco', 'planetlab', 'blueroof', 'chipset', 'shepens', 'synergizing', 'http', 'sepm', 'vo', 'cyberstem', 'supersymmetric', 'gigabyte', 'decongestion', 'underprepared', 'buell', 'oaxaca', 'nibib', 'med', 'opentopography', 'spacecraft', 'pumped', 'fluxbuster', 'socioculturism', 'debug', 'mploy', 'transcriptomes', 'oswald', 'gdpr', 'miniaturization', 'funding', 'geomorphologic', 'eot', 'waterworks', 'jeyanandh', 'sftp', 'szeged', 'nanoparticles', 'henkelman', 'forrest', 'chipsets', 'oligopeptides', 'ctos', 'superdarn', 'cte', 'supportively', 'sulfur', 'kinect', 'cca', 'icelandic', 'geounits', 'rhodoquinone', 'qwalk', 'macrosystem', 'dift', 'multiarticulating', 'bernoulli', 'icam', 'spc', 'neuroinformatics', 'feedforward', 'citylines', 'sandia', 'mainstreaming', 'mpqc', 'biomineralization', 'stromgren', 'distributionally', 'nanopores', 'ilam', 'dr', 'videoconferencing', 'photoinduced', 'interweaves', 'rmd', 'diy', 'idc', 'phy', 'hyst', 'gibabits', 'apb', 'conformally', 'manpower', 'llvm', 'pak', 'cnrc', 'validators', 'kataphatic', 'tractography', 'kinova', 'kruiser', 'bielefeld', 'anns', 'phytoalexins', 'ising', 'praxair', 'sociocomputational', 'fmri', 'ibp', 'rhode', 'aadl', 'assistments', 'freebase', 'agrees', 'dcew', 'hbm', 'rollout', 'umrb', 'complexation', 'maravelias', 'caribbean', 'dibbs', 'cyberplus', 'angelo', 'cerias', 'cydberinfrastructure', 'ijs', 'distil', 'kluwer', 'nondissipative', 'uk', 'iisc', 'adolphus', 'saddlepoint', 'espar', 'der', 'erik', 'gsce', 'hol', 'skynet', 'biomineral', 'sonographic', 'cc', 'lbdu', 'classify', 'lipid', 'rm', 'sescs', 'ncalm', 'cyberthreats', 'ramesh', 'geostatistical', 'wilmington', 'polyrotaxanes', 'collabrx', 'excels', 'sulfide', 'magdy', 'skormin', 'bioreactors', 'fulltime', 'rrna', 'subcomponents', 'ionome', 'myproxy', 'chpc', 'akes', 'socioecological', 'transects', 'enhances', 'european', 'hypothesizes', 'wuchun', 'tbn', 'subgraph', 'digitaluniverse', 'certifies', 'mimo', 'mislabeled', 'fluoroorganic', 'gisella', 'nehru', 'npo', 'tecnológico', 'maneuvering', 'emc', 'checklist', 'vsto', 'vsb', 'consists', 'assigns', 'schoolers', 'desalination', 'chatbots', 'informaticists', 'optimizes', 'hypergraph', 'collaboratioin', 'microbubbles', 'leveraged', 'bioderived', 'meyerhoff', 'cryptoreads', 'english', 'metabonomic', 'carcharias', 'contends', 'rtss', 'restructures', 'cybersite', 'hpcaas', 'metagenomic', 'iin', 'chiba', 'biradical', 'glos', 'counterpartners', 'ciw', 'bienville', 'startap', 'bdsp', 'glerl', 'smartgreen', 'magnetosphere', 'wraparound', 'sygus', 'asic', 'nci', 'ef', 'auc', 'ctsc', 'geomicrobiology', 'spatio', 'virgilio', 'ccny', 'prevents', 'cyberscholars', 'neotoma', 'nonorthonormal', 'ppdg', 'sch', 'multirotor', 'kocaeli', 'bowring', 'kofke', 'syngas', 'schrdinger', 'interpolants', 'aluminoborosilicate', 'nsa', 'creu', 'zhijun', 'dmitri', 'soecs', 'caas', 'cristina', 'qolt', 'processability', 'prms', 'nitrandd', 'rths', 'arranges', 'hyperparameter', 'fiu', 'amadeu', 'wilbur', 'fau', 'computationally', 'huseyin', 'upfront', 'smartutors', 'others', 'micromechanical', 'cto', 'coincides', 'gb', 'salk', 'asphaltenes', 'igns', 'deployable', 'courte', 'hydrodeoxygenation', 'cyberterrorism', 'cryptocurrencies', 'iodp', 'fairbanks', 'microcavity', 'mindset', 'dqs', 'circl', 'sara', 'ccsia', 'onboard', 'ortholog', 'alexanmder', 'ecogeo', 'univ', 'automatatheoretic', 'shareability', 'electroporation', 'genotyping', 'tseen', 'shrublands', 'ecse', 'zoomable', 'pohl', 'vermont', 'reu', 'multifunctional', 'xci', 'icalt', 'lbnl', 'vbes', 'biomacromolecules', 'phishing', 'blockchain', 'transcriptomics', 'elie', 'benchmarked', 'masaryk', 'nehrp', 'trouve', 'tacc', 'bioelectronic', 'reinforces', 'microcontroller', 'ssh', 'fdr', 'scp', 'cmes', 'gallaudet', 'streetlight', 'microalgal', 'powertrain', 'attributional', 'sivapalan', 'hinders', 'businessmen', 'tcloud', 'macroscale', 'openmp', 'trialed', 'colby', 'metamaterials', 'tempisque', 'snyder', 'envisions', 'calhoun', 'cyse', 'carayon', 'ksu', 'psd', 'scsu', 'thomas', 'cybertaxonomy', 'gbps', 'john', 'covalently', 'california', 'giles', 'biomimicry', 'bestavros', 'georgetown', 'crosslinks', 'reston', 'irb', 'warshel', 'dmps', 'uv', 'laboratoire', 'landsat', 'videoconferences', 'manipulates', 'eweek', 'mkps', 'liping', 'readout', 'ptf', 'jhave', 'austria', 'tnrp', 'userbase', 'nancomposite', 'mit', 'mesoscopic', 'hawkins', 'staq', 'recasts', 'seyle', 'carfs', 'occ', 'packaging', 'cvdi', 'waterville', 'scdi', 'arrythmias', 'lao', 'swiftly', 'charleston', 'elaborates', 'terapixel', 'nanosustainability', 'charlotte', 'alexandria', 'reframed', 'trumbull', 'czo', 'vasp', 'ncat', 'reconfigurable', 'superconducting', 'ccmc', 'boson', 'minoring', 'bfs', 'camtasia', 'valavanis', 'plasmapy', 'scoping', 'geochronologists', 'dge', 'rmc', 'switzerland', 'blogosphere', 'modularity', 'deprotonated', 'wpan', 'eb', 'scavenges', 'hurtado', 'shaders', 'wsans', 'morehouse', 'xdmod', 'islanded', 'uhm', 'edm', 'fdm', 'undetectability', 'multicollinearity', 'vaulable', 'simon', 'bertinoro', 'miroscope', 'printf', 'jetscape', 'aandp', 'cactus', 'scivis', 'tighter', 'pursues', 'deeppdb', 'washingon', 'monday', 'borane', 'ppd', 'mobihoc', 'geoed', 'excitonic', 'longand', 'learntomod', 'substitutability', 'opp', 'shellos', 'knickpoints', 'bilayer', 'jamming', 'teleobservation', 'convenors', 'rsl', 'holbrook', 'mirnas', 'textured', 'labview', 'cyphyhouse', 'sedimentology', 'epitaxy', 'lucasfilm', 'sjrwmd', 'siepmann', 'miriam', 'hres', 'scn', 'riscure', 'multidisicplinary', 'geodeepdive', 'veriand', 'rsr', 'publishes', 'recursively', 'rotavirus', 'cyberbullying', 'anymore', 'brassica', 'uasron', 'scalability', 'nicaragua', 'missouri', 'hpcdna', 'palos', 'smc', 'dawson', 'edd', 'ecoforecastr', 'sem', 'herps', 'cyberseminars', 'dns', 'cofunded', 'ipcc', 'cosn', 'ece', 'geoscientific', 'sgc', 'acsac', 'terminalia', 'hiding', 'nanosystems', 'chemoselective', 'kraus', 'ghz', 'responds', 'mindiola', 'highend', 'mqws', 'polyhomologation', 'mccoy', 'gclt', 'speedup', 'iiot', 'india', 'marianas', 'fingerwearable', 'au', 'cici', 'tfs', 'medellín', 'misconfigured', 'chemometric', 'fermi', 'cpi', 'chattanooga', 'synergized', 'xperts', 'fab', 'morphodynamic', 'rao', 'suv', 'aoi', 'mtt', 'disables', 'hmaf', 'baum', 'microenvironment', 'microtopographic', 'cyberteach', 'mullins', 'twistors', 'teleoperating', 'metatranscriptomics', 'porewater', 'microsystems', 'vmware', 'bc', 'orau', 'enjoys', 'renci', 'patrick', 'shoreline', 'mec', 'baffin', 'ioto', 'oab', 'parameterized', 'arabia', 'tribeca', 'webserver', 'hcc', 'signing', 'restricts', 'metaheuristic', 'contextualizing', 'orthologous', 'mongolia', 'showcasing', 'netcdf', 'philippine', 'bengalura', 'cypher', 'xms', 'npa', 'tgh', 'reducedcrop', 'cisl', 'cyberphysics', 'cyberspace', 'inb', 'marketplace', 'ui', 'videoconference', 'refactoring', 'cpws', 'microcredentialing', 'kyndi', 'boyle', 'ociafe', 'uaf', 'sulfation', 'tf', 'rescale', 'bronstein', 'ftfs', 'curenet', 'sf', 'cyberinstitute', 'norman', 'conditioning', 'potsdam', 'pgrop', 'namespace', 'cnri', 'microsensors', 'lidar', 'mccarran', 'czen', 'huynh', 'efi', 'floudas', 'hdss', 'underlayment', 'resesearch', 'consults', 'siavash', 'hardcopy', 'nanofibers', 'converges', 'spam', 'adhd', 'preeminent', 'cyberinfrastructures', 'adopts', 'pairing', 'microresonator', 'cvclab', 'midnatsol', 'eigenproblems', 'tigersphere', 'faangmine', 'reconciles', 'snri', 'mckee', 'philip', 'closest', 'tues', 'rbnb', 'rens', 'editable', 'nonconvex', 'wealthier', 'manoa', 'haifeng', 'neu', 'strouhal', 'multipath', 'wellbeing', 'nordunet', 'feedlot', 'baruch', 'memmax', 'testsuits', 'biosensing', 'ipsec', 'ny', 'ogf', 'baltimore', 'concordia', 'gmmi', 'replicator', 'bluerovs', 'biofuel', 'voss', 'serverless', 'megapixels', 'sangbae', 'particpants', 'industiral', 'uwa', 'diffractometers', 'siccs', 'unrealistically', 'mesoscale', 'whoi', 'gso', 'tsgl', 'aisl', 'allegra', 'nvo', 'distinguishes', 'awardees', 'gloriad', 'neuroscience', 'argentina', 'laptop', 'mocvd', 'snl', 'spafford', 'cyberware', 'lammps', 'ueckert', 'eit', 'scholarpedia', 'september', 'tobacsig', 'ccecc', 'acci', 'lunchtime', 'mcafee', 'multisensor', 'optimally', 'georeferenced', 'microclimes', 'theatre', 'instituto', 'fgdc', 'csf', 'etc', 'freeform', 'illustrates', 'cyberinfrastruture', 'australian', 'ftw', 'informatic', 'runtimes', 'infographics', 'piscataway', 'nwchem', 'steganographic', 'interoperate', 'academia', 'rsj', 'sahra', 'micromaterials', 'vesll', 'interlayer', 'newborn', 'lersais', 'tethys', 'pragma', 'westar', 'draconian', 'iu', 'ceems', 'kimon', 'nanomfg', 'cyberinfrasture', 'classinfocus', 'nanodays', 'nitrd', 'databanks', 'thru', 'acg', 'danville', 'metalloprotiens', 'southcentral', 'anr', 'nw', 'isandt', 'camcor', 'mrsec', 'magnetoresistive', 'renambot', 'french', 'ourrstore', 'petaflops', 'ciaas', 'vijay', 'rangeland', 'recharges', 'cybercut', 'cofunding', 'tekbot', 'scottsboro', 'biosignatures', 'nlr', 'nue', 'hscc', 'cmore', 'loyola', 'neuro', 'nanoenergetic', 'disseminates', 'hazzards', 'talkbank', 'decisionmakers', 'sro', 'pf', 'paleogeoscientists', 'stereoselectivity', 'muon', 'houston', 'hückel', 'bridget', 'roy', 'gdbase', 'powerdata', 'krishna', 'kus', 'sacramento', 'mathforum', 'biopharma', 'contes', 'pincipal', 'networked', 'hinxton', 'biobots', 'manycore', 'oram', 'codebases', 'quantifies', 'routable', 'caregiving', 'kleppel', 'ppvs', 'berkman', 'nceas', 'cscw', 'wku', 'cav', 'multilevel', 'micropolarizer', 'icasa', 'copying', 'cpltl', 'anyons', 'gdcsim', 'polyculture', 'premixed', 'deconstruction', 'biosensors', 'noninvasive', 'annulenes', 'resides', 'simulational', 'itensor', 'componentizing', 'payload', 'april', 'strives', 'mwst', 'microsegmentation', 'shareware', 'photodetached', 'nsm', 'collocates', 'kobus', 'kr', 'nvms', 'manhattan', 'propagates', 'doerge', 'tesse', 'uvm', 'honeynets', 'endows', 'crii', 'lif', 'dopants', 'witin', 'geodynamo', 'circuitry', 'hubzerotm', 'kurchatov', 'obo', 'welch', 'ethernet', 'biosurveillance', 'rodrigo', 'nanomine', 'neage', 'kalmar', 'proteomic', 'mf', 'jello', 'phil', 'fairleigh', 'ssnmr', 'nh', 'dmii', 'cbk', 'engages', 'rootkits', 'feldman', 'preterm', 'tarek', 'dakota', 'cwru', 'gpa', 'streetview', 'maximizers', 'complies', 'darwin', 'µm', 'doherty', 'diazotrophs', 'pc', 'nashville', 'switchable', 'purchasing', 'caucasus', 'akron', 'recyclable', 'mba', 'qm', 'ssft', 'identifies', 'dnssec', 'acm', 'romeoville', 'bottum', 'rp', 'dfw', 'dmc', 'achieves', 'bandgaps', 'mashup', 'nsfcloud', 'ostp', 'ernst', 'situ', 'monash', 'carbocycles', 'wooster', 'pericyclic', 'freemium', 'functionalized', 'developed', 'eukaryote', 'geogebra', 'nanoresonator', 'healpix', 'californaia', 'stillwater', 'biocps', 'icelink', 'ascs', 'lends', 'ciara', 'nfc', 'cyclophanes', 'cybertracker', 'alloyed', 'ffrdcs', 'biodiversity', 'minimax', 'cmcs', 'petsc', 'marcellus', 'tp', 'cyberambassadors', 'macroprogram', 'parkinson', 'fluxomic', 'assembles', 'ua', 'nanoporous', 'islanding', 'scannerandtable', 'gwu', 'plugin', 'connectomics', 'neuroimaging', 'indianapolis', 'suffices', 'beowulf', 'twelf', 'dispatchable', 'overwhelms', 'stemtube', 'hayhoe', 'hpcc', 'nanojapan', 'neurodynamics', 'texas', 'sciencekit', 'tescase', 'flr', 'robustifying', 'goodall', 'irc', 'airlink', 'cyberplasm', 'nonnegative', 'sgx', 'biodegradable', 'embodies', 'brainwave', 'tracy', 'trendy', 'irbs', 'fabwave', 'multiprocessor', 'ssi', 'hisp', 'cua', 'cybernabo', 'videopaper', 'hai', 'commoditization', 'fractal', 'cybereducation', 'mbd', 'clarifies', 'polarbear', 'sinha', 'ffrdc', 'surveil', 'mariana', 'spintronics', 'coc', 'pmus', 'colciencias', 'lagcc', 'desalinize', 'oregonstate', 'aerogels', 'pcarp', 'heteropolymer', 'plasmid', 'cairo', 'nmt', 'videotaped', 'mitchell', 'sudha', 'ultrahigh', 'confronts', 'rawlings', 'cyberpredation', 'pui', 'databank', 'doip', 'geophylogeny', 'christina', 'claude', 'opencloud', 'methathesis', 'faa', 'margaret', 'sdsu', 'egypt', 'maryland', 'bioprospecting', 'ntersection', 'microcrystals', 'usda', 'nanoconstructs', 'prostem', 'endosymbionts', 'terraformer', 'edinburgh', 'cybermentors', 'cyberinfrascructure', 'snowpits', 'actuate', 'propel', 'coconino', 'nanometric', 'asks', 'tribological', 'susquehanna', 'rc', 'testdrive', 'lifecycles', 'rmg', 'belongs', 'decamouflage', 'peterka', 'bryant', 'backends', 'engenders', 'cyberattackers', 'slas', 'cac', 'njit', 'levitt', 'streambed', 'goodwin', 'cnns', 'freeware', 'jefferson', 'fullerton', 'evenutally', 'checklisting', 'pipelining', 'westborough', 'nrt', 'faintest', 'ereis', 'aromaticity', 'artis', 'esi', 'followee', 'technoscience', 'cscl', 'museink', 'codonics', 'usr', 'multiplexed', 'asat', 'lto', 'glitch', 'lhpost', 'catalog', 'benchtop', 'addictive', 'cuhausi', 'programme', 'dataset', 'biomarkers', 'eeg', 'licensing', 'cybercourts', 'broadening', 'posttranslational', 'biophotonic', 'hchi', 'hispanic', 'mickelsen', 'cst', 'disun', 'customizability', 'beratan', 'pas', 'tightens', 'ml', 'kmc', 'für', 'nheri', 'stylometric', 'compiles', 'hcss', 'sra', 'evolves', 'rgb', 'cuyahoga', 'traceback', 'nns', 'counterfactual', 'kddi', 'software', 'nhgis', 'igsn', 'elsadek', 'manet', 'potts', 'pyscf', 'nanowaveguiding', 'judged', 'smartnics', 'petabyte', 'spends', 'mesocosms', 'constitutes', 'strategizing', 'trademark', 'questek', 'papero', 'samya', 'optimizers', 'tangibles', 'edac', 'played', 'oligocyclopentadienyl', 'nanohub', 'microarchitectural', 'nosql', 'cheaper', 'photonic', 'tn', 'dy', 'telerobot', 'beaumont', 'waveguide', 'carson', 'olin', 'hormonally', 'kreyol', 'afronts', 'uplink', 'benedikt', 'geomapapp', 'pevs', 'tocharacterize', 'catenanes', 'czodata', 'chan', 'devotes', 'thrivability', 'thursday', 'ciao', 'dspg', 'transformational', 'csd', 'naas', 'shinji', 'econtentplus', 'deforms', 'ctd', 'stefan', 'rbp', 'february', 'iot', 'jeopardized', 'andrew', 'evo', 'kidgab', 'modulators', 'ihub', 'geolink', 'neescentral', 'topeka', 'sros', 'ccas', 'egi', 'lounesto', 'efd', 'asynchrony', 'avogadro', 'informatization', 'cert', 'epa', 'cumulenes', 'byte', 'scott', 'myristoylation', 'duffy', 'ngvla', 'bellevue', 'corresponds', 'tmands', 'pharmacometric', 'dipyrromethane', 'sus', 'mcmullen', 'fddp', 'manchester', 'semisupervised', 'trh', 'neeshub', 'satc', 'renewables', 'acc', 'disambiguates', 'univeristy', 'openearth', 'williamsburg', 'lossy', 'aihec', 'username', 'waitt', 'bertfried', 'biorenewables', 'sige', 'nightscape', 'codap', 'litcloud', 'upwelling', 'dataway', 'desmond', 'ipfs', 'vvuq', 'dependant', 'overfitting', 'uark', 'theevaluation', 'visuals', 'csaw', 'multiproxy', 'washington', 'hackweeks', 'faba', 'dsst', 'caigee', 'isps', 'ccni', 'rica', 'microcalorimeter', 'dsu', 'debugger', 'bmep', 'kansa', 'doma', 'cilogon', 'cyberinfrastructure', 'clusterized', 'mysql', 'ffo', 'chris', 'pmemd', 'huntsville', 'atep', 'isolators', 'dynashake', 'lowell', 'insar', 'dwdm', 'computerize', 'simpson', 'sse', 'bic', 'gt', 'tuple', 'informaticians', 'alejandro', 'tetraplegic', 'reionization', 'holodeck', 'morro', 'midwest', 'gigapixel', 'andf', 'uaa', 'touchscreen', 'krieger', 'lofar', 'wban', 'pnictides', 'homewood', 'cybhor', 'touche', 'useit', 'voxelized', 'istec', 'ptsd', 'teex', 'modularization', 'bim', 'honeyfarm', 'monterrey', 'middleboxes', 'voicethread', 'vicki', 'paleo', 'massoud', 'hastac', 'teichoic', 'livny', 'mram', 'dissociates', 'icoe', 'nanotechnological', 'gctc', 'burcin', 'biodevices', 'cyberinstrument', 'policymaking', 'teleoperation', 'adt', 'multiparty', 'rainwater', 'goasguen', 'ke', 'microrobots', 'hsd', 'cadis', 'cu', 'encoders', 'exabyte', 'ebola', 'parameterizations', 'enso', 'coped', 'emt', 'initio', 'biclustering', 'refw', 'indie', 'macroprogramming', 'tolerates', 'webid', 'kcc', 'gmo', 'mcnamara', 'dse', 'spintop', 'biochemicals', 'ehealth', 'lablets', 'crowdturfers', 'ferromagnets', 'laparoscope', 'bissd', 'cbts', 'amd', 'omnidirectional', 'mr', 'teos', 'biotechnical', 'idv', 'mangharam', 'eff', 'sdi', 'petasha', 'ceser', 'sandboxed', 'polychlorinated', 'fultz', 'subcellular', 'conferencing', 'pev', 'sdb', 'stanford', 'amlight', 'christos', 'nanometer', 'nstissi', 'cns', 'bursting', 'mumbai', 'dht', 'ladderanes', 'biking', 'cfa', 'teleconferencing', 'semiprotein', 'modiand', 'nsec', 'atkins', 'corbato', 'inmegalodonlt', 'mgaus', 'caddo', 'microtoroidal', 'mp', 'bi', 'cae', 'spain', 'gaann', 'zapdos', 'jaynes', 'hubzero', 'icme', 'lpnmr', 'nanofabrication', 'ushered', 'sdci', 'stratigraphers', 'cheyenne', 'utiity', 'refreezing', 'capt', 'gc', 'tumer', 'westmont', 'starburstt', 'retrieves', 'biotransport', 'selig', 'taskforce', 'eisseminate', 'hyattsville', 'dept', 'lensing', 'administers', 'zurich', 'caat', 'cyberling', 'telematics', 'pvd', 'rochester', 'hoc', 'deepens', 'omaha', 'ergatis', 'cybertechnology', 'intermodal', 'neurotransmitter', 'seminole', 'neuromechanical', 'ulrich', 'repeatably', 'igrid', 'logfile', 'wildland', 'arun', 'cytoskeletal', 'organophosphorus', 'bayesian', 'platygastroid', 'iupac', 'downtime', 'oregonian', 'oxysulfide', 'drm', 'roosevelt', 'risksense', 'microsoft', 'assures', 'fft', 'solicits', 'multiscale', 'peci', 'pri', 'paleobiologists', 'pnictogens', 'wordview', 'advent', 'ff', 'ilja', 'opvc', 'ok', 'znmgo', 'ignores', 'maude', 'quantifable', 'permian', 'amazonia', 'dtcc', 'teenager', 'hcd', 'discotic', 'actuates', 'contextualization', 'derivatization', 'hevs', 'multilayered', 'gamelets', 'erickson', 'bs', 'jozsef', 'peterson', 'operandi', 'brainprint', 'hydroinformatics', 'pdf', 'velocimetry', 'cbl', 'cybergrid', 'interpretating', 'ecogenomic', 'cni', 'rmacc', 'exosuits', 'idp', 'profilling', 'carey', 'tweaked', 'cagr', 'cybertutor', 'amolf', 'legon', 'emphasizes', 'isense', 'qft', 'hipaa', 'octrees', 'fond', 'dysfunctional', 'ssrl', 'dlhub', 'atol', 'miseq', 'makkah', 'sgci', 'unfolds', 'texsaw', 'inverness', 'layperson', 'webpage', 'uwf', 'udi', 'mega', 'subareas', 'narragansett', 'socio', 'backplane', 'chamorro', 'arg', 'optiportal', 'badhacke', 'fails', 'tx', 'hardest', 'strachan', 'nist', 'polyer', 'effs', 'khalid', 'creativecommons', 'ebi', 'jessy', 'mainland', 'deniability', 'inclue', 'paleorecords', 'accomplishes', 'frcc', 'psc', 'nacional', 'vmm', 'redstone', 'stuctures', 'multiteam', 'hp', 'juxtaposing', 'nanoplastics', 'remediate', 'astron', 'dtsl', 'gpn', 'scuola', 'nanosized', 'tim', 'triaxiality', 'middlebox', 'quasar', 'plm', 'softsec', 'cpp', 'cetus', 'joaquin', 'xiaosong', 'parabal', 'uccs', 'electroactive', 'voip', 'cissp', 'cryptocurrency', 'creates', 'www', 'retweet', 'pfs', 'laredo', 'monocrops', 'qmc', 'benchscale', 'neurocomputing', 'blacklist', 'landuse', 'isotopically', 'reformatted', 'flexware', 'ionomichub', 'pel', 'wpi', 'biomodeling', 'hydroshare', 'csandi', 'randra', 'giedroc', 'gda', 'wavefunction', 'bja', 'nhsemp', 'eils', 'programmability', 'bioterrorist', 'healthcare', 'bitcoin', 'tokyo', 'micrographs', 'globalnoc', 'edo', 'nanocomposites', 'elnashai', 'belmont', 'geohazards', 'greece', 'oversees', 'industrials', 'extenci', 'scc', 'dialog', 'visweek', 'ccli', 'ivdgl', 'herbert', 'makedon', 'qp', 'hdfs', 'credentialing', 'mpi', 'gsdnet', 'nonmonotonic', 'csuf', 'bfoit', 'faang', 'schoolchildren', 'cryocell', 'veeramani', 'bm', 'esd', 'cybertool', 'ji', 'est', 'alohanet', 'metadata', 'outsource', 'caron', 'arra', 'nanoengineering', 'wildlands', 'tfa', 'nyu', 'neren', 'murugesu', 'mpsocs', 'restructure', 'keweenaw', 'handheld', 'presentated', 'weatherblur', 'quarknet', 'fcc', 'nco', 'cuny', 'nmap', 'ssac', 'metamodels', 'aproaches', 'ir', 'usc', 'northark', 'fjord', 'nano', 'germany', 'multiplexing', 'heliophysicists', 'contextualize', 'ito', 'larock', 'wastewater', 'halfspace', 'intercomparisons', 'antichat', 'nrc', 'ecd', 'acif', 'bioinformaticians', 'cisr', 'microservice', 'doane', 'techical', 'tumblr', 'lczo', 'rhoads', 'fmr', 'subtasks', 'ansp', 'saltwater', 'caeiae', 'knl', 'hypoxia', 'impactful', 'accessgrid', 'rotates', 'harvey', 'collectionsweb', 'nscl', 'milp', 'nowcasting', 'utilized', 'hydoinformatics', 'blwt', 'rf', 'winn', 'seattle', 'beamlines', 'offload', 'athitsos', 'subnetworks', 'hsandp', 'sg', 'underserved', 'testbeds', 'leinen', 'lasing', 'photonics', 'architecting', 'realizes', 'bioinorganic', 'mainstream', 'krzycki', 'prototyping', 'dd', 'pisces', 'apci', 'helics', 'nctm', 'pyrrolysine', 'microtechnologies', 'geomagnetism', 'ethobotany', 'proviz', 'mishra', 'careertech', 'explores', 'dimensionful', 'technología', 'elearning', 'federates', 'gary', 'redshift', 'fortes', 'gigapan', 'gridwise', 'ferrante', 'underutilization', 'igert', 'usgs', 'smartphone', 'underdeveloped', 'macintosh', 'networking', 'stojanovic', 'mitm', 'packing', 'miocene', 'geoffrey', 'cankdeska', 'ultrafast', 'trappe', 'bioremediation', 'deregulate', 'screenshots', 'dhs', 'opendap', 'qcn', 'america', 'itunes', 'instabilties', 'thermosphere', 'tucson', 'modularizing', 'gaaas', 'ultralow', 'boreholes', 'chemoinformatics', 'emg', 'nerr', 'lannom', 'subward', 'reram', 'usf', 'plugins', 'nanotube', 'tflops', 'echolocating', 'vccs', 'evl', 'fairfield', 'intensifies', 'openssh', 'provers', 'executes', 'hyperproperty', 'ecommerce', 'arizona', 'breaching', 'microtransponder', 'psa', 'kickstart', 'allelopathic', 'globalize', 'crt', 'dpsir', 'ablility', 'obeys', 'encodes', 'oligosaccharide', 'bioorganic', 'geolocating', 'leigh', 'biogeophysical', 'amphipathic', 'defibrillator', 'sastry', 'sensorized', 'pake', 'photodetaching', 'venus', 'mkg', 'listserv', 'rstudio', 'sheffield', 'meetups', 'cybernizing', 'seafloor', 'neurobiology', 'sedimentologists', 'behaves', 'lyft', 'magnetospheric', 'alaska', 'platygastroidea', 'cincinnati', 'paulo', 'brane', 'marist', 'standalone', 'sosonkina', 'cyverse', 'onenet', 'ponemon', 'lehman', 'oscl', 'ntsb', 'msad', 'innovatively', 'openod', 'dbm', 'idigbio', 'disambiguate', 'teraflop', 'playtest', 'yokohama', 'duchesne', 'voth', 'warfighters', 'wayne', 'orthoses', 'brendel', 'slightest', 'bgccrf', 'ilhame', 'jackson', 'widens', 'vii', 'rfid', 'ccssm', 'dietrich', 'priori', 'iea', 'ub', 'mygeohub', 'pwd', 'tem', 'interleavings', 'sei', 'synthesizes', 'honolulu', 'geolocations', 'hydrometeorologists', 'communicates', 'undergirds', 'gao', 'aied', 'toyota', 'conclustions', 'sahinidis', 'pfp', 'kerstin', 'terashake', 'diag', 'geoinformatic', 'cyberball', 'trucked', 'nanosciences', 'hostos', 'misperceptions', 'microblogs', 'lyon', 'tetrahymena', 'cybernet', 'nrs', 'xsede', 'perfsonar', 'bootcamp', 'nanohertz', 'commmunication', 'cryptosystem', 'dataview', 'zonfrillo', 'photosystem', 'mips', 'serc', 'ncube', 'vam', 'gpus', 'movebank', 'lhcb', 'sttram', 'siegel', 'refreshes', 'webcasting', 'cihub', 'approx', 'maxmin', 'norwalk', 'uic', 'arrives', 'raleigh', 'facelli', 'geochemically', 'pithouses', 'egfi', 'onondaga', 'csusb', 'espin', 'cyberfrastructure', 'hersonissos', 'asr', 'reno', 'funders', 'und', 'townhall', 'hyperspectral', 'philadelphia', 'atnf', 'darknet', 'nsu', 'krueger', 'gubbins', 'nanobiofabrication', 'vlans', 'satisfiability', 'glenn', 'theatreworks', 'ecm', 'unlocks', 'cibred', 'iurtp', 'fasttrack', 'ferroelectrics', 'diagnosers', 'maxine', 'cyberintrusions', 'idam', 'campbell', 'recognizers', 'eac', 'curated', 'heavier', 'incites', 'hpdmnet', 'assink', 'fermilab', 'cotaught', 'maidment', 'auvs', 'gluon', 'owen', 'neil', 'nanotheranostics', 'wested', 'polyelectrolyte', 'ultrasensitive', 'outperforms', 'avatar', 'jeffrey', 'puf', 'modernizes', 'cryptoanalysis', 'retargetable', 'machining', 'gigapop', 'cyberenabled', 'shirley', 'neuroinformatic', 'cdm', 'doa', 'nanomachines', 'promotes', 'deflects', 'toolkits', 'nfs', 'dpo', 'multisensory', 'orland', 'gtm', 'optiportals', 'cyberhub', 'alcatel', 'subnetting', 'backtracking', 'peru', 'semicore', 'subproblems', 'harford', 'crystallizes', 'ogc', 'parvovirus', 'afrl', 'probiotic', 'awerbuch', 'worsens', 'chalcogenide', 'seeps', 'tajana', 'bioacoustics', 'irem', 'ict', 'socioecosystems', 'finholt', 'ipta', 'iwarp', 'dmft', 'ciip', 'dtr', 'oligonucleotide', 'neesr', 'testbed', 'kaeli', 'mccall', 'arpanet', 'extendable', 'discloses', 'abenaki', 'intra', 'paleogeosciences', 'fortunato', 'qr', 'diagonalization', 'fundation', 'arcata', 'orbitals', 'replanning', 'frischknecht', 'wfs', 'exists', 'neuse', 'magnetotactic', 'ethiopia', 'emos', 'randd', 'nanophotonic', 'vock', 'ccaa', 'usfs', 'nbb', 'coprocessors', 'agu', 'rosetta', 'groundwater', 'iucrc', 'ultrapure', 'infovis', 'niwc', 'carlos', 'portland', 'ciiwork', 'mbdh', 'srtm', 'cicnet', 'cybersecurity', 'micropillars', 'epr', 'nacubo', 'italy', 'grows', 'superlattices', 'described', 'skm', 'interdisciplinary', 'diaminocarbene', 'winsar', 'beloit', 'xquery', 'mhealth', 'evapotranspiration', 'daniel', 'toxics', 'elliott', 'polymerizable', 'chinese', 'wpdss', 'wikipedia', 'jemez', 'laboraties', 'dbscan', 'cyberinfrastructureoriented', 'linkedin', 'biomembranes', 'demo', 'aptamers', 'aikman', 'ysu', 'teleconnections', 'lcst', 'indiana', 'sgcs', 'stockholm', 'noubir', 'cyberlibrary', 'synchronizes', 'ecoplex', 'fy', 'regressograms', 'itex', 'brainstorming', 'reachability', 'landforms', 'oetzel', 'kingsville', 'darpa', 'pjaro', 'responsphere', 'opengl', 'transceivers', 'potosi', 'worldwide', 'nucleobases', 'interop', 'accesscomputing', 'adeles', 'spacetime', 'hil', 'cyberflora', 'baseband', 'sproul', 'bsetm', 'ihawke', 'bluetooth', 'ia', 'optoelectric', 'bci', 'utc', 'carc', 'daplds', 'dichalcogenides', 'akhtar', 'nexis', 'triana', 'majid', 'mc', 'wdc', 'curca', 'yi', 'ib', 'skiplist', 'langston', 'flossmole', 'cmnst', 'erc', 'reaxff', 'hyunmin', 'fo', 'tcn', 'freedm', 'eduation', 'customize', 'metpetdb', 'linc', 'phev', 'uab', 'novacor', 'griffiss', 'tubingen', 'rhic', 'mcit', 'iskander', 'sts', 'relevent', 'mw', 'instantiate', 'wavefunctions', 'standardizes', 'restructuring', 'disaffiliated', 'informatl', 'sagenext', 'esm', 'incommon', 'willl', 'microlasers', 'deelman', 'markowitz', 'wetland', 'stoplight', 'cybercorps', 'ndr', 'homepage', 'raghav', 'biorepository', 'mdvs', 'botnet', 'shrs', 'combinatorialists', 'incrementally', 'makeathons', 'gregg', 'shsa', 'microvascular', 'epiccs', 'nwc', 'heredia', 'ilya', 'oneoklahoma', 'monterey', 'shivakant', 'ooi', 'np', 'copenhagen', 'cybermentoring', 'halim', 'claflin', 'composities', 'taxic', 'teleportation', 'cen', 'sfi', 'manville', 'csr', 'retiree', 'ipads', 'texting', 'sonesta', 'pti', 'hyperpolarizabilities', 'calibrates', 'deltocephalinae', 'reacts', 'integratable', 'mechatronics', 'toc', 'cyberthreat', 'nc', 'soundscapes', 'hydrofracture', 'reuses', 'multifactor', 'irods', 'odf', 'broader', 'dehydroannulenes', 'ecodynamics', 'cyberwater', 'kotz', 'geocamp', 'cz', 'karney', 'lce', 'efce', 'kiev', 'sc', 'malcolm', 'templating', 'maggioni', 'inherits', 'isu', 'autoscaling', 'inlined', 'stormwater', 'pomdps', 'evokes', 'singaren', 'microparticles', 'retrofit', 'iru', 'ieda', 'vivo', 'learnability', 'occurs', 'affordances', 'metroplex', 'canarie', 'idre', 'rollins', 'reshapes', 'sagehen', 'voxelization', 'sdv', 'wtl', 'mapped', 'microarchitecture', 'budburst', 'cf', 'skillsets', 'idetect', 'hotsos', 'maladaptive', 'catalyzes', 'imece', 'scitech', 'andand', 'acsle', 'metabelian', 'kkt', 'activites', 'rii', 'microprocessor', 'persists', 'drs', 'oshean', 'cbrne', 'reframing', 'ska', 'ning', 'enlists', 'otb', 'revelle', 'microchannel', 'dtn', 'unt', 'dai', 'sdsmandt', 'rpi', 'myglucohealth', 'noninvolvement', 'mcis', 'democratizes', 'thermoml', 'cyberlearning', 'postdoc', 'finalization', 'felix', 'vectorization', 'abengoa', 'jian', 'irreproducibility', 'prehispanic', 'wssc', 'gaither', 'zealand', 'almaden', 'disrupts', 'fibrilar', 'muves', 'grassroots', 'coprocessing', 'prepar', 'codicology', 'taped', 'dicas', 'multimessenger', 'nanocolloidal', 'brainlab', 'arieh', 'joseph', 'wakefield', 'marshall', 'pfi', 'andre', 'intiaitive', 'biotech', 'ix', 'geogames', 'nanoparticle', 'tadeusz', 'dac', 'wrestt', 'eldercare', 'hci', 'integratermu', 'ic', 'adler', 'jsu', 'mtconnect', 'nanodisks', 'posttest', 'eli', 'carpetx', 'vdms', 'escience', 'mossbauer', 'bamberg', 'dvfs', 'queryable', 'linewidth', 'slc', 'ionomics', 'turbotax', 'aerorths', 'isoc', 'chvs', 'myspacetm', 'visualizes', 'accommodates', 'strobel', 'spokane', 'navdat', 'florianopolis', 'fenway', 'petra', 'famu', 'singapore', 'ribosome', 'anyterm', 'ercs', 'backend', 'sophya', 'microcomputer', 'weaker', 'computes', 'cycentr', 'metamaterial', 'bml', 'beamformers', 'bioprocessing', 'abm', 'xiamen', 'subroutine', 'betke', 'feng', 'palo', 'nmi', 'soaf', 'cswr', 'qfqi', 'sens', 'ransomware', 'cesm', 'lumbee', 'ncsi', 'uvsc', 'goldstein', 'bgp', 'sigcse', 'uploaded', 'ironcad', 'espcor', 'shyhtsun', 'insures', 'excitons', 'optomechanical', 'reevaluate', 'nijmegen', 'kenan', 'joystick', 'boyd', 'qoe', 'edmonson', 'saturday', 'stratasys', 'helmstetter', 'submatrix', 'davinci', 'nysernet', 'graphene', 'jumping', 'nno', 'highline', 'demystify', 'itrustgh', 'osaka', 'acquires', 'rinard', 'hcps', 'petri', 'deregulation', 'epmd', 'ucr', 'neurostimulators', 'maisa', 'intel', 'haskell', 'uprooted', 'ardt', 'usa', 'basecamp', 'nrao', 'biomaterials', 'latina', 'designpractices', 'develops', 'awm', 'gonehal', 'ingeo', 'coumarins', 'bionanotechnology', 'semiproteins', 'macroeconomic', 'smud', 'usb', 'intensified', 'mdi', 'oscar', 'qubits', 'healthgis', 'nmr', 'monoidal', 'rosaceae', 'czos', 'operationalized', 'nanomos', 'knyazev', 'mayaguez', 'gsa', 'suas', 'metagenome', 'saas', 'xd', 'photovoltage', 'delss', 'cic', 'klinotaxis', 'infobox', 'conware', 'toolpath', 'gomez', 'plennary', 'rockford', 'opensha', 'substrata', 'ag', 'cornell', 'arnaud', 'sociolinguistics', 'cbet', 'packrat', 'airspace', 'geoss', 'overprovisioned', 'decodes', 'harrison', 'chs', 'nebdih', 'teresa', 'reporting', 'ftp', 'cmc', 'subgradient', 'khz', 'prediabetes', 'cdse', 'sentrywire', 'esg', 'orlando', 'interactome', 'nm', 'vtl', 'geows', 'nsf', 'tgen', 'willis', 'accelerates', 'fulbright', 'actities', 'cyberidentity', 'dsc', 'dehn', 'utica', 'multi', 'macromolecular', 'wwtp', 'mainframe', 'gige', 'dft', 'cybersystems', 'pbo', 'enkf', 'eurasia', 'phenomic', 'monolithically', 'lcrl', 'dataone', 'francisco', 'ilight', 'plymouth', 'erfurt', 'meantime', 'berman', 'stochasticity', 'cybersickness', 'hiseasnet', 'xmalab', 'powerpc', 'rd', 'tddft', 'gbl', 'replicates', 'doreen', 'orientational', 'morenet', 'maintainability', 'td', 'ali', 'braille', 'damm', 'cyberwarfare', 'midieval', 'neuromorphic', 'keystroking', 'ncn', 'boinc', 'gerald', 'pmu', 'hopf', 'tuncel', 'underappreciated', 'equivariant', 'cientificas', 'biomedicine', 'ultrascan', 'ike', 'aist', 'publically', 'edgar', 'visstore', 'ghana', 'genomics', 'ruralshores', 'rachel', 'nics', 'happens', 'chalcogen', 'infers', 'worldview', 'laguardia', 'nof', 'beliv', 'aforementioned', 'vega', 'mpifr', 'azer', 'pahs', 'pisale', 'aag', 'nanocrystallography', 'database', 'upconverting', 'candc', 'loc', 'centralizes', 'chicago', 'iaa', 'fpe', 'podcasts', 'pvfs', 'instructables', 'dominican', 'aau', 'wsan', 'tthe', 'cecilia', 'ultracompact', 'nematics', 'ecph', 'uruguay', 'oklahoma', 'msb', 'hmms', 'interactively', 'vsm', 'scherrer', 'wpds', 'gainesville', 'petascale', 'wai', 'noyce', 'assimilates', 'covariates', 'utilizes', 'dvd', 'lakebeds', 'rosing', 'multimax', 'dsfp', 'scps', 'coding', 'elicits', 'abo', 'endogeneity', 'urssa', 'endpoint', 'computists', 'informs', 'cb', 'kpen', 'icis', 'pixel', 'subfield', 'pnwgp', 'luis', 'lsdi', 'lowcountry', 'cloudlets', 'cuda', 'surpasses', 'misleads', 'hydrospheric', 'porphyrinoid', 'nerc', 'cansec', 'asserts', 'eg', 'escc', 'cyberpower', 'esso', 'denver', 'matc', 'phevs', 'karl', 'bloomington', 'rda', 'wifire', 'refactor', 'vectorized', 'uekae', 'biofeedback', 'cuba', 'howard', 'uf', 'tco', 'arthur', 'rnp', 'aug', 'hacktivism', 'cpns', 'algorithmically', 'earthtime', 'uwm', 'depauw', 'implementability', 'wavefields', 'bifunctional', 'mckeesport', 'yong', 'frontline', 'ricn', 'topologically', 'pem', 'congo', 'indemnified', 'ktec', 'grainsize', 'corvallis', 'msc', 'infotech', 'arslan', 'ewod', 'hx', 'processing', 'derives', 'nwm', 'geospacial', 'agave', 'clymer', 'advanes', 'madhavan', 'codecs', 'geobiologists', 'offloads', 'hfl', 'informaticized', 'hpcf', 'pokemon', 'von', 'ccd', 'prefill', 'keystroke', 'smreu', 'cybercommunity', 'anaraki', 'spbid', 'multipurpose', 'ramkrishna', 'pv', 'reseachers', 'aet', 'microaggressions', 'integrates', 'alkylheteroarene', 'indigeneous', 'distills', 'bbn', 'immerses', 'cusum', 'exngineering', 'miniaturize', 'workload', 'voyles', 'gendered', 'nrel', 'magnetoresitive', 'mdcloud', 'vmd', 'nsdl', 'rcew', 'metaproteomics', 'maintains', 'delivers', 'maximizes', 'exoplanets', 'telecollaborations', 'enforces', 'roppongi', 'resequence', 'sesar', 'kinber', 'hsi', 'convenes', 'mundy', 'nanograv', 'wikitheoria', 'coevolved', 'aos', 'sead', 'parameterization', 'klaus', 'quinn', 'disinformation', 'amr', 'brightest', 'makerspaces', 'pseudogap', 'csi', 'subnanometer', 'nanocolloid', 'qprc', 'expedites', 'cybernation', 'dvnoc', 'filesystems', 'counterexample', 'htc', 'preverified', 'firefighting', 'portends', 'epe', 'rmu', 'puerto', 'karabanov', 'nbbs', 'goali', 'cyberinfratstructure', 'overcooling', 'oligomers', 'femtosecond', 'raytheon', 'carolina', 'beo', 'atrope', 'boellstorff', 'cyberattacks', 'november', 'ipdc', 'volcanics', 'leeser', 'imls', 'noaa', 'simplest', 'itr', 'wsu', 'bioheat', 'semulation', 'bio', 'trouw', 'gabbs', 'microfluidic', 'adelaide', 'nitrogenase', 'srinivas', 'transformationally', 'prebiotics', 'fipes', 'dccdi', 'aplu', 'bbso', 'cdna', 'glushkov', 'apon', 'underlies', 'cber', 'sandc', 'gayle', 'nexys', 'florida', 'ultralong', 'sunday', 'coarser', 'hackathons', 'epcc', 'embeddings', 'jacob', 'biosample', 'gameplay', 'accompanies', 'morehead', 'uofsc', 'desktop', 'leaderboard', 'eigendistribution', 'theresa', 'practicums', 'recovers', 'mbps', 'baseline', 'cytotoxicity', 'starr', 'outgrown', 'cybertechnologists', 'crowston', 'solubilizes', 'plenaries', 'irvine', 'nonparametric', 'unicast', 'fdl', 'mspnet', 'diego', 'tierzero', 'voeventnet', 'modem', 'dreamworks', 'mhcc', 'gaas', 'ridership', 'waes', 'rfp', 'translates', 'comanage', 'csci', 'interacts', 'wastc', 'collider', 'microstructures', 'osa', 'metatranscriptomes', 'sbir', 'moorea', 'cybershake', 'heliospheric', 'arlington', 'bioinformatics', 'reentrant', 'microcantilevers', 'rasterable', 'sublayer', 'pse', 'cei', 'semilattices', 'hrd', 'ltri', 'timetrees', 'predicts', 'omits', 'angeles', 'perpetuates', 'paleoenvironmental', 'bourdin', 'hyperproperties', 'whitepaper', 'accel', 'cgcc', 'lanl', 'ev', 'richland', 'ptms', 'gatorcloud', 'monochalcogenides', 'ccmp', 'dmacc', 'iaga', 'replaces', 'elon', 'ironic', 'multimodel', 'justified', 'dfii', 'subgraphs', 'microextraction', 'montclair', 'crowdsource', 'marlon', 'metacognition', 'hpdc', 'cooperative', 'cyberworkshops', 'metabolome', 'iti', 'flatow', 'uga', 'microfabrication', 'wwtps', 'extends', 'huang', 'xsight', 'gerridae', 'bruce', 'broadcasting', 'desulfurization', 'backpack', 'microworlds', 'entropic', 'del', 'tcl', 'wsn', 'westminster', 'reconfiguration', 'com', 'preprocessor', 'manuscipts', 'gws', 'geochronologically', 'hirschi', 'plr', 'subdivides', 'sautet', 'aaa', 'undergradute', 'ncsa', 'dimms', 'geomaterials', 'dscs', 'smartnic', 'pmr', 'uhd', 'wou', 'cyberinstrumentation', 'namical', 'nanopatterning', 'ccaas', 'held', 'examines', 'drl', 'wingspan', 'asm', 'magnaporthales', 'iii', 'qspr', 'horseradish', 'kepler', 'ergonomics', 'reusable', 'kuo', 'agroecosystems', 'shen', 'rotc', 'dicp', 'utct', 'steganalysis', 'cdp', 'reduces', 'nanobiointerfaces', 'amdn', 'metagenomes', 'january', 'papi', 'iasp', 'originates', 'pegasus', 'victoria', 'competiveness', 'scienceeverywhere', 'usarray', 'conceals', 'gans', 'vbi', 'westin', 'autodrive', 'nanosphere', 'hui', 'ncl', 'tezduyar', 'mgi', 'merges', 'paraview', 'toolkit', 'paleobiosciences', 'analog', 'ccgit', 'cari', 'precludes', 'phenologies', 'nanofluidic', 'markerless', 'cuahsi', 'outmigration', 'lcw', 'forschungs', 'charles', 'supramolecules', 'iowa', 'crashed', 'cybercorp', 'mentee', 'phylogenomics', 'handoff', 'sociobiology', 'verkade', 'nze', 'sadi', 'foodborne', 'nair', 'fortran', 'celina', 'kyr', 'simulates', 'futher', 'scis', 'krediblenet', 'healy', 'cnrs', 'bioengineering', 'vt', 'pzt', 'kumar', 'oakland', 'bibliome', 'gatchel', 'mediates', 'ncc', 'gonzalez', 'memristive', 'dnp', 'vrac', 'plasmonic', 'thuwal', 'observes', 'pomona', 'sedgwick', 'jupyterhubs', 'worthwhile', 'dehon', 'malvertising', 'cm', 'ualbany', 'dbir', 'telemedicine', 'moldova', 'exafs', 'newman', 'microparticle', 'cecil', 'biosensor', 'obscures', 'subsampling', 'ribotypes', 'teleconference', 'seismometers', 'mbl', 'sgrs', 'yakama', 'supercomputing', 'gi', 'alzheimer', 'chemoelectromechanical', 'superelectrophiles', 'cecs', 'manmade', 'manycast', 'dmproadmap', 'geon', 'ccr', 'gdp', 'oscer', 'underpinned', 'complicates', 'masson', 'aaaaa', 'unidata', 'museumgoers', 'merced', 'qhub', 'kanren', 'csis', 'lapd', 'cmmi', 'benefitting', 'nv', 'musculoskeletal', 'injects', 'mpbs', 'datalad', 'icssp', 'csu', 'corrects', 'thioesters', 'automaker', 'efand', 'nanoelectronics', 'shimojo', 'cui', 'bidirectionally', 'gilf', 'fema', 'hou', 'basn', 'arcyber', 'educaton', 'sensei', 'futuregrid', 'screencast', 'protonated', 'reconfigurability', 'cmos', 'wu', 'hypermedia', 'byrd', 'petersburg', 'tos', 'lifestyle', 'nanocatalysts', 'kirtland', 'npr', 'microfluidics', 'edward', 'fpga', 'hpn', 'coordinator', 'sandpile', 'louisiana', 'chronos', 'preservice', 'smt', 'wysinwyx', 'cnea', 'bioinformaticists', 'deadliest', 'subspecialties', 'mallick', 'acp', 'captioner', 'phagefish', 'mgfs', 'executables', 'stc', 'coastline', 'ecrime', 'sensys', 'discretization', 'co', 'nuanced', 'biocybernetics', 'hprcf', 'simulat', 'nanowire', 'holocamera', 'modularize', 'smarrt', 'louis', 'bcis', 'peerings', 'idw', 'publicizes', 'lexis', 'ehr', 'phosphorene', 'challenged', 'infiniband', 'huici', 'swinburne', 'multidisciplinary', 'sinnott', 'retro', 'nucleates', 'av', 'sstsp', 'eia', 'choudhary', 'jiang', 'pipelined', 'ukraine', 'oai', 'adheres', 'telepresence', 'funcx', 'jason', 'wurman', 'webids', 'largescale', 'kba', 'recommends', 'airborne', 'preconditioners', 'campusesí', 'revelare', 'snowmelt', 'osdc', 'suboptimally', 'landcover', 'scriptable', 'argues', 'garegin', 'mainstreamed', 'seismogenic', 'geolocation', 'macrostrat', 'detroit', 'denlinger', 'yardmap', 'uc', 'kendall', 'biomacromolecular', 'impractically', 'toughest', 'biomimetics', 'biophysicist', 'ramsar', 'thioester', 'db', 'cyberculture', 'gebze', 'eigensolvers', 'eos', 'lsmamp', 'bookmarking', 'oden', 'datafy', 'redescriptions', 'hybridoma', 'geotechnical', 'madison', 'interconnectivity', 'nn', 'stewarded', 'moethods', 'teleteaching', 'globalization', 'catherine', 'demystifies', 'boise', 'observables', 'hccc', 'bangalore', 'drydown', 'winston', 'dlv', 'nonlinearities', 'cnc', 'nanodevice', 'charrettes', 'cyberway', 'proactively', 'narf', 'comprehends', 'nefi', 'nands', 'vbicig', 'decoder', 'avoids', 'estudios', 'seo', 'pythagoras', 'gleska', 'datasheets', 'pittsburgh', 'redshifted', 'adhoc', 'cyberspatial', 'ibss', 'beijing', 'multifrequency', 'reichman', 'plo', 'enstinet', 'nanolayered', 'atmosrpheric', 'illuminates', 'interlocked', 'ecite', 'isocyanides', 'perovskites', 'determines', 'cultivates', 'marcos', 'fte', 'terrapop', 'addtional', 'noncompliant', 'sharon', 'nees', 'itc', 'cyberwar', 'misconfigurations', 'nvidia', 'iptmnet', 'wesleyan', 'chemxseer', 'beneand', 'sd', 'complementarity', 'bioprocess', 'waubonsee', 'pushdown', 'conforms', 'tecnologicas', 'deeper', 'paleostrat', 'eukaryotic', 'opm', 'mandel', 'axelrod', 'assurability', 'sumter', 'icert', 'doped', 'juneau', 'sep', 'abwg', 'kearns', 'tian', 'hawaiian', 'hadoop', 'differentiates', 'aspires', 'perfomed', 'pde', 'misspecification', 'optofluidics', 'uiuc', 'dedicates', 'hornak', 'locates', 'nesta', 'inline', 'paas', 'applies', 'moc', 'rpid', 'cfits', 'northrop', 'panoiu', 'blackhatworld', 'suffers', 'johnson', 'analytes', 'nsta', 'xbox', 'multicast', 'cooperatively', 'hz', 'cyberdyne', 'repurposing', 'iresearch', 'invovled', 'disincentive', 'thoughtstem', 'qot', 'nanolithography', 'openpbs', 'graeme', 'chooses', 'harold', 'tuesday', 'tectonically', 'napoli', 'doi', 'vos', 'hmscvc', 'biokinetic', 'mccarthy', 'retains', 'photoreactions', 'phenocams', 'cau', 'oso', 'kbo', 'abovementioned', 'trinidad', 'contains', 'cyberinsurance', 'gcm', 'tek', 'ultrasound', 'cdebi', 'robotically', 'interoperable', 'pbdb', 'bloomberg', 'poorest', 'topographyand', 'ims', 'reelfx', 'anova', 'fiss', 'mugrid', 'lonsdale', 'jhuisi', 'zaslavsky', 'ciws', 'benchmarking', 'cyberinfrasructure', 'smartphones', 'numeric', 'initialization', 'naphthalocyanines', 'france', 'undermines', 'towson', 'graxml', 'omics', 'irts', 'cimmyt', 'ccsm', 'obd', 'paci', 'ux', 'nanoelectromechanical', 'ceas', 'gmod', 'summarizes', 'plantgdb', 'xromm', 'approximates', 'mprf', 'metacognitive', 'lineshape', 'onboarding', 'ii', 'socs', 'describes', 'rpki', 'cybersafety', 'spanish', 'roadmaps', 'bilevel', 'ensight', 'csems', 'uncc', 'sdr', 'ccn', 'myanmar', 'gbif', 'uma', 'tocttou', 'uvu', 'hypergame', 'spacetimes', 'superlattice', 'sociopetal', 'pda', 'transfecting', 'cyberconflict', 'args', 'intellegence', 'mdcs', 'hpem', 'oxygenates', 'ft', 'cambridge', 'multiuser', 'cyberzine', 'jose', 'ecst', 'blogging', 'hexel', 'wmss', 'introduces', 'soas', 'unveils', 'sdm', 'gsp', 'cybernetique', 'james', 'loni', 'pichot', 'rct', 'konnerth', 'gfg', 'isogenies', 'usepa', 'kirsten', 'zpss', 'praticipants', 'sigurjonsdottir', 'pire', 'supercomputer', 'notre', 'avionics', 'waterhackweek', 'multistate', 'terabyte', 'audial', 'propels', 'minyard', 'interoperations', 'jgray', 'cpnis', 'incognitum', 'sctst', 'durcik', 'reprogramming', 'vanderbilt', 'microcavities', 'geospatially', 'smarter', 'gchq', 'nanoindentation', 'hefei', 'nanoscale', 'socioeconomically', 'nevadanet', 'paramesh', 'paleomagnetic', 'contstruction', 'organizes', 'sustains', 'pif', 'peatlands', 'maop', 'facilitiate', 'mrefc', 'etf', 'scienceworks', 'bioinspired', 'stressor', 'switchit', 'rets', 'uhv', 'ugolini', 'nvlink', 'cyberbridges', 'cim', 'isc', 'ipsn', 'iac', 'coworkers', 'speleothems', 'ornl', 'vigna', 'nuis', 'meganewton', 'vi', 'knowops', 'downlink', 'ctc', 'ascribed', 'characterizes', 'brokering', 'bioimaging', 'adenovirus', 'ul', 'mccd', 'cubesats', 'hangzhou', 'firmware', 'differs', 'windus', 'geochronologic', 'begs', 'oncogene', 'microtechnology', 'bsns', 'researcherís', 'lambdagrids', 'unclonable', 'atat', 'bdacps', 'dem', 'shuts', 'cawes', 'reprobench', 'counterplanning', 'pdcs', 'cao', 'gpu', 'globalparameters', 'dwb', 'prebuilt', 'icnn', 'kennesaw', 'sk', 'neesit', 'irri', 'bakac', 'diverts', 'freenet', 'rande', 'subawards', 'soec', 'millennials', 'ahmad', 'sccoos', 'midsize', 'directionality', 'msp', 'gregory', 'bucknell', 'selene', 'interfacetechnologies', 'irehab', 'dbi', 'bianchi', 'ertc', 'adaboost', 'rheological', 'cozzens', 'discretizations', 'neuroinflammation', 'netflow', 'dsm', 'topomath', 'biomimetic', 'microcantilever', 'nsps', 'prp', 'aci', 'cybermedia', 'eps', 'templated', 'installs', 'nivd', 'developped', 'hamstrung', 'propanediol', 'cctfs', 'heard', 'tusi', 'stl', 'augments', 'foreseen', 'carbenes', 'reexamine', 'andes', 'lfi', 'vissec', 'subsamples', 'installable', 'emerges', 'vtk', 'delegatable', 'denin', 'biomolecular', 'involves', 'phylogenomic', 'coadding', 'tamu', 'amrc', 'giga', 'harvard', 'anonymizing', 'aiche', 'ensures', 'dalian', 'ivfts', 'neuroplasticity', 'hokkaido', 'stk', 'anne', 'nov', 'syria', 'pertti', 'ferroelectricity', 'preconfigured', 'nthsa', 'mgr', 'prototypability', 'crypto', 'instantiation', 'nyit', 'shs', 'sccsnet', 'humain', 'rsa', 'pvamu', 'reflexion', 'offshoring', 'myspace', 'dc', 'purdues', 'ddos', 'jumpstart', 'umscc', 'hadron', 'supermassive', 'xrm', 'expands', 'sensemaking', 'craig', 'bda', 'connectome', 'practise', 'decrypt', 'wyoming', 'riken', 'geocyberinfrastructure', 'pittsmartliving', 'susan', 'anycast', 'rensselaer', 'reserch', 'icaleo', 'finn', 'macrofossil', 'forensics', 'mets', 'pharmacometrics', 'uah', 'qian', 'invasiveness', 'informatics', 'ebird', 'logfiles', 'ola', 'todd', 'superhard', 'tds', 'leafhopper', 'enculturating', 'cyberagenda', 'gigabit', 'nse', 'plcs', 'prescribed', 'wsns', 'nanobasket', 'sanjeev', 'tsri', 'permis', 'ivirus', 'accomodate', 'ms', 'dsa', 'cytoskeleton', 'csus', 'carle', 'supermag', 'scisim', 'biospheric', 'biotechnology', 'ei', 'openkim', 'organogels', 'unconferences', 'citywide', 'nanochemistry', 'impaired', 'vahdat', 'brc', 'cnh', 'sandcc', 'duquesne', 'caltech', 'tunisia', 'nz', 'electrogram', 'fno', 'cybertechnologies', 'michael', 'biogeosciences', 'wcc', 'marie', 'camden', 'hypersonics', 'moura', 'dci', 'samigo', 'asu', 'schwab', 'bissds', 'multinet', 'hpwren', 'cybertraining', 'bottineau', 'hydropower', 'angela', 'feedstock', 'biopotential', 'frenklach', 'imines', 'leesville', 'fda', 'moore', 'cann', 'salem', 'gloriads', 'viromes', 'lsst', 'csusm', 'maeviz', 'crete', 'satnag', 'owensboro', 'phillips', 'ohio', 'icpss', 'hdr', 'plato', 'huaiyu', 'casadonte', 'brezonik', 'oxford', 'pgas', 'frontends', 'personalizable', 'insup', 'geovision', 'ica', 'baikun', 'meme', 'gabriella', 'knoxville', 'courseware', 'pdx', 'umbc', 'hacu', 'indp', 'teleoperator', 'hiearchical', 'dmp', 'susy', 'collaboratory', 'cysep', 'deconvolution', 'nextbio', 'antonio', 'worksites', 'ups', 'undersupplied', 'ecoed', 'waveform', 'telecom', 'quantitation', 'giovanni', 'comp', 'multitasking', 'workhop', 'ftir', 'agritechnological', 'wilberforce', 'nadrian', 'intellecutal', 'timestamped', 'hypergames', 'cookeville', 'robotics', 'publishing', 'godm', 'programmed', 'cysp', 'vcls', 'ccbc', 'cpr', 'complexing', 'cpgs', 'brings', 'metalloenzymes', 'prooflets', 'bedford', 'biopolymers', 'artic', 'opencl', 'aandt', 'bypassing', 'ultracold', 'univariate', 'ngo', 'madrid', 'ncdm', 'ccg', 'rijnhuizen', 'halloun', 'heidelberg', 'morgridge', 'nirav', 'kaust', 'geovisual', 'nict', 'kesidis', 'brainprints', 'reconfigured', 'namespaces', 'mulheim', 'petashake', 'efec', 'ricci', 'classifies', 'terminates', 'fielding', 'nanostructures', 'sn', 'thailand', 'evaluator', 'bilt', 'cyberinfrastrcture', 'cyberplatform', 'meritocracy', 'jun', 'iacr', 'conklin', 'glucometer', 'usap', 'hmds', 'operationalize', 'dipsocoromorpha', 'nlp', 'cistp', 'recomposing', 'prototyped', 'crn', 'hcbus', 'mrmr', 'simulink', 'nanoassembly', 'spproj', 'opv', 'moiré', 'trafficturk', 'keitit', 'geoinformatics', 'chepreo', 'lbnf', 'iv', 'dpv', 'multistep', 'dfg', 'barbara', 'gacrc', 'gencyber', 'geosoft', 'pourkamali', 'phenomics', 'sclaroff', 'overfishing', 'enzo', 'instrumentor', 'physiometric', 'fastlane', 'attracts', 'subacuatica', 'poa', 'refreshable', 'fcic', 'fruitsly', 'frontend', 'norwich', 'cybersociety', 'sswi', 'hc', 'outgrows', 'nanopatterned', 'mapping', 'synchrophasor', 'preprocessors', 'helga', 'scd', 'int', 'xstate', 'scheduler', 'nontrivial', 'piggyback', 'vr', 'leotiomycetes', 'furthers', 'minlps', 'surfnet', 'papadopoulos', 'vespignani', 'accesscontrol', 'benefiting', 'swann', 'oleracea', 'biorefineries', 'rangifer', 'anonymized', 'orleans', 'hagerstown', 'satisfies', 'tc', 'volker', 'makeflow', 'cahsi', 'wilson', 'aligo', 'illick', 'schedulability', 'mren', 'pennsylvania', 'wikiwatershedtm', 'siloxane', 'gcn', 'scimma', 'carnegie', 'dehaloperoxidase', 'meterological', 'samoa', 'lynn', 'speaks', 'landfill', 'blunting', 'elevates', 'adminstrative', 'datasets', 'timekeeping', 'csig', 'amnh', 'europa', 'quantile', 'estrella', 'collaborates', 'neurotechnology', 'stissue', 'bahrain', 'ucsciencenet', 'autosteoscopic', 'nvps', 'hrdems', 'nordlander', 'grothe', 'eigenstate', 'mellitus', 'comptia', 'earthcomm', 'fran', 'cyphertexts', 'urc', 'usu', 'chemomechanical', 'fbi', 'ise', 'andrei', 'awardee', 'undergone', 'catalys', 'psycholinguistics', 'pennren', 'opteron', 'octonions', 'qbase', 'specializes', 'stephanie', 'automation', 'impedes', 'infographic', 'mpc', 'uhcl', 'requites', 'cashless', 'mtf', 'invetigators', 'wireline', 'benchmark', 'diagnosability', 'ergo', 'lstm', 'kth', 'miami', 'dapcep', 'egee', 'biomedical', 'stata', 'retroactions', 'microheterogeneous', 'fluorinated', 'asee', 'bossmann', 'parameterize', 'upgraded', 'shortcut', 'cpeg', 'atlanta', 'brookdale', 'arrayed', 'behaving', 'comparators', 'tetraalkylammonium', 'lsu', 'earthscope', 'wallingford', 'mcps', 'furnishes', 'infuses', 'niu', 'kisti', 'firewall', 'simcenter', 'firefighter', 'diradicals', 'aflowlib', 'mics', 'urvey', 'cyberattacked', 'cyberseccurity', 'netlogo', 'ldav', 'embeddedness', 'proposes', 'malone', 'cpni', 'coordination', 'lamont', 'bioquest', 'subaward', 'shoubra', 'edse', 'saadawi', 'winlab', 'gapless', 'haswell', 'datacenters', 'appalachia', 'imds', 'keynes', 'comanipulation', 'nna', 'blogger', 'saudi', 'oligomeric', 'predictivity', 'arup', 'gui', 'sunnyvale', 'competes', 'ciser', 'shellcode', 'codebase', 'stm', 'fpmd', 'onr', 'columbus', 'lifecycle', 'nanobiotechnology', 'suzhou', 'gesellschaft', 'iwatch', 'crosslink', 'ecsu', 'incorporates', 'coevolving', 'oilfield', 'ditelluride', 'mastml', 'clancy', 'cybertech', 'multiagent', 'prodrugs', 'cl', 'mofs', 'haiti', 'estela', 'nanotechnology', 'wirelessand', 'december', 'uq', 'reentry', 'countywide', 'dataswarm', 'taggable', 'reveals', 'cti', 'icps', 'debuggable', 'jtf', 'backyard', 'multidiscplinary', 'proteasomal', 'aehe', 'shapeshifting', 'vatech', 'beckman', 'pepnet', 'insitution', 'colombia', 'departs', 'tribology', 'breckenridge', 'hayden', 'resourced', 'jeanne', 'cmps', 'beverly', 'macalester', 'dongarra', 'sparql', 'alexander', 'geochronological', 'overwhelmed', 'winglets', 'cyberscholarship', 'andhra', 'profilers', 'thermochronology', 'motifnetwork', 'ganz', 'surreal', 'klagholz', 'rixs', 'contend', 'emulab', 'cci', 'lhc', 'subdomains', 'nccu', 'mvsu', 'stokes', 'scsc', 'fnir', 'cbr', 'egs', 'bilayers', 'attends', 'datanet', 'cyber', 'subdiscipline', 'declassification', 'youngstown', 'nanostar', 'ira', 'bandwidth', 'tmdca', 'diazoalkane', 'microkernels', 'composes', 'greenland', 'sna', 'adversarial', 'preemptive', 'scidas', 'mobley', 'sciunit', 'opensim', 'broder', 'ncbi', 'nanogrid', 'manoeuvre', 'hartford', 'smartwatches', 'cocneptual', 'wei', 'planck', 'sandboxing', 'prohibits', 'email', 'stackable', 'misalign', 'vern', 'sca', 'ibmwatson', 'restores', 'cpsisa', 'icsi', 'cccc', 'xiaoge', 'resourcessecurity', 'shonnard', 'scigap', 'wse', 'cg', 'rangan', 'extual', 'fhdi', 'nanomanufacturing', 'varies', 'toronto', 'nanofluid', 'hanson', 'moog', 'sewhip', 'simsam', 'crescynt', 'tippecanoe', 'raptorx', 'mios', 'bhef', 'higgins', 'pid', 'unix', 'polynesia', 'enters', 'gpl', 'bioenergy', 'torr', 'uog', 'dso', 'psu', 'glaciologists', 'tetrapodes', 'hackathon', 'datacapsules', 'vandv', 'prdb', 'milwaukee', 'tomanek', 'birck', 'asl', 'watersmart', 'utrc', 'exp', 'cdi', 'heals', 'minnesota', 'washtenaw', 'cis', 'particiation', 'astroturf', 'erent', 'cigs', 'confer', 'impairs', 'inclusivity', 'multibiometric', 'underpins', 'bhsu', 'nikos', 'tcia', 'pajaro', 'transferrable', 'moser', 'cooney', 'nanomedicine', 'gridchem', 'iup', 'taiwan', 'cet', 'swanson', 'ultrastrong', 'radboud', 'hampton', 'oahu', 'farmland', 'cta', 'overridden', 'nanochannels', 'kostas', 'coproduction', 'oligomerization', 'prague', 'nau', 'csia', 'cyberinfrastrucutre', 'belarus', 'scihm', 'refactored', 'trojan', 'statewide', 'sbmqw', 'ikneer', 'incentivizing', 'mini', 'nied', 'pflops', 'ucsn', 'bigbelly', 'disa', 'nucleic', 'magnetofossils', 'dfms', 'cybervictmization', 'mma', 'contributes', 'compels', 'exacerbates', 'terascale', 'photogeneration', 'gcels', 'nessie', 'intergalactic', 'ecogem', 'datalogger', 'cryptotephra', 'siloxides', 'dtns', 'pn', 'geoprocessing', 'eom', 'microretarder', 'invoked', 'download', 'photodamage', 'delhi', 'qc', 'rtas', 'useable', 'david', 'probeware', 'linux', 'dassault', 'dmz', 'wichita', 'mitochondrion', 'bro', 'biocompatible', 'spintronic', 'qos', 'otheir', 'preemptively', 'fiwin', 'eden', 'uav', 'knowlegeable', 'utmb', 'kostant', 'stan', 'doug', 'ou', 'rui', 'flate', 'hec', 'njits', 'smb', 'autocorrelation', 'website', 'byodlib', 'horsburgh', 'makerspace', 'thaliana', 'arundel', 'isolatable', 'workshopsthat', 'obtains', 'goldenberg', 'photocatalysts', 'incentivize', 'ecsel', 'aizu', 'annulene', 'facebook', 'equivalencies', 'reagan', 'buffering', 'metasurface', 'scidac', 'technologisst', 'reengineers', 'orjeda', 'riseenag', 'reentering', 'reattaches', 'ot', 'geocomputation', 'cdzno', 'ctf', 'bioelectronics', 'geophysicsl', 'dsl', 'flavonoid', 'dlm', 'dmfbs', 'downsize', 'ridley', 'safl', 'wvu', 'caregiver', 'downloadable', 'photobioreactor', 'nanocrystals', 'exceeds', 'paleoclimatologists', 'iip', 'chtc', 'thier', 'hprc', 'mobilizes', 'exibility', 'aws', 'neesgrid', 'ri', 'nesco', 'klingenstein', 'prioritize', 'tephrochronological', 'parallelizable', 'lsmce', 'thes', 'fom', 'api', 'tsinghua', 'mm', 'webservers', 'ct', 'whyville', 'rappture', 'combinformation', 'urbanized', 'inp', 'hsis', 'columbia', 'mitie', 'yarmouth', 'wojciech', 'bioanalytical', 'elizabeth', 'smartfarm', 'atherogenic', 'septage', 'vc', 'earthcube', 'phytoestrogens', 'cleo', 'sabin', 'vdt', 'wlcg', 'cyberbased', 'generalizability', 'sonified', 'nonexperts', 'lophodermium', 'nhtsa', 'nucri', 'tcus', 'nanophased', 'inputting', 'misclassifications', 'urbana', 'bifurcates', 'pulkit', 'blacksburg', 'begets', 'oneocii', 'spss', 'guevara', 'comprises', 'deploys', 'tampa', 'seales', 'biomolecule', 'avcl', 'nanoscopic', 'wudapt', 'cyberready', 'mobius', 'reconnecting', 'facto', 'cri', 'xrd', 'microblog', 'sger', 'mindlab', 'scientometrics', 'vsphere', 'istanbul', 'aidb', 'ferroelectric', 'neogene', 'simplot', 'odin', 'cyberfoundations', 'mackay', 'disappears', 'ncse', 'experimentalists', 'plale', 'eastwood', 'prepares', 'aon', 'siparcs', 'darmstadtium', 'addressable', 'hs', 'photoresist', 'hemt', 'fciqmc', 'tarandus', 'biovis', 'cyberprotection', 'ucsf', 'cstnet', 'autoimmune', 'paleoseismic', 'biomechatronic', 'iwasawa', 'morphotypes', 'hypocenter', 'bsd', 'hbcu', 'cybercommons', 'cyberchase', 'storyline', 'cbe', 'malware', 'tacoma', 'memoization', 'metallopeptides', 'aso', 'rdf', 'cybermule', 'tessa', 'pople', 'yellowstone', 'etes', 'megabyte', 'avl', 'pasadena', 'pogil', 'biomaterial', 'offsite', 'los', 'vva', 'bermuda', 'roseline', 'eide', 'biotec', 'sparc', 'iccdi', 'firewalled', 'crnch', 'esc', 'shf', 'nanomechanics', 'photobiology', 'microdata', 'substantiates', 'uttc', 'laramie', 'multimedia', 'msw', 'malden', 'qcd', 'supermedia', 'cybersecured', 'dnn', 'mahoning', 'subdisciplinary', 'isolates', 'cdc', 'pangeo', 'assistantships', 'tyler', 'llela', 'nanoresonators', 'degrades', 'nanomechanical', 'safod', 'downbursts', 'toolchain', 'ucsc', 'nucia', 'evolvability', 'garcia', 'gep', 'plasmon', 'cetmons', 'smls', 'cyberphysical', 'engneering', 'serendipitous', 'financing', 'orca', 'viromics', 'microdiffractometer', 'ergnomics', 'eic', 'interactomes', 'zno', 'github', 'operates', 'julie', 'pittsburg', 'leinbach', 'isfs', 'ethnicity', 'thermoelectrics', 'undertakes', 'bistable', 'unm', 'giscience', 'loses', 'scelionini', 'unavco', 'epitaxial', 'openrdc', 'ucsd', 'circumvents', 'iri', 'vandecastle', 'paul', 'spinor', 'directstream', 'irma', 'biocompatibility', 'biopolymer', 'koenderink', 'midscale', 'yeager', 'openmi', 'cyberworld', 'blockchains', 'penetrates', 'carlo', 'fsfo', 'paso', 'paraterized', 'ebsd', 'probed', 'simplifies', 'interfacing', 'microservices', 'metabolomics', 'austin', 'zhuoqing', 'denton', 'harpole', 'cfsm', 'ccla', 'eigen', 'cavs', 'douglas', 'healthvault', 'uccre', 'ierapetritou', 'durham', 'quadrotor', 'mvc', 'salinization', 'biodistribution', 'jacinto', 'lookup', 'fpgas', 'submodels', 'bangor', 'dominick', 'dubbed', 'cssi', 'rtm', 'fdt', 'csrc', 'nvm', 'tuscaloosa', 'csula', 'phasors', 'versa', 'adapts', 'bellesalle', 'lima', 'clara', 'rutgers', 'activates', 'dcp', 'maine', 'practica', 'rl', 'lcbs', 'hvac', 'philippe', 'arnold', 'zooniverse', 'oc', 'rcaat', 'crosslinked', 'operationalizing', 'geomorphologists', 'itsb', 'coronavirus', 'microvax', 'vpsn', 'parametrically', 'braunschweig', 'pathophysiology', 'siloes', 'littleis', 'sande', 'proteìgeì', 'metagenomics', 'möbius', 'nox', 'ucla', 'mitrea', 'heliopyhsicists', 'md', 'midas', 'silvic', 'ucps', 'nfv', 'sood', 'ovide', 'alice', 'interprets', 'cyberteam', 'eec', 'showcased', 'tbe', 'ab', 'governs', 'multilayer', 'geophylogenies', 'neumann', 'threatens', 'nathan', 'tayfun', 'srop', 'groundwaters', 'generativity', 'annexed', 'abdeldjelil', 'ccsc', 'nonradiative', 'marymount', 'transforms', 'qanda', 'pmandr', 'openflow', 'fraunhofer', 'broadens', 'gec', 'outreaching', 'boussinesq', 'wcag', 'metabolomic', 'aciss', 'berthold', 'luc', 'fidmt', 'moran', 'batteryless', 'explora', 'bigsec', 'multiparameter', 'csudh', 'seti', 'homebank', 'richer', 'rauschecker', 'transfected', 'savannah', 'cpsdyn', 'rady', 'maxion', 'aamu', 'webinars', 'cytokine', 'geoscientist', 'cyanobacteria', 'kettering', 'cedd', 'transpac', 'microgrid', 'suny', 'asts', 'speciand', 'multiscaled', 'astroparticle', 'broadwell', 'bernardino', 'accessdata', 'transactive', 'waterhub', 'scid', 'mauna', 'htcondor', 'cccs', 'traceroute', 'cortdra', 'url', 'kimberly', 'principled', 'nanocomposite', 'timescales', 'wssi', 'cogm', 'timeframe', 'carders', 'pft', 'tacred', 'pratt', 'xin', 'sio', 'biomolecules', 'takeninto', 'wwt', 'smartgridlab', 'osg', 'cawe', 'franca', 'llcc', 'armenia', 'hyperlinking', 'reykjavik', 'thermophysical', 'loxahatchee', 'dehydro', 'pki', 'microspectrometer', 'newer', 'reengineer', 'cyberanalytics', 'paleopedologists', 'hmd', 'dia', 'lapack', 'agroecology', 'reus', 'isi', 'biomanufacturing', 'cgsc', 'microsystem', 'fluorophores', 'phc', 'rilg', 'cookie', 'revamped', 'replicable', 'noncooperative', 'tegroup', 'tcns', 'mackerrell', 'tata', 'korea', 'collaboratories', 'microcontrollers', 'cyanobacterial', 'informativeness', 'manuone', 'tulane', 'transcoding', 'zhang', 'cph', 'kwh', 'dnps', 'bioarray', 'unsynthesized', 'hume', 'slowest', 'cybercop', 'wrf', 'cd', 'epitomizes', 'carolyn', 'pbl', 'upconversion', 'skateboard', 'bowdoin', 'helicity', 'epl', 'clm', 'runtime', 'linkers', 'biosignals', 'playlist', 'vsc', 'mdrb', 'aarnet', 'tephrochronology', 'dlese', 'pechoucek', 'foah', 'inria', 'claimed', 'matt', 'inspires', 'isogeometric', 'asc', 'cryptanalytic', 'nanotips', 'unf', 'enculturation', 'argonne', 'keywords', 'otg', 'cached', 'lsa', 'ture', 'inaccessable', 'nafcs', 'oia', 'expertise', 'discourages', 'dallas', 'tmc', 'tt', 'attila', 'srb', 'ders', 'dmr', 'tufo', 'mtml', 'necessitates', 'glucosinolate', 'yantao', 'visuospatial', 'betalains', 'ac', 'batching', 'mosdef', 'rovs', 'utd', 'adsl', 'cyberlamp', 'recalibrated', 'copd', 'jolla', 'app', 'homophilious', 'interlinked', 'relaxes', 'overtaken', 'jon', 'emory', 'workhorse', 'dlt', 'ccsnh', 'akamai', 'ipt', 'amisr', 'savviness', 'meeings', 'cp', 'sigs', 'botnets', 'uslhcnet', 'bastani', 'peptoids', 'roadmap', 'cpg', 'angelos', 'ip', 'dsrna', 'cww', 'tm', 'chrec', 'nanotec', 'judging', 'msho', 'virtualization', 'metasploit', 'spheroid', 'keith', 'bionet', 'cmsp', 'stduy', 'protiens', 'leitmotif', 'marries', 'modularizes', 'pulsar', 'decryption', 'bmcc', 'crasta', 'benefitgreatly', 'iwaniec', 'pullnix', 'england', 'noncrystallographic', 'tsn', 'sytsem', 'sciwinet', 'krogh', 'gigahertz', 'hacktion', 'ouachita', 'spl', 'tom', 'roblee', 'institut', 'idaho', 'geosystem', 'wbans', 'oregon', 'cabrillo', 'mbvl', 'borr', 'utsa', 'gmu', 'sumo', 'advertised', 'isnarld', 'concolic', 'underpinnings', 'cayetano', 'lawrence', 'subassemblies', 'cv', 'ahern', 'biorepositories', 'josé', 'storeever', 'microarrays', 'classp', 'australia', 'lilypad', 'thom', 'comses', 'gcc', 'pitac', 'terabit', 'ecog', 'shortens', 'bayes', 'montgomery', 'highschool', 'modus', 'autonoma', 'groundbreaking', 'dona', 'american', 'scec', 'exemple', 'memristors', 'essex', 'voorhis', 'automate', 'uh', 'beamforming', 'kw', 'sweden', 'conformational', 'drillship', 'octech', 'superiores', 'intergenerational', 'kirkwood', 'gatekeeping', 'udl', 'bctc', 'knox', 'multigrain', 'fixturing', 'dbedt', 'europe', 'wiki', 'thz', 'webcasts', 'sustainably', 'warns', 'dmv', 'digitization', 'elastography', 'multisided', 'ieee', 'landmines', 'alvarez', 'swm', 'qcis', 'smartspaces', 'wii', 'conficts', 'yanni', 'pca', 'carbondale', 'biodegradation', 'transcriptome', 'karplus', 'cyberlaw', 'plata', 'williston', 'dendrons', 'matanzas', 'graf', 'andreas', 'dnns', 'atacama', 'uptick', 'xanes', 'opensees', 'cisa', 'prosocial', 'submodular', 'nems', 'mjor', 'lifetm', 'cyberquest', 'undertaken', 'groupscope', 'radicl', 'interdisciplinarity', 'cyberrisk', 'mssi', 'cie', 'smartgrids', 'sdds', 'kong', 'göttingen', 'skype', 'bioinformatic', 'understands', 'biofluids', 'shahn', 'photoproduction', 'anant', 'sandra', 'hampshire', 'pb', 'jetting', 'hubbs', 'unols', 'cybercriminals', 'vienna', 'ciently', 'conenctomes', 'cytokinin', 'junco', 'cyberinfastructure', 'tradeoff', 'et', 'dephasing', 'paris', 'encapsulates', 'iots', 'nanotoroids', 'netcrystals', 'innumerate', 'rolla', 'mitigates', 'auditable', 'aandm', 'iubio', 'augmentarium', 'pces', 'enablers', 'raiffa', 'ultrathin', 'cybersecure', 'cooperation', 'heterointerfaces', 'silanides', 'uncalibrated', 'irs', 'learns', 'rowhammer', 'corenlp', 'etl', 'submillimeter', 'researchsoc', 'olaf', 'configurability', 'fbcc', 'heterostructures', 'multivariable', 'interferometric', 'src', 'greg', 'wateroneflow', 'consolidates', 'belgian', 'wheelchair', 'workforce', 'eod', 'offn', 'autocoder', 'cyberpatriot', 'mahmood', 'resembles', 'roce', 'xuxian', 'capitalizes', 'flamelets', 'geoprisms', 'tflop', 'performs', 'cyberconnectivity', 'elucidates', 'qubit', 'diagramand', 'ctds', 'tracs', 'aapg', 'dpa', 'bionanomaterial', 'oln', 'dozier', 'selects', 'cacs', 'lwf', 'iuse', 'mclennan', 'extremal', 'sean', 'amsti', 'smartwatch', 'dichalcogenide', 'rssm', 'polyanilines', 'doerrer', 'honeynet', 'outcompete', 'aligns', 'gridc', 'eando', 'cryoelectron', 'tarleton', 'gamification', 'broadband', 'kurt', 'george', 'sendai', 'spreadsheet', 'shmt', 'externships', 'pothen', 'arguably', 'uen', 'electromyography', 'outgroup', 'alene', 'bd', 'mpsoc', 'yu', 'tl', 'resequencing', 'gaylord', 'netstat', 'thermalization', 'ud', 'streamflow', 'alam', 'sox', 'wavelength', 'kid', 'cnt', 'transmits', 'fibermatrix', 'shodor', 'microrna', 'itwf', 'shortest', 'figshare', 'behaviorally', 'eggimann', 'cygames', 'updaters', 'nantes', 'cybersinfrastructure', 'spartanburg', 'mcve', 'jr', 'snowboard', 'jsc', 'telex', 'gcom', 'aect', 'dynamicity', 'sdk', 'tng', 'mankodiya', 'jacques', 'implementors', 'turbosoft', 'cybermanufacturing', 'sparsifying', 'nrsc', 'schoolaged', 'frontlines', 'optofluidic', 'ssho', 'eleanor', 'pararescuer', 'identifiability', 'wadc', 'efri', 'shannon', 'reconnected', 'multibiometrics', 'cyberinformatics', 'afit', 'slos', 'lec', 'sharnnia', 'soa', 'ncsu', 'tasked', 'infrastructural', 'ovp', 'tmcc', 'kellogg', 'segovia', 'tamarackmedia', 'geodynamicists', 'paleobiological', 'imo', 'chaitan', 'openmm', 'selmer', 'exogeni', 'xafs', 'siloed', 'stuxnet', 'bpu', 'educause', 'nri', 'implantable', 'schlueter', 'deus', 'ipython', 'wikis', 'cwdd', 'tac', 'su', 'darknets', 'maldi', 'communitiesof', 'vidia', 'paid', 'ian', 'airfare', 'marcus', 'nanophotonics', 'pr', 'nonprobability', 'implies', 'terpenoids', 'rasha', 'urgs', 'naregi', 'vm', 'bossier', 'geni', 'sdx', 'puget', 'implementers', 'icepack', 'qds', 'pcbs', 'bbmi', 'ucf', 'inc', 'spectrometrists', 'biochip', 'mohammad', 'dongle', 'geoscientists', 'princeton', 'spatiallyarranged', 'autodialing', 'ablamowicz', 'fulfil', 'frontera', 'nanomaterial', 'understudied', 'underutilized', 'greenville', 'monica', 'shaowen', 'rge', 'pserc', 'qsar', 'acknowledges', 'melinda', 'mesonet', 'centernet', 'magnetohydrodynamics', 'oma', 'underperformance', 'chc', 'platooning', 'geosciences', 'swrc', 'presupposes', 'polarglobe', 'svga', 'nanocomponents', 'curating', 'geochron', 'epo', 'lb', 'loudspeaker', 'dirac', 'trappecg', 'vassilis', 'gm', 'kuester', 'particulary', 'ioos', 'metamine', 'lecompte', 'ilmenau', 'pnnl', 'tennessee', 'scheller', 'implementable', 'wiggio', 'robokind', 'omnipop', 'spawar', 'eukhits', 'gitlab', 'uteachengineering', 'tv', 'sonet', 'ndg', 'niatec', 'rcfl', 'alelo', 'piv', 'castillo', 'vinaren', 'reengineering', 'yablonovitch', 'nsp', 'sphis', 'contextualized', 'ubiquitination', 'teravoxel', 'nmsu', 'webcast', 'uavs', 'seaworld', 'fulton', 'bwac', 'hang', 'openwetware', 'frederick', 'fsu', 'cancun', 'closing', 'berea', 'bpcc', 'varilly', 'du', 'shinshu', 'cybex', 'ccti', 'nile', 'usrs', 'sacnas', 'kinects', 'iprivacy', 'synchrophasors', 'westnet', 'brian', 'fauser', 'reenen', 'electronically', 'duncaster', 'symbionts', 'griphyn', 'crc', 'rasterization', 'upcycling', 'sami', 'certiport', 'il', 'icciacst', 'itase', 'consumes', 'macroscope', 'metro', 'mockups', 'pitstructures', 'mod', 'triplines', 'clemson', 'geoedf', 'cdsande', 'robobooks', 'poorer', 'phonon', 'php', 'dhabi', 'creativeit', 'mpinterfaces', 'stackv', 'mic', 'pyle', 'indispensible', 'contradicts', 'minimizes', 'mlftc', 'hartnell', 'salaheldin', 'pisa', 'cyberlaboratory', 'cybertower', 'falko', 'sandp', 'autocue', 'ionomers', 'jeopardizing', 'steepest', 'amplifies', 'hcp', 'bicliques', 'intelesense', 'linnaeus', 'bmet', 'sadow', 'ntn', 'postsecondary', 'mueller', 'embeds', 'fuland', 'aquaswarm', 'innovates', 'unites', 'eco', 'heinz', 'frustratingly', 'grns', 'mmw', 'sonora', 'superfund', 'etb', 'hatfield', 'geogame', 'cjq', 'stt', 'cyberfriends', 'mohawk', 'reseach', 'robotic', 'electrophilic', 'nlsdr', 'csec', 'keyloggers', 'encourages', 'ingolf', 'nanobuilding', 'javascript', 'grf', 'aeds', 'biofilms', 'plasmons', 'neurochemical', 'iandt', 'msu', 'productized', 'ames', 'diradical', 'cyberinfractures', 'ultramafic', 'subawardees', 'bcube', 'cacr', 'rounsley', 'opex', 'combo', 'globus', 'techniquesfor', 'captioners', 'ryan', 'osu', 'boolean', 'sahai', 'crm', 'nstc', 'projct', 'micropaleontological', 'urm', 'subseafloor', 'fl', 'bscs', 'cctools', 'undergoes', 'permeates', 'summatively', 'recombinant', 'invents', 'assumes', 'mehl', 'botswana', 'matures', 'generates', 'oci', 'csail', 'ncwit', 'stewart', 'earlier', 'rtems', 'sbgrid', 'chen', 'optimality', 'syndem', 'tuto', 'floquet', 'bulgaria', 'renews', 'plasmonics', 'kunal', 'shuttleworth', 'dpatterson', 'biogases', 'acadis', 'scisip', 'kemper', 'instills', 'automates', 'furi', 'galerkin', 'neesinc', 'mmos', 'hetnets', 'blog', 'sinclair', 'animando', 'sanikiluaq', 'pept', 'dec', 'writes', 'teragrid', 'cylab', 'shorebird', 'turbopumped', 'sheeets', 'ttu', 'timeline', 'probabilistically', 'arkansas', 'payback', 'refers', 'nanodusty', 'wnet', 'comtree', 'multiplayer', 'louisville', 'hpe', 'threedimensional', 'sandvol', 'hdf', 'uncoordinated', 'nvd', 'blazar', 'cassel', 'coevolution', 'annonymization', 'nanofiber', 'duluth', 'customizable', 'grazers', 'videogames', 'leuven', 'brownsville', 'superset', 'evinces', 'unifed', 'gordon', 'nafeo', 'semistochastic', 'knowledgebase', 'nirps', 'byods', 'antiaromatic', 'dickinson', 'luay', 'ligo', 'edmonds', 'oled', 'vistrails', 'springfield', 'potosino', 'phys', 'clivar', 'hu', 'countertop', 'mgrid', 'gridding', 'reimagined', 'secdev', 'ed', 'esb', 'xps', 'desertification', 'exemplifies', 'utig', 'focapo', 'ky', 'icac', 'emmanuel', 'commugrate', 'resonates', 'mvno', 'entices', 'amherst', 'cyberam', 'unstructured', 'soliton', 'pgande', 'refereed', 'codevelopment', 'lmr', 'syvitski', 'tapped', 'interdiscipinary', 'nsg', 'cambodia', 'sunapee', 'dimacs', 'umn', 'cwssp', 'bioextract', 'icts', 'cybergis', 'clementi', 'google', 'dirichlet', 'multiplies', 'rainforest', 'uml', 'ku', 'exascale', 'bentcore', 'vhub', 'dcl', 'nec', 'incenting', 'widefield', 'itech', 'gupta', 'mwm', 'redesigns', 'cloudtech', 'maison', 'pltl', 'thorpe', 'glycoconjugates', 'ukri', 'jsme', 'gridftp', 'quarantinability', 'lasenby', 'cacc', 'cvar', 'nakhleh', 'salvatore', 'plb', 'specifies', 'csp', 'nmm', 'soundscape', 'astrostatistics', 'pbe', 'mcr', 'ligand', 'genesee', 'osdt', 'mechanobiology', 'trec', 'snowpack', 'flickr', 'secures', 'munich', 'jupyterlab', 'antiferromagnetic', 'mitc', 'pradesh', 'streamlines', 'rebecca', 'umr', 'indepth', 'icer', 'cbeo', 'vscse', 'naïve', 'refactors', 'esri', 'downscaling', 'nwrc', 'biodefense', 'lexias', 'addis', 'dmd', 'amrex', 'mississippi', 'bbci', 'bloomfield', 'leo', 'darmstadt', 'nacua', 'sadet', 'wnmu', 'magdi', 'typed', 'katg', 'ucsb', 'virome', 'greenstadt', 'thermoregulatory', 'bombay', 'richter', 'depackage', 'bootstrapping', 'poikliothermic', 'hawaii', 'dominguez', 'uass', 'severini', 'gabc', 'modulates', 'constrains', 'rfnest', 'ehealthcare', 'neuropeptide', 'cpu', 'isls', 'rafal', 'geomatics', 'collaboratorium', 'archeology', 'ncfta', 'photophysics', 'lsc', 'lu', 'uber', 'eth', 'mentees', 'hanlon', 'infraorder', 'encoder', 'icu', 'isanda', 'syracuse', 'khanna', 'noninvasively', 'elasticsearch', 'smarr', 'orbiter', 'interative', 'safa', 'occupies', 'quasiparticle', 'nanomaterials', 'isa', 'enrolls', 'mwn', 'adbc', 'woci', 'receives', 'admits', 'parameterizing', 'erie', 'wifi', 'qbox', 'poland', 'stimulates', 'ttp', 'sciencedmz', 'heterogenity', 'lamnids', 'atandt', 'london', 'scoped', 'galilei', 'kantardjieff', 'interoperating', 'abdelkhalik', 'sciknowmine', 'floodplain', 'sahi', 'einstein', 'farouk', 'analyte', 'gcb', 'pcet', 'brainlink', 'drexel', 'regulates', 'lmi', 'synteny', 'cidr', 'multiproduct', 'interfaced', 'shb', 'opioid', 'optoelectronic', 'fmitf', 'mixmap', 'noc', 'demonstrates', 'mvnos', 'cybercriminal', 'toolsets', 'greywolf', 'puis', 'reconfigures', 'ccf', 'fingerprintable', 'gargett', 'stevens', 'tg', 'meghdoot', 'digitalsts', 'revolves', 'tw', 'verne', 'pcdp', 'videira', 'wienhausen', 'cryoprobe', 'organotransition', 'ucd', 'startup', 'multivariate', 'appreciates', 'idlow', 'underrepresented', 'fauna', 'ssei', 'superharmonic', 'tallahassee', 'oandm', 'eie', 'swe', 'hrdem', 'downscale', 'lyudmila', 'café', 'datastorm', 'reproducability', 'barcoding', 'kostadin', 'momp', 'notifies', 'amo', 'sysml', 'cosee', 'miron', 'va', 'preprogrammed', 'perl', 'edx', 'accumulates', 'biomass', 'rtds', 'microcal', 'metcalfe', 'psic', 'plc', 'pretschner', 'cines', 'chatbot', 'cscibox', 'mesogens', 'colorectal', 'ipf', 'dillard', 'urop', 'ccser', 'gw', 'parkside', 'miki', 'chem', 'gopal', 'usma', 'memristor', 'atitia', 'educates', 'hpfrcc', 'cooperates', 'preuss', 'gwp', 'nevada', 'mocness', 'debonding', 'polumers', 'irt', 'tolomato', 'wams', 'ibm', 'oarnet', 'webmaster', 'cikana', 'lemmatizers', 'checkout', 'ucst', 'immunet', 'analyzes', 'glideinwms', 'nonadiabatic', 'hmsc', 'albany', 'emcc', 'alcorn', 'effprt', 'dendrimers', 'rahul', 'facilitates', 'ntsa', 'geospataial', 'agep', 'biosampler', 'larsen', 'electrocorticography', 'glms', 'cne', 'cpsmap', 'cyberloft', 'sers', 'massachusetts', 'reconfiguring', 'vanbriesen', 'cgc', 'simeng', 'arab', 'lh', 'gnrh', 'multidiscipline', 'policymakers', 'scilab', 'robert', 'cyberinfrastructural', 'palanki', 'bsn', 'crosslinkable', 'biointerfaces', 'dp', 'hackweek', 'dl', 'dssv', 'solves', 'architected', 'bp', 'iihitsls', 'sheraton', 'cybersees', 'ratsch', 'bbcp', 'apts', 'rico', 'deployed', 'articipation', 'watermarking', 'joan', 'esper', 'setsep', 'bremen', 'inhibits', 'nears', 'nanobio', 'esip', 'tardis', 'konter', 'diffusivities', 'mexico', 'multiferroics', 'spammer', 'intersects', 'im', 'neurobiologist', 'himb', 'teleimmersion', 'laundering', 'prebiotic', 'epstein', 'gemc', 'tsu', 'peruana', 'odl', 'hrcyber', 'photoelectrodes', 'transfection', 'usrp', 'rof', 'suggests', 'micropillar', 'macroinvertebrates', 'ndsu', 'openabm', 'semimetals', 'physiologic', 'investigaciones', 'cooperate', 'sensoring', 'exploratorium', 'cyberbalkanization', 'allbio', 'universtiy', 'lehigh', 'ru', 'intersectionality', 'fns', 'backhaul', 'defines', 'malonaldehyde', 'nanoos', 'epm', 'operationally', 'sztipanovits', 'diand', 'qol', 'nd', 'ruggedize', 'cossmo', 'customization', 'vms', 'africa', 'drabold', 'biotechnological', 'glycopeptides', 'cybervisits', 'minidiffractometer', 'nanoliter', 'maui', 'megahertz', 'bmbf', 'manufacturability', 'cif', 'frustrates', 'hinde', 'shakemovie', 'bluefield', 'sfs', 'ivision', 'alabama', 'reformatting', 'cyberenvironment', 'wm', 'northside', 'decouple', 'sesync', 'nwcet', 'modularized', 'nanosecond', 'ots', 'vtech', 'workgroup', 'ggsfp', 'phenotyping', 'bbsi', 'cset', 'mbr', 'hillslopes', 'photovoltaics', 'waterborne', 'xix', 'siem', 'montreal', 'criminalize', 'ergodicity', 'naspi', 'sanitization', 'cyberaggression', 'romio', 'hears', 'microelectronics', 'esnet', 'greenbelt', 'unesco', 'petrology', 'renormalization', 'geostructural', 'msml', 'mio', 'az', 'kavak', 'ccsf', 'geospace', 'nanobelts', 'scripps', 'microhabitats', 'dopant', 'christodoulos', 'ipc', 'sbu', 'tof', 'ivros', 'rov', 'empowers', 'roboticists', 'polyhydrides', 'paramedic', 'katherine', 'biosystems', 'petaflop', 'dna', 'conveyed', 'cryosphere', 'internet', 'decamouflaging', 'xtalopt', 'aimd', 'gpo', 'fides', 'ydstie', 'uhmc', 'efs', 'symmetrybreaking', 'pacom', 'nanotech', 'prosumers', 'pupr', 'ctmc', 'deployers', 'crif', 'wanets', 'nanotoxicity', 'illinois', 'sscp', 'ctsim', 'lithospheric', 'kentucky', 'northridge', 'bundling', 'manufacturing', 'ssds', 'nlo', 'ldg', 'georg', 'perceives', 'polcyb', 'afm', 'minlp', 'heterojunction', 'hioa', 'memphis', 'nshe', 'jeddah', 'multiresolution', 'heterostructure', 'online', 'nsci', 'hmi', 'ipy', 'iupui', 'subdisciplines', 'kyrc', 'qudits', 'functionalization', 'temsmani', 'bnl', 'seabird', 'arterials', 'origami', 'hsr', 'unifies', 'utah', 'gpgpus', 'cpess', 'ncr', 'ntc', 'grigoropoulos', 'ap', 'endophytes', 'manipulatives', 'cadnano', 'nir', 'instal', 'monitoring', 'fargo', 'saml', 'reserachers', 'essil', 'nnlo', 'christchurch', 'uop', 'backscatter', 'unam', 'pbis', 'piedras', 'soergel', 'telesurgery', 'nanospheres', 'idm', 'cyberwatch', 'lehnert', 'ucar', 'oac', 'fmmi', 'rsearch', 'daytona', 'mcgill', 'nnmc', 'steganalytic', 'magnetosome', 'archeological', 'icecube', 'iit', 'jhu', 'mariachi', 'simulated', 'iomt', 'taylor', 'investigates', 'icare', 'cgs', 'hd', 'addie', 'retrofittable', 'clade', 'le', 'summarinzing', 'electrotactile', 'isos', 'honduras', 'biocomplexity', 'dana', 'pollutionview', 'prioritizes', 'isso', 'edl', 'ifac', 'transcends', 'laituri', 'cres', 'tandy', 'anthony', 'sq', 'spatiotemporally', 'biocatalytic', 'berenstein', 'ncra', 'offline', 'forklift', 'mmurfs', 'adaptivity', 'tricked', 'anza', 'shiu', 'telehealth', 'cyberinfrasturcture', 'cps', 'biomonitoring', 'asme', 'berkeley', 'bradley', 'rootkit', 'watsonville', 'biofuels', 'cyberinfrstructure', 'csds', 'raritan', 'livermore', 'dsos', 'voevent', 'texturing', 'interoperability', 'genbank', 'hamilton', 'umd', 'newark', 'baltay', 'spm', 'polycarbonate', 'isgtw', 'ceneci', 'iap', 'merwe', 'datadriven', 'laaziz', 'cybertaxonomic', 'glif', 'crassa', 'tomotherapy', 'adnan', 'viii', 'isamples', 'october', 'ccent', 'microlensing', 'isye', 'auditability', 'densified', 'microfabricated', 'gabriele', 'msps', 'ec', 'biohybrid', 'datamed', 'ethereum', 'hokiespeed', 'peabody', 'rcsm', 'nonribosomal', 'nj', 'naviator', 'commenced', 'bioconjugates', 'viscoelasticity', 'powertrains', 'bitbucket', 'preprocessing', 'ophiolites', 'sais', 'cyberdata', 'manages', 'ctsnet', 'aerospace', 'commoditized', 'imapct', 'mvcc', 'mtd', 'sdvs', 'afb', 'gleon', 'neurocomputational', 'inspiral', 'bcc', 'verifies', 'rtpc', 'microgrids', 'subcells', 'enriches', 'stillaguamish', 'barcode', 'lamar', 'interconnects', 'collabathons', 'latech', 'ci', 'vp', 'danse', 'fullerene', 'offs', 'mlti', 'intedisciplinary', 'subprojects', 'leachate', 'sdgande', 'monies', 'crowdturfer', 'georeference', 'cssia', 'muste', 'crowdsourced', 'monodisperse', 'estudiantes', 'icruiser', 'homophily', 'upload', 'mesostructures', 'saydjari', 'brantley', 'fplc', 'wooley', 'budgeting', 'nanogrids', 'agribusiness', 'eas', 'slipchenko', 'molssi', 'nanocapsules', 'dmf', 'sadc', 'influencers', 'schulze', 'qbd', 'heidi', 'quantiatively', 'lqcd', 'protects', 'asynchronously', 'cybertools', 'updatable', 'chemometrics', 'hubbard', 'guam', 'iseage', 'multiferroic', 'ctsp', 'walmart', 'mri', 'lc', 'hunter', 'geotagged', 'cyberfacility', 'hoodlt', 'asa', 'rechargeable', 'thresholding', 'extremize', 'imua', 'phasor', 'santa', 'llc', 'geospatial', 'cserd', 'apis', 'youtube', 'chilean', 'escalation', 'emulates', 'telerobotics', 'immunoassay', 'cisal', 'detects', 'biosignal', 'ondemand', 'pe', 'dirse', 'mpdo', 'palomar', 'motivates', 'epscor', 'macrocycles', 'meade', 'gridcii', 'cvd', 'cyberscience', 'kochi', 'vmc', 'wicys', 'tochtrop', 'lifespan', 'acq', 'hlt', 'claytronics', 'eis', 'audioconferencing', 'demaine', 'richest', 'pricing', 'crowdturfing', 'brigham', 'multipoles', 'jetstream', 'nwp', 'bullyblocker', 'bioparticles', 'cyneuro', 'christi', 'acce', 'waveguiding', 'bvi', 'cimi', 'ascomycota', 'ecotourism', 'fabricates', 'nanotribology', 'polik', 'hestenes', 'datacenter', 'metavir', 'isaac', 'richard', 'discretized', 'allen', 'isr', 'dyn', 'opportunty', 'planning', 'igeni', 'hbcus', 'lmes', 'cme', 'mda', 'biobotic', 'qi', 'praveen', 'kamchatka', 'utep', 'paleoecological', 'bioimpedance', 'lagos', 'rafie', 'weisband', 'ssd', 'osf', 'marius', 'nescent', 'noril', 'astroturfing', 'innovativeness', 'containerize', 'microevolutionary', 'morpho', 'hypervisor', 'redirects', 'validates', 'vinci', 'nonintrusive', 'imicrobe', 'galapagos', 'sciserver', 'polypseudorotaxanes', 'alamogordo', 'janos', 'equips', 'magnifies', 'edc', 'longstanding', 'proteomics', 'hofstra', 'abramson', 'bioscience', 'underexplored', 'multilingualism', 'polarizabilities', 'affords', 'choi', 'ncsm', 'tcc', 'marian', 'gridex', 'ela', 'fiducials', 'predefined', 'simulationists', 'evanston', 'informationally', 'iihr', 'bioprobes', 'kinesthesiology', 'eprc', 'fulfills', 'calculates', 'compaas', 'rdc', 'mechatronic', 'familywise', 'cai', 'functionals', 'dronology', 'bradford', 'dqr', 'damevski', 'safest', 'cnn', 'donald', 'strengthens', 'collab', 'playtesting', 'nij', 'kyiv', 'vanlehn', 'irnc', 'gsr', 'nwacc', 'schildhauer', 'cyberinfrastructre', 'nysci', 'explains', 'nanostructured', 'sustainability', 'rpcs', 'cybermech', 'bahadur', 'dhtc', 'aeroelastic', 'microengineered', 'paleoclimate', 'vfts', 'assesment', 'facebooktm', 'starexec', 'usenix', 'crikit', 'incurs', 'archeologist', 'cyberbullied', 'netsolve', 'overwritten', 'july', 'modifed', 'acnn', 'ojibwa', 'recieved', 'becky', 'petalibrary', 'mesoporous', 'microbiome', 'mathematizing', 'java', 'hrmc', 'normale', 'khidir', 'ecomuve', 'ogce', 'optoelectronics', 'sigridur', 'methanol', 'imposes', 'indian', 'loadable', 'securecloud', 'webinar', 'mauricio', 'uploads', 'grapheme', 'nmg', 'ecus', 'smte', 'itrustso', 'ppcf', 'osh', 'nih', 'autosampler', 'lightcurves', 'kongregate', 'siena', 'personalizes', 'geobiological', 'windborne', 'toolset', 'scate', 'oxynitride', 'unpredictability', 'roundtrip', 'ferpa', 'br', 'siam', 'cbc', 'nanosensors', 'microelectronic', 'enantioselective', 'gl', 'ncpss', 'checkpoint', 'mirai', 'enables', 'wb', 'wno', 'juelich', 'scientifc', 'tweens', 'journaling', 'piasecki', 'heliophysics', 'usm', 'edurange', 'midcareer', 'hprcs', 'willson', 'gridshib', 'heterojunctions', 'olympiad', 'arabidopsis', 'bragg', 'lifemapper', 'donnell', 'biogeochemical', 'iridocytes', 'rbps', 'lyndon', 'improves', 'caradonna', 'containerization', 'nnin', 'eo', 'sci', 'bootcamps', 'distributes', 'buckminsterfullerene', 'iam', 'vw', 'teleoperated', 'yunsi', 'allows', 'fma', 'cio', 'jawaharlal', 'immunosuppression', 'penn', 'ascb', 'subfacilities', 'snp', 'biocomplex', 'fermionic', 'workstation', 'minsker', 'lcs', 'pfaffians', 'uwt', 'hopkins', 'culminates', 'mn', 'restroom', 'cascadia', 'premontane', 'xsp', 'confirms', 'lbl', 'ep', 'hkoep', 'cybercollage', 'hessian', 'airline', 'teradata', 'aiaa', 'casper', 'skg', 'tesla', 'jp', 'chickering', 'proactive', 'discovers', 'ju', 'mdr', 'videogame', 'cyberattack', 'gps', 'csdms', 'lushbough', 'matpower', 'oversubscribed', 'hahn', 'rerouting', 'oct', 'paxson', 'propulsors', 'anexpressive', 'phenylenes', 'ceo', 'minneapolis', 'cybher', 'openacc', 'regli', 'nanoscience', 'multihop', 'qnats', 'dj', 'apps', 'mrc', 'sdc', 'tuskegee', 'icds', 'shm', 'barcodes', 'polyaromatic', 'developent', 'cpms', 'intersperses', 'csdf', 'uhecr', 'subnanoporous', 'albuquerque', 'cryptologic', 'middleware', 'martinez', 'pm', 'werner', 'seawater', 'vizsec', 'cycloalkyl', 'mcmaster', 'carcharodon', 'avetec', 'ffts', 'polyolefins', 'reinjection', 'cyberconnector', 'unr', 'eap', 'freshwater', 'km', 'vu', 'isl', 'universityís', 'pnw', 'expandability', 'mrna', 'rovibrational', 'xilinx', 'lwe', 'hariri', 'cyberprof', 'cirtas', 'chern', 'cyberscientists', 'esf', 'transcriptomic', 'libmesh', 'iff', 'crb', 'cardioverter', 'mt', 'bionanomaterials', 'kubernetes', 'fuzzing', 'icpsr', 'byproduct', 'centre', 'pdes', 'pre', 'jim', 'bellmore', 'guaranteed', 'ibarra', 'rans', 'spectroscopists', 'erupts', 'zaim', 'sqmc', 'abdullah', 'cernet', 'wgt', 'nrsns', 'metasynthesis', 'cyberengineering', 'nasa', 'stci', 'combinatorics', 'cs', 'pertains', 'occp', 'irm', 'mands', 'mghpcc', 'usd', 'cris', 'diversifies', 'ahmadabad', 'battlebots', 'designsafe', 'suri', 'superconductors', 'kalivas', 'hometown', 'imc', 'participates', 'phylogenetics', 'biocollections', 'oxinitrides', 'vitro', 'ndn', 'modifies', 'bologna', 'qca', 'rodgers', 'safer', 'utk', 'rtos', 'habs', 'nonlinearity', 'cerevisiae', 'arctos', 'kyron', 'gund', 'issnip', 'ghg', 'marquette', 'bioactive', 'cron', 'imparts', 'daycare', 'dspace', 'abf', 'expandable', 'biasing', 'wikibook', 'cia', 'wiil', 'clsmce', 'thule', 'neutrophil', 'ecodb', 'bhl', 'nolenet', 'muscogee', 'ostracodes', 'yosemite', 'siqib', 'eol', 'sinx', 'oldow', 'dagman', 'brainstorm', 'hilu', 'inthanovations', 'sbe', 'fairfax', 'oise', 'checkpointing', 'lichtenberger', 'heng', 'nistor', 'ewa', 'cctf', 'biostratigraphic', 'uchicago', 'microalgae', 'cpsor', 'copiah', 'metalloprotein', 'crovella', 'matusik', 'ets', 'crowdsensing', 'ost', 'wanet', 'qunfeng', 'étale', 'shuckers', 'prokaryotic', 'nicholas', 'geochemists', 'labrae', 'weeklong', 'vcl', 'plentitude', 'cbol', 'mundo', 'hoosris', 'lno', 'intrapersonal', 'capd', 'sp', 'collaboratives', 'vestibulo', 'dsicovery', 'rrt', 'passwordless', 'jan', 'prioritization', 'msia', 'cvip', 'otero', 'tohoku', 'ionomic', 'upr', 'atlss', 'disaggregated', 'ualr', 'subregions', 'decontaminants', 'claiborne', 'connects', 'scada', 'cphs', 'sdn', 'generalizes', 'lyme', 'sait', 'sppm', 'underperform', 'omic', 'ccv', 'doj', 'cmp', 'ner', 'jupyter', 'lamm', 'hpc', 'gridded', 'workflow', 'rumic', 'paterson', 'nde', 'eigenanalysis', 'reusability', 'ccgs', 'ordering', 'systeme', 'transformatively', 'oef', 'configurable', 'lsamp', 'matdl', 'iab', 'launchpad', 'libkrylov', 'asia', 'sprinal', 'forcings', 'cyclizations', 'ultrametric', 'polydispersity', 'geochronapi', 'downloads', 'vested', 'retesting', 'outbursting', 'realtime', 'queensland', 'quadcopters', 'cryptosystems', 'lvads', 'uci', 'misreporting', 'mcu', 'electroless', 'waco', 'amp', 'potentiostat', 'branson', 'nanoarrays', 'nanodevices', 'smolin', 'quicker', 'maricopa', 'coeur', 'timescape', 'rt', 'fiatech', 'kruger', 'dareize', 'ccdc', 'rdma', 'neuroprostheses', 'polyimides', 'saporito', 'margrit', 'bioassay', 'cally', 'cyberlearners', 'nsrc', 'eastman', 'ebraille', 'cbn', 'peptidomimetic', 'opensimulator', 'vittal', 'rlwe', 'ncgas', 'completers', 'multispectral', 'nonspecialists', 'skillset', 'irradiates', 'colab', 'hrt', 'ucc', 'pufs', 'accelnet', 'zettabyte', 'connectionism', 'twb', 'snm', 'cct', 'purdue', 'tanzania', 'crrc', 'fomation', 'mooc', 'ruidoso', 'colocation', 'boeing', 'biosamples', 'workspace', 'woronowicz', 'fileshares', 'shankar', 'cenozoic', 'synchronizability', 'oversharing', 'sunyit', 'phd', 'libya', 'afs', 'phtooxidation', 'lamnidae', 'eisenstein', 'sinte', 'herkimer', 'acheived', 'cdl', 'rwc', 'encompasses', 'vietnam', 'ecohydrology', 'nsidc', 'terrones', 'actinide', 'rces', 'fb', 'infosec', 'overcomes', 'npn', 'macroinvertebrate', 'transdisciplinary', 'ng', 'magnetoresistance', 'lightbulb', 'edu', 'inclined', 'hackproof', 'cpc', 'christopher', 'nanostructure', 'ldeo', 'spms', 'goalis', 'nearshore', 'microlenses', 'pervades', 'photodegradable', 'crowdsourcing', 'photoresistors', 'coprocessor', 'iop', 'effat', 'multiterminal', 'cybercrime', 'cybermists', 'steelcase', 'tetherless', 'wednesday', 'tarboton', 'excites', 'cishell', 'multiphysics', 'webassign', 'denser', 'affordability', 'cyberdefense', 'dfir', 'dbr', 'efp', 'overfocus', 'indicates', 'tabletop', 'uwsn', 'havana', 'comorbidities', 'vehical', 'onsite', 'mando', 'biologica', 'arises', 'sosp', 'savi', 'interprocedural', 'laplacians', 'amazon', 'ph', 'oce', 'ciso', 'sociolinguistic', 'ramirez', 'anelastic', 'joides', 'scitrust', 'stewarding', 'iarpa', 'gtisc', 'cytse', 'geoengineering', 'evid', 'ussr', 'davis', 'esl', 'jittifff', 'umkc', 'widget', 'eyetracking', 'queretaro', 'uas', 'dyknow', 'wv', 'uapb', 'timetabling', 'cuore', 'icls', 'minecraft', 'bcs', 'robotarium', 'matthew', 'amaral', 'rsfs', 'gomc', 'stanly', 'fulfils', 'relies', 'codesign', 'rcci', 'pdc', 'ccis', 'fermion', 'stanley', 'shidler', 'grfp', 'npgi', 'unh', 'cenic', 'terc', 'shreveport', 'birmingham', 'dels', 'virginia', 'seeman', 'cryospheric', 'gromacs', 'whatcom', 'rwa', 'grumman', 'scos', 'rtg', 'holyoke', 'itest', 'velea', 'macarthur', 'cpo', 'webcam', 'subsetting', 'bandgap', 'microkinetic', 'radioisotopic', 'cyberresources', 'viscoelastic', 'cyberforensics', 'multicultural', 'kure', 'baid', 'newtonian', 'lyotropic', 'transitgenie', 'admm', 'atherton', 'steac', 'sbms', 'situates', 'mhz', 'oligonucleotides', 'cse', 'unachi', 'modis', 'holonic', 'waikoloa', 'keckcaves', 'oems', 'glycosylation', 'sakai', 'defanti', 'unc', 'timetree', 'programmable', 'mmwave', 'optiputer', 'pq', 'ecg', 'chassi', 'roundtable', 'coallition', 'superieure', 'lego', 'eci', 'resensys', 'tends', 'recognizes', 'geocodes', 'brighter', 'grover', 'internetworking', 'orthotics', 'westmoreland', 'inscribed', 'represses', 'announces', 'networkx', 'ibrahim', 'mhs', 'timescale', 'connecticut', 'jst', 'photodetectors', 'narl', 'glantz', 'patras', 'polyketides', 'grigorchuk', 'contactless', 'monroe', 'nanowires', 'invests', 'superoptimizers', 'kb', 'conwarenet', 'semicrystalline', 'graphtheoretic', 'cresis', 'understaffed', 'hiv', 'ingan', 'eliminates', 'nanocrystalline', 'tulsa', 'supraoperons', 'perú', 'moocs', 'juarez', 'cyclopropanation', 'sdsc', 'troubleshoot', 'combinatoric', 'ircs', 'coursework', 'earthchem', 'norway', 'evm', 'dataverse', 'cybersw', 'bala', 'tiv', 'monongahela', 'sanderson', 'backstory', 'microarray', 'microphotolithography', 'sobieski', 'géant', 'cyprg', 'tephra', 'truckee', 'cetb', 'articulates', 'mosaicking', 'basc', 'interoperation', 'pubmed', 'neptune', 'medford', 'sweeter', 'myosg', 'seclab', 'caricato', 'wids', 'gna', 'smpc', 'greenlight', 'osc', 'wisconsin', 'calswim', 'fyfe', 'toledo', 'crosstalk', 'msis', 'spoofed', 'refines', 'vnel', 'iln', 'unravels', 'otellione', 'pd', 'fsi', 'formulates', 'aps', 'icloud', 'anticipates', 'expires', 'considers', 'daniela', 'prodow', 'youmedia', 'antiferromagnets', 'vlabs', 'binghamton', 'fia', 'serengeti', 'studyingf', 'mccpi', 'tcp', 'colocated', 'neuroscientist', 'nanomedical', 'multirobot', 'ecu', 'sdrs', 'correlators', 'iplant', 'edits', 'measureable', 'traineeship', 'paleogeoscience', 'inkjet', 'sttr', 'elp', 'macroecology', 'matlab', 'empirically', 'bia', 'dfc', 'vsbs', 'advertises', 'nebraska', 'trng', 'inactivators', 'tolman', 'transmembrane', 'macrolab', 'zeo', 'roadshow', 'phenom', 'african', 'casa', 'anonymization', 'scientizing', 'coverers', 'nwsc', 'trackability', 'counteracts', 'norfolk', 'incentivized', 'concludes', 'gov', 'serp', 'netherlands', 'ecr', 'pawr', 'cybercheqs', 'jisc', 'hotspot', 'savio', 'rnns', 'ababa', 'partcipants', 'gdsnet', 'paola', 'astro', 'alkylidenes', 'cda', 'bfsn', 'rdv', 'lter', 'delineates', 'affordably', 'alters', 'reproduces', 'wt', 'venkat', 'tachykinin', 'mccpis', 'metalloproteins', 'underinvestment', 'vtechworks', 'bigsce', 'infoverse', 'disaggregates', 'astroinformatics', 'sm', 'ada', 'composability', 'liguo', 'coordinate', 'datalog', 'guideways', 'morreale', 'walther', 'mg', 'astrochemists', 'neuroscientific', 'logistically', 'hungary', 'pithouse', 'cloudlab', 'lta', 'overtaxed', 'biogenic', 'chalcogenides', 'nanoclusters', 'poject', 'meg', 'calvin', 'cmu', 'nced', 'broes', 'xsedenet', 'cpath', 'neurorehabilitation', 'nanodisk', 'piren', 'imcp', 'condo', 'dsp', 'geoscience', 'pooihe', 'spillover', 'upperclassmen', 'forcefields', 'netsblox', 'engieering', 'cem', 'combustors', 'underscored', 'ncar', 'lending', 'harc', 'civilisation', 'icnet', 'cea', 'dof', 'cyberinfrastucture', 'caes', 'flaura', 'fol', 'ecc', 'bsph', 'smes', 'comparision', 'akers', 'nagt', 'cfd', 'ctu', 'kevin', 'spartan', 'perfluorocarbon', 'thermophotovoltaic', 'epsrc', 'qd', 'superalloy', 'isdde', 'alex', 'megalodon', 'fgit', 'earthlife', 'attendee', 'convenor', 'universität', 'allentown', 'heliosphere', 'descriptor', 'germline', 'cruz', 'casc', 'metaproteomic', 'nonsmooth', 'reynolds', 'transcribes', 'precedes', 'relates', 'leandro', 'brookings', 'roadnet', 'stereolithography', 'jsde', 'neursocience', 'meda', 'igc', 'filesystem', 'vlc', 'composable', 'casey', 'sits', 'nonnormality', 'rna', 'subfields', 'gnass', 'niba', 'superiore', 'ee', 'nstissc', 'inver', 'esno', 'ands', 'accredits', 'junwei', 'cyborg', 'isee'}\n"
     ]
    }
   ],
   "source": [
    "print(set(meaningless_list))"
   ]
  },
  {
   "cell_type": "code",
   "execution_count": 147,
   "metadata": {},
   "outputs": [
    {
     "data": {
      "text/plain": [
       "'reseachers'"
      ]
     },
     "execution_count": 147,
     "metadata": {},
     "output_type": "execute_result"
    }
   ],
   "source": [
    "lemmatizer.lemmatize('reseachers','n')"
   ]
  },
  {
   "cell_type": "code",
   "execution_count": 143,
   "metadata": {},
   "outputs": [
    {
     "data": {
      "text/plain": [
       "False"
      ]
     },
     "execution_count": 143,
     "metadata": {},
     "output_type": "execute_result"
    }
   ],
   "source": [
    "'cyberthreat' in wordlist"
   ]
  },
  {
   "cell_type": "markdown",
   "metadata": {},
   "source": [
    "Abstract2 uniqi!!!\n",
    "#Recounting the Words Frequency\n",
    "freq_dict=nltk.FreqDist(wrd_list_lemmas)\n",
    "\n",
    "print('Total unique words after lemmatization: {}'.format(len(freq_dict)))\n"
   ]
  },
  {
   "cell_type": "markdown",
   "metadata": {},
   "source": [
    "__Convert Tokens To String Again__"
   ]
  },
  {
   "cell_type": "code",
   "execution_count": 148,
   "metadata": {},
   "outputs": [
    {
     "data": {
      "text/html": [
       "<div>\n",
       "<style scoped>\n",
       "    .dataframe tbody tr th:only-of-type {\n",
       "        vertical-align: middle;\n",
       "    }\n",
       "\n",
       "    .dataframe tbody tr th {\n",
       "        vertical-align: top;\n",
       "    }\n",
       "\n",
       "    .dataframe thead th {\n",
       "        text-align: right;\n",
       "    }\n",
       "</style>\n",
       "<table border=\"1\" class=\"dataframe\">\n",
       "  <thead>\n",
       "    <tr style=\"text-align: right;\">\n",
       "      <th></th>\n",
       "      <th>AwardID</th>\n",
       "      <th>AwardTitle</th>\n",
       "      <th>Abstract</th>\n",
       "      <th>Abstract_Tokens</th>\n",
       "      <th>Abstract2</th>\n",
       "    </tr>\n",
       "  </thead>\n",
       "  <tbody>\n",
       "    <tr>\n",
       "      <th>0</th>\n",
       "      <td>0110599</td>\n",
       "      <td>Collaborative Research Testing Affect Control ...</td>\n",
       "      <td>The investigators will conduct a of experiment...</td>\n",
       "      <td>[investigator, conduct, experiment, focus, cru...</td>\n",
       "      <td>investigator conduct experiment focus crucial ...</td>\n",
       "    </tr>\n",
       "    <tr>\n",
       "      <th>1</th>\n",
       "      <td>0112426</td>\n",
       "      <td>Federal Cyber Service Initiative</td>\n",
       "      <td>This program produces a cadre of computer scie...</td>\n",
       "      <td>[produce, cadre, computer, scientist, strong, ...</td>\n",
       "      <td>produce cadre computer scientist strong specia...</td>\n",
       "    </tr>\n",
       "  </tbody>\n",
       "</table>\n",
       "</div>"
      ],
      "text/plain": [
       "   AwardID                                         AwardTitle  \\\n",
       "0  0110599  Collaborative Research Testing Affect Control ...   \n",
       "1  0112426                   Federal Cyber Service Initiative   \n",
       "\n",
       "                                            Abstract  \\\n",
       "0  The investigators will conduct a of experiment...   \n",
       "1  This program produces a cadre of computer scie...   \n",
       "\n",
       "                                     Abstract_Tokens  \\\n",
       "0  [investigator, conduct, experiment, focus, cru...   \n",
       "1  [produce, cadre, computer, scientist, strong, ...   \n",
       "\n",
       "                                           Abstract2  \n",
       "0  investigator conduct experiment focus crucial ...  \n",
       "1  produce cadre computer scientist strong specia...  "
      ]
     },
     "execution_count": 148,
     "metadata": {},
     "output_type": "execute_result"
    }
   ],
   "source": [
    "df_sum2['Abstract2']=df_sum2['Abstract']\n",
    "for n in range(df_sum2.shape[0]):\n",
    "    df_sum2['Abstract2'][n]=' '.join([str(item) for item in df_sum2['Abstract_Tokens'][n]])\n",
    "df_sum2.head(2)"
   ]
  },
  {
   "cell_type": "markdown",
   "metadata": {},
   "source": [
    "__TfidfVectorizer__"
   ]
  },
  {
   "cell_type": "code",
   "execution_count": 149,
   "metadata": {},
   "outputs": [
    {
     "data": {
      "text/plain": [
       "array([[0., 0., 0., ..., 0., 0., 0.],\n",
       "       [0., 0., 0., ..., 0., 0., 0.]])"
      ]
     },
     "execution_count": 149,
     "metadata": {},
     "output_type": "execute_result"
    }
   ],
   "source": [
    "from sklearn.feature_extraction.text import TfidfVectorizer\n",
    "v = TfidfVectorizer()\n",
    "X = v.fit_transform(df_sum2['Abstract2'])\n",
    "X.toarray()[:2]"
   ]
  },
  {
   "cell_type": "code",
   "execution_count": 150,
   "metadata": {},
   "outputs": [
    {
     "data": {
      "text/plain": [
       "['aa',\n",
       " 'aaa',\n",
       " 'ab',\n",
       " 'abandonment',\n",
       " 'abdomen',\n",
       " 'aberrant',\n",
       " 'abet',\n",
       " 'abide',\n",
       " 'ability',\n",
       " 'abiotic']"
      ]
     },
     "execution_count": 150,
     "metadata": {},
     "output_type": "execute_result"
    }
   ],
   "source": [
    "v.get_feature_names()[:10]"
   ]
  },
  {
   "cell_type": "code",
   "execution_count": 151,
   "metadata": {},
   "outputs": [
    {
     "data": {
      "text/plain": [
       "13065"
      ]
     },
     "execution_count": 151,
     "metadata": {},
     "output_type": "execute_result"
    }
   ],
   "source": [
    "len(v.vocabulary_)"
   ]
  },
  {
   "cell_type": "markdown",
   "metadata": {},
   "source": [
    "__Create New DataFrame__"
   ]
  },
  {
   "cell_type": "code",
   "execution_count": 152,
   "metadata": {},
   "outputs": [
    {
     "data": {
      "text/html": [
       "<div>\n",
       "<style scoped>\n",
       "    .dataframe tbody tr th:only-of-type {\n",
       "        vertical-align: middle;\n",
       "    }\n",
       "\n",
       "    .dataframe tbody tr th {\n",
       "        vertical-align: top;\n",
       "    }\n",
       "\n",
       "    .dataframe thead th {\n",
       "        text-align: right;\n",
       "    }\n",
       "</style>\n",
       "<table border=\"1\" class=\"dataframe\">\n",
       "  <thead>\n",
       "    <tr style=\"text-align: right;\">\n",
       "      <th></th>\n",
       "      <th>aa</th>\n",
       "      <th>aaa</th>\n",
       "      <th>ab</th>\n",
       "      <th>abandonment</th>\n",
       "      <th>abdomen</th>\n",
       "      <th>aberrant</th>\n",
       "      <th>abet</th>\n",
       "      <th>abide</th>\n",
       "      <th>ability</th>\n",
       "      <th>abiotic</th>\n",
       "      <th>...</th>\n",
       "      <th>zircon</th>\n",
       "      <th>zonal</th>\n",
       "      <th>zone</th>\n",
       "      <th>zoo</th>\n",
       "      <th>zoological</th>\n",
       "      <th>zoom</th>\n",
       "      <th>zoonotic</th>\n",
       "      <th>zooplankton</th>\n",
       "      <th>zurich</th>\n",
       "      <th>zwitterionic</th>\n",
       "    </tr>\n",
       "  </thead>\n",
       "  <tbody>\n",
       "    <tr>\n",
       "      <th>0</th>\n",
       "      <td>0.0</td>\n",
       "      <td>0.0</td>\n",
       "      <td>0.0</td>\n",
       "      <td>0.0</td>\n",
       "      <td>0.0</td>\n",
       "      <td>0.0</td>\n",
       "      <td>0.0</td>\n",
       "      <td>0.0</td>\n",
       "      <td>0.0</td>\n",
       "      <td>0.0</td>\n",
       "      <td>...</td>\n",
       "      <td>0.0</td>\n",
       "      <td>0.0</td>\n",
       "      <td>0.0</td>\n",
       "      <td>0.0</td>\n",
       "      <td>0.0</td>\n",
       "      <td>0.0</td>\n",
       "      <td>0.0</td>\n",
       "      <td>0.0</td>\n",
       "      <td>0.0</td>\n",
       "      <td>0.0</td>\n",
       "    </tr>\n",
       "    <tr>\n",
       "      <th>1</th>\n",
       "      <td>0.0</td>\n",
       "      <td>0.0</td>\n",
       "      <td>0.0</td>\n",
       "      <td>0.0</td>\n",
       "      <td>0.0</td>\n",
       "      <td>0.0</td>\n",
       "      <td>0.0</td>\n",
       "      <td>0.0</td>\n",
       "      <td>0.0</td>\n",
       "      <td>0.0</td>\n",
       "      <td>...</td>\n",
       "      <td>0.0</td>\n",
       "      <td>0.0</td>\n",
       "      <td>0.0</td>\n",
       "      <td>0.0</td>\n",
       "      <td>0.0</td>\n",
       "      <td>0.0</td>\n",
       "      <td>0.0</td>\n",
       "      <td>0.0</td>\n",
       "      <td>0.0</td>\n",
       "      <td>0.0</td>\n",
       "    </tr>\n",
       "  </tbody>\n",
       "</table>\n",
       "<p>2 rows × 13065 columns</p>\n",
       "</div>"
      ],
      "text/plain": [
       "    aa  aaa   ab  abandonment  abdomen  aberrant  abet  abide  ability  \\\n",
       "0  0.0  0.0  0.0          0.0      0.0       0.0   0.0    0.0      0.0   \n",
       "1  0.0  0.0  0.0          0.0      0.0       0.0   0.0    0.0      0.0   \n",
       "\n",
       "   abiotic  ...  zircon  zonal  zone  zoo  zoological  zoom  zoonotic  \\\n",
       "0      0.0  ...     0.0    0.0   0.0  0.0         0.0   0.0       0.0   \n",
       "1      0.0  ...     0.0    0.0   0.0  0.0         0.0   0.0       0.0   \n",
       "\n",
       "   zooplankton  zurich  zwitterionic  \n",
       "0          0.0     0.0           0.0  \n",
       "1          0.0     0.0           0.0  \n",
       "\n",
       "[2 rows x 13065 columns]"
      ]
     },
     "execution_count": 152,
     "metadata": {},
     "output_type": "execute_result"
    }
   ],
   "source": [
    "df = pd.DataFrame(data=X.toarray(), columns=v.get_feature_names())\n",
    "df.head(2)"
   ]
  },
  {
   "cell_type": "markdown",
   "metadata": {},
   "source": [
    "__Add The Top Word To Row__"
   ]
  },
  {
   "cell_type": "code",
   "execution_count": 153,
   "metadata": {},
   "outputs": [
    {
     "data": {
      "text/html": [
       "<div>\n",
       "<style scoped>\n",
       "    .dataframe tbody tr th:only-of-type {\n",
       "        vertical-align: middle;\n",
       "    }\n",
       "\n",
       "    .dataframe tbody tr th {\n",
       "        vertical-align: top;\n",
       "    }\n",
       "\n",
       "    .dataframe thead th {\n",
       "        text-align: right;\n",
       "    }\n",
       "</style>\n",
       "<table border=\"1\" class=\"dataframe\">\n",
       "  <thead>\n",
       "    <tr style=\"text-align: right;\">\n",
       "      <th></th>\n",
       "      <th>AwardID</th>\n",
       "      <th>AwardTitle</th>\n",
       "      <th>Abstract</th>\n",
       "      <th>Abstract_Tokens</th>\n",
       "      <th>Abstract2</th>\n",
       "      <th>Top_Word</th>\n",
       "      <th>Top_Word_Freq</th>\n",
       "    </tr>\n",
       "  </thead>\n",
       "  <tbody>\n",
       "    <tr>\n",
       "      <th>0</th>\n",
       "      <td>0110599</td>\n",
       "      <td>Collaborative Research Testing Affect Control ...</td>\n",
       "      <td>The investigators will conduct a of experiment...</td>\n",
       "      <td>[investigator, conduct, experiment, focus, cru...</td>\n",
       "      <td>investigator conduct experiment focus crucial ...</td>\n",
       "      <td>restorative</td>\n",
       "      <td>0.601884</td>\n",
       "    </tr>\n",
       "    <tr>\n",
       "      <th>1</th>\n",
       "      <td>0112426</td>\n",
       "      <td>Federal Cyber Service Initiative</td>\n",
       "      <td>This program produces a cadre of computer scie...</td>\n",
       "      <td>[produce, cadre, computer, scientist, strong, ...</td>\n",
       "      <td>produce cadre computer scientist strong specia...</td>\n",
       "      <td>assurance</td>\n",
       "      <td>0.354720</td>\n",
       "    </tr>\n",
       "    <tr>\n",
       "      <th>2</th>\n",
       "      <td>0114016</td>\n",
       "      <td>Cyber Service Training and Education</td>\n",
       "      <td>This project relieves the shortage of qualifie...</td>\n",
       "      <td>[project, relief, shortage, qualify, informati...</td>\n",
       "      <td>project relief shortage qualify information as...</td>\n",
       "      <td>assurance</td>\n",
       "      <td>0.393875</td>\n",
       "    </tr>\n",
       "    <tr>\n",
       "      <th>3</th>\n",
       "      <td>0133664</td>\n",
       "      <td>CAREER: Algorithms for Efficient Bandwidth Uti...</td>\n",
       "      <td>There is a growing scientific community workin...</td>\n",
       "      <td>[grow, scientific, community, work, provide, s...</td>\n",
       "      <td>grow scientific community work provide solid t...</td>\n",
       "      <td>compression</td>\n",
       "      <td>0.383257</td>\n",
       "    </tr>\n",
       "    <tr>\n",
       "      <th>4</th>\n",
       "      <td>0140179</td>\n",
       "      <td>Experimental Study of Adaptation to the Edge o...</td>\n",
       "      <td>0140179   aspect of biocomplexity is the abili...</td>\n",
       "      <td>[aspect, ability, biota, environment, previous...</td>\n",
       "      <td>aspect ability biota environment previous stud...</td>\n",
       "      <td>chaotic</td>\n",
       "      <td>0.372620</td>\n",
       "    </tr>\n",
       "  </tbody>\n",
       "</table>\n",
       "</div>"
      ],
      "text/plain": [
       "   AwardID                                         AwardTitle  \\\n",
       "0  0110599  Collaborative Research Testing Affect Control ...   \n",
       "1  0112426                   Federal Cyber Service Initiative   \n",
       "2  0114016               Cyber Service Training and Education   \n",
       "3  0133664  CAREER: Algorithms for Efficient Bandwidth Uti...   \n",
       "4  0140179  Experimental Study of Adaptation to the Edge o...   \n",
       "\n",
       "                                            Abstract  \\\n",
       "0  The investigators will conduct a of experiment...   \n",
       "1  This program produces a cadre of computer scie...   \n",
       "2  This project relieves the shortage of qualifie...   \n",
       "3  There is a growing scientific community workin...   \n",
       "4  0140179   aspect of biocomplexity is the abili...   \n",
       "\n",
       "                                     Abstract_Tokens  \\\n",
       "0  [investigator, conduct, experiment, focus, cru...   \n",
       "1  [produce, cadre, computer, scientist, strong, ...   \n",
       "2  [project, relief, shortage, qualify, informati...   \n",
       "3  [grow, scientific, community, work, provide, s...   \n",
       "4  [aspect, ability, biota, environment, previous...   \n",
       "\n",
       "                                           Abstract2     Top_Word  \\\n",
       "0  investigator conduct experiment focus crucial ...  restorative   \n",
       "1  produce cadre computer scientist strong specia...    assurance   \n",
       "2  project relief shortage qualify information as...    assurance   \n",
       "3  grow scientific community work provide solid t...  compression   \n",
       "4  aspect ability biota environment previous stud...      chaotic   \n",
       "\n",
       "   Top_Word_Freq  \n",
       "0       0.601884  \n",
       "1       0.354720  \n",
       "2       0.393875  \n",
       "3       0.383257  \n",
       "4       0.372620  "
      ]
     },
     "execution_count": 153,
     "metadata": {},
     "output_type": "execute_result"
    }
   ],
   "source": [
    "df_sum2['Top_Word']=df.idxmax(axis=1)\n",
    "df_sum2['Top_Word_Freq']=df.max(axis=1)\n",
    "df_sum2.head(5)"
   ]
  },
  {
   "cell_type": "markdown",
   "metadata": {},
   "source": [
    "__KMeans Clustering__"
   ]
  },
  {
   "cell_type": "code",
   "execution_count": 154,
   "metadata": {},
   "outputs": [
    {
     "name": "stdout",
     "output_type": "stream",
     "text": [
      "Modeling with k-means: 1 is finish...\n",
      "Modeling with k-means: 2 is finish...\n",
      "Modeling with k-means: 3 is finish...\n",
      "Modeling with k-means: 4 is finish...\n",
      "Modeling with k-means: 5 is finish...\n"
     ]
    },
    {
     "data": {
      "image/png": "[encoded data removed]",
      "text/plain": [
       "<Figure size 432x288 with 1 Axes>"
      ]
     },
     "metadata": {
      "needs_background": "light"
     },
     "output_type": "display_data"
    }
   ],
   "source": [
    "\n",
    "#for each value of k, we can initialise k_means and use inertia to identify the sum of squared distances of samples to the nearest cluster centre\n",
    "sum_of_squared_distances = []\n",
    "\n",
    "K_top=6 #\n",
    "K = range(1,K_top)\n",
    "for k in K:\n",
    "    k_means = KMeans(n_clusters=k)\n",
    "    model = k_means.fit(df)\n",
    "    sum_of_squared_distances.append(k_means.inertia_)\n",
    "    print('Modeling with k-means: {} is finish...'.format(k))\n",
    "    \n",
    "plt.plot(K, sum_of_squared_distances, 'bx-')\n",
    "plt.xlabel('k')\n",
    "plt.ylabel('sum_of_squared_distances')\n",
    "plt.title('Elbow method for optimal k')\n",
    "plt.show()"
   ]
  },
  {
   "cell_type": "code",
   "execution_count": 155,
   "metadata": {},
   "outputs": [
    {
     "data": {
      "text/plain": [
       "[-43.294301291260126,\n",
       " -30.066514377478597,\n",
       " -22.24147452563193,\n",
       " -19.456530441090763]"
      ]
     },
     "execution_count": 155,
     "metadata": {},
     "output_type": "execute_result"
    }
   ],
   "source": [
    "[j-i for i, j in zip(sum_of_squared_distances[:-1], sum_of_squared_distances[1:])]"
   ]
  },
  {
   "cell_type": "code",
   "execution_count": 156,
   "metadata": {},
   "outputs": [],
   "source": [
    "n_clusters=3"
   ]
  },
  {
   "cell_type": "code",
   "execution_count": 157,
   "metadata": {},
   "outputs": [
    {
     "data": {
      "text/plain": [
       "array([2, 0, 0, ..., 2, 2, 0])"
      ]
     },
     "execution_count": 157,
     "metadata": {},
     "output_type": "execute_result"
    }
   ],
   "source": [
    "\n",
    "k_means = KMeans(n_clusters=n_clusters)\n",
    "#Run the clustering algorithm\n",
    "model = k_means.fit(df)\n",
    "#Generate cluster predictions and store in y_hat\n",
    "y_hat = k_means.predict(X)\n",
    "y_hat"
   ]
  },
  {
   "cell_type": "code",
   "execution_count": 158,
   "metadata": {},
   "outputs": [
    {
     "data": {
      "text/html": [
       "<div>\n",
       "<style scoped>\n",
       "    .dataframe tbody tr th:only-of-type {\n",
       "        vertical-align: middle;\n",
       "    }\n",
       "\n",
       "    .dataframe tbody tr th {\n",
       "        vertical-align: top;\n",
       "    }\n",
       "\n",
       "    .dataframe thead th {\n",
       "        text-align: right;\n",
       "    }\n",
       "</style>\n",
       "<table border=\"1\" class=\"dataframe\">\n",
       "  <thead>\n",
       "    <tr style=\"text-align: right;\">\n",
       "      <th></th>\n",
       "      <th>AwardID</th>\n",
       "      <th>AwardTitle</th>\n",
       "      <th>Abstract</th>\n",
       "      <th>Abstract_Tokens</th>\n",
       "      <th>Abstract2</th>\n",
       "      <th>Top_Word</th>\n",
       "      <th>Top_Word_Freq</th>\n",
       "      <th>Label</th>\n",
       "    </tr>\n",
       "  </thead>\n",
       "  <tbody>\n",
       "    <tr>\n",
       "      <th>0</th>\n",
       "      <td>0110599</td>\n",
       "      <td>Collaborative Research Testing Affect Control ...</td>\n",
       "      <td>The investigators will conduct a of experiment...</td>\n",
       "      <td>[investigator, conduct, experiment, focus, cru...</td>\n",
       "      <td>investigator conduct experiment focus crucial ...</td>\n",
       "      <td>restorative</td>\n",
       "      <td>0.601884</td>\n",
       "      <td>2</td>\n",
       "    </tr>\n",
       "    <tr>\n",
       "      <th>1</th>\n",
       "      <td>0112426</td>\n",
       "      <td>Federal Cyber Service Initiative</td>\n",
       "      <td>This program produces a cadre of computer scie...</td>\n",
       "      <td>[produce, cadre, computer, scientist, strong, ...</td>\n",
       "      <td>produce cadre computer scientist strong specia...</td>\n",
       "      <td>assurance</td>\n",
       "      <td>0.354720</td>\n",
       "      <td>0</td>\n",
       "    </tr>\n",
       "  </tbody>\n",
       "</table>\n",
       "</div>"
      ],
      "text/plain": [
       "   AwardID                                         AwardTitle  \\\n",
       "0  0110599  Collaborative Research Testing Affect Control ...   \n",
       "1  0112426                   Federal Cyber Service Initiative   \n",
       "\n",
       "                                            Abstract  \\\n",
       "0  The investigators will conduct a of experiment...   \n",
       "1  This program produces a cadre of computer scie...   \n",
       "\n",
       "                                     Abstract_Tokens  \\\n",
       "0  [investigator, conduct, experiment, focus, cru...   \n",
       "1  [produce, cadre, computer, scientist, strong, ...   \n",
       "\n",
       "                                           Abstract2     Top_Word  \\\n",
       "0  investigator conduct experiment focus crucial ...  restorative   \n",
       "1  produce cadre computer scientist strong specia...    assurance   \n",
       "\n",
       "   Top_Word_Freq  Label  \n",
       "0       0.601884      2  \n",
       "1       0.354720      0  "
      ]
     },
     "execution_count": 158,
     "metadata": {},
     "output_type": "execute_result"
    }
   ],
   "source": [
    "labels=list(y_hat)\n",
    "df_sum2['Label']=labels\n",
    "df_sum2.to_csv('df_sum_clustering.csv',sep=';')\n",
    "df_sum2.head(2)"
   ]
  },
  {
   "cell_type": "markdown",
   "metadata": {},
   "source": [
    "__Create New DataFrame with Topic Words__"
   ]
  },
  {
   "cell_type": "code",
   "execution_count": 160,
   "metadata": {},
   "outputs": [
    {
     "data": {
      "text/html": [
       "<div>\n",
       "<style scoped>\n",
       "    .dataframe tbody tr th:only-of-type {\n",
       "        vertical-align: middle;\n",
       "    }\n",
       "\n",
       "    .dataframe tbody tr th {\n",
       "        vertical-align: top;\n",
       "    }\n",
       "\n",
       "    .dataframe thead th {\n",
       "        text-align: right;\n",
       "    }\n",
       "</style>\n",
       "<table border=\"1\" class=\"dataframe\">\n",
       "  <thead>\n",
       "    <tr style=\"text-align: right;\">\n",
       "      <th></th>\n",
       "      <th>TopicWords</th>\n",
       "      <th>TopicWord</th>\n",
       "      <th>TopicTitle</th>\n",
       "      <th>TopicAbstract</th>\n",
       "    </tr>\n",
       "  </thead>\n",
       "  <tbody>\n",
       "    <tr>\n",
       "      <th>0</th>\n",
       "      <td>[assurance, assurance, externship, arkansas, p...</td>\n",
       "      <td>[clinic, forensics, creat]</td>\n",
       "      <td>[\"Gamified\" Digital Forensics Course Modules f...</td>\n",
       "      <td>[Cybersecurity and forensics are critical area...</td>\n",
       "    </tr>\n",
       "    <tr>\n",
       "      <th>1</th>\n",
       "      <td>[examine, geoscience, geoscience, history, abu...</td>\n",
       "      <td>[jurisdiction, permafrost, prp, combustion, ga...</td>\n",
       "      <td>[COLLABORATIVE RESEARCH: Development of Inform...</td>\n",
       "      <td>[0412859 This proposal will advance integrativ...</td>\n",
       "    </tr>\n",
       "    <tr>\n",
       "      <th>2</th>\n",
       "      <td>[restorative, compression, chaotic, algebra, s...</td>\n",
       "      <td>[permafrost, watershed, textbook, rout, emotio...</td>\n",
       "      <td>[EXP: Attention-Aware Cyberlearning to Detect ...</td>\n",
       "      <td>[The ability to concentrate on tasks is critic...</td>\n",
       "    </tr>\n",
       "  </tbody>\n",
       "</table>\n",
       "</div>"
      ],
      "text/plain": [
       "                                          TopicWords  \\\n",
       "0  [assurance, assurance, externship, arkansas, p...   \n",
       "1  [examine, geoscience, geoscience, history, abu...   \n",
       "2  [restorative, compression, chaotic, algebra, s...   \n",
       "\n",
       "                                           TopicWord  \\\n",
       "0                         [clinic, forensics, creat]   \n",
       "1  [jurisdiction, permafrost, prp, combustion, ga...   \n",
       "2  [permafrost, watershed, textbook, rout, emotio...   \n",
       "\n",
       "                                          TopicTitle  \\\n",
       "0  [\"Gamified\" Digital Forensics Course Modules f...   \n",
       "1  [COLLABORATIVE RESEARCH: Development of Inform...   \n",
       "2  [EXP: Attention-Aware Cyberlearning to Detect ...   \n",
       "\n",
       "                                       TopicAbstract  \n",
       "0  [Cybersecurity and forensics are critical area...  \n",
       "1  [0412859 This proposal will advance integrativ...  \n",
       "2  [The ability to concentrate on tasks is critic...  "
      ]
     },
     "execution_count": 160,
     "metadata": {},
     "output_type": "execute_result"
    }
   ],
   "source": [
    "df_cluster_words = pd.DataFrame(columns=['TopicWords','TopicWord','TopicTitle','TopicAbstract'], index=range(n_clusters))\n",
    "for n in range(n_clusters):\n",
    "    df_cluster_words.loc[n].TopicWords=list(df_sum2[df_sum2['Label']==n]['Top_Word'])\n",
    "    df_cluster_words.loc[n].TopicWord=list(set(df_sum2[(df_sum2['Label']==n)&(df_sum2['Top_Word_Freq']>0.75)]['Top_Word'].values))\n",
    "    df_cluster_words.loc[n].TopicTitle=df_sum2[df_sum2['Label']==n].sort_values(by='Top_Word_Freq',ascending=False)[:1]['AwardTitle'].values\n",
    "    df_cluster_words.loc[n].TopicAbstract=df_sum2[df_sum2['Label']==n].sort_values(by='Top_Word_Freq',ascending=False)[:1]['Abstract'].values\n",
    "df_cluster_words.to_csv('df_cluster_words.csv',sep=';')\n",
    "df_cluster_words"
   ]
  },
  {
   "cell_type": "markdown",
   "metadata": {},
   "source": [
    "__Word Cloud__"
   ]
  },
  {
   "cell_type": "code",
   "execution_count": 161,
   "metadata": {},
   "outputs": [
    {
     "data": {
      "image/png": "[encoded data removed]",
      "text/plain": [
       "<Figure size 1080x1080 with 3 Axes>"
      ]
     },
     "metadata": {
      "needs_background": "light"
     },
     "output_type": "display_data"
    }
   ],
   "source": [
    "# 1. Wordcloud of Top N words in each topic\n",
    "from matplotlib import pyplot as plt\n",
    "from wordcloud import WordCloud, STOPWORDS\n",
    "import matplotlib.colors as mcolors\n",
    "\n",
    "cols = [color for name, color in mcolors.TABLEAU_COLORS.items()]  # more colors: 'mcolors.XKCD_COLORS'\n",
    "\n",
    "cloud = WordCloud(\n",
    "                  background_color='white',\n",
    "                  width=2500,\n",
    "                  height=1800,\n",
    "                  max_words=10,\n",
    "                  colormap='tab10',\n",
    "                  color_func=lambda *args, **kwargs: cols[i],\n",
    "                  prefer_horizontal=1.0)\n",
    "\n",
    "fig, axes = plt.subplots(1, 3, figsize=(15,15), sharex=True, sharey=True)\n",
    "\n",
    "for i, ax in enumerate(axes.flatten()):\n",
    "    fig.add_subplot(ax)\n",
    "    topic_words = ', '.join(df_cluster_words['TopicWords'][i])\n",
    "    cloud.generate(topic_words)\n",
    "    plt.gca().imshow(cloud)\n",
    "    plt.gca().set_title('Topic ' + str(i), fontdict=dict(size=16))\n",
    "    plt.gca().axis('off')\n",
    "\n",
    "\n",
    "plt.subplots_adjust(wspace=0, hspace=0)\n",
    "plt.axis('off')\n",
    "plt.margins(x=0, y=0)\n",
    "plt.tight_layout()\n",
    "plt.show()"
   ]
  },
  {
   "cell_type": "raw",
   "metadata": {},
   "source": [
    "__Bar chart race__"
   ]
  },
  {
   "cell_type": "code",
   "execution_count": null,
   "metadata": {},
   "outputs": [],
   "source": []
  }
 ],
 "metadata": {
  "kernelspec": {
   "display_name": "Python 3",
   "language": "python",
   "name": "python3"
  },
  "language_info": {
   "codemirror_mode": {
    "name": "ipython",
    "version": 3
   },
   "file_extension": ".py",
   "mimetype": "text/x-python",
   "name": "python",
   "nbconvert_exporter": "python",
   "pygments_lexer": "ipython3",
   "version": "3.7.4"
  }
 },
 "nbformat": 4,
 "nbformat_minor": 2
}

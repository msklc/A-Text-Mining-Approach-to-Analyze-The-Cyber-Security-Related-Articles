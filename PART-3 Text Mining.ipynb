{
 "cells": [
  {
   "cell_type": "markdown",
   "metadata": {},
   "source": [
    "# A Text Mining Approach to Analyze The Cyber Security Related Articles"
   ]
  },
  {
   "cell_type": "markdown",
   "metadata": {},
   "source": [
    "## PART-3: Text Mining\n",
    "\n",
    "__Feature Engineering with NLP techniques__\n"
   ]
  },
  {
   "cell_type": "markdown",
   "metadata": {},
   "source": [
    "__Importing of Required Libraries__"
   ]
  },
  {
   "cell_type": "code",
   "execution_count": 1,
   "metadata": {},
   "outputs": [],
   "source": [
    "import nltk\n",
    "from nltk.stem import WordNetLemmatizer\n",
    "from nltk.corpus import wordnet\n",
    "import pickle\n",
    "import re\n",
    "\n",
    "import spacy\n",
    "import en_core_web_sm\n",
    "from spacy import displacy\n",
    "\n",
    "import string\n",
    "import random\n",
    "from num2words import num2words\n",
    "\n",
    "import numpy as np\n",
    "import pandas as pd\n",
    "\n",
    "from sklearn.cluster import KMeans\n",
    "\n",
    "import warnings\n",
    "warnings.filterwarnings(\"ignore\")"
   ]
  },
  {
   "cell_type": "markdown",
   "metadata": {},
   "source": [
    "__Loading Data__\n",
    "\n",
    "As mentioned Part-2 that pandas parquet options doesn't support timedelta type. So we need to use __fastparquet__ option, to keep the timedelta type format."
   ]
  },
  {
   "cell_type": "code",
   "execution_count": 2,
   "metadata": {},
   "outputs": [
    {
     "data": {
      "text/html": [
       "<div>\n",
       "<style scoped>\n",
       "    .dataframe tbody tr th:only-of-type {\n",
       "        vertical-align: middle;\n",
       "    }\n",
       "\n",
       "    .dataframe tbody tr th {\n",
       "        vertical-align: top;\n",
       "    }\n",
       "\n",
       "    .dataframe thead th {\n",
       "        text-align: right;\n",
       "    }\n",
       "</style>\n",
       "<table border=\"1\" class=\"dataframe\">\n",
       "  <thead>\n",
       "    <tr style=\"text-align: right;\">\n",
       "      <th></th>\n",
       "      <th>AwardID</th>\n",
       "      <th>AwardTitle</th>\n",
       "      <th>AwardEffectiveDate</th>\n",
       "      <th>AwardExpirationDate</th>\n",
       "      <th>AwardAmount</th>\n",
       "      <th>ProgramOfficer</th>\n",
       "      <th>Institution_Name</th>\n",
       "      <th>Institution_StateName</th>\n",
       "      <th>Abstract</th>\n",
       "      <th>Year</th>\n",
       "      <th>Award_Duration</th>\n",
       "      <th>AwardAmount_Million</th>\n",
       "      <th>Abstract_Lenght</th>\n",
       "    </tr>\n",
       "  </thead>\n",
       "  <tbody>\n",
       "    <tr>\n",
       "      <th>0</th>\n",
       "      <td>0110599</td>\n",
       "      <td>Collaborative Research Testing Affect Control ...</td>\n",
       "      <td>2001-08-15</td>\n",
       "      <td>2004-07-31</td>\n",
       "      <td>300000.0</td>\n",
       "      <td>Patricia White</td>\n",
       "      <td>University of Arizona</td>\n",
       "      <td>Arizona</td>\n",
       "      <td>The investigators will conduct a series of exp...</td>\n",
       "      <td>2001</td>\n",
       "      <td>1081 days</td>\n",
       "      <td>0.30</td>\n",
       "      <td>2194</td>\n",
       "    </tr>\n",
       "    <tr>\n",
       "      <th>1</th>\n",
       "      <td>0112426</td>\n",
       "      <td>Federal Cyber Service Initiative</td>\n",
       "      <td>2001-06-01</td>\n",
       "      <td>2007-06-30</td>\n",
       "      <td>149995.0</td>\n",
       "      <td>Timothy V. Fossum</td>\n",
       "      <td>University of Tulsa</td>\n",
       "      <td>Oklahoma</td>\n",
       "      <td>This program produces a cadre of computer scie...</td>\n",
       "      <td>2001</td>\n",
       "      <td>2220 days</td>\n",
       "      <td>0.15</td>\n",
       "      <td>765</td>\n",
       "    </tr>\n",
       "  </tbody>\n",
       "</table>\n",
       "</div>"
      ],
      "text/plain": [
       "   AwardID                                         AwardTitle  \\\n",
       "0  0110599  Collaborative Research Testing Affect Control ...   \n",
       "1  0112426                   Federal Cyber Service Initiative   \n",
       "\n",
       "  AwardEffectiveDate AwardExpirationDate  AwardAmount     ProgramOfficer  \\\n",
       "0         2001-08-15          2004-07-31     300000.0     Patricia White   \n",
       "1         2001-06-01          2007-06-30     149995.0  Timothy V. Fossum   \n",
       "\n",
       "        Institution_Name Institution_StateName  \\\n",
       "0  University of Arizona               Arizona   \n",
       "1    University of Tulsa              Oklahoma   \n",
       "\n",
       "                                            Abstract  Year Award_Duration  \\\n",
       "0  The investigators will conduct a series of exp...  2001      1081 days   \n",
       "1  This program produces a cadre of computer scie...  2001      2220 days   \n",
       "\n",
       "   AwardAmount_Million  Abstract_Lenght  \n",
       "0                 0.30             2194  \n",
       "1                 0.15              765  "
      ]
     },
     "execution_count": 2,
     "metadata": {},
     "output_type": "execute_result"
    }
   ],
   "source": [
    "df_sum=pd.read_parquet('data/df_sum_parquet.gzip',engine='fastparquet')\n",
    "df_investigator_cyber=pd.read_parquet('data/df_investigator_cyber_parque.gzip',engine='fastparquet')\n",
    "df_sum.head(2)"
   ]
  },
  {
   "cell_type": "markdown",
   "metadata": {},
   "source": [
    "## 1-) Clustering and Topic Modeling"
   ]
  },
  {
   "cell_type": "code",
   "execution_count": 3,
   "metadata": {},
   "outputs": [
    {
     "data": {
      "text/html": [
       "<div>\n",
       "<style scoped>\n",
       "    .dataframe tbody tr th:only-of-type {\n",
       "        vertical-align: middle;\n",
       "    }\n",
       "\n",
       "    .dataframe tbody tr th {\n",
       "        vertical-align: top;\n",
       "    }\n",
       "\n",
       "    .dataframe thead th {\n",
       "        text-align: right;\n",
       "    }\n",
       "</style>\n",
       "<table border=\"1\" class=\"dataframe\">\n",
       "  <thead>\n",
       "    <tr style=\"text-align: right;\">\n",
       "      <th></th>\n",
       "      <th>AwardID</th>\n",
       "      <th>AwardTitle</th>\n",
       "      <th>Abstract</th>\n",
       "    </tr>\n",
       "  </thead>\n",
       "  <tbody>\n",
       "    <tr>\n",
       "      <th>0</th>\n",
       "      <td>0110599</td>\n",
       "      <td>Collaborative Research Testing Affect Control ...</td>\n",
       "      <td>The investigators will conduct a series of exp...</td>\n",
       "    </tr>\n",
       "    <tr>\n",
       "      <th>1</th>\n",
       "      <td>0112426</td>\n",
       "      <td>Federal Cyber Service Initiative</td>\n",
       "      <td>This program produces a cadre of computer scie...</td>\n",
       "    </tr>\n",
       "  </tbody>\n",
       "</table>\n",
       "</div>"
      ],
      "text/plain": [
       "   AwardID                                         AwardTitle  \\\n",
       "0  0110599  Collaborative Research Testing Affect Control ...   \n",
       "1  0112426                   Federal Cyber Service Initiative   \n",
       "\n",
       "                                            Abstract  \n",
       "0  The investigators will conduct a series of exp...  \n",
       "1  This program produces a cadre of computer scie...  "
      ]
     },
     "execution_count": 3,
     "metadata": {},
     "output_type": "execute_result"
    }
   ],
   "source": [
    "#Create a new DataFrame\n",
    "df_sum2=df_sum[['AwardID','AwardTitle','Abstract']]\n",
    "df_sum2.head(2)"
   ]
  },
  {
   "cell_type": "markdown",
   "metadata": {},
   "source": [
    "__Replacing Of Contraction Words__"
   ]
  },
  {
   "cell_type": "code",
   "execution_count": 4,
   "metadata": {},
   "outputs": [
    {
     "data": {
      "text/html": [
       "<div>\n",
       "<style scoped>\n",
       "    .dataframe tbody tr th:only-of-type {\n",
       "        vertical-align: middle;\n",
       "    }\n",
       "\n",
       "    .dataframe tbody tr th {\n",
       "        vertical-align: top;\n",
       "    }\n",
       "\n",
       "    .dataframe thead th {\n",
       "        text-align: right;\n",
       "    }\n",
       "</style>\n",
       "<table border=\"1\" class=\"dataframe\">\n",
       "  <thead>\n",
       "    <tr style=\"text-align: right;\">\n",
       "      <th></th>\n",
       "      <th>AwardID</th>\n",
       "      <th>AwardTitle</th>\n",
       "      <th>Abstract</th>\n",
       "    </tr>\n",
       "  </thead>\n",
       "  <tbody>\n",
       "    <tr>\n",
       "      <th>0</th>\n",
       "      <td>0110599</td>\n",
       "      <td>Collaborative Research Testing Affect Control ...</td>\n",
       "      <td>The investigators will conduct a series of exp...</td>\n",
       "    </tr>\n",
       "    <tr>\n",
       "      <th>1</th>\n",
       "      <td>0112426</td>\n",
       "      <td>Federal Cyber Service Initiative</td>\n",
       "      <td>This program produces a cadre of computer scie...</td>\n",
       "    </tr>\n",
       "  </tbody>\n",
       "</table>\n",
       "</div>"
      ],
      "text/plain": [
       "   AwardID                                         AwardTitle  \\\n",
       "0  0110599  Collaborative Research Testing Affect Control ...   \n",
       "1  0112426                   Federal Cyber Service Initiative   \n",
       "\n",
       "                                            Abstract  \n",
       "0  The investigators will conduct a series of exp...  \n",
       "1  This program produces a cadre of computer scie...  "
      ]
     },
     "execution_count": 4,
     "metadata": {},
     "output_type": "execute_result"
    }
   ],
   "source": [
    "replacement_patterns = {\n",
    "    r\"won\\'t\": \"will not\",\n",
    "    r\"can\\'t\": \"cannot\",\n",
    "    r\"i\\'m\": \"i am\",\n",
    "    r\"ain\\'t\": \"is not\",\n",
    "    r\"(\\w+)\\'ll\": \"\\g<1> will\",\n",
    "    r\"(\\w+)n\\'t\": \"\\g<1> not\",\n",
    "    r\"(\\w+)\\'ve\": \"\\g<1> have\",\n",
    "    r\"(\\w+)\\'s\": \"\\g<1> is\",\n",
    "    r\"(\\w+)\\'re\": \"\\g<1> are\",\n",
    "    r\"(\\w+)\\'d\": \"\\g<1> would\",\n",
    "    r\"&\": \"and\",\n",
    "    r\"<br/>\":\"\"}\n",
    "\n",
    "df_sum2['Abstract'].replace(replacement_patterns, regex=True, inplace=True)\n",
    "df_sum2.head(2)"
   ]
  },
  {
   "cell_type": "markdown",
   "metadata": {},
   "source": [
    "__Removing Unneccesery Words__\n",
    "\n",
    "We use __NER__ (Named Entity Recognition) function of __spacy__ library to detect named entities (people, places, organizations, dates, times etc.) from the text. After analyzing this words, we understood that they are unnecessary for clustering.\n",
    "\n",
    "An example of visualization of NER:"
   ]
  },
  {
   "cell_type": "code",
   "execution_count": 5,
   "metadata": {},
   "outputs": [
    {
     "data": {
      "text/html": [
       "<span class=\"tex2jax_ignore\"><div class=\"entities\" style=\"line-height: 2.5; direction: ltr\">This program produces a cadre of computer scientists with strong specializations in information assurance and a commitment to federal service. \n",
       "<mark class=\"entity\" style=\"background: #e4e7d2; padding: 0.45em 0.6em; margin: 0 0.25em; line-height: 1; border-radius: 0.35em;\">\n",
       "    Three\n",
       "    <span style=\"font-size: 0.8em; font-weight: bold; line-height: 1; border-radius: 0.35em; text-transform: uppercase; vertical-align: middle; margin-left: 0.5rem\">CARDINAL</span>\n",
       "</mark>\n",
       " cohorts of students complete a \n",
       "<mark class=\"entity\" style=\"background: #bfe1d9; padding: 0.45em 0.6em; margin: 0 0.25em; line-height: 1; border-radius: 0.35em;\">\n",
       "    two-year\n",
       "    <span style=\"font-size: 0.8em; font-weight: bold; line-height: 1; border-radius: 0.35em; text-transform: uppercase; vertical-align: middle; margin-left: 0.5rem\">DATE</span>\n",
       "</mark>\n",
       " program that integrates intense information assurance studies with research and outreach. Students also spend \n",
       "<mark class=\"entity\" style=\"background: #bfe1d9; padding: 0.45em 0.6em; margin: 0 0.25em; line-height: 1; border-radius: 0.35em;\">\n",
       "    one summer\n",
       "    <span style=\"font-size: 0.8em; font-weight: bold; line-height: 1; border-radius: 0.35em; text-transform: uppercase; vertical-align: middle; margin-left: 0.5rem\">DATE</span>\n",
       "</mark>\n",
       " as interns in federal agencies. Upon completion of degrees at \n",
       "<mark class=\"entity\" style=\"background: #bfe1d9; padding: 0.45em 0.6em; margin: 0 0.25em; line-height: 1; border-radius: 0.35em;\">\n",
       "    the end of two years\n",
       "    <span style=\"font-size: 0.8em; font-weight: bold; line-height: 1; border-radius: 0.35em; text-transform: uppercase; vertical-align: middle; margin-left: 0.5rem\">DATE</span>\n",
       "</mark>\n",
       " the students then enter the federal cyber service. The program features an emphasis on collaborative research and outreach to the community. The program components train students in information assurance theory and practice while providing an environment that fosters teamwork, strengthens motivation, and builds a sense of professionalism and commitment to service. </div></span>"
      ],
      "text/plain": [
       "<IPython.core.display.HTML object>"
      ]
     },
     "metadata": {},
     "output_type": "display_data"
    }
   ],
   "source": [
    "#define the nlp object\n",
    "nlp = en_core_web_sm.load()\n",
    "\n",
    "#example text\n",
    "doc=nlp(str(df_sum2['Abstract'][1]))\n",
    "\n",
    "#visualization\n",
    "displacy.render(doc, style=\"ent\",jupyter=True)"
   ]
  },
  {
   "cell_type": "code",
   "execution_count": 6,
   "metadata": {},
   "outputs": [
    {
     "name": "stdout",
     "output_type": "stream",
     "text": [
      "Total NER words: 64069\n",
      "Total unique NER words: 18654\n",
      "Total words before removing NER: 11239471\n",
      "Total words after removing NER: 10499040\n"
     ]
    }
   ],
   "source": [
    "#create a list for NER\n",
    "NER_list=[]\n",
    "\n",
    "#Find\n",
    "for n in range(df_sum2.shape[0]):\n",
    "    doc=nlp(str(df_sum2['Abstract'][n]))\n",
    "\n",
    "    for ent in doc.ents:\n",
    "        NER_list.append(ent.text)\n",
    "\n",
    "NER_list = [' {0} '.format(elem) for elem in NER_list] #Add space to begins and ends of all NERs to prevent the \n",
    "print('Total NER words: {}'.format(len(NER_list)))\n",
    "NER_list=list(set(NER_list)) #for unique elements in list\n",
    "print('Total unique NER words: {}'.format(len(NER_list)))\n",
    "\n",
    "print('Total words before removing NER: {}'.format(sum(df_sum2['Abstract'].str.len())))\n",
    "\n",
    "for NER in NER_list:\n",
    "    df_sum2['Abstract']=df_sum2['Abstract'].str.replace(NER,' ',regex=False) #regex=False>> because, some NERs have punctuation\n",
    "print('Total words after removing NER: {}'.format(sum(df_sum2['Abstract'].str.len())))"
   ]
  },
  {
   "cell_type": "markdown",
   "metadata": {},
   "source": [
    "__Tokenization and LowerCase__"
   ]
  },
  {
   "cell_type": "code",
   "execution_count": 7,
   "metadata": {},
   "outputs": [
    {
     "name": "stdout",
     "output_type": "stream",
     "text": [
      "Total words: 1651652\n"
     ]
    },
    {
     "data": {
      "text/html": [
       "<div>\n",
       "<style scoped>\n",
       "    .dataframe tbody tr th:only-of-type {\n",
       "        vertical-align: middle;\n",
       "    }\n",
       "\n",
       "    .dataframe tbody tr th {\n",
       "        vertical-align: top;\n",
       "    }\n",
       "\n",
       "    .dataframe thead th {\n",
       "        text-align: right;\n",
       "    }\n",
       "</style>\n",
       "<table border=\"1\" class=\"dataframe\">\n",
       "  <thead>\n",
       "    <tr style=\"text-align: right;\">\n",
       "      <th></th>\n",
       "      <th>AwardID</th>\n",
       "      <th>AwardTitle</th>\n",
       "      <th>Abstract</th>\n",
       "      <th>Abstract_Tokens</th>\n",
       "    </tr>\n",
       "  </thead>\n",
       "  <tbody>\n",
       "    <tr>\n",
       "      <th>0</th>\n",
       "      <td>0110599</td>\n",
       "      <td>Collaborative Research Testing Affect Control ...</td>\n",
       "      <td>The investigators will conduct a of experiment...</td>\n",
       "      <td>[the, investigators, will, conduct, a, of, exp...</td>\n",
       "    </tr>\n",
       "    <tr>\n",
       "      <th>1</th>\n",
       "      <td>0112426</td>\n",
       "      <td>Federal Cyber Service Initiative</td>\n",
       "      <td>This program produces a cadre of computer scie...</td>\n",
       "      <td>[this, program, produces, a, cadre, of, comput...</td>\n",
       "    </tr>\n",
       "  </tbody>\n",
       "</table>\n",
       "</div>"
      ],
      "text/plain": [
       "   AwardID                                         AwardTitle  \\\n",
       "0  0110599  Collaborative Research Testing Affect Control ...   \n",
       "1  0112426                   Federal Cyber Service Initiative   \n",
       "\n",
       "                                            Abstract  \\\n",
       "0  The investigators will conduct a of experiment...   \n",
       "1  This program produces a cadre of computer scie...   \n",
       "\n",
       "                                     Abstract_Tokens  \n",
       "0  [the, investigators, will, conduct, a, of, exp...  \n",
       "1  [this, program, produces, a, cadre, of, comput...  "
      ]
     },
     "execution_count": 7,
     "metadata": {},
     "output_type": "execute_result"
    }
   ],
   "source": [
    "#word tokenization and lowercase\n",
    "df_sum2['Abstract_Tokens'] = df_sum2['Abstract'].str.lower().apply(nltk.word_tokenize)\n",
    "print('Total words: {}'.format(sum(df_sum2['Abstract_Tokens'].str.len())))\n",
    "df_sum2.head(2)"
   ]
  },
  {
   "cell_type": "markdown",
   "metadata": {},
   "source": [
    "__Remove Numbers__"
   ]
  },
  {
   "cell_type": "code",
   "execution_count": 8,
   "metadata": {},
   "outputs": [
    {
     "name": "stdout",
     "output_type": "stream",
     "text": [
      "Total words consist of only alphabets: 1427142\n"
     ]
    },
    {
     "data": {
      "text/html": [
       "<div>\n",
       "<style scoped>\n",
       "    .dataframe tbody tr th:only-of-type {\n",
       "        vertical-align: middle;\n",
       "    }\n",
       "\n",
       "    .dataframe tbody tr th {\n",
       "        vertical-align: top;\n",
       "    }\n",
       "\n",
       "    .dataframe thead th {\n",
       "        text-align: right;\n",
       "    }\n",
       "</style>\n",
       "<table border=\"1\" class=\"dataframe\">\n",
       "  <thead>\n",
       "    <tr style=\"text-align: right;\">\n",
       "      <th></th>\n",
       "      <th>AwardID</th>\n",
       "      <th>AwardTitle</th>\n",
       "      <th>Abstract</th>\n",
       "      <th>Abstract_Tokens</th>\n",
       "    </tr>\n",
       "  </thead>\n",
       "  <tbody>\n",
       "    <tr>\n",
       "      <th>0</th>\n",
       "      <td>0110599</td>\n",
       "      <td>Collaborative Research Testing Affect Control ...</td>\n",
       "      <td>The investigators will conduct a of experiment...</td>\n",
       "      <td>[the, investigators, will, conduct, a, of, exp...</td>\n",
       "    </tr>\n",
       "    <tr>\n",
       "      <th>1</th>\n",
       "      <td>0112426</td>\n",
       "      <td>Federal Cyber Service Initiative</td>\n",
       "      <td>This program produces a cadre of computer scie...</td>\n",
       "      <td>[this, program, produces, a, cadre, of, comput...</td>\n",
       "    </tr>\n",
       "  </tbody>\n",
       "</table>\n",
       "</div>"
      ],
      "text/plain": [
       "   AwardID                                         AwardTitle  \\\n",
       "0  0110599  Collaborative Research Testing Affect Control ...   \n",
       "1  0112426                   Federal Cyber Service Initiative   \n",
       "\n",
       "                                            Abstract  \\\n",
       "0  The investigators will conduct a of experiment...   \n",
       "1  This program produces a cadre of computer scie...   \n",
       "\n",
       "                                     Abstract_Tokens  \n",
       "0  [the, investigators, will, conduct, a, of, exp...  \n",
       "1  [this, program, produces, a, cadre, of, comput...  "
      ]
     },
     "execution_count": 8,
     "metadata": {},
     "output_type": "execute_result"
    }
   ],
   "source": [
    "#remove numbers\n",
    "for n in range(df_sum2.shape[0]):\n",
    "    df_sum2['Abstract_Tokens'][n]=[w for w in df_sum2['Abstract_Tokens'][n] if w.isalpha()]\n",
    "print('Total words consist of only alphabets: {}'.format(sum(df_sum2['Abstract_Tokens'].str.len())))\n",
    "df_sum2.head(2)"
   ]
  },
  {
   "cell_type": "markdown",
   "metadata": {},
   "source": [
    "__Remove Written Form of Numbers__"
   ]
  },
  {
   "cell_type": "code",
   "execution_count": 9,
   "metadata": {},
   "outputs": [
    {
     "name": "stdout",
     "output_type": "stream",
     "text": [
      "Total words after removing written form of numbers: 1426605\n"
     ]
    },
    {
     "data": {
      "text/html": [
       "<div>\n",
       "<style scoped>\n",
       "    .dataframe tbody tr th:only-of-type {\n",
       "        vertical-align: middle;\n",
       "    }\n",
       "\n",
       "    .dataframe tbody tr th {\n",
       "        vertical-align: top;\n",
       "    }\n",
       "\n",
       "    .dataframe thead th {\n",
       "        text-align: right;\n",
       "    }\n",
       "</style>\n",
       "<table border=\"1\" class=\"dataframe\">\n",
       "  <thead>\n",
       "    <tr style=\"text-align: right;\">\n",
       "      <th></th>\n",
       "      <th>AwardID</th>\n",
       "      <th>AwardTitle</th>\n",
       "      <th>Abstract</th>\n",
       "      <th>Abstract_Tokens</th>\n",
       "    </tr>\n",
       "  </thead>\n",
       "  <tbody>\n",
       "    <tr>\n",
       "      <th>0</th>\n",
       "      <td>0110599</td>\n",
       "      <td>Collaborative Research Testing Affect Control ...</td>\n",
       "      <td>The investigators will conduct a of experiment...</td>\n",
       "      <td>[the, investigators, will, conduct, a, of, exp...</td>\n",
       "    </tr>\n",
       "    <tr>\n",
       "      <th>1</th>\n",
       "      <td>0112426</td>\n",
       "      <td>Federal Cyber Service Initiative</td>\n",
       "      <td>This program produces a cadre of computer scie...</td>\n",
       "      <td>[this, program, produces, a, cadre, of, comput...</td>\n",
       "    </tr>\n",
       "  </tbody>\n",
       "</table>\n",
       "</div>"
      ],
      "text/plain": [
       "   AwardID                                         AwardTitle  \\\n",
       "0  0110599  Collaborative Research Testing Affect Control ...   \n",
       "1  0112426                   Federal Cyber Service Initiative   \n",
       "\n",
       "                                            Abstract  \\\n",
       "0  The investigators will conduct a of experiment...   \n",
       "1  This program produces a cadre of computer scie...   \n",
       "\n",
       "                                     Abstract_Tokens  \n",
       "0  [the, investigators, will, conduct, a, of, exp...  \n",
       "1  [this, program, produces, a, cadre, of, comput...  "
      ]
     },
     "execution_count": 9,
     "metadata": {},
     "output_type": "execute_result"
    }
   ],
   "source": [
    "#Create a list about numbers in written form\n",
    "num2words_list=[]\n",
    "\n",
    "for n in range(100):\n",
    "    num=num2words(n)\n",
    "    num2words_list.append(num)\n",
    "    num_ord=num2words(n, ordinal=True) #we use num2words library\n",
    "    num2words_list.append(num_ord) #we use num2words library\n",
    "num2words_list=[n.replace('-','') for n in num2words_list]#remove the \"-\" punctuation\n",
    "\n",
    "for n in range(df_sum2.shape[0]):\n",
    "    df_sum2['Abstract_Tokens'][n]=[w for w in df_sum2['Abstract_Tokens'][n] if w not in num2words_list]\n",
    "print('Total words after removing written form of numbers: {}'.format(sum(df_sum2['Abstract_Tokens'].str.len())))\n",
    "df_sum2.head(2)"
   ]
  },
  {
   "cell_type": "markdown",
   "metadata": {},
   "source": [
    "__Remove Stopwords__"
   ]
  },
  {
   "cell_type": "code",
   "execution_count": 10,
   "metadata": {},
   "outputs": [
    {
     "name": "stdout",
     "output_type": "stream",
     "text": [
      "Total words after removing stopwords: 834426\n"
     ]
    },
    {
     "data": {
      "text/html": [
       "<div>\n",
       "<style scoped>\n",
       "    .dataframe tbody tr th:only-of-type {\n",
       "        vertical-align: middle;\n",
       "    }\n",
       "\n",
       "    .dataframe tbody tr th {\n",
       "        vertical-align: top;\n",
       "    }\n",
       "\n",
       "    .dataframe thead th {\n",
       "        text-align: right;\n",
       "    }\n",
       "</style>\n",
       "<table border=\"1\" class=\"dataframe\">\n",
       "  <thead>\n",
       "    <tr style=\"text-align: right;\">\n",
       "      <th></th>\n",
       "      <th>AwardID</th>\n",
       "      <th>AwardTitle</th>\n",
       "      <th>Abstract</th>\n",
       "      <th>Abstract_Tokens</th>\n",
       "    </tr>\n",
       "  </thead>\n",
       "  <tbody>\n",
       "    <tr>\n",
       "      <th>0</th>\n",
       "      <td>0110599</td>\n",
       "      <td>Collaborative Research Testing Affect Control ...</td>\n",
       "      <td>The investigators will conduct a of experiment...</td>\n",
       "      <td>[investigators, conduct, experiments, focus, c...</td>\n",
       "    </tr>\n",
       "    <tr>\n",
       "      <th>1</th>\n",
       "      <td>0112426</td>\n",
       "      <td>Federal Cyber Service Initiative</td>\n",
       "      <td>This program produces a cadre of computer scie...</td>\n",
       "      <td>[produces, cadre, computer, scientists, strong...</td>\n",
       "    </tr>\n",
       "  </tbody>\n",
       "</table>\n",
       "</div>"
      ],
      "text/plain": [
       "   AwardID                                         AwardTitle  \\\n",
       "0  0110599  Collaborative Research Testing Affect Control ...   \n",
       "1  0112426                   Federal Cyber Service Initiative   \n",
       "\n",
       "                                            Abstract  \\\n",
       "0  The investigators will conduct a of experiment...   \n",
       "1  This program produces a cadre of computer scie...   \n",
       "\n",
       "                                     Abstract_Tokens  \n",
       "0  [investigators, conduct, experiments, focus, c...  \n",
       "1  [produces, cadre, computer, scientists, strong...  "
      ]
     },
     "execution_count": 10,
     "metadata": {},
     "output_type": "execute_result"
    }
   ],
   "source": [
    "#define stopwords list\n",
    "stopwords_list=nltk.corpus.stopwords.words('english')\n",
    "\n",
    "#extend the stopwords list\n",
    "stopwords_list.extend(['cannot','many','much','also','well','better','via','able','could','able','whether',\n",
    "                      'either','unfortunately','far','new','high'])\n",
    "\n",
    "#extend the stopwords list with unneccessary words for this study\n",
    "stopwords_list.extend(['abstract','program','pi'])\n",
    "\n",
    "\n",
    "for n in range(df_sum2.shape[0]):\n",
    "    df_sum2['Abstract_Tokens'][n]=[w for w in df_sum2['Abstract_Tokens'][n] if w not in stopwords_list]\n",
    "print('Total words after removing stopwords: {}'.format(sum(df_sum2['Abstract_Tokens'].str.len())))\n",
    "df_sum2.head(2)"
   ]
  },
  {
   "cell_type": "markdown",
   "metadata": {},
   "source": [
    "__Lemmatization with POS Tag__"
   ]
  },
  {
   "cell_type": "code",
   "execution_count": 11,
   "metadata": {},
   "outputs": [
    {
     "name": "stdout",
     "output_type": "stream",
     "text": [
      "Total words after lemmatization: 834426\n"
     ]
    },
    {
     "data": {
      "text/html": [
       "<div>\n",
       "<style scoped>\n",
       "    .dataframe tbody tr th:only-of-type {\n",
       "        vertical-align: middle;\n",
       "    }\n",
       "\n",
       "    .dataframe tbody tr th {\n",
       "        vertical-align: top;\n",
       "    }\n",
       "\n",
       "    .dataframe thead th {\n",
       "        text-align: right;\n",
       "    }\n",
       "</style>\n",
       "<table border=\"1\" class=\"dataframe\">\n",
       "  <thead>\n",
       "    <tr style=\"text-align: right;\">\n",
       "      <th></th>\n",
       "      <th>AwardID</th>\n",
       "      <th>AwardTitle</th>\n",
       "      <th>Abstract</th>\n",
       "      <th>Abstract_Tokens</th>\n",
       "    </tr>\n",
       "  </thead>\n",
       "  <tbody>\n",
       "    <tr>\n",
       "      <th>0</th>\n",
       "      <td>0110599</td>\n",
       "      <td>Collaborative Research Testing Affect Control ...</td>\n",
       "      <td>The investigators will conduct a of experiment...</td>\n",
       "      <td>[investigator, conduct, experiment, focus, cru...</td>\n",
       "    </tr>\n",
       "    <tr>\n",
       "      <th>1</th>\n",
       "      <td>0112426</td>\n",
       "      <td>Federal Cyber Service Initiative</td>\n",
       "      <td>This program produces a cadre of computer scie...</td>\n",
       "      <td>[produce, cadre, computer, scientist, strong, ...</td>\n",
       "    </tr>\n",
       "  </tbody>\n",
       "</table>\n",
       "</div>"
      ],
      "text/plain": [
       "   AwardID                                         AwardTitle  \\\n",
       "0  0110599  Collaborative Research Testing Affect Control ...   \n",
       "1  0112426                   Federal Cyber Service Initiative   \n",
       "\n",
       "                                            Abstract  \\\n",
       "0  The investigators will conduct a of experiment...   \n",
       "1  This program produces a cadre of computer scie...   \n",
       "\n",
       "                                     Abstract_Tokens  \n",
       "0  [investigator, conduct, experiment, focus, cru...  \n",
       "1  [produce, cadre, computer, scientist, strong, ...  "
      ]
     },
     "execution_count": 11,
     "metadata": {},
     "output_type": "execute_result"
    }
   ],
   "source": [
    "#define lemmatizer() object\n",
    "lemmatizer = WordNetLemmatizer()\n",
    "\n",
    "#lemmatize with POS Tag\n",
    "def get_wordnet_pos(word):\n",
    "    #Map POS tag to first character lemmatize() accepts\n",
    "    tag = nltk.pos_tag([word])[0][1][0].upper()\n",
    "    tag_dict = {\"J\": wordnet.ADJ,\n",
    "                \"N\": wordnet.NOUN,\n",
    "                \"V\": wordnet.VERB,\n",
    "                \"R\": wordnet.ADV}\n",
    "\n",
    "    return tag_dict.get(tag, wordnet.NOUN)\n",
    "\n",
    "\n",
    "for n in range(df_sum2.shape[0]):\n",
    "    df_sum2['Abstract_Tokens'][n]=[lemmatizer.lemmatize(w,get_wordnet_pos(w)) for w in df_sum2['Abstract_Tokens'][n]]\n",
    "\n",
    "print('Total words after lemmatization: {}'.format(sum(df_sum2['Abstract_Tokens'].str.len())))\n",
    "df_sum2.head(2)"
   ]
  },
  {
   "cell_type": "markdown",
   "metadata": {},
   "source": [
    "__Remove 1-Length Words__\n",
    "\n",
    "Punctuation\n",
    "Punctuation are the unnecessary symbols that are in our corpus documents,"
   ]
  },
  {
   "cell_type": "code",
   "execution_count": 12,
   "metadata": {
    "scrolled": true
   },
   "outputs": [
    {
     "name": "stdout",
     "output_type": "stream",
     "text": [
      "Total words after removing 1-len words: 833572\n"
     ]
    },
    {
     "data": {
      "text/html": [
       "<div>\n",
       "<style scoped>\n",
       "    .dataframe tbody tr th:only-of-type {\n",
       "        vertical-align: middle;\n",
       "    }\n",
       "\n",
       "    .dataframe tbody tr th {\n",
       "        vertical-align: top;\n",
       "    }\n",
       "\n",
       "    .dataframe thead th {\n",
       "        text-align: right;\n",
       "    }\n",
       "</style>\n",
       "<table border=\"1\" class=\"dataframe\">\n",
       "  <thead>\n",
       "    <tr style=\"text-align: right;\">\n",
       "      <th></th>\n",
       "      <th>AwardID</th>\n",
       "      <th>AwardTitle</th>\n",
       "      <th>Abstract</th>\n",
       "      <th>Abstract_Tokens</th>\n",
       "    </tr>\n",
       "  </thead>\n",
       "  <tbody>\n",
       "    <tr>\n",
       "      <th>0</th>\n",
       "      <td>0110599</td>\n",
       "      <td>Collaborative Research Testing Affect Control ...</td>\n",
       "      <td>The investigators will conduct a of experiment...</td>\n",
       "      <td>[investigator, conduct, experiment, focus, cru...</td>\n",
       "    </tr>\n",
       "    <tr>\n",
       "      <th>1</th>\n",
       "      <td>0112426</td>\n",
       "      <td>Federal Cyber Service Initiative</td>\n",
       "      <td>This program produces a cadre of computer scie...</td>\n",
       "      <td>[produce, cadre, computer, scientist, strong, ...</td>\n",
       "    </tr>\n",
       "  </tbody>\n",
       "</table>\n",
       "</div>"
      ],
      "text/plain": [
       "   AwardID                                         AwardTitle  \\\n",
       "0  0110599  Collaborative Research Testing Affect Control ...   \n",
       "1  0112426                   Federal Cyber Service Initiative   \n",
       "\n",
       "                                            Abstract  \\\n",
       "0  The investigators will conduct a of experiment...   \n",
       "1  This program produces a cadre of computer scie...   \n",
       "\n",
       "                                     Abstract_Tokens  \n",
       "0  [investigator, conduct, experiment, focus, cru...  \n",
       "1  [produce, cadre, computer, scientist, strong, ...  "
      ]
     },
     "execution_count": 12,
     "metadata": {},
     "output_type": "execute_result"
    }
   ],
   "source": [
    "#remove 1-len words\n",
    "for n in range(df_sum2.shape[0]):\n",
    "    df_sum2['Abstract_Tokens'][n]=[w for w in df_sum2['Abstract_Tokens'][n] if len(w)>=2]\n",
    "print('Total words after removing 1-len words: {}'.format(sum(df_sum2['Abstract_Tokens'].str.len())))\n",
    "df_sum2.head(2)"
   ]
  },
  {
   "cell_type": "markdown",
   "metadata": {},
   "source": [
    "__Remove Meaningless Words__\n",
    "\n",
    "We can try to create a 'English Wordlist' from nltk with __nltk.corpus.words.words()__ method. But this wordlist has 236736 words. In this list some important words like 'internet', 'online', 'monitoring', 'firewall', 'crypto' etc.\n",
    "\n",
    "In this study, we prefer to use a comprehensive wordlist from a [github account](https://github.com/dwyl/english-words) which has 370104 words. But still, we need to add some critical words to list like 'cyberinfrastructure','cybersecurity' etc. So we extended the our wordlist with __IT cyber terms__ list. The list created from open-source (different websites) manualy."
   ]
  },
  {
   "cell_type": "code",
   "execution_count": 13,
   "metadata": {},
   "outputs": [
    {
     "name": "stdout",
     "output_type": "stream",
     "text": [
      "Total words in wordlist from corpus: 370104\n",
      "Total words in wordlist after adding IT terms: 370241\n",
      "Total words after removing the meaningless words: 813953\n"
     ]
    },
    {
     "data": {
      "text/html": [
       "<div>\n",
       "<style scoped>\n",
       "    .dataframe tbody tr th:only-of-type {\n",
       "        vertical-align: middle;\n",
       "    }\n",
       "\n",
       "    .dataframe tbody tr th {\n",
       "        vertical-align: top;\n",
       "    }\n",
       "\n",
       "    .dataframe thead th {\n",
       "        text-align: right;\n",
       "    }\n",
       "</style>\n",
       "<table border=\"1\" class=\"dataframe\">\n",
       "  <thead>\n",
       "    <tr style=\"text-align: right;\">\n",
       "      <th></th>\n",
       "      <th>AwardID</th>\n",
       "      <th>AwardTitle</th>\n",
       "      <th>Abstract</th>\n",
       "      <th>Abstract_Tokens</th>\n",
       "    </tr>\n",
       "  </thead>\n",
       "  <tbody>\n",
       "    <tr>\n",
       "      <th>0</th>\n",
       "      <td>0110599</td>\n",
       "      <td>Collaborative Research Testing Affect Control ...</td>\n",
       "      <td>The investigators will conduct a of experiment...</td>\n",
       "      <td>[investigator, conduct, experiment, focus, cru...</td>\n",
       "    </tr>\n",
       "    <tr>\n",
       "      <th>1</th>\n",
       "      <td>0112426</td>\n",
       "      <td>Federal Cyber Service Initiative</td>\n",
       "      <td>This program produces a cadre of computer scie...</td>\n",
       "      <td>[produce, cadre, computer, scientist, strong, ...</td>\n",
       "    </tr>\n",
       "  </tbody>\n",
       "</table>\n",
       "</div>"
      ],
      "text/plain": [
       "   AwardID                                         AwardTitle  \\\n",
       "0  0110599  Collaborative Research Testing Affect Control ...   \n",
       "1  0112426                   Federal Cyber Service Initiative   \n",
       "\n",
       "                                            Abstract  \\\n",
       "0  The investigators will conduct a of experiment...   \n",
       "1  This program produces a cadre of computer scie...   \n",
       "\n",
       "                                     Abstract_Tokens  \n",
       "0  [investigator, conduct, experiment, focus, cru...  \n",
       "1  [produce, cadre, computer, scientist, strong, ...  "
      ]
     },
     "execution_count": 13,
     "metadata": {},
     "output_type": "execute_result"
    }
   ],
   "source": [
    "#Scrape a wordlist\n",
    "url='https://raw.githubusercontent.com/dwyl/english-words/master/words_alpha.txt'\n",
    "data = pd.read_csv(url,  header=None)\n",
    "wordlist=list(data[0].values)\n",
    "print('Total words in wordlist from corpus: {}'.format(len(wordlist)))\n",
    "\n",
    "#extend the wordlist with IT_terms\n",
    "df_IT_terms=pd.read_csv('data/IT_cyber_terms.csv', sep=';')\n",
    "IT_terms_list=list(df_IT_terms['Words'])\n",
    "wordlist.extend(IT_terms_list) #extend the wordlist\n",
    "wordlist=list(set(wordlist)) #remove the duplications\n",
    "print('Total words in wordlist after adding IT terms: {}'.format(len(wordlist)))\n",
    "\n",
    "#Check the tokens from wordlist\n",
    "for n in range(df_sum2.shape[0]):\n",
    "    df_sum2['Abstract_Tokens'][n]=[w for w in  df_sum2['Abstract_Tokens'][n] if w in wordlist]\n",
    "print('Total words after removing the meaningless words: {}'.format(sum(df_sum2['Abstract_Tokens'].str.len())))\n",
    "df_sum2.head(2)"
   ]
  },
  {
   "cell_type": "markdown",
   "metadata": {},
   "source": [
    "__Convert Tokens To String For Tf-idf Vectorize__"
   ]
  },
  {
   "cell_type": "code",
   "execution_count": 14,
   "metadata": {},
   "outputs": [
    {
     "data": {
      "text/html": [
       "<div>\n",
       "<style scoped>\n",
       "    .dataframe tbody tr th:only-of-type {\n",
       "        vertical-align: middle;\n",
       "    }\n",
       "\n",
       "    .dataframe tbody tr th {\n",
       "        vertical-align: top;\n",
       "    }\n",
       "\n",
       "    .dataframe thead th {\n",
       "        text-align: right;\n",
       "    }\n",
       "</style>\n",
       "<table border=\"1\" class=\"dataframe\">\n",
       "  <thead>\n",
       "    <tr style=\"text-align: right;\">\n",
       "      <th></th>\n",
       "      <th>AwardID</th>\n",
       "      <th>AwardTitle</th>\n",
       "      <th>Abstract</th>\n",
       "      <th>Abstract_Tokens</th>\n",
       "      <th>Tokens_String</th>\n",
       "    </tr>\n",
       "  </thead>\n",
       "  <tbody>\n",
       "    <tr>\n",
       "      <th>0</th>\n",
       "      <td>0110599</td>\n",
       "      <td>Collaborative Research Testing Affect Control ...</td>\n",
       "      <td>The investigators will conduct a of experiment...</td>\n",
       "      <td>[investigator, conduct, experiment, focus, cru...</td>\n",
       "      <td>investigator conduct experiment focus crucial ...</td>\n",
       "    </tr>\n",
       "    <tr>\n",
       "      <th>1</th>\n",
       "      <td>0112426</td>\n",
       "      <td>Federal Cyber Service Initiative</td>\n",
       "      <td>This program produces a cadre of computer scie...</td>\n",
       "      <td>[produce, cadre, computer, scientist, strong, ...</td>\n",
       "      <td>produce cadre computer scientist strong specia...</td>\n",
       "    </tr>\n",
       "  </tbody>\n",
       "</table>\n",
       "</div>"
      ],
      "text/plain": [
       "   AwardID                                         AwardTitle  \\\n",
       "0  0110599  Collaborative Research Testing Affect Control ...   \n",
       "1  0112426                   Federal Cyber Service Initiative   \n",
       "\n",
       "                                            Abstract  \\\n",
       "0  The investigators will conduct a of experiment...   \n",
       "1  This program produces a cadre of computer scie...   \n",
       "\n",
       "                                     Abstract_Tokens  \\\n",
       "0  [investigator, conduct, experiment, focus, cru...   \n",
       "1  [produce, cadre, computer, scientist, strong, ...   \n",
       "\n",
       "                                       Tokens_String  \n",
       "0  investigator conduct experiment focus crucial ...  \n",
       "1  produce cadre computer scientist strong specia...  "
      ]
     },
     "execution_count": 14,
     "metadata": {},
     "output_type": "execute_result"
    }
   ],
   "source": [
    "df_sum2['Tokens_String']=df_sum2['Abstract']\n",
    "for n in range(df_sum2.shape[0]):\n",
    "    df_sum2['Tokens_String'][n]=' '.join([str(item) for item in df_sum2['Abstract_Tokens'][n]])\n",
    "df_sum2.head(2)"
   ]
  },
  {
   "cell_type": "markdown",
   "metadata": {},
   "source": [
    "__TfidfVectorizer__"
   ]
  },
  {
   "cell_type": "code",
   "execution_count": 15,
   "metadata": {},
   "outputs": [
    {
     "data": {
      "text/plain": [
       "array([[0., 0., 0., ..., 0., 0., 0.],\n",
       "       [0., 0., 0., ..., 0., 0., 0.]])"
      ]
     },
     "execution_count": 15,
     "metadata": {},
     "output_type": "execute_result"
    }
   ],
   "source": [
    "from sklearn.feature_extraction.text import TfidfVectorizer\n",
    "v = TfidfVectorizer()\n",
    "X = v.fit_transform(df_sum2['Tokens_String'])\n",
    "X.toarray()[:2]"
   ]
  },
  {
   "cell_type": "code",
   "execution_count": 16,
   "metadata": {},
   "outputs": [
    {
     "name": "stdout",
     "output_type": "stream",
     "text": [
      "First 10 Feature Name:\n",
      " ['aa', 'aaa', 'ab', 'abandonment', 'abdomen', 'aberrant', 'abet', 'abide', 'ability', 'abiotic']\n"
     ]
    }
   ],
   "source": [
    "print('First 10 Feature Name:\\n {}'.format(v.get_feature_names()[:10]))"
   ]
  },
  {
   "cell_type": "code",
   "execution_count": 17,
   "metadata": {},
   "outputs": [
    {
     "name": "stdout",
     "output_type": "stream",
     "text": [
      "Total Feature Number: 13095\n"
     ]
    }
   ],
   "source": [
    "print('Total Feature Number: {}'.format(len(v.vocabulary_)))"
   ]
  },
  {
   "cell_type": "markdown",
   "metadata": {},
   "source": [
    "__Create New DataFrame For Clustering__"
   ]
  },
  {
   "cell_type": "code",
   "execution_count": 18,
   "metadata": {},
   "outputs": [
    {
     "data": {
      "text/html": [
       "<div>\n",
       "<style scoped>\n",
       "    .dataframe tbody tr th:only-of-type {\n",
       "        vertical-align: middle;\n",
       "    }\n",
       "\n",
       "    .dataframe tbody tr th {\n",
       "        vertical-align: top;\n",
       "    }\n",
       "\n",
       "    .dataframe thead th {\n",
       "        text-align: right;\n",
       "    }\n",
       "</style>\n",
       "<table border=\"1\" class=\"dataframe\">\n",
       "  <thead>\n",
       "    <tr style=\"text-align: right;\">\n",
       "      <th></th>\n",
       "      <th>aa</th>\n",
       "      <th>aaa</th>\n",
       "      <th>ab</th>\n",
       "      <th>abandonment</th>\n",
       "      <th>abdomen</th>\n",
       "      <th>aberrant</th>\n",
       "      <th>abet</th>\n",
       "      <th>abide</th>\n",
       "      <th>ability</th>\n",
       "      <th>abiotic</th>\n",
       "      <th>...</th>\n",
       "      <th>zircon</th>\n",
       "      <th>zonal</th>\n",
       "      <th>zone</th>\n",
       "      <th>zoo</th>\n",
       "      <th>zoological</th>\n",
       "      <th>zoom</th>\n",
       "      <th>zoonotic</th>\n",
       "      <th>zooplankton</th>\n",
       "      <th>zurich</th>\n",
       "      <th>zwitterionic</th>\n",
       "    </tr>\n",
       "  </thead>\n",
       "  <tbody>\n",
       "    <tr>\n",
       "      <th>0</th>\n",
       "      <td>0.0</td>\n",
       "      <td>0.0</td>\n",
       "      <td>0.0</td>\n",
       "      <td>0.0</td>\n",
       "      <td>0.0</td>\n",
       "      <td>0.0</td>\n",
       "      <td>0.0</td>\n",
       "      <td>0.0</td>\n",
       "      <td>0.0</td>\n",
       "      <td>0.0</td>\n",
       "      <td>...</td>\n",
       "      <td>0.0</td>\n",
       "      <td>0.0</td>\n",
       "      <td>0.0</td>\n",
       "      <td>0.0</td>\n",
       "      <td>0.0</td>\n",
       "      <td>0.0</td>\n",
       "      <td>0.0</td>\n",
       "      <td>0.0</td>\n",
       "      <td>0.0</td>\n",
       "      <td>0.0</td>\n",
       "    </tr>\n",
       "    <tr>\n",
       "      <th>1</th>\n",
       "      <td>0.0</td>\n",
       "      <td>0.0</td>\n",
       "      <td>0.0</td>\n",
       "      <td>0.0</td>\n",
       "      <td>0.0</td>\n",
       "      <td>0.0</td>\n",
       "      <td>0.0</td>\n",
       "      <td>0.0</td>\n",
       "      <td>0.0</td>\n",
       "      <td>0.0</td>\n",
       "      <td>...</td>\n",
       "      <td>0.0</td>\n",
       "      <td>0.0</td>\n",
       "      <td>0.0</td>\n",
       "      <td>0.0</td>\n",
       "      <td>0.0</td>\n",
       "      <td>0.0</td>\n",
       "      <td>0.0</td>\n",
       "      <td>0.0</td>\n",
       "      <td>0.0</td>\n",
       "      <td>0.0</td>\n",
       "    </tr>\n",
       "  </tbody>\n",
       "</table>\n",
       "<p>2 rows × 13095 columns</p>\n",
       "</div>"
      ],
      "text/plain": [
       "    aa  aaa   ab  abandonment  abdomen  aberrant  abet  abide  ability  \\\n",
       "0  0.0  0.0  0.0          0.0      0.0       0.0   0.0    0.0      0.0   \n",
       "1  0.0  0.0  0.0          0.0      0.0       0.0   0.0    0.0      0.0   \n",
       "\n",
       "   abiotic  ...  zircon  zonal  zone  zoo  zoological  zoom  zoonotic  \\\n",
       "0      0.0  ...     0.0    0.0   0.0  0.0         0.0   0.0       0.0   \n",
       "1      0.0  ...     0.0    0.0   0.0  0.0         0.0   0.0       0.0   \n",
       "\n",
       "   zooplankton  zurich  zwitterionic  \n",
       "0          0.0     0.0           0.0  \n",
       "1          0.0     0.0           0.0  \n",
       "\n",
       "[2 rows x 13095 columns]"
      ]
     },
     "execution_count": 18,
     "metadata": {},
     "output_type": "execute_result"
    }
   ],
   "source": [
    "df_for_clustering = pd.DataFrame(data=X.toarray(), columns=v.get_feature_names())\n",
    "df_for_clustering.head(2)"
   ]
  },
  {
   "cell_type": "markdown",
   "metadata": {},
   "source": [
    "__Add The 'Top Word' and 'Top Word Frequency' To Each Row__"
   ]
  },
  {
   "cell_type": "code",
   "execution_count": 19,
   "metadata": {},
   "outputs": [
    {
     "data": {
      "text/html": [
       "<div>\n",
       "<style scoped>\n",
       "    .dataframe tbody tr th:only-of-type {\n",
       "        vertical-align: middle;\n",
       "    }\n",
       "\n",
       "    .dataframe tbody tr th {\n",
       "        vertical-align: top;\n",
       "    }\n",
       "\n",
       "    .dataframe thead th {\n",
       "        text-align: right;\n",
       "    }\n",
       "</style>\n",
       "<table border=\"1\" class=\"dataframe\">\n",
       "  <thead>\n",
       "    <tr style=\"text-align: right;\">\n",
       "      <th></th>\n",
       "      <th>AwardID</th>\n",
       "      <th>AwardTitle</th>\n",
       "      <th>Abstract</th>\n",
       "      <th>Abstract_Tokens</th>\n",
       "      <th>Tokens_String</th>\n",
       "      <th>Top_Word</th>\n",
       "      <th>Top_Word_Freq</th>\n",
       "    </tr>\n",
       "  </thead>\n",
       "  <tbody>\n",
       "    <tr>\n",
       "      <th>0</th>\n",
       "      <td>0110599</td>\n",
       "      <td>Collaborative Research Testing Affect Control ...</td>\n",
       "      <td>The investigators will conduct a of experiment...</td>\n",
       "      <td>[investigator, conduct, experiment, focus, cru...</td>\n",
       "      <td>investigator conduct experiment focus crucial ...</td>\n",
       "      <td>restorative</td>\n",
       "      <td>0.604667</td>\n",
       "    </tr>\n",
       "    <tr>\n",
       "      <th>1</th>\n",
       "      <td>0112426</td>\n",
       "      <td>Federal Cyber Service Initiative</td>\n",
       "      <td>This program produces a cadre of computer scie...</td>\n",
       "      <td>[produce, cadre, computer, scientist, strong, ...</td>\n",
       "      <td>produce cadre computer scientist strong specia...</td>\n",
       "      <td>assurance</td>\n",
       "      <td>0.355326</td>\n",
       "    </tr>\n",
       "  </tbody>\n",
       "</table>\n",
       "</div>"
      ],
      "text/plain": [
       "   AwardID                                         AwardTitle  \\\n",
       "0  0110599  Collaborative Research Testing Affect Control ...   \n",
       "1  0112426                   Federal Cyber Service Initiative   \n",
       "\n",
       "                                            Abstract  \\\n",
       "0  The investigators will conduct a of experiment...   \n",
       "1  This program produces a cadre of computer scie...   \n",
       "\n",
       "                                     Abstract_Tokens  \\\n",
       "0  [investigator, conduct, experiment, focus, cru...   \n",
       "1  [produce, cadre, computer, scientist, strong, ...   \n",
       "\n",
       "                                       Tokens_String     Top_Word  \\\n",
       "0  investigator conduct experiment focus crucial ...  restorative   \n",
       "1  produce cadre computer scientist strong specia...    assurance   \n",
       "\n",
       "   Top_Word_Freq  \n",
       "0       0.604667  \n",
       "1       0.355326  "
      ]
     },
     "execution_count": 19,
     "metadata": {},
     "output_type": "execute_result"
    }
   ],
   "source": [
    "df_sum2['Top_Word']=df_for_clustering.idxmax(axis=1)\n",
    "df_sum2['Top_Word_Freq']=df_for_clustering.max(axis=1)\n",
    "df_sum2.head(2)"
   ]
  },
  {
   "cell_type": "markdown",
   "metadata": {},
   "source": [
    "__KMeans Clustering__\n",
    "\n",
    "K-means clustering identifies k number of centroids, and then allocates every data point to the nearest cluster. So firstly, we need to find the __optimum k__."
   ]
  },
  {
   "cell_type": "code",
   "execution_count": 20,
   "metadata": {},
   "outputs": [
    {
     "name": "stdout",
     "output_type": "stream",
     "text": [
      "Modeling with k-means: 1 is finish...\n",
      "Modeling with k-means: 2 is finish...\n",
      "Modeling with k-means: 3 is finish...\n",
      "Modeling with k-means: 4 is finish...\n",
      "Modeling with k-means: 5 is finish...\n"
     ]
    },
    {
     "data": {
      "image/png": "[encoded data removed]",
      "text/plain": [
       "<Figure size 432x288 with 1 Axes>"
      ]
     },
     "metadata": {
      "needs_background": "light"
     },
     "output_type": "display_data"
    }
   ],
   "source": [
    "#Find optimum-k\n",
    "K_top=5 #max number in range\n",
    "\n",
    "sum_of_squared_distances = []\n",
    "\n",
    "K = range(1,K_top+1)\n",
    "for k in K:\n",
    "    k_means = KMeans(n_clusters=k)\n",
    "    model = k_means.fit(df_for_clustering)\n",
    "    sum_of_squared_distances.append(k_means.inertia_)\n",
    "    print('Modeling with k-means: {} is finish...'.format(k))\n",
    "    \n",
    "plt.plot(K, sum_of_squared_distances, 'bx-')\n",
    "plt.xlabel('k')\n",
    "plt.ylabel('sum_of_squared_distances')\n",
    "plt.title('Elbow method for optimal k')\n",
    "plt.show()"
   ]
  },
  {
   "cell_type": "code",
   "execution_count": 21,
   "metadata": {},
   "outputs": [],
   "source": [
    "#To evaluate the plot, we understood that optimum-k should be;\n",
    "optimum_k=3"
   ]
  },
  {
   "cell_type": "code",
   "execution_count": 22,
   "metadata": {},
   "outputs": [
    {
     "data": {
      "text/plain": [
       "array([2, 0, 0, ..., 2, 2, 2])"
      ]
     },
     "execution_count": 22,
     "metadata": {},
     "output_type": "execute_result"
    }
   ],
   "source": [
    "#define the object\n",
    "k_means = KMeans(n_clusters=optimum_k)\n",
    "\n",
    "#Run the clustering algorithm\n",
    "model = k_means.fit(df_for_clustering)\n",
    "\n",
    "#Generate cluster predictions and store in y_hat\n",
    "y_hat = k_means.predict(X)\n",
    "y_hat"
   ]
  },
  {
   "cell_type": "markdown",
   "metadata": {},
   "source": [
    "__Save The Result__"
   ]
  },
  {
   "cell_type": "code",
   "execution_count": 23,
   "metadata": {},
   "outputs": [
    {
     "name": "stdout",
     "output_type": "stream",
     "text": [
      "Topic 0: Total research paper is 691\n",
      "Topic 1: Total research paper is 1569\n",
      "Topic 2: Total research paper is 2293\n"
     ]
    },
    {
     "data": {
      "text/html": [
       "<div>\n",
       "<style scoped>\n",
       "    .dataframe tbody tr th:only-of-type {\n",
       "        vertical-align: middle;\n",
       "    }\n",
       "\n",
       "    .dataframe tbody tr th {\n",
       "        vertical-align: top;\n",
       "    }\n",
       "\n",
       "    .dataframe thead th {\n",
       "        text-align: right;\n",
       "    }\n",
       "</style>\n",
       "<table border=\"1\" class=\"dataframe\">\n",
       "  <thead>\n",
       "    <tr style=\"text-align: right;\">\n",
       "      <th></th>\n",
       "      <th>AwardID</th>\n",
       "      <th>AwardTitle</th>\n",
       "      <th>Abstract</th>\n",
       "      <th>Abstract_Tokens</th>\n",
       "      <th>Tokens_String</th>\n",
       "      <th>Top_Word</th>\n",
       "      <th>Top_Word_Freq</th>\n",
       "      <th>Label</th>\n",
       "      <th>Year</th>\n",
       "    </tr>\n",
       "  </thead>\n",
       "  <tbody>\n",
       "    <tr>\n",
       "      <th>0</th>\n",
       "      <td>0110599</td>\n",
       "      <td>Collaborative Research Testing Affect Control ...</td>\n",
       "      <td>The investigators will conduct a of experiment...</td>\n",
       "      <td>[investigator, conduct, experiment, focus, cru...</td>\n",
       "      <td>investigator conduct experiment focus crucial ...</td>\n",
       "      <td>restorative</td>\n",
       "      <td>0.604667</td>\n",
       "      <td>2</td>\n",
       "      <td>2001</td>\n",
       "    </tr>\n",
       "    <tr>\n",
       "      <th>1</th>\n",
       "      <td>0112426</td>\n",
       "      <td>Federal Cyber Service Initiative</td>\n",
       "      <td>This program produces a cadre of computer scie...</td>\n",
       "      <td>[produce, cadre, computer, scientist, strong, ...</td>\n",
       "      <td>produce cadre computer scientist strong specia...</td>\n",
       "      <td>assurance</td>\n",
       "      <td>0.355326</td>\n",
       "      <td>0</td>\n",
       "      <td>2001</td>\n",
       "    </tr>\n",
       "  </tbody>\n",
       "</table>\n",
       "</div>"
      ],
      "text/plain": [
       "   AwardID                                         AwardTitle  \\\n",
       "0  0110599  Collaborative Research Testing Affect Control ...   \n",
       "1  0112426                   Federal Cyber Service Initiative   \n",
       "\n",
       "                                            Abstract  \\\n",
       "0  The investigators will conduct a of experiment...   \n",
       "1  This program produces a cadre of computer scie...   \n",
       "\n",
       "                                     Abstract_Tokens  \\\n",
       "0  [investigator, conduct, experiment, focus, cru...   \n",
       "1  [produce, cadre, computer, scientist, strong, ...   \n",
       "\n",
       "                                       Tokens_String     Top_Word  \\\n",
       "0  investigator conduct experiment focus crucial ...  restorative   \n",
       "1  produce cadre computer scientist strong specia...    assurance   \n",
       "\n",
       "   Top_Word_Freq  Label  Year  \n",
       "0       0.604667      2  2001  \n",
       "1       0.355326      0  2001  "
      ]
     },
     "execution_count": 23,
     "metadata": {},
     "output_type": "execute_result"
    }
   ],
   "source": [
    "labels=list(y_hat)\n",
    "df_sum2['Label']=labels #define label column (feature)\n",
    "df_sum2['Year']=df_sum['Year']\n",
    "df_sum2.to_csv('data/df_sum_clustering.csv',sep=';')\n",
    "for n in range(optimum_k):\n",
    "    print('Topic {}: Total research paper is {}'.format(n, df_sum2[df_sum2['Label']==n].shape[0]))\n",
    "df_sum2.head(2)"
   ]
  },
  {
   "cell_type": "markdown",
   "metadata": {},
   "source": [
    "__Create and Save New DataFrame with Topic Words__"
   ]
  },
  {
   "cell_type": "code",
   "execution_count": 24,
   "metadata": {},
   "outputs": [
    {
     "data": {
      "text/html": [
       "<div>\n",
       "<style scoped>\n",
       "    .dataframe tbody tr th:only-of-type {\n",
       "        vertical-align: middle;\n",
       "    }\n",
       "\n",
       "    .dataframe tbody tr th {\n",
       "        vertical-align: top;\n",
       "    }\n",
       "\n",
       "    .dataframe thead th {\n",
       "        text-align: right;\n",
       "    }\n",
       "</style>\n",
       "<table border=\"1\" class=\"dataframe\">\n",
       "  <thead>\n",
       "    <tr style=\"text-align: right;\">\n",
       "      <th></th>\n",
       "      <th>TopicWords</th>\n",
       "      <th>TopicWord</th>\n",
       "      <th>TopicTitle</th>\n",
       "      <th>TopicAbstract</th>\n",
       "    </tr>\n",
       "  </thead>\n",
       "  <tbody>\n",
       "    <tr>\n",
       "      <th>0</th>\n",
       "      <td>[assurance, assurance, externship, program, ex...</td>\n",
       "      <td>[forensics, creat, clinic]</td>\n",
       "      <td>[\"Gamified\" Digital Forensics Course Modules f...</td>\n",
       "      <td>[Cybersecurity and forensics are critical area...</td>\n",
       "    </tr>\n",
       "    <tr>\n",
       "      <th>1</th>\n",
       "      <td>[arkansas, geoscience, geoscience, history, hi...</td>\n",
       "      <td>[gateway, indigenous, combustion, hydrologic, ...</td>\n",
       "      <td>[COLLABORATIVE RESEARCH: Development of Inform...</td>\n",
       "      <td>[0412859KumarThis proposal will advance integr...</td>\n",
       "    </tr>\n",
       "    <tr>\n",
       "      <th>2</th>\n",
       "      <td>[restorative, packet, chaotic, algebra, sensor...</td>\n",
       "      <td>[textbook, rout, indicator, violation, wind, w...</td>\n",
       "      <td>[EXP: Attention-Aware Cyberlearning to Detect ...</td>\n",
       "      <td>[The ability to concentrate on tasks is critic...</td>\n",
       "    </tr>\n",
       "  </tbody>\n",
       "</table>\n",
       "</div>"
      ],
      "text/plain": [
       "                                          TopicWords  \\\n",
       "0  [assurance, assurance, externship, program, ex...   \n",
       "1  [arkansas, geoscience, geoscience, history, hi...   \n",
       "2  [restorative, packet, chaotic, algebra, sensor...   \n",
       "\n",
       "                                           TopicWord  \\\n",
       "0                         [forensics, creat, clinic]   \n",
       "1  [gateway, indigenous, combustion, hydrologic, ...   \n",
       "2  [textbook, rout, indicator, violation, wind, w...   \n",
       "\n",
       "                                          TopicTitle  \\\n",
       "0  [\"Gamified\" Digital Forensics Course Modules f...   \n",
       "1  [COLLABORATIVE RESEARCH: Development of Inform...   \n",
       "2  [EXP: Attention-Aware Cyberlearning to Detect ...   \n",
       "\n",
       "                                       TopicAbstract  \n",
       "0  [Cybersecurity and forensics are critical area...  \n",
       "1  [0412859KumarThis proposal will advance integr...  \n",
       "2  [The ability to concentrate on tasks is critic...  "
      ]
     },
     "execution_count": 24,
     "metadata": {},
     "output_type": "execute_result"
    }
   ],
   "source": [
    "df_cluster_words = pd.DataFrame(columns=['TopicWords','TopicWord','TopicTitle','TopicAbstract'], index=range(optimum_k))\n",
    "for n in range(optimum_k):\n",
    "    df_cluster_words.loc[n].TopicWords=list(df_sum2[df_sum2['Label']==n]['Top_Word'])\n",
    "    df_cluster_words.loc[n].TopicWord=list(set(df_sum2[(df_sum2['Label']==n)&(df_sum2['Top_Word_Freq']>0.75)]['Top_Word'].values))\n",
    "    df_cluster_words.loc[n].TopicTitle=df_sum2[df_sum2['Label']==n].sort_values(by='Top_Word_Freq',ascending=False)[:1]['AwardTitle'].values\n",
    "    df_cluster_words.loc[n].TopicAbstract=df_sum2[df_sum2['Label']==n].sort_values(by='Top_Word_Freq',ascending=False)[:1]['Abstract'].values\n",
    "df_cluster_words.to_csv('data/df_cluster_words.csv',sep=';')\n",
    "df_cluster_words"
   ]
  },
  {
   "cell_type": "markdown",
   "metadata": {},
   "source": [
    "__Plotting Word Cloud for Clustering__"
   ]
  },
  {
   "cell_type": "code",
   "execution_count": 26,
   "metadata": {},
   "outputs": [
    {
     "name": "stdout",
     "output_type": "stream",
     "text": [
      "Topic 0: Total research paper is 691\n",
      "Topic 1: Total research paper is 1569\n",
      "Topic 2: Total research paper is 2293\n"
     ]
    },
    {
     "data": {
      "image/png": "[encoded data removed]",
      "text/plain": [
       "<Figure size 1080x1080 with 3 Axes>"
      ]
     },
     "metadata": {
      "needs_background": "light"
     },
     "output_type": "display_data"
    }
   ],
   "source": [
    "# 1. Wordcloud of Top N words in each topic\n",
    "from matplotlib import pyplot as plt\n",
    "from wordcloud import WordCloud, STOPWORDS\n",
    "import matplotlib.colors as mcolors\n",
    "\n",
    "cols = [color for name, color in mcolors.TABLEAU_COLORS.items()]\n",
    "\n",
    "cloud = WordCloud(\n",
    "                  background_color='white',\n",
    "                  font_path='font/CabinSketch-Bold.ttf', #we copied specific font to the folder\n",
    "                  width=2500,\n",
    "                  height=1800,\n",
    "                  max_words=20,\n",
    "                  colormap='tab10',\n",
    "                  color_func=lambda *args, **kwargs: cols[i],\n",
    "                  prefer_horizontal=1.0)\n",
    "\n",
    "fig, axes = plt.subplots(1, 3, figsize=(15,15), sharex=True, sharey=True)\n",
    "\n",
    "for i, ax in enumerate(axes.flatten()):\n",
    "    fig.add_subplot(ax)\n",
    "    topic_words = ', '.join(list(dict(nltk.FreqDist(df_cluster_words['TopicWords'][i]).most_common(20))))\n",
    "    cloud.generate(topic_words)\n",
    "    plt.gca().imshow(cloud)\n",
    "    plt.gca().set_title('Topic ' + str(i), fontdict=dict(size=16))\n",
    "    plt.gca().axis('off')\n",
    "    print('Topic {}: Total research paper is {}'.format(i, df_sum2[df_sum2['Label']==i].shape[0]))\n",
    "\n",
    "plt.subplots_adjust(wspace=0, hspace=0)\n",
    "plt.axis('off')\n",
    "plt.margins(x=0, y=0)\n",
    "plt.tight_layout()\n",
    "plt.savefig('plots/NSF_cyber_clustering.png')\n",
    "plt.show()"
   ]
  },
  {
   "cell_type": "markdown",
   "metadata": {},
   "source": [
    "### 2-) Word Frequency"
   ]
  },
  {
   "cell_type": "markdown",
   "metadata": {},
   "source": [
    "__Reload The Data__"
   ]
  },
  {
   "cell_type": "code",
   "execution_count": 27,
   "metadata": {},
   "outputs": [
    {
     "data": {
      "text/html": [
       "<div>\n",
       "<style scoped>\n",
       "    .dataframe tbody tr th:only-of-type {\n",
       "        vertical-align: middle;\n",
       "    }\n",
       "\n",
       "    .dataframe tbody tr th {\n",
       "        vertical-align: top;\n",
       "    }\n",
       "\n",
       "    .dataframe thead th {\n",
       "        text-align: right;\n",
       "    }\n",
       "</style>\n",
       "<table border=\"1\" class=\"dataframe\">\n",
       "  <thead>\n",
       "    <tr style=\"text-align: right;\">\n",
       "      <th></th>\n",
       "      <th>AwardID</th>\n",
       "      <th>AwardTitle</th>\n",
       "      <th>Abstract</th>\n",
       "      <th>Abstract_Tokens</th>\n",
       "      <th>Tokens_String</th>\n",
       "      <th>Top_Word</th>\n",
       "      <th>Top_Word_Freq</th>\n",
       "      <th>Label</th>\n",
       "      <th>Year</th>\n",
       "    </tr>\n",
       "  </thead>\n",
       "  <tbody>\n",
       "    <tr>\n",
       "      <th>0</th>\n",
       "      <td>110599</td>\n",
       "      <td>Collaborative Research Testing Affect Control ...</td>\n",
       "      <td>The investigators will conduct a of experiment...</td>\n",
       "      <td>['investigator', 'conduct', 'experiment', 'foc...</td>\n",
       "      <td>investigator conduct experiment focus crucial ...</td>\n",
       "      <td>restorative</td>\n",
       "      <td>0.604667</td>\n",
       "      <td>2</td>\n",
       "      <td>2001</td>\n",
       "    </tr>\n",
       "    <tr>\n",
       "      <th>1</th>\n",
       "      <td>112426</td>\n",
       "      <td>Federal Cyber Service Initiative</td>\n",
       "      <td>This program produces a cadre of computer scie...</td>\n",
       "      <td>['produce', 'cadre', 'computer', 'scientist', ...</td>\n",
       "      <td>produce cadre computer scientist strong specia...</td>\n",
       "      <td>assurance</td>\n",
       "      <td>0.355326</td>\n",
       "      <td>0</td>\n",
       "      <td>2001</td>\n",
       "    </tr>\n",
       "  </tbody>\n",
       "</table>\n",
       "</div>"
      ],
      "text/plain": [
       "   AwardID                                         AwardTitle  \\\n",
       "0   110599  Collaborative Research Testing Affect Control ...   \n",
       "1   112426                   Federal Cyber Service Initiative   \n",
       "\n",
       "                                            Abstract  \\\n",
       "0  The investigators will conduct a of experiment...   \n",
       "1  This program produces a cadre of computer scie...   \n",
       "\n",
       "                                     Abstract_Tokens  \\\n",
       "0  ['investigator', 'conduct', 'experiment', 'foc...   \n",
       "1  ['produce', 'cadre', 'computer', 'scientist', ...   \n",
       "\n",
       "                                       Tokens_String     Top_Word  \\\n",
       "0  investigator conduct experiment focus crucial ...  restorative   \n",
       "1  produce cadre computer scientist strong specia...    assurance   \n",
       "\n",
       "   Top_Word_Freq  Label  Year  \n",
       "0       0.604667      2  2001  \n",
       "1       0.355326      0  2001  "
      ]
     },
     "execution_count": 27,
     "metadata": {},
     "output_type": "execute_result"
    }
   ],
   "source": [
    "df_sum2=pd.read_csv('data/df_sum_clustering.csv', sep=';').drop(['Unnamed: 0'],axis=1)\n",
    "df_sum2.head(2)"
   ]
  },
  {
   "cell_type": "markdown",
   "metadata": {},
   "source": [
    "__Change the Tokens Type as 'list'__"
   ]
  },
  {
   "cell_type": "code",
   "execution_count": 28,
   "metadata": {},
   "outputs": [
    {
     "data": {
      "text/html": [
       "<div>\n",
       "<style scoped>\n",
       "    .dataframe tbody tr th:only-of-type {\n",
       "        vertical-align: middle;\n",
       "    }\n",
       "\n",
       "    .dataframe tbody tr th {\n",
       "        vertical-align: top;\n",
       "    }\n",
       "\n",
       "    .dataframe thead th {\n",
       "        text-align: right;\n",
       "    }\n",
       "</style>\n",
       "<table border=\"1\" class=\"dataframe\">\n",
       "  <thead>\n",
       "    <tr style=\"text-align: right;\">\n",
       "      <th></th>\n",
       "      <th>AwardID</th>\n",
       "      <th>AwardTitle</th>\n",
       "      <th>Abstract</th>\n",
       "      <th>Abstract_Tokens</th>\n",
       "      <th>Tokens_String</th>\n",
       "      <th>Top_Word</th>\n",
       "      <th>Top_Word_Freq</th>\n",
       "      <th>Label</th>\n",
       "      <th>Year</th>\n",
       "    </tr>\n",
       "  </thead>\n",
       "  <tbody>\n",
       "    <tr>\n",
       "      <th>0</th>\n",
       "      <td>110599</td>\n",
       "      <td>Collaborative Research Testing Affect Control ...</td>\n",
       "      <td>The investigators will conduct a of experiment...</td>\n",
       "      <td>[investigator, conduct, experiment, focus, cru...</td>\n",
       "      <td>investigator conduct experiment focus crucial ...</td>\n",
       "      <td>restorative</td>\n",
       "      <td>0.604667</td>\n",
       "      <td>2</td>\n",
       "      <td>2001</td>\n",
       "    </tr>\n",
       "    <tr>\n",
       "      <th>1</th>\n",
       "      <td>112426</td>\n",
       "      <td>Federal Cyber Service Initiative</td>\n",
       "      <td>This program produces a cadre of computer scie...</td>\n",
       "      <td>[produce, cadre, computer, scientist, strong, ...</td>\n",
       "      <td>produce cadre computer scientist strong specia...</td>\n",
       "      <td>assurance</td>\n",
       "      <td>0.355326</td>\n",
       "      <td>0</td>\n",
       "      <td>2001</td>\n",
       "    </tr>\n",
       "  </tbody>\n",
       "</table>\n",
       "</div>"
      ],
      "text/plain": [
       "   AwardID                                         AwardTitle  \\\n",
       "0   110599  Collaborative Research Testing Affect Control ...   \n",
       "1   112426                   Federal Cyber Service Initiative   \n",
       "\n",
       "                                            Abstract  \\\n",
       "0  The investigators will conduct a of experiment...   \n",
       "1  This program produces a cadre of computer scie...   \n",
       "\n",
       "                                     Abstract_Tokens  \\\n",
       "0  [investigator, conduct, experiment, focus, cru...   \n",
       "1  [produce, cadre, computer, scientist, strong, ...   \n",
       "\n",
       "                                       Tokens_String     Top_Word  \\\n",
       "0  investigator conduct experiment focus crucial ...  restorative   \n",
       "1  produce cadre computer scientist strong specia...    assurance   \n",
       "\n",
       "   Top_Word_Freq  Label  Year  \n",
       "0       0.604667      2  2001  \n",
       "1       0.355326      0  2001  "
      ]
     },
     "execution_count": 28,
     "metadata": {},
     "output_type": "execute_result"
    }
   ],
   "source": [
    "df_sum2['Abstract_Tokens']=df_sum2['Abstract_Tokens'].str.replace(\"'\",\"\") #Remove the quotes\n",
    "df_sum2['Abstract_Tokens'] = df_sum2['Abstract_Tokens'].apply(lambda x: x[1:-1].split(', ')) #Convert string to list\n",
    "df_sum2.head(2)"
   ]
  },
  {
   "cell_type": "code",
   "execution_count": 29,
   "metadata": {},
   "outputs": [
    {
     "name": "stdout",
     "output_type": "stream",
     "text": [
      "Total words in abstract: 813953\n"
     ]
    }
   ],
   "source": [
    "abstract_keyword_list=[]\n",
    "for n in range(df_sum2.shape[0]):\n",
    "    abstract_keyword_list.extend(df_sum2['Abstract_Tokens'][n])\n",
    "print('Total words in abstract: {}'.format(len(abstract_keyword_list)))"
   ]
  },
  {
   "cell_type": "markdown",
   "metadata": {},
   "source": [
    "__Counting The Words Frequency__\n",
    "\n",
    "Pay attention!!! The total number of unique words in the abstract should be equal the 'tf-idf vectorize' columns number. Because both of them use the same counting method."
   ]
  },
  {
   "cell_type": "code",
   "execution_count": 30,
   "metadata": {},
   "outputs": [
    {
     "name": "stdout",
     "output_type": "stream",
     "text": [
      "Total unique words in abstract: 13095\n"
     ]
    }
   ],
   "source": [
    "# Words Frequency\n",
    "abstract_freq_dict=nltk.FreqDist(abstract_keyword_list)\n",
    "print('Total unique words in abstract: {}'.format(len(abstract_freq_dict)))"
   ]
  },
  {
   "cell_type": "code",
   "execution_count": 31,
   "metadata": {},
   "outputs": [
    {
     "name": "stdout",
     "output_type": "stream",
     "text": [
      "First 50 frequency words:\n",
      "[('project', 12591), ('research', 11856), ('data', 8985), ('system', 8771), ('student', 7762), ('use', 7377), ('support', 5141), ('science', 5082), ('provide', 4938), ('model', 4699), ('include', 4467), ('community', 4236), ('design', 4194), ('develop', 4193), ('network', 4171), ('learn', 3728), ('impact', 3664), ('development', 3549), ('technology', 3423), ('security', 3350), ('tool', 3316), ('engineering', 2964), ('software', 2914), ('education', 2830), ('information', 2793), ('application', 2700), ('work', 2622), ('researcher', 2563), ('infrastructure', 2506), ('compute', 2473), ('resource', 2470), ('need', 2466), ('cybersecurity', 2443), ('cyberinfrastructure', 2419), ('material', 2372), ('study', 2357), ('scientific', 2349), ('activity', 2333), ('enable', 2326), ('understand', 2319), ('result', 2294), ('award', 2250), ('computational', 2225), ('workshop', 2206), ('control', 2180), ('make', 2174), ('analysis', 2162), ('address', 2141), ('method', 2083), ('computer', 2082)]\n"
     ]
    }
   ],
   "source": [
    "#Frequencies of most common 50 words\n",
    "print('First 50 frequency words:\\n{}'.format(abstract_freq_dict.most_common(50)))"
   ]
  },
  {
   "cell_type": "code",
   "execution_count": 32,
   "metadata": {},
   "outputs": [
    {
     "name": "stdout",
     "output_type": "stream",
     "text": [
      "The frequency of word 'internet' is: 720\n"
     ]
    }
   ],
   "source": [
    "#Frequency of a specific word\n",
    "print(\"The frequency of word 'internet' is: {}\".format(abstract_freq_dict['internet']))"
   ]
  },
  {
   "cell_type": "code",
   "execution_count": 33,
   "metadata": {},
   "outputs": [
    {
     "data": {
      "text/html": [
       "<div>\n",
       "<style scoped>\n",
       "    .dataframe tbody tr th:only-of-type {\n",
       "        vertical-align: middle;\n",
       "    }\n",
       "\n",
       "    .dataframe tbody tr th {\n",
       "        vertical-align: top;\n",
       "    }\n",
       "\n",
       "    .dataframe thead th {\n",
       "        text-align: right;\n",
       "    }\n",
       "</style>\n",
       "<table border=\"1\" class=\"dataframe\">\n",
       "  <thead>\n",
       "    <tr style=\"text-align: right;\">\n",
       "      <th></th>\n",
       "      <th>Count</th>\n",
       "    </tr>\n",
       "    <tr>\n",
       "      <th>Words</th>\n",
       "      <th></th>\n",
       "    </tr>\n",
       "  </thead>\n",
       "  <tbody>\n",
       "    <tr>\n",
       "      <th>project</th>\n",
       "      <td>12591</td>\n",
       "    </tr>\n",
       "    <tr>\n",
       "      <th>research</th>\n",
       "      <td>11856</td>\n",
       "    </tr>\n",
       "  </tbody>\n",
       "</table>\n",
       "</div>"
      ],
      "text/plain": [
       "          Count\n",
       "Words          \n",
       "project   12591\n",
       "research  11856"
      ]
     },
     "execution_count": 33,
     "metadata": {},
     "output_type": "execute_result"
    }
   ],
   "source": [
    "#Create FreqDist DataFrame\n",
    "df_FreqDist=pd.DataFrame({'Words':list(abstract_freq_dict.keys()),'Count':list(abstract_freq_dict.values())})\n",
    "df_FreqDist.sort_values(by=['Count'],ascending=False,inplace=True)\n",
    "df_FreqDist.set_index('Words',inplace=True)\n",
    "df_FreqDist.head(2)"
   ]
  },
  {
   "cell_type": "markdown",
   "metadata": {},
   "source": [
    "__Create a Dataframe for Bar Chart Race__\n",
    "\n",
    "We need a new dataframe with the most common 50 words of each year. We use frequency distribution to find the most common words."
   ]
  },
  {
   "cell_type": "code",
   "execution_count": 34,
   "metadata": {},
   "outputs": [
    {
     "name": "stdout",
     "output_type": "stream",
     "text": [
      "Total unique tokens: 509\n"
     ]
    },
    {
     "data": {
      "text/html": [
       "<div>\n",
       "<style scoped>\n",
       "    .dataframe tbody tr th:only-of-type {\n",
       "        vertical-align: middle;\n",
       "    }\n",
       "\n",
       "    .dataframe tbody tr th {\n",
       "        vertical-align: top;\n",
       "    }\n",
       "\n",
       "    .dataframe thead th {\n",
       "        text-align: right;\n",
       "    }\n",
       "</style>\n",
       "<table border=\"1\" class=\"dataframe\">\n",
       "  <thead>\n",
       "    <tr style=\"text-align: right;\">\n",
       "      <th></th>\n",
       "      <th>1985</th>\n",
       "      <th>1986</th>\n",
       "      <th>1987</th>\n",
       "      <th>1988</th>\n",
       "      <th>1989</th>\n",
       "      <th>1990</th>\n",
       "      <th>1991</th>\n",
       "      <th>1992</th>\n",
       "      <th>1993</th>\n",
       "      <th>1994</th>\n",
       "      <th>...</th>\n",
       "      <th>2011</th>\n",
       "      <th>2012</th>\n",
       "      <th>2013</th>\n",
       "      <th>2014</th>\n",
       "      <th>2015</th>\n",
       "      <th>2016</th>\n",
       "      <th>2017</th>\n",
       "      <th>2018</th>\n",
       "      <th>2019</th>\n",
       "      <th>2020</th>\n",
       "    </tr>\n",
       "  </thead>\n",
       "  <tbody>\n",
       "    <tr>\n",
       "      <th>system</th>\n",
       "      <td>5</td>\n",
       "      <td>2</td>\n",
       "      <td>3</td>\n",
       "      <td>4</td>\n",
       "      <td>4</td>\n",
       "      <td>1</td>\n",
       "      <td>1</td>\n",
       "      <td>1</td>\n",
       "      <td>1</td>\n",
       "      <td>1</td>\n",
       "      <td>...</td>\n",
       "      <td>354</td>\n",
       "      <td>438</td>\n",
       "      <td>518</td>\n",
       "      <td>602</td>\n",
       "      <td>952</td>\n",
       "      <td>773</td>\n",
       "      <td>967</td>\n",
       "      <td>775</td>\n",
       "      <td>785</td>\n",
       "      <td>434</td>\n",
       "    </tr>\n",
       "    <tr>\n",
       "      <th>robot</th>\n",
       "      <td>4</td>\n",
       "      <td>0</td>\n",
       "      <td>0</td>\n",
       "      <td>0</td>\n",
       "      <td>0</td>\n",
       "      <td>5</td>\n",
       "      <td>0</td>\n",
       "      <td>0</td>\n",
       "      <td>0</td>\n",
       "      <td>0</td>\n",
       "      <td>...</td>\n",
       "      <td>7</td>\n",
       "      <td>5</td>\n",
       "      <td>26</td>\n",
       "      <td>14</td>\n",
       "      <td>43</td>\n",
       "      <td>12</td>\n",
       "      <td>36</td>\n",
       "      <td>33</td>\n",
       "      <td>25</td>\n",
       "      <td>19</td>\n",
       "    </tr>\n",
       "  </tbody>\n",
       "</table>\n",
       "<p>2 rows × 36 columns</p>\n",
       "</div>"
      ],
      "text/plain": [
       "       1985 1986 1987 1988 1989 1990 1991 1992 1993 1994  ... 2011 2012 2013  \\\n",
       "system    5    2    3    4    4    1    1    1    1    1  ...  354  438  518   \n",
       "robot     4    0    0    0    0    5    0    0    0    0  ...    7    5   26   \n",
       "\n",
       "       2014 2015 2016 2017 2018 2019 2020  \n",
       "system  602  952  773  967  775  785  434  \n",
       "robot    14   43   12   36   33   25   19  \n",
       "\n",
       "[2 rows x 36 columns]"
      ]
     },
     "execution_count": 34,
     "metadata": {},
     "output_type": "execute_result"
    }
   ],
   "source": [
    "#Define first and last year\n",
    "year_first=df_sum2['Year'].min()\n",
    "year_last=df_sum2['Year'].max()\n",
    "\n",
    "#Create index list with most common 50 words of each year\n",
    "index_list=[]\n",
    "for n in range(year_first, year_last+1):\n",
    "    try:\n",
    "        index_list.extend(list(dict(nltk.FreqDist(df_sum2[df_sum2['Year']==n]['Abstract_Tokens'].sum()).most_common(50))))\n",
    "        index_list=list(set(index_list))\n",
    "    except:\n",
    "        None\n",
    "print('Total unique tokens: {}'.format(len(index_list)))\n",
    "\n",
    "#create column list with data period\n",
    "columns_list=np.arange(year_first, year_last+1)\n",
    "\n",
    "#Create empty dataframe with index and column names\n",
    "df_FreqDist50_yearly=pd.DataFrame(index=index_list, columns=columns_list)\n",
    "\n",
    "#Calculating the Word Frequency of most common 50 tokens for each year  \n",
    "for i in range(year_first, year_last+1):\n",
    "    try:\n",
    "        tokens_freq_dict=dict(nltk.FreqDist(df_sum2[df_sum2['Year']==i]['Abstract_Tokens'].sum()).most_common())\n",
    "        for n in index_list:\n",
    "            if n in tokens_freq_dict:\n",
    "                df_FreqDist50_yearly.loc[n][i]=tokens_freq_dict[n]\n",
    "            else:\n",
    "                df_FreqDist50_yearly.loc[n][i]=0\n",
    "    except:\n",
    "        df_FreqDist50_yearly[i]=df_FreqDist50_yearly[i-1] #clone the previous year value if there is no article on that year\n",
    "        \n",
    "df_FreqDist50_yearly.sort_values(by=year_first, ascending=False, inplace=True) #sort the index by the first column\n",
    "\n",
    "df_FreqDist50_yearly.head(2)"
   ]
  },
  {
   "cell_type": "markdown",
   "metadata": {},
   "source": [
    "__Save The Results__"
   ]
  },
  {
   "cell_type": "code",
   "execution_count": 35,
   "metadata": {},
   "outputs": [
    {
     "name": "stdout",
     "output_type": "stream",
     "text": [
      "Word Frequency Dataframe was saved with 13095 rows and 1 columns\n",
      "Word Frequency Dataframe/Yearly was saved with 509 rows and 36 columns\n"
     ]
    }
   ],
   "source": [
    "df_FreqDist.to_csv('data/FreqDist.csv', sep=';')\n",
    "df_FreqDist50_yearly.to_csv('data/FreqDist50_yearly.csv', sep=';')\n",
    "df_sum2.to_csv('data/df_sum_clustering.csv',sep=';')\n",
    "print('Word Frequency Dataframe was saved with {} rows and {} columns'.format(df_FreqDist.shape[0],df_FreqDist.shape[1]))\n",
    "print('Word Frequency Dataframe/Yearly was saved with {} rows and {} columns'.format(df_FreqDist50_yearly.shape[0],\n",
    "                                                                                    df_FreqDist50_yearly.shape[1]))"
   ]
  },
  {
   "cell_type": "markdown",
   "metadata": {},
   "source": [
    "### 3-) Analyse of Words"
   ]
  },
  {
   "cell_type": "markdown",
   "metadata": {},
   "source": [
    "__Reload The Data__"
   ]
  },
  {
   "cell_type": "code",
   "execution_count": 134,
   "metadata": {},
   "outputs": [],
   "source": [
    "df_FreqDist= pd.read_csv('data/FreqDist.csv', sep=';', index_col='Words')\n",
    "df_sum2=pd.read_csv('data/df_sum_clustering.csv',sep=';').drop(['Unnamed: 0'],axis=1)\n",
    "df_sum2['Abstract_Tokens']=df_sum2['Abstract_Tokens'].str.replace(\"'\",\"\") #Remove the quotes\n",
    "df_sum2['Abstract_Tokens'] = df_sum2['Abstract_Tokens'].apply(lambda x: x[1:-1].split(', ')) #Convert string to list"
   ]
  },
  {
   "cell_type": "markdown",
   "metadata": {},
   "source": [
    "__3.1) Preprocessing Phase__\n",
    "\n",
    "__Enhance The Frequency Distribution DataFrame by Yearly__"
   ]
  },
  {
   "cell_type": "code",
   "execution_count": 135,
   "metadata": {},
   "outputs": [
    {
     "data": {
      "text/html": [
       "<div>\n",
       "<style scoped>\n",
       "    .dataframe tbody tr th:only-of-type {\n",
       "        vertical-align: middle;\n",
       "    }\n",
       "\n",
       "    .dataframe tbody tr th {\n",
       "        vertical-align: top;\n",
       "    }\n",
       "\n",
       "    .dataframe thead th {\n",
       "        text-align: right;\n",
       "    }\n",
       "</style>\n",
       "<table border=\"1\" class=\"dataframe\">\n",
       "  <thead>\n",
       "    <tr style=\"text-align: right;\">\n",
       "      <th></th>\n",
       "      <th>Count</th>\n",
       "      <th>1985</th>\n",
       "      <th>1986</th>\n",
       "      <th>1987</th>\n",
       "      <th>1988</th>\n",
       "      <th>1989</th>\n",
       "      <th>1990</th>\n",
       "      <th>1991</th>\n",
       "      <th>1992</th>\n",
       "      <th>1993</th>\n",
       "      <th>...</th>\n",
       "      <th>2011</th>\n",
       "      <th>2012</th>\n",
       "      <th>2013</th>\n",
       "      <th>2014</th>\n",
       "      <th>2015</th>\n",
       "      <th>2016</th>\n",
       "      <th>2017</th>\n",
       "      <th>2018</th>\n",
       "      <th>2019</th>\n",
       "      <th>2020</th>\n",
       "    </tr>\n",
       "    <tr>\n",
       "      <th>Words</th>\n",
       "      <th></th>\n",
       "      <th></th>\n",
       "      <th></th>\n",
       "      <th></th>\n",
       "      <th></th>\n",
       "      <th></th>\n",
       "      <th></th>\n",
       "      <th></th>\n",
       "      <th></th>\n",
       "      <th></th>\n",
       "      <th></th>\n",
       "      <th></th>\n",
       "      <th></th>\n",
       "      <th></th>\n",
       "      <th></th>\n",
       "      <th></th>\n",
       "      <th></th>\n",
       "      <th></th>\n",
       "      <th></th>\n",
       "      <th></th>\n",
       "      <th></th>\n",
       "    </tr>\n",
       "  </thead>\n",
       "  <tbody>\n",
       "    <tr>\n",
       "      <th>project</th>\n",
       "      <td>12591</td>\n",
       "      <td>1</td>\n",
       "      <td>1</td>\n",
       "      <td>1</td>\n",
       "      <td>0</td>\n",
       "      <td>0</td>\n",
       "      <td>1</td>\n",
       "      <td>0</td>\n",
       "      <td>2</td>\n",
       "      <td>0</td>\n",
       "      <td>...</td>\n",
       "      <td>582</td>\n",
       "      <td>609</td>\n",
       "      <td>768</td>\n",
       "      <td>861</td>\n",
       "      <td>1171</td>\n",
       "      <td>1091</td>\n",
       "      <td>1255</td>\n",
       "      <td>1286</td>\n",
       "      <td>1357</td>\n",
       "      <td>688</td>\n",
       "    </tr>\n",
       "    <tr>\n",
       "      <th>research</th>\n",
       "      <td>11856</td>\n",
       "      <td>2</td>\n",
       "      <td>0</td>\n",
       "      <td>0</td>\n",
       "      <td>5</td>\n",
       "      <td>0</td>\n",
       "      <td>2</td>\n",
       "      <td>0</td>\n",
       "      <td>1</td>\n",
       "      <td>0</td>\n",
       "      <td>...</td>\n",
       "      <td>577</td>\n",
       "      <td>688</td>\n",
       "      <td>751</td>\n",
       "      <td>783</td>\n",
       "      <td>978</td>\n",
       "      <td>1210</td>\n",
       "      <td>988</td>\n",
       "      <td>931</td>\n",
       "      <td>936</td>\n",
       "      <td>565</td>\n",
       "    </tr>\n",
       "  </tbody>\n",
       "</table>\n",
       "<p>2 rows × 37 columns</p>\n",
       "</div>"
      ],
      "text/plain": [
       "          Count  1985  1986  1987  1988  1989  1990  1991  1992  1993  ...  \\\n",
       "Words                                                                  ...   \n",
       "project   12591     1     1     1     0     0     1     0     2     0  ...   \n",
       "research  11856     2     0     0     5     0     2     0     1     0  ...   \n",
       "\n",
       "          2011  2012  2013  2014  2015  2016  2017  2018  2019  2020  \n",
       "Words                                                                 \n",
       "project    582   609   768   861  1171  1091  1255  1286  1357   688  \n",
       "research   577   688   751   783   978  1210   988   931   936   565  \n",
       "\n",
       "[2 rows x 37 columns]"
      ]
     },
     "execution_count": 135,
     "metadata": {},
     "output_type": "execute_result"
    }
   ],
   "source": [
    "#Add year columns to exists dataframe\n",
    "columns_list=np.arange(year_first, year_last+1)\n",
    "df_FreqDist = df_FreqDist.join(pd.DataFrame(\n",
    "    0, \n",
    "    index=df_FreqDist.index, \n",
    "    columns=list(columns_list)\n",
    "))\n",
    "\n",
    "#Add FreqDist values to every years columns\n",
    "for i in range(year_first, year_last+1):\n",
    "    try:\n",
    "        tokens_freq_dict=dict(nltk.FreqDist(df_sum2[df_sum2['Year']==i]['Abstract_Tokens'].sum()))\n",
    "        for n in df_FreqDist.index:\n",
    "            if n in tokens_freq_dict:\n",
    "                df_FreqDist[i][n]=tokens_freq_dict[n]\n",
    "    except:\n",
    "        None\n",
    "df_FreqDist.head(2)"
   ]
  },
  {
   "cell_type": "markdown",
   "metadata": {},
   "source": [
    "__Create 4 New Columns__"
   ]
  },
  {
   "cell_type": "code",
   "execution_count": 136,
   "metadata": {},
   "outputs": [
    {
     "data": {
      "text/html": [
       "<div>\n",
       "<style scoped>\n",
       "    .dataframe tbody tr th:only-of-type {\n",
       "        vertical-align: middle;\n",
       "    }\n",
       "\n",
       "    .dataframe tbody tr th {\n",
       "        vertical-align: top;\n",
       "    }\n",
       "\n",
       "    .dataframe thead th {\n",
       "        text-align: right;\n",
       "    }\n",
       "</style>\n",
       "<table border=\"1\" class=\"dataframe\">\n",
       "  <thead>\n",
       "    <tr style=\"text-align: right;\">\n",
       "      <th></th>\n",
       "      <th>Count</th>\n",
       "      <th>1985</th>\n",
       "      <th>1986</th>\n",
       "      <th>1987</th>\n",
       "      <th>1988</th>\n",
       "      <th>1989</th>\n",
       "      <th>1990</th>\n",
       "      <th>1991</th>\n",
       "      <th>1992</th>\n",
       "      <th>1993</th>\n",
       "      <th>...</th>\n",
       "      <th>2015</th>\n",
       "      <th>2016</th>\n",
       "      <th>2017</th>\n",
       "      <th>2018</th>\n",
       "      <th>2019</th>\n",
       "      <th>2020</th>\n",
       "      <th>UpToLast10Year</th>\n",
       "      <th>Last10Year</th>\n",
       "      <th>FirstUsedYear</th>\n",
       "      <th>FirstUsedNum</th>\n",
       "    </tr>\n",
       "    <tr>\n",
       "      <th>Words</th>\n",
       "      <th></th>\n",
       "      <th></th>\n",
       "      <th></th>\n",
       "      <th></th>\n",
       "      <th></th>\n",
       "      <th></th>\n",
       "      <th></th>\n",
       "      <th></th>\n",
       "      <th></th>\n",
       "      <th></th>\n",
       "      <th></th>\n",
       "      <th></th>\n",
       "      <th></th>\n",
       "      <th></th>\n",
       "      <th></th>\n",
       "      <th></th>\n",
       "      <th></th>\n",
       "      <th></th>\n",
       "      <th></th>\n",
       "      <th></th>\n",
       "      <th></th>\n",
       "    </tr>\n",
       "  </thead>\n",
       "  <tbody>\n",
       "    <tr>\n",
       "      <th>project</th>\n",
       "      <td>12591</td>\n",
       "      <td>1</td>\n",
       "      <td>1</td>\n",
       "      <td>1</td>\n",
       "      <td>0</td>\n",
       "      <td>0</td>\n",
       "      <td>1</td>\n",
       "      <td>0</td>\n",
       "      <td>2</td>\n",
       "      <td>0</td>\n",
       "      <td>...</td>\n",
       "      <td>1171</td>\n",
       "      <td>1091</td>\n",
       "      <td>1255</td>\n",
       "      <td>1286</td>\n",
       "      <td>1357</td>\n",
       "      <td>688</td>\n",
       "      <td>2923</td>\n",
       "      <td>9668</td>\n",
       "      <td>1985</td>\n",
       "      <td>1</td>\n",
       "    </tr>\n",
       "    <tr>\n",
       "      <th>research</th>\n",
       "      <td>11856</td>\n",
       "      <td>2</td>\n",
       "      <td>0</td>\n",
       "      <td>0</td>\n",
       "      <td>5</td>\n",
       "      <td>0</td>\n",
       "      <td>2</td>\n",
       "      <td>0</td>\n",
       "      <td>1</td>\n",
       "      <td>0</td>\n",
       "      <td>...</td>\n",
       "      <td>978</td>\n",
       "      <td>1210</td>\n",
       "      <td>988</td>\n",
       "      <td>931</td>\n",
       "      <td>936</td>\n",
       "      <td>565</td>\n",
       "      <td>3449</td>\n",
       "      <td>8407</td>\n",
       "      <td>1985</td>\n",
       "      <td>2</td>\n",
       "    </tr>\n",
       "  </tbody>\n",
       "</table>\n",
       "<p>2 rows × 41 columns</p>\n",
       "</div>"
      ],
      "text/plain": [
       "          Count  1985  1986  1987  1988  1989  1990  1991  1992  1993  ...  \\\n",
       "Words                                                                  ...   \n",
       "project   12591     1     1     1     0     0     1     0     2     0  ...   \n",
       "research  11856     2     0     0     5     0     2     0     1     0  ...   \n",
       "\n",
       "          2015  2016  2017  2018  2019  2020  UpToLast10Year  Last10Year  \\\n",
       "Words                                                                      \n",
       "project   1171  1091  1255  1286  1357   688            2923        9668   \n",
       "research   978  1210   988   931   936   565            3449        8407   \n",
       "\n",
       "          FirstUsedYear  FirstUsedNum  \n",
       "Words                                  \n",
       "project            1985             1  \n",
       "research           1985             2  \n",
       "\n",
       "[2 rows x 41 columns]"
      ]
     },
     "execution_count": 136,
     "metadata": {},
     "output_type": "execute_result"
    }
   ],
   "source": [
    "#Sum of between 1985-2010\n",
    "df_FreqDist['UpToLast10Year']=df_FreqDist.iloc[:,1:27].sum(axis=1)\n",
    "\n",
    "#Sum of between 2011-2020\n",
    "df_FreqDist['Last10Year']=df_FreqDist.iloc[:,27:37].sum(axis=1)\n",
    "\n",
    "#First Usage of New Terms by Year and by its Usage Number\n",
    "df_FreqDist['FirstUsedYear']=0\n",
    "df_FreqDist['FirstUsedNum']=0\n",
    "for n in range(1,df_FreqDist.shape[0]+1):\n",
    "    column_index=(df_FreqDist.iloc[n-1:n,1:37].values !=0).argmax()\n",
    "    column_name=df_FreqDist.columns[1+column_index]\n",
    "    df_FreqDist['FirstUsedYear'][n-1]=column_name\n",
    "    df_FreqDist['FirstUsedNum'][n-1]=df_FreqDist[column_name][n-1]\n",
    "\n",
    "df_FreqDist.head(2)"
   ]
  },
  {
   "cell_type": "markdown",
   "metadata": {},
   "source": [
    "__3.2) Evaluation of the Changes in Words Usage__"
   ]
  },
  {
   "cell_type": "code",
   "execution_count": 137,
   "metadata": {},
   "outputs": [
    {
     "name": "stdout",
     "output_type": "stream",
     "text": [
      "Total 76 words were used commonly until the last 10 years.\n",
      "For example:\n",
      "['reinvestment', 'mu', 'spectrometry', 'renovation', 'renovate', 'berkeley', 'broadcast', 'illinois', 'mobilize', 'multiuser']\n"
     ]
    }
   ],
   "source": [
    "#The words which were used commonly until the last 10 years in papers\n",
    "notused_last10years=df_FreqDist[(df_FreqDist['UpToLast10Year']>10)&(df_FreqDist['Last10Year']<10)].index\n",
    "print(\"Total {} words were used commonly until the last 10 years.\\nFor example:\\n{}\".format(len(notused_last10years), \n",
    "                                                                                     list(notused_last10years[:10])))"
   ]
  },
  {
   "cell_type": "code",
   "execution_count": 138,
   "metadata": {},
   "outputs": [
    {
     "name": "stdout",
     "output_type": "stream",
     "text": [
      "Total 1413 words are used commonly last 10 years.\n",
      "For example:\n",
      "['deem', 'worthy', 'statutory', 'resilience', 'resilient', 'thing', 'technician', 'personalize', 'car', 'iot']\n"
     ]
    }
   ],
   "source": [
    "#The words which are used commonly last 10 years in papers\n",
    "used_last10years=df_FreqDist[(df_FreqDist['UpToLast10Year']<10)&(df_FreqDist['Last10Year']>10)].index\n",
    "print(\"Total {} words are used commonly last 10 years.\\nFor example:\\n{}\".format(len(used_last10years), \n",
    "                                                                                     list(used_last10years[:10])))"
   ]
  },
  {
   "cell_type": "code",
   "execution_count": 139,
   "metadata": {},
   "outputs": [
    {
     "data": {
      "text/plain": [
       "FirstUsedYear\n",
       "1985     68\n",
       "1986     43\n",
       "1987    217\n",
       "1988    174\n",
       "1990     96\n",
       "Name: Count, dtype: int64"
      ]
     },
     "execution_count": 139,
     "metadata": {},
     "output_type": "execute_result"
    }
   ],
   "source": [
    "#A general glance of starting to use new words in every year\n",
    "'''We prefer to use groupby() method instead of value_counts() method because, \n",
    "in groupby() method we don't need to sort index. Also their running time almost equal.'''\n",
    "df_FreqDist.groupby(['FirstUsedYear'])['Count'].count()[:5] "
   ]
  },
  {
   "cell_type": "markdown",
   "metadata": {},
   "source": [
    "__3.3) Evaluation of the Changes in IT_Cyber Terms Usage__"
   ]
  },
  {
   "cell_type": "markdown",
   "metadata": {},
   "source": [
    "__Load The Data__"
   ]
  },
  {
   "cell_type": "code",
   "execution_count": 417,
   "metadata": {},
   "outputs": [
    {
     "data": {
      "text/plain": [
       "['agent',\n",
       " 'ai',\n",
       " 'alcatel',\n",
       " 'algorithm',\n",
       " 'amazon',\n",
       " 'analysis',\n",
       " 'android',\n",
       " 'antimalware',\n",
       " 'antivirus',\n",
       " 'api']"
      ]
     },
     "execution_count": 417,
     "metadata": {},
     "output_type": "execute_result"
    }
   ],
   "source": [
    "#Load IT_Cyber Terms\n",
    "df_IT_terms=pd.read_csv('data/IT_cyber_terms.csv', sep=';')\n",
    "IT_terms_list=list(df_IT_terms['Words'])\n",
    "IT_terms_list[:10]"
   ]
  },
  {
   "cell_type": "markdown",
   "metadata": {},
   "source": [
    "__Create IT/Cyber Terms DataFrame__"
   ]
  },
  {
   "cell_type": "code",
   "execution_count": 418,
   "metadata": {},
   "outputs": [
    {
     "data": {
      "text/html": [
       "<div>\n",
       "<style scoped>\n",
       "    .dataframe tbody tr th:only-of-type {\n",
       "        vertical-align: middle;\n",
       "    }\n",
       "\n",
       "    .dataframe tbody tr th {\n",
       "        vertical-align: top;\n",
       "    }\n",
       "\n",
       "    .dataframe thead th {\n",
       "        text-align: right;\n",
       "    }\n",
       "</style>\n",
       "<table border=\"1\" class=\"dataframe\">\n",
       "  <thead>\n",
       "    <tr style=\"text-align: right;\">\n",
       "      <th></th>\n",
       "      <th>Count</th>\n",
       "      <th>1985</th>\n",
       "      <th>1986</th>\n",
       "      <th>1987</th>\n",
       "      <th>1988</th>\n",
       "      <th>1989</th>\n",
       "      <th>1990</th>\n",
       "      <th>1991</th>\n",
       "      <th>1992</th>\n",
       "      <th>1993</th>\n",
       "      <th>...</th>\n",
       "      <th>2015</th>\n",
       "      <th>2016</th>\n",
       "      <th>2017</th>\n",
       "      <th>2018</th>\n",
       "      <th>2019</th>\n",
       "      <th>2020</th>\n",
       "      <th>UpToLast10Year</th>\n",
       "      <th>Last10Year</th>\n",
       "      <th>FirstUsedYear</th>\n",
       "      <th>FirstUsedNum</th>\n",
       "    </tr>\n",
       "    <tr>\n",
       "      <th>Words</th>\n",
       "      <th></th>\n",
       "      <th></th>\n",
       "      <th></th>\n",
       "      <th></th>\n",
       "      <th></th>\n",
       "      <th></th>\n",
       "      <th></th>\n",
       "      <th></th>\n",
       "      <th></th>\n",
       "      <th></th>\n",
       "      <th></th>\n",
       "      <th></th>\n",
       "      <th></th>\n",
       "      <th></th>\n",
       "      <th></th>\n",
       "      <th></th>\n",
       "      <th></th>\n",
       "      <th></th>\n",
       "      <th></th>\n",
       "      <th></th>\n",
       "      <th></th>\n",
       "    </tr>\n",
       "  </thead>\n",
       "  <tbody>\n",
       "    <tr>\n",
       "      <th>data</th>\n",
       "      <td>8985</td>\n",
       "      <td>0</td>\n",
       "      <td>4</td>\n",
       "      <td>1</td>\n",
       "      <td>1</td>\n",
       "      <td>0</td>\n",
       "      <td>0</td>\n",
       "      <td>2</td>\n",
       "      <td>1</td>\n",
       "      <td>0</td>\n",
       "      <td>...</td>\n",
       "      <td>708</td>\n",
       "      <td>926</td>\n",
       "      <td>1110</td>\n",
       "      <td>952</td>\n",
       "      <td>906</td>\n",
       "      <td>429</td>\n",
       "      <td>1929</td>\n",
       "      <td>7056</td>\n",
       "      <td>1986</td>\n",
       "      <td>4</td>\n",
       "    </tr>\n",
       "    <tr>\n",
       "      <th>system</th>\n",
       "      <td>8771</td>\n",
       "      <td>5</td>\n",
       "      <td>2</td>\n",
       "      <td>3</td>\n",
       "      <td>4</td>\n",
       "      <td>0</td>\n",
       "      <td>1</td>\n",
       "      <td>1</td>\n",
       "      <td>1</td>\n",
       "      <td>0</td>\n",
       "      <td>...</td>\n",
       "      <td>952</td>\n",
       "      <td>773</td>\n",
       "      <td>967</td>\n",
       "      <td>775</td>\n",
       "      <td>785</td>\n",
       "      <td>434</td>\n",
       "      <td>2173</td>\n",
       "      <td>6598</td>\n",
       "      <td>1985</td>\n",
       "      <td>5</td>\n",
       "    </tr>\n",
       "  </tbody>\n",
       "</table>\n",
       "<p>2 rows × 41 columns</p>\n",
       "</div>"
      ],
      "text/plain": [
       "        Count  1985  1986  1987  1988  1989  1990  1991  1992  1993  ...  \\\n",
       "Words                                                                ...   \n",
       "data     8985     0     4     1     1     0     0     2     1     0  ...   \n",
       "system   8771     5     2     3     4     0     1     1     1     0  ...   \n",
       "\n",
       "        2015  2016  2017  2018  2019  2020  UpToLast10Year  Last10Year  \\\n",
       "Words                                                                    \n",
       "data     708   926  1110   952   906   429            1929        7056   \n",
       "system   952   773   967   775   785   434            2173        6598   \n",
       "\n",
       "        FirstUsedYear  FirstUsedNum  \n",
       "Words                                \n",
       "data             1986             4  \n",
       "system           1985             5  \n",
       "\n",
       "[2 rows x 41 columns]"
      ]
     },
     "execution_count": 418,
     "metadata": {},
     "output_type": "execute_result"
    }
   ],
   "source": [
    "#Create a new dataframe filtering with IT_Cyber Terms\n",
    "df_FreqDist_IT_terms=df_FreqDist[df_FreqDist.index.isin(IT_terms_list)]\n",
    "df_FreqDist_IT_terms.head(2)"
   ]
  },
  {
   "cell_type": "markdown",
   "metadata": {},
   "source": [
    "__Create a New Column__"
   ]
  },
  {
   "cell_type": "code",
   "execution_count": 419,
   "metadata": {},
   "outputs": [
    {
     "data": {
      "text/html": [
       "<div>\n",
       "<style scoped>\n",
       "    .dataframe tbody tr th:only-of-type {\n",
       "        vertical-align: middle;\n",
       "    }\n",
       "\n",
       "    .dataframe tbody tr th {\n",
       "        vertical-align: top;\n",
       "    }\n",
       "\n",
       "    .dataframe thead th {\n",
       "        text-align: right;\n",
       "    }\n",
       "</style>\n",
       "<table border=\"1\" class=\"dataframe\">\n",
       "  <thead>\n",
       "    <tr style=\"text-align: right;\">\n",
       "      <th></th>\n",
       "      <th>Count</th>\n",
       "      <th>1985</th>\n",
       "      <th>1986</th>\n",
       "      <th>1987</th>\n",
       "      <th>1988</th>\n",
       "      <th>1989</th>\n",
       "      <th>1990</th>\n",
       "      <th>1991</th>\n",
       "      <th>1992</th>\n",
       "      <th>1993</th>\n",
       "      <th>...</th>\n",
       "      <th>2016</th>\n",
       "      <th>2017</th>\n",
       "      <th>2018</th>\n",
       "      <th>2019</th>\n",
       "      <th>2020</th>\n",
       "      <th>UpToLast10Year</th>\n",
       "      <th>Last10Year</th>\n",
       "      <th>FirstUsedYear</th>\n",
       "      <th>FirstUsedNum</th>\n",
       "      <th>FirstUsedSeq</th>\n",
       "    </tr>\n",
       "    <tr>\n",
       "      <th>Words</th>\n",
       "      <th></th>\n",
       "      <th></th>\n",
       "      <th></th>\n",
       "      <th></th>\n",
       "      <th></th>\n",
       "      <th></th>\n",
       "      <th></th>\n",
       "      <th></th>\n",
       "      <th></th>\n",
       "      <th></th>\n",
       "      <th></th>\n",
       "      <th></th>\n",
       "      <th></th>\n",
       "      <th></th>\n",
       "      <th></th>\n",
       "      <th></th>\n",
       "      <th></th>\n",
       "      <th></th>\n",
       "      <th></th>\n",
       "      <th></th>\n",
       "      <th></th>\n",
       "    </tr>\n",
       "  </thead>\n",
       "  <tbody>\n",
       "    <tr>\n",
       "      <th>data</th>\n",
       "      <td>8985</td>\n",
       "      <td>0</td>\n",
       "      <td>4</td>\n",
       "      <td>1</td>\n",
       "      <td>1</td>\n",
       "      <td>0</td>\n",
       "      <td>0</td>\n",
       "      <td>2</td>\n",
       "      <td>1</td>\n",
       "      <td>0</td>\n",
       "      <td>...</td>\n",
       "      <td>926</td>\n",
       "      <td>1110</td>\n",
       "      <td>952</td>\n",
       "      <td>906</td>\n",
       "      <td>429</td>\n",
       "      <td>1929</td>\n",
       "      <td>7056</td>\n",
       "      <td>1986</td>\n",
       "      <td>4</td>\n",
       "      <td>2</td>\n",
       "    </tr>\n",
       "    <tr>\n",
       "      <th>system</th>\n",
       "      <td>8771</td>\n",
       "      <td>5</td>\n",
       "      <td>2</td>\n",
       "      <td>3</td>\n",
       "      <td>4</td>\n",
       "      <td>0</td>\n",
       "      <td>1</td>\n",
       "      <td>1</td>\n",
       "      <td>1</td>\n",
       "      <td>0</td>\n",
       "      <td>...</td>\n",
       "      <td>773</td>\n",
       "      <td>967</td>\n",
       "      <td>775</td>\n",
       "      <td>785</td>\n",
       "      <td>434</td>\n",
       "      <td>2173</td>\n",
       "      <td>6598</td>\n",
       "      <td>1985</td>\n",
       "      <td>5</td>\n",
       "      <td>9</td>\n",
       "    </tr>\n",
       "  </tbody>\n",
       "</table>\n",
       "<p>2 rows × 42 columns</p>\n",
       "</div>"
      ],
      "text/plain": [
       "        Count  1985  1986  1987  1988  1989  1990  1991  1992  1993  ...  \\\n",
       "Words                                                                ...   \n",
       "data     8985     0     4     1     1     0     0     2     1     0  ...   \n",
       "system   8771     5     2     3     4     0     1     1     1     0  ...   \n",
       "\n",
       "        2016  2017  2018  2019  2020  UpToLast10Year  Last10Year  \\\n",
       "Words                                                              \n",
       "data     926  1110   952   906   429            1929        7056   \n",
       "system   773   967   775   785   434            2173        6598   \n",
       "\n",
       "        FirstUsedYear  FirstUsedNum  FirstUsedSeq  \n",
       "Words                                              \n",
       "data             1986             4             2  \n",
       "system           1985             5             9  \n",
       "\n",
       "[2 rows x 42 columns]"
      ]
     },
     "execution_count": 419,
     "metadata": {},
     "output_type": "execute_result"
    }
   ],
   "source": [
    "#Usage Sequence of New Terms Yearly\n",
    "df_FreqDist_IT_terms['FirstUsedSeq']=0\n",
    "seq_list=[]\n",
    "for n in df_FreqDist_IT_terms.groupby(['FirstUsedYear']).groups.keys():\n",
    "    for seq in range(1,df_FreqDist_IT_terms.groupby(['FirstUsedYear'])['Count'].count()[n]+1):\n",
    "        seq_list.append(seq)\n",
    "df_FreqDist_IT_terms=df_FreqDist_IT_terms.sort_values(by='FirstUsedYear')\n",
    "df_FreqDist_IT_terms['FirstUsedSeq']=seq_list\n",
    "df_FreqDist_IT_terms=df_FreqDist_IT_terms.sort_values(by='Count',ascending=False)\n",
    "df_FreqDist_IT_terms.head(2)"
   ]
  },
  {
   "cell_type": "markdown",
   "metadata": {},
   "source": [
    "__Evaluation Of Changes__"
   ]
  },
  {
   "cell_type": "code",
   "execution_count": 420,
   "metadata": {},
   "outputs": [
    {
     "name": "stdout",
     "output_type": "stream",
     "text": [
      "Total 5 IT/cyber terms were used commonly until the last 10 years.\n",
      "For example:\n",
      "['broadcast', 'cybernetics', 'worm', 'cybertools', 'wiki']\n"
     ]
    }
   ],
   "source": [
    "#The IT/cyber terms which were used commonly until the last 10 years in papers\n",
    "notused_last10years_IT=df_FreqDist_IT_terms[(df_FreqDist_IT_terms['UpToLast10Year']>10)&(df_FreqDist_IT_terms['Last10Year']<10)].index\n",
    "print(\"Total {} IT/cyber terms were used commonly until the last 10 years.\\nFor example:\\n{}\".format(len(notused_last10years_IT), \n",
    "                                                                                     list(notused_last10years_IT[:10])))"
   ]
  },
  {
   "cell_type": "code",
   "execution_count": 421,
   "metadata": {},
   "outputs": [
    {
     "name": "stdout",
     "output_type": "stream",
     "text": [
      "Total 38 IT/cyber terms are used commonly last 10 years.\n",
      "For example:\n",
      "['iot', 'cybercrime', 'dataset', 'ml', 'encryption', 'visualize', 'dmz', 'penetration', 'password', 'phishing']\n"
     ]
    }
   ],
   "source": [
    "#The IT/cyber terms which are used commonly last 10 years in papers\n",
    "used_last10years_IT=df_FreqDist_IT_terms[(df_FreqDist_IT_terms['UpToLast10Year']<10)&(df_FreqDist_IT_terms['Last10Year']>10)].index\n",
    "print(\"Total {} IT/cyber terms are used commonly last 10 years.\\nFor example:\\n{}\".format(len(used_last10years_IT), \n",
    "                                                                                     list(used_last10years_IT[:10])))"
   ]
  },
  {
   "cell_type": "code",
   "execution_count": 422,
   "metadata": {},
   "outputs": [
    {
     "name": "stdout",
     "output_type": "stream",
     "text": [
      "Averagely 8.2 new IT/cyber terms are starting to use every year in NSF papers .\n",
      "The first usage years of new IT/cyber terms and their number:\n"
     ]
    },
    {
     "data": {
      "text/plain": [
       "FirstUsedYear\n",
       "1985     9\n",
       "1986     2\n",
       "1987    17\n",
       "1988     3\n",
       "1990     6\n",
       "Name: Count, dtype: int64"
      ]
     },
     "execution_count": 422,
     "metadata": {},
     "output_type": "execute_result"
    }
   ],
   "source": [
    "#A general glance of starting to use new IT/cyber words in every year\n",
    "'''We prefer to use groupby() method instead of value_counts() method because, \n",
    "in groupby() method we don't need to sort index. Also their running time almost equal.'''\n",
    "print('Averagely {} new IT/cyber terms are starting to use every year in NSF papers .'.format(df_FreqDist_IT_terms.groupby(['FirstUsedYear'])['Count'].count().mean().round(1)))\n",
    "print('The first usage years of new IT/cyber terms and their number:')\n",
    "df_FreqDist_IT_terms.groupby(['FirstUsedYear'])['Count'].count()[:5]"
   ]
  },
  {
   "cell_type": "markdown",
   "metadata": {},
   "source": [
    "__Compare of Some IT_Cyber Terms Usage__"
   ]
  },
  {
   "cell_type": "code",
   "execution_count": 424,
   "metadata": {},
   "outputs": [
    {
     "data": {
      "text/html": [
       "<div>\n",
       "<style scoped>\n",
       "    .dataframe tbody tr th:only-of-type {\n",
       "        vertical-align: middle;\n",
       "    }\n",
       "\n",
       "    .dataframe tbody tr th {\n",
       "        vertical-align: top;\n",
       "    }\n",
       "\n",
       "    .dataframe thead th {\n",
       "        text-align: right;\n",
       "    }\n",
       "</style>\n",
       "<table border=\"1\" class=\"dataframe\">\n",
       "  <thead>\n",
       "    <tr style=\"text-align: right;\">\n",
       "      <th></th>\n",
       "      <th>1985</th>\n",
       "      <th>1986</th>\n",
       "      <th>1987</th>\n",
       "      <th>1988</th>\n",
       "      <th>1989</th>\n",
       "      <th>1990</th>\n",
       "      <th>1991</th>\n",
       "      <th>1992</th>\n",
       "      <th>1993</th>\n",
       "      <th>1994</th>\n",
       "      <th>...</th>\n",
       "      <th>2011</th>\n",
       "      <th>2012</th>\n",
       "      <th>2013</th>\n",
       "      <th>2014</th>\n",
       "      <th>2015</th>\n",
       "      <th>2016</th>\n",
       "      <th>2017</th>\n",
       "      <th>2018</th>\n",
       "      <th>2019</th>\n",
       "      <th>2020</th>\n",
       "    </tr>\n",
       "    <tr>\n",
       "      <th>Words</th>\n",
       "      <th></th>\n",
       "      <th></th>\n",
       "      <th></th>\n",
       "      <th></th>\n",
       "      <th></th>\n",
       "      <th></th>\n",
       "      <th></th>\n",
       "      <th></th>\n",
       "      <th></th>\n",
       "      <th></th>\n",
       "      <th></th>\n",
       "      <th></th>\n",
       "      <th></th>\n",
       "      <th></th>\n",
       "      <th></th>\n",
       "      <th></th>\n",
       "      <th></th>\n",
       "      <th></th>\n",
       "      <th></th>\n",
       "      <th></th>\n",
       "      <th></th>\n",
       "    </tr>\n",
       "  </thead>\n",
       "  <tbody>\n",
       "    <tr>\n",
       "      <th>data</th>\n",
       "      <td>0</td>\n",
       "      <td>4</td>\n",
       "      <td>5</td>\n",
       "      <td>6</td>\n",
       "      <td>6</td>\n",
       "      <td>6</td>\n",
       "      <td>8</td>\n",
       "      <td>9</td>\n",
       "      <td>9</td>\n",
       "      <td>9</td>\n",
       "      <td>...</td>\n",
       "      <td>2201</td>\n",
       "      <td>2659</td>\n",
       "      <td>3309</td>\n",
       "      <td>3954</td>\n",
       "      <td>4662</td>\n",
       "      <td>5588</td>\n",
       "      <td>6698</td>\n",
       "      <td>7650</td>\n",
       "      <td>8556</td>\n",
       "      <td>8985</td>\n",
       "    </tr>\n",
       "    <tr>\n",
       "      <th>system</th>\n",
       "      <td>5</td>\n",
       "      <td>7</td>\n",
       "      <td>10</td>\n",
       "      <td>14</td>\n",
       "      <td>14</td>\n",
       "      <td>15</td>\n",
       "      <td>16</td>\n",
       "      <td>17</td>\n",
       "      <td>17</td>\n",
       "      <td>17</td>\n",
       "      <td>...</td>\n",
       "      <td>2527</td>\n",
       "      <td>2965</td>\n",
       "      <td>3483</td>\n",
       "      <td>4085</td>\n",
       "      <td>5037</td>\n",
       "      <td>5810</td>\n",
       "      <td>6777</td>\n",
       "      <td>7552</td>\n",
       "      <td>8337</td>\n",
       "      <td>8771</td>\n",
       "    </tr>\n",
       "  </tbody>\n",
       "</table>\n",
       "<p>2 rows × 36 columns</p>\n",
       "</div>"
      ],
      "text/plain": [
       "        1985  1986  1987  1988  1989  1990  1991  1992  1993  1994  ...  2011  \\\n",
       "Words                                                               ...         \n",
       "data       0     4     5     6     6     6     8     9     9     9  ...  2201   \n",
       "system     5     7    10    14    14    15    16    17    17    17  ...  2527   \n",
       "\n",
       "        2012  2013  2014  2015  2016  2017  2018  2019  2020  \n",
       "Words                                                         \n",
       "data    2659  3309  3954  4662  5588  6698  7650  8556  8985  \n",
       "system  2965  3483  4085  5037  5810  6777  7552  8337  8771  \n",
       "\n",
       "[2 rows x 36 columns]"
      ]
     },
     "execution_count": 424,
     "metadata": {},
     "output_type": "execute_result"
    }
   ],
   "source": [
    "#Create a new dataframe with adding previous terms usage numbers yearly\n",
    "df_FreqDist_IT_terms_yearly_tot=df_FreqDist_IT_terms.iloc[:,1:37]\n",
    "\n",
    "for n in range(1,df_FreqDist_IT_terms_yearly_tot.shape[1]):\n",
    "    df_FreqDist_IT_terms_yearly_tot.iloc[:,n]=df_FreqDist_IT_terms_yearly_tot.iloc[:,n-1:n+1].sum(axis=1)\n",
    "df_FreqDist_IT_terms_yearly_tot.head(2)"
   ]
  },
  {
   "cell_type": "code",
   "execution_count": 487,
   "metadata": {},
   "outputs": [
    {
     "name": "stdout",
     "output_type": "stream",
     "text": [
      "\n",
      "Compare Of ['twitter', 'facebook', 'youtube', 'linkedin', 'flickr'] Terms Usage in NSF Papers:\n",
      "The 'twitter' term firstly used in 2009. Total usage number is 16\n",
      "The 'facebook' term firstly used in 2009. Total usage number is 16\n",
      "The 'youtube' term firstly used in 2011. Total usage number is 3\n",
      "The 'linkedin' term firstly used in 2018. Total usage number is 1\n",
      "The 'flickr' term firstly used in 2015. Total usage number is 1\n",
      "\n",
      "Compare Of ['google', 'azure', 'aws'] Terms Usage in NSF Papers:\n",
      "The 'google' term firstly used in 2008. Total usage number is 2\n",
      "The 'azure' term firstly used in 2011. Total usage number is 2\n",
      "The 'aws' term firstly used in 2017. Total usage number is 4\n",
      "\n",
      "Compare Of ['attacker', 'hacker'] Terms Usage in NSF Papers:\n",
      "The 'attacker' term firstly used in 2002. Total usage number is 142\n",
      "The 'hacker' term firstly used in 2003. Total usage number is 53\n",
      "\n",
      "Compare Of ['cps'] Terms Usage in NSF Papers:\n",
      "The 'cps' term firstly used in 2006. Total usage number is 458\n"
     ]
    }
   ],
   "source": [
    "compare_term_list=[['twitter','facebook','youtube','linkedin','flickr'],\n",
    "                   ['google','azure','aws'],\n",
    "                   ['attacker','hacker'],\n",
    "                   ['cps']]\n",
    "\n",
    "for terms_list in compare_term_list:\n",
    "    print('\\nCompare Of {} Terms Usage in NSF Papers:'.format(terms_list))\n",
    "    for term in terms_list:\n",
    "        print(\"The '{}' term firstly used in {}. Total usage number is {}\".format(term,\n",
    "                                                                          df_FreqDist_IT_terms[df_FreqDist_IT_terms.index==term]['FirstUsedYear'][0],\n",
    "                                                                         df_FreqDist_IT_terms[df_FreqDist_IT_terms.index==term]['Count'][0]))\n"
   ]
  },
  {
   "cell_type": "markdown",
   "metadata": {},
   "source": [
    "__Save The Results__"
   ]
  },
  {
   "cell_type": "code",
   "execution_count": 488,
   "metadata": {},
   "outputs": [],
   "source": [
    "df_FreqDist.to_csv('data/FreqDist.csv', sep=';')\n",
    "df_FreqDist_IT_terms.to_csv('data/df_FreqDist_IT_terms.csv', sep=';')\n",
    "df_FreqDist_IT_terms_yearly_tot.to_csv('data/df_FreqDist_IT_terms_yearly_tot.csv', sep=';')"
   ]
  }
 ],
 "metadata": {
  "kernelspec": {
   "display_name": "Python 3",
   "language": "python",
   "name": "python3"
  },
  "language_info": {
   "codemirror_mode": {
    "name": "ipython",
    "version": 3
   },
   "file_extension": ".py",
   "mimetype": "text/x-python",
   "name": "python",
   "nbconvert_exporter": "python",
   "pygments_lexer": "ipython3",
   "version": "3.7.4"
  }
 },
 "nbformat": 4,
 "nbformat_minor": 2
}

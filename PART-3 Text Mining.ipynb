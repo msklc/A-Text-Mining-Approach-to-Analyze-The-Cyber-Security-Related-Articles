{
 "cells": [
  {
   "cell_type": "markdown",
   "metadata": {},
   "source": [
    "# A Text Mining Approach to Analyze The Cyber Security Related Articles"
   ]
  },
  {
   "cell_type": "markdown",
   "metadata": {},
   "source": [
    "## PART-3: Text Mining\n",
    "\n",
    "__Feature Engineering with NLP techniques__\n"
   ]
  },
  {
   "cell_type": "markdown",
   "metadata": {},
   "source": [
    "__Importing of Required Libraries__"
   ]
  },
  {
   "cell_type": "code",
   "execution_count": 1,
   "metadata": {},
   "outputs": [],
   "source": [
    "import nltk\n",
    "import nltk\n",
    "from nltk.stem import WordNetLemmatizer\n",
    "from nltk.stem import PorterStemmer\n",
    "from nltk.corpus import wordnet\n",
    "import pickle\n",
    "import re\n",
    "\n",
    "\n",
    "import spacy\n",
    "import en_core_web_sm\n",
    "from spacy import displacy\n",
    "\n",
    "import string\n",
    "import numpy as np\n",
    "import pandas as pd\n",
    "import matplotlib.pyplot as plt\n",
    "\n",
    "from sklearn.cluster import KMeans\n",
    "\n",
    "import warnings\n",
    "warnings.filterwarnings(\"ignore\")"
   ]
  },
  {
   "cell_type": "markdown",
   "metadata": {},
   "source": [
    "__Loading Data__\n",
    "\n",
    "As mentioned Part-2 that pandas parquet options doesn't support timedelta type. So we need to use __fastparquet__ option, to keep the timedelta type format."
   ]
  },
  {
   "cell_type": "code",
   "execution_count": 2,
   "metadata": {},
   "outputs": [
    {
     "data": {
      "text/html": [
       "<div>\n",
       "<style scoped>\n",
       "    .dataframe tbody tr th:only-of-type {\n",
       "        vertical-align: middle;\n",
       "    }\n",
       "\n",
       "    .dataframe tbody tr th {\n",
       "        vertical-align: top;\n",
       "    }\n",
       "\n",
       "    .dataframe thead th {\n",
       "        text-align: right;\n",
       "    }\n",
       "</style>\n",
       "<table border=\"1\" class=\"dataframe\">\n",
       "  <thead>\n",
       "    <tr style=\"text-align: right;\">\n",
       "      <th></th>\n",
       "      <th>AwardID</th>\n",
       "      <th>AwardTitle</th>\n",
       "      <th>AwardEffectiveDate</th>\n",
       "      <th>AwardExpirationDate</th>\n",
       "      <th>AwardAmount</th>\n",
       "      <th>ProgramOfficer</th>\n",
       "      <th>Institution_Name</th>\n",
       "      <th>Institution_StateName</th>\n",
       "      <th>Abstract</th>\n",
       "      <th>Year</th>\n",
       "      <th>Award_Duration</th>\n",
       "      <th>AwardAmount_Million</th>\n",
       "      <th>Abstract_Lenght</th>\n",
       "    </tr>\n",
       "  </thead>\n",
       "  <tbody>\n",
       "    <tr>\n",
       "      <th>0</th>\n",
       "      <td>0110599</td>\n",
       "      <td>Collaborative Research Testing Affect Control ...</td>\n",
       "      <td>2001-08-15</td>\n",
       "      <td>2004-07-31</td>\n",
       "      <td>300000.0</td>\n",
       "      <td>Patricia White</td>\n",
       "      <td>University of Arizona</td>\n",
       "      <td>Arizona</td>\n",
       "      <td>The investigators will conduct a series of exp...</td>\n",
       "      <td>2001</td>\n",
       "      <td>1081 days</td>\n",
       "      <td>0.30</td>\n",
       "      <td>2194</td>\n",
       "    </tr>\n",
       "    <tr>\n",
       "      <th>1</th>\n",
       "      <td>0112426</td>\n",
       "      <td>Federal Cyber Service Initiative</td>\n",
       "      <td>2001-06-01</td>\n",
       "      <td>2007-06-30</td>\n",
       "      <td>149995.0</td>\n",
       "      <td>Timothy V. Fossum</td>\n",
       "      <td>University of Tulsa</td>\n",
       "      <td>Oklahoma</td>\n",
       "      <td>This program produces a cadre of computer scie...</td>\n",
       "      <td>2001</td>\n",
       "      <td>2220 days</td>\n",
       "      <td>0.15</td>\n",
       "      <td>765</td>\n",
       "    </tr>\n",
       "  </tbody>\n",
       "</table>\n",
       "</div>"
      ],
      "text/plain": [
       "   AwardID                                         AwardTitle  \\\n",
       "0  0110599  Collaborative Research Testing Affect Control ...   \n",
       "1  0112426                   Federal Cyber Service Initiative   \n",
       "\n",
       "  AwardEffectiveDate AwardExpirationDate  AwardAmount     ProgramOfficer  \\\n",
       "0         2001-08-15          2004-07-31     300000.0     Patricia White   \n",
       "1         2001-06-01          2007-06-30     149995.0  Timothy V. Fossum   \n",
       "\n",
       "        Institution_Name Institution_StateName  \\\n",
       "0  University of Arizona               Arizona   \n",
       "1    University of Tulsa              Oklahoma   \n",
       "\n",
       "                                            Abstract  Year Award_Duration  \\\n",
       "0  The investigators will conduct a series of exp...  2001      1081 days   \n",
       "1  This program produces a cadre of computer scie...  2001      2220 days   \n",
       "\n",
       "   AwardAmount_Million  Abstract_Lenght  \n",
       "0                 0.30             2194  \n",
       "1                 0.15              765  "
      ]
     },
     "execution_count": 2,
     "metadata": {},
     "output_type": "execute_result"
    }
   ],
   "source": [
    "df_sum=pd.read_parquet('df_sum_parquet.gzip',engine='fastparquet')\n",
    "df_investigator_cyber=pd.read_parquet('df_investigator_cyber_parque.gzip',engine='fastparquet')\n",
    "df_sum.head(2)"
   ]
  },
  {
   "cell_type": "markdown",
   "metadata": {},
   "source": [
    "### A-) Word Frequency"
   ]
  },
  {
   "cell_type": "markdown",
   "metadata": {},
   "source": [
    "__Replacing Of Contraction Words__"
   ]
  },
  {
   "cell_type": "code",
   "execution_count": 3,
   "metadata": {},
   "outputs": [
    {
     "data": {
      "text/html": [
       "<div>\n",
       "<style scoped>\n",
       "    .dataframe tbody tr th:only-of-type {\n",
       "        vertical-align: middle;\n",
       "    }\n",
       "\n",
       "    .dataframe tbody tr th {\n",
       "        vertical-align: top;\n",
       "    }\n",
       "\n",
       "    .dataframe thead th {\n",
       "        text-align: right;\n",
       "    }\n",
       "</style>\n",
       "<table border=\"1\" class=\"dataframe\">\n",
       "  <thead>\n",
       "    <tr style=\"text-align: right;\">\n",
       "      <th></th>\n",
       "      <th>AwardID</th>\n",
       "      <th>AwardTitle</th>\n",
       "      <th>AwardEffectiveDate</th>\n",
       "      <th>AwardExpirationDate</th>\n",
       "      <th>AwardAmount</th>\n",
       "      <th>ProgramOfficer</th>\n",
       "      <th>Institution_Name</th>\n",
       "      <th>Institution_StateName</th>\n",
       "      <th>Abstract</th>\n",
       "      <th>Year</th>\n",
       "      <th>Award_Duration</th>\n",
       "      <th>AwardAmount_Million</th>\n",
       "      <th>Abstract_Lenght</th>\n",
       "    </tr>\n",
       "  </thead>\n",
       "  <tbody>\n",
       "    <tr>\n",
       "      <th>0</th>\n",
       "      <td>0110599</td>\n",
       "      <td>Collaborative Research Testing Affect Control ...</td>\n",
       "      <td>2001-08-15</td>\n",
       "      <td>2004-07-31</td>\n",
       "      <td>300000.0</td>\n",
       "      <td>Patricia White</td>\n",
       "      <td>University of Arizona</td>\n",
       "      <td>Arizona</td>\n",
       "      <td>The investigators will conduct a series of exp...</td>\n",
       "      <td>2001</td>\n",
       "      <td>1081 days</td>\n",
       "      <td>0.30</td>\n",
       "      <td>2194</td>\n",
       "    </tr>\n",
       "    <tr>\n",
       "      <th>1</th>\n",
       "      <td>0112426</td>\n",
       "      <td>Federal Cyber Service Initiative</td>\n",
       "      <td>2001-06-01</td>\n",
       "      <td>2007-06-30</td>\n",
       "      <td>149995.0</td>\n",
       "      <td>Timothy V. Fossum</td>\n",
       "      <td>University of Tulsa</td>\n",
       "      <td>Oklahoma</td>\n",
       "      <td>This program produces a cadre of computer scie...</td>\n",
       "      <td>2001</td>\n",
       "      <td>2220 days</td>\n",
       "      <td>0.15</td>\n",
       "      <td>765</td>\n",
       "    </tr>\n",
       "  </tbody>\n",
       "</table>\n",
       "</div>"
      ],
      "text/plain": [
       "   AwardID                                         AwardTitle  \\\n",
       "0  0110599  Collaborative Research Testing Affect Control ...   \n",
       "1  0112426                   Federal Cyber Service Initiative   \n",
       "\n",
       "  AwardEffectiveDate AwardExpirationDate  AwardAmount     ProgramOfficer  \\\n",
       "0         2001-08-15          2004-07-31     300000.0     Patricia White   \n",
       "1         2001-06-01          2007-06-30     149995.0  Timothy V. Fossum   \n",
       "\n",
       "        Institution_Name Institution_StateName  \\\n",
       "0  University of Arizona               Arizona   \n",
       "1    University of Tulsa              Oklahoma   \n",
       "\n",
       "                                            Abstract  Year Award_Duration  \\\n",
       "0  The investigators will conduct a series of exp...  2001      1081 days   \n",
       "1  This program produces a cadre of computer scie...  2001      2220 days   \n",
       "\n",
       "   AwardAmount_Million  Abstract_Lenght  \n",
       "0                 0.30             2194  \n",
       "1                 0.15              765  "
      ]
     },
     "execution_count": 3,
     "metadata": {},
     "output_type": "execute_result"
    }
   ],
   "source": [
    "#Replace contraction words to alternative forms before tokenization\n",
    "replacement_patterns = {\n",
    "    r\"won\\'t\": \"will not\",\n",
    "    r\"can\\'t\": \"cannot\",\n",
    "    r\"i\\'m\": \"i am\",\n",
    "    r\"ain\\'t\": \"is not\",\n",
    "    r\"(\\w+)\\'ll\": \"\\g<1> will\",\n",
    "    r\"(\\w+)n\\'t\": \"\\g<1> not\",\n",
    "    r\"(\\w+)\\'ve\": \"\\g<1> have\",\n",
    "    r\"(\\w+)\\'s\": \"\\g<1> is\",\n",
    "    r\"(\\w+)\\'re\": \"\\g<1> are\",\n",
    "    r\"(\\w+)\\'d\": \"\\g<1> would\",\n",
    "    r\"&\": \"and\",\n",
    "    r\"<br/>\":\" \"}\n",
    "\n",
    "df_sum['Abstract']=df_sum['Abstract'].replace(replacement_patterns, regex=True)\n",
    "df_sum.head(2)"
   ]
  },
  {
   "cell_type": "markdown",
   "metadata": {},
   "source": [
    "__Merge All Values in Abstract Columns to A Single String__"
   ]
  },
  {
   "cell_type": "code",
   "execution_count": 4,
   "metadata": {},
   "outputs": [
    {
     "name": "stdout",
     "output_type": "stream",
     "text": [
      "Total character number of all Abstract columns is: 13654766\n"
     ]
    }
   ],
   "source": [
    "abstract_list=df_sum['Abstract'].tolist()\n",
    "abstract_sum=' '.join(abstract_list)\n",
    "print('Total character number of all Abstract columns is: {}'.format(len(abstract_sum)))"
   ]
  },
  {
   "cell_type": "markdown",
   "metadata": {},
   "source": [
    "__Tokenization and LowerCase__"
   ]
  },
  {
   "cell_type": "code",
   "execution_count": 5,
   "metadata": {},
   "outputs": [
    {
     "name": "stdout",
     "output_type": "stream",
     "text": [
      "Total lowercase words: 2136906\n"
     ]
    }
   ],
   "source": [
    "#word tokenization\n",
    "wrd_list = nltk.word_tokenize(abstract_sum)\n",
    "\n",
    "#lowercase\n",
    "wrd_list=[w.lower() for w in wrd_list]\n",
    "print('Total lowercase words: {}'.format(len(wrd_list)))"
   ]
  },
  {
   "cell_type": "markdown",
   "metadata": {},
   "source": [
    "__Remove Numbers__"
   ]
  },
  {
   "cell_type": "code",
   "execution_count": 6,
   "metadata": {},
   "outputs": [
    {
     "name": "stdout",
     "output_type": "stream",
     "text": [
      "Total words consist of only alphabets: 1857334\n"
     ]
    }
   ],
   "source": [
    "#remove numbers\n",
    "wrd_list_alpha=[w for w in wrd_list if w.isalpha()]\n",
    "print('Total words consist of only alphabets: {}'.format(len(wrd_list_alpha)))"
   ]
  },
  {
   "cell_type": "markdown",
   "metadata": {},
   "source": [
    "__Remove Written Form of Numbers__"
   ]
  },
  {
   "cell_type": "code",
   "execution_count": 7,
   "metadata": {},
   "outputs": [
    {
     "name": "stdout",
     "output_type": "stream",
     "text": [
      "Total words consist of only alphabets: 1852061\n"
     ]
    }
   ],
   "source": [
    "#Create numbers in written form for ignoring\n",
    "num_written= {1: 'one', 2: 'two', 3: 'three', 4: 'four', 5: 'five', \\\n",
    "             6: 'six', 7: 'seven', 8: 'eight', 9: 'nine', 10: 'ten', \\\n",
    "            11: 'eleven', 12: 'twelve', 13: 'thirteen', 14: 'fourteen', \\\n",
    "            15: 'fifteen', 16: 'sixteen', 17: 'seventeen', 18: 'eighteen', \\\n",
    "            19: 'nineteen', 20: 'twenty', 30: 'thirty', 40: 'forty', \\\n",
    "            50: 'fifty', 60: 'sixty', 70: 'seventy', 80: 'eighty', \\\n",
    "            90: 'ninety', 0: 'zero'}\n",
    "\n",
    "num_list=list(np.arange(0,100))\n",
    "\n",
    "num2words_list=[]\n",
    "\n",
    "def num2words(n):\n",
    "    try:\n",
    "        return num_written[n]\n",
    "    except:\n",
    "        try:\n",
    "            return num2words(n-n%10) + num2words(n%10)\n",
    "        except:\n",
    "            return 'None'\n",
    "\n",
    "        \n",
    "for num in num_list:\n",
    "    num2words_list.append(num2words(num))\n",
    "    \n",
    "wrd_list_rm_written_form = [w for w in wrd_list_alpha if w not in num2words_list]\n",
    "print('Total words consist of only alphabets: {}'.format(len(wrd_list_rm_written_form)))"
   ]
  },
  {
   "cell_type": "markdown",
   "metadata": {},
   "source": [
    "__Remove Stopwords__"
   ]
  },
  {
   "cell_type": "code",
   "execution_count": 8,
   "metadata": {},
   "outputs": [
    {
     "name": "stdout",
     "output_type": "stream",
     "text": [
      "Total words after removing stopwords: 1132777\n"
     ]
    }
   ],
   "source": [
    "#define stopwords list\n",
    "stopwords_list=nltk.corpus.stopwords.words('english')\n",
    "\n",
    "#extend the stopwords list\n",
    "stopwords_list.extend(['cannot','many','much','also','well','better','via'])\n",
    "\n",
    "wrd_list_rm_stopwords = [w for w in wrd_list_rm_written_form if w not in stopwords_list]\n",
    "print('Total words after removing stopwords: {}'.format(len(wrd_list_rm_stopwords)))"
   ]
  },
  {
   "cell_type": "markdown",
   "metadata": {},
   "source": [
    "__Remove 1-Length Words__"
   ]
  },
  {
   "cell_type": "code",
   "execution_count": 9,
   "metadata": {},
   "outputs": [
    {
     "name": "stdout",
     "output_type": "stream",
     "text": [
      "Total words after removing 1-len words: 1131875\n"
     ]
    }
   ],
   "source": [
    "#remove 1-len words\n",
    "wrd_list_one_len = [w for w in wrd_list_rm_stopwords if len(w)>=2]\n",
    "\n",
    "print('Total words after removing 1-len words: {}'.format(len(wrd_list_one_len)))"
   ]
  },
  {
   "cell_type": "markdown",
   "metadata": {},
   "source": [
    "__Counting The Words Frequency__"
   ]
  },
  {
   "cell_type": "code",
   "execution_count": 10,
   "metadata": {},
   "outputs": [
    {
     "name": "stdout",
     "output_type": "stream",
     "text": [
      "Total unique words before lemmatization: 29726\n"
     ]
    }
   ],
   "source": [
    "freq_dict_before=nltk.FreqDist(wrd_list_one_len)\n",
    "print('Total unique words before lemmatization: {}'.format(len(freq_dict_before)))"
   ]
  },
  {
   "cell_type": "code",
   "execution_count": 11,
   "metadata": {},
   "outputs": [
    {
     "name": "stdout",
     "output_type": "stream",
     "text": [
      "First 50 frequency words:\n",
      "[('research', 15756), ('project', 13500), ('data', 10357), ('students', 7460), ('systems', 6963), ('new', 6831), ('science', 6174), ('security', 4625), ('development', 4236), ('system', 4159), ('information', 4023), ('support', 3925), ('program', 3870), ('community', 3680), ('education', 3633), ('university', 3622), ('engineering', 3607), ('design', 3590), ('learning', 3518), ('using', 3496), ('network', 3481), ('use', 3479), ('develop', 3395), ('software', 3328), ('provide', 3229), ('tools', 3060), ('cyberinfrastructure', 2987), ('materials', 2930), ('technology', 2855), ('computing', 2791), ('cybersecurity', 2770), ('researchers', 2751), ('scientific', 2646), ('nsf', 2603), ('applications', 2585), ('broader', 2566), ('computer', 2550), ('work', 2543), ('computational', 2532), ('infrastructure', 2492), ('award', 2387), ('analysis', 2384), ('including', 2382), ('control', 2356), ('national', 2351), ('methods', 2351), ('high', 2320), ('used', 2308), ('activities', 2263), ('impact', 2256)]\n"
     ]
    }
   ],
   "source": [
    "print('First 50 frequency words:\\n{}'.format(freq_dict_before.most_common(50)))"
   ]
  },
  {
   "cell_type": "markdown",
   "metadata": {},
   "source": [
    "__Lemmatization__"
   ]
  },
  {
   "cell_type": "code",
   "execution_count": 12,
   "metadata": {},
   "outputs": [
    {
     "name": "stdout",
     "output_type": "stream",
     "text": [
      "Total unique words after lemmatization: 26361\n"
     ]
    }
   ],
   "source": [
    "#Lemmatization\n",
    "lemmatizer = WordNetLemmatizer()\n",
    "\n",
    "wrd_list_lemmas = [lemmatizer.lemmatize(w) for w in wrd_list_one_len]\n",
    "\n",
    "#Recounting the Words Frequency\n",
    "freq_dict=nltk.FreqDist(wrd_list_lemmas)\n",
    "\n",
    "print('Total unique words after lemmatization: {}'.format(len(freq_dict)))\n"
   ]
  },
  {
   "cell_type": "code",
   "execution_count": 13,
   "metadata": {},
   "outputs": [
    {
     "name": "stdout",
     "output_type": "stream",
     "text": [
      "First 50 frequency words:\n",
      "[('research', 15763), ('project', 14922), ('system', 11122), ('data', 10357), ('student', 8732), ('science', 7201), ('new', 6831), ('network', 5412), ('program', 5309), ('community', 4828), ('technology', 4686), ('support', 4682), ('security', 4625), ('development', 4450), ('impact', 4424), ('university', 4209), ('information', 4023), ('model', 4019), ('design', 3901), ('application', 3695), ('tool', 3678), ('education', 3636), ('engineering', 3607), ('learning', 3518), ('using', 3496), ('material', 3493), ('use', 3479), ('develop', 3395), ('software', 3330), ('provide', 3229), ('cyberinfrastructure', 2987), ('researcher', 2878), ('computer', 2852), ('resource', 2843), ('infrastructure', 2829), ('process', 2814), ('activity', 2803), ('approach', 2799), ('computing', 2791), ('cybersecurity', 2770), ('study', 2766), ('method', 2750), ('analysis', 2665), ('scientific', 2646), ('work', 2639), ('nsf', 2605), ('broader', 2566), ('computational', 2532), ('workshop', 2523), ('control', 2491)]\n"
     ]
    }
   ],
   "source": [
    "print('First 50 frequency words:\\n{}'.format(freq_dict.most_common(50)))"
   ]
  },
  {
   "cell_type": "markdown",
   "metadata": {},
   "source": [
    "__Saving The Result__"
   ]
  },
  {
   "cell_type": "code",
   "execution_count": 14,
   "metadata": {},
   "outputs": [
    {
     "data": {
      "text/html": [
       "<div>\n",
       "<style scoped>\n",
       "    .dataframe tbody tr th:only-of-type {\n",
       "        vertical-align: middle;\n",
       "    }\n",
       "\n",
       "    .dataframe tbody tr th {\n",
       "        vertical-align: top;\n",
       "    }\n",
       "\n",
       "    .dataframe thead th {\n",
       "        text-align: right;\n",
       "    }\n",
       "</style>\n",
       "<table border=\"1\" class=\"dataframe\">\n",
       "  <thead>\n",
       "    <tr style=\"text-align: right;\">\n",
       "      <th></th>\n",
       "      <th>Words</th>\n",
       "      <th>Count</th>\n",
       "    </tr>\n",
       "  </thead>\n",
       "  <tbody>\n",
       "    <tr>\n",
       "      <th>0</th>\n",
       "      <td>research</td>\n",
       "      <td>15763</td>\n",
       "    </tr>\n",
       "    <tr>\n",
       "      <th>1</th>\n",
       "      <td>project</td>\n",
       "      <td>14922</td>\n",
       "    </tr>\n",
       "    <tr>\n",
       "      <th>2</th>\n",
       "      <td>system</td>\n",
       "      <td>11122</td>\n",
       "    </tr>\n",
       "  </tbody>\n",
       "</table>\n",
       "</div>"
      ],
      "text/plain": [
       "      Words  Count\n",
       "0  research  15763\n",
       "1   project  14922\n",
       "2    system  11122"
      ]
     },
     "execution_count": 14,
     "metadata": {},
     "output_type": "execute_result"
    }
   ],
   "source": [
    "df_FreqDist=pd.DataFrame({'Words':list(freq_dict.keys()),'Count':list(freq_dict.values())})\n",
    "df_FreqDist.sort_values(by=['Count'],ascending=False,inplace=True)\n",
    "df_FreqDist=df_FreqDist.reset_index(drop=True)\n",
    "df_FreqDist.to_csv('FreqDist.csv', sep=';')\n",
    "df_FreqDist.head(3)"
   ]
  },
  {
   "cell_type": "markdown",
   "metadata": {},
   "source": [
    "## B-) Clustering and Topic Modeling"
   ]
  },
  {
   "cell_type": "code",
   "execution_count": 15,
   "metadata": {},
   "outputs": [
    {
     "data": {
      "text/html": [
       "<div>\n",
       "<style scoped>\n",
       "    .dataframe tbody tr th:only-of-type {\n",
       "        vertical-align: middle;\n",
       "    }\n",
       "\n",
       "    .dataframe tbody tr th {\n",
       "        vertical-align: top;\n",
       "    }\n",
       "\n",
       "    .dataframe thead th {\n",
       "        text-align: right;\n",
       "    }\n",
       "</style>\n",
       "<table border=\"1\" class=\"dataframe\">\n",
       "  <thead>\n",
       "    <tr style=\"text-align: right;\">\n",
       "      <th></th>\n",
       "      <th>AwardID</th>\n",
       "      <th>Abstract</th>\n",
       "    </tr>\n",
       "  </thead>\n",
       "  <tbody>\n",
       "    <tr>\n",
       "      <th>0</th>\n",
       "      <td>0110599</td>\n",
       "      <td>The investigators will conduct a series of exp...</td>\n",
       "    </tr>\n",
       "    <tr>\n",
       "      <th>1</th>\n",
       "      <td>0112426</td>\n",
       "      <td>This program produces a cadre of computer scie...</td>\n",
       "    </tr>\n",
       "  </tbody>\n",
       "</table>\n",
       "</div>"
      ],
      "text/plain": [
       "   AwardID                                           Abstract\n",
       "0  0110599  The investigators will conduct a series of exp...\n",
       "1  0112426  This program produces a cadre of computer scie..."
      ]
     },
     "execution_count": 15,
     "metadata": {},
     "output_type": "execute_result"
    }
   ],
   "source": [
    "#Create a new DataFrame\n",
    "df_sum2=df_sum[['AwardID','AwardTitle','Abstract']]\n",
    "df_sum2.head(2)"
   ]
  },
  {
   "cell_type": "markdown",
   "metadata": {},
   "source": [
    "__Replacing Of Contraction Words__"
   ]
  },
  {
   "cell_type": "code",
   "execution_count": 16,
   "metadata": {},
   "outputs": [
    {
     "data": {
      "text/html": [
       "<div>\n",
       "<style scoped>\n",
       "    .dataframe tbody tr th:only-of-type {\n",
       "        vertical-align: middle;\n",
       "    }\n",
       "\n",
       "    .dataframe tbody tr th {\n",
       "        vertical-align: top;\n",
       "    }\n",
       "\n",
       "    .dataframe thead th {\n",
       "        text-align: right;\n",
       "    }\n",
       "</style>\n",
       "<table border=\"1\" class=\"dataframe\">\n",
       "  <thead>\n",
       "    <tr style=\"text-align: right;\">\n",
       "      <th></th>\n",
       "      <th>AwardID</th>\n",
       "      <th>Abstract</th>\n",
       "    </tr>\n",
       "  </thead>\n",
       "  <tbody>\n",
       "    <tr>\n",
       "      <th>0</th>\n",
       "      <td>0110599</td>\n",
       "      <td>The investigators will conduct a series of exp...</td>\n",
       "    </tr>\n",
       "    <tr>\n",
       "      <th>1</th>\n",
       "      <td>0112426</td>\n",
       "      <td>This program produces a cadre of computer scie...</td>\n",
       "    </tr>\n",
       "  </tbody>\n",
       "</table>\n",
       "</div>"
      ],
      "text/plain": [
       "   AwardID                                           Abstract\n",
       "0  0110599  The investigators will conduct a series of exp...\n",
       "1  0112426  This program produces a cadre of computer scie..."
      ]
     },
     "execution_count": 16,
     "metadata": {},
     "output_type": "execute_result"
    }
   ],
   "source": [
    "replacement_patterns = {\n",
    "    r\"won\\'t\": \"will not\",\n",
    "    r\"can\\'t\": \"cannot\",\n",
    "    r\"i\\'m\": \"i am\",\n",
    "    r\"ain\\'t\": \"is not\",\n",
    "    r\"(\\w+)\\'ll\": \"\\g<1> will\",\n",
    "    r\"(\\w+)n\\'t\": \"\\g<1> not\",\n",
    "    r\"(\\w+)\\'ve\": \"\\g<1> have\",\n",
    "    r\"(\\w+)\\'s\": \"\\g<1> is\",\n",
    "    r\"(\\w+)\\'re\": \"\\g<1> are\",\n",
    "    r\"(\\w+)\\'d\": \"\\g<1> would\",\n",
    "    r\"&\": \"and\",\n",
    "    r\"<br/>\":\" \"}\n",
    "\n",
    "df_sum2['Abstract'].replace(replacement_patterns, regex=True, inplace=True)\n",
    "df_sum2.head(2)"
   ]
  },
  {
   "cell_type": "markdown",
   "metadata": {},
   "source": [
    "__Removing Unneccesery Words__\n",
    "\n",
    "We use __NER__ (Named Entity Recognition) function of __spacy__ library to detect named entities (people, places, organizations, dates, times etc.) from the text. After analyzing this words, we understood that they are unnecessary for clustering.\n",
    "\n",
    "An example of visualization of NER:"
   ]
  },
  {
   "cell_type": "code",
   "execution_count": 17,
   "metadata": {},
   "outputs": [
    {
     "data": {
      "text/html": [
       "<span class=\"tex2jax_ignore\"><div class=\"entities\" style=\"line-height: 2.5; direction: ltr\">This program produces a cadre of computer scientists with strong specializations in information assurance and a commitment to federal service. \n",
       "<mark class=\"entity\" style=\"background: #e4e7d2; padding: 0.45em 0.6em; margin: 0 0.25em; line-height: 1; border-radius: 0.35em;\">\n",
       "    Three\n",
       "    <span style=\"font-size: 0.8em; font-weight: bold; line-height: 1; border-radius: 0.35em; text-transform: uppercase; vertical-align: middle; margin-left: 0.5rem\">CARDINAL</span>\n",
       "</mark>\n",
       " cohorts of students complete a \n",
       "<mark class=\"entity\" style=\"background: #bfe1d9; padding: 0.45em 0.6em; margin: 0 0.25em; line-height: 1; border-radius: 0.35em;\">\n",
       "    two-year\n",
       "    <span style=\"font-size: 0.8em; font-weight: bold; line-height: 1; border-radius: 0.35em; text-transform: uppercase; vertical-align: middle; margin-left: 0.5rem\">DATE</span>\n",
       "</mark>\n",
       " program that integrates intense information assurance studies with research and outreach. Students also spend \n",
       "<mark class=\"entity\" style=\"background: #bfe1d9; padding: 0.45em 0.6em; margin: 0 0.25em; line-height: 1; border-radius: 0.35em;\">\n",
       "    one summer\n",
       "    <span style=\"font-size: 0.8em; font-weight: bold; line-height: 1; border-radius: 0.35em; text-transform: uppercase; vertical-align: middle; margin-left: 0.5rem\">DATE</span>\n",
       "</mark>\n",
       " as interns in federal agencies. Upon completion of degrees at \n",
       "<mark class=\"entity\" style=\"background: #bfe1d9; padding: 0.45em 0.6em; margin: 0 0.25em; line-height: 1; border-radius: 0.35em;\">\n",
       "    the end of two years\n",
       "    <span style=\"font-size: 0.8em; font-weight: bold; line-height: 1; border-radius: 0.35em; text-transform: uppercase; vertical-align: middle; margin-left: 0.5rem\">DATE</span>\n",
       "</mark>\n",
       " the students then enter the federal cyber service. The program features an emphasis on collaborative research and outreach to the community. The program components train students in information assurance theory and practice while providing an environment that fosters teamwork, strengthens motivation, and builds a sense of professionalism and commitment to service.  </div></span>"
      ],
      "text/plain": [
       "<IPython.core.display.HTML object>"
      ]
     },
     "metadata": {},
     "output_type": "display_data"
    }
   ],
   "source": [
    "#define the nlp object\n",
    "nlp = en_core_web_sm.load()\n",
    "\n",
    "doc=nlp(str(df_sum2['Abstract'][1]))\n",
    "\n",
    "displacy.render(doc, style=\"ent\",jupyter=True)"
   ]
  },
  {
   "cell_type": "code",
   "execution_count": 18,
   "metadata": {},
   "outputs": [
    {
     "name": "stdout",
     "output_type": "stream",
     "text": [
      "Total NER words: 75026\n",
      "Total unique NER words: 21562\n",
      "Total words before removing NER: 13649162\n",
      "Total words after removing NER: 12762345\n"
     ]
    }
   ],
   "source": [
    "#create a list for NER\n",
    "NER_list=[]\n",
    "\n",
    "#Find\n",
    "for n in range(df_sum2.shape[0]):\n",
    "    doc=nlp(str(df_sum2['Abstract'][n]))\n",
    "\n",
    "    for ent in doc.ents:\n",
    "        NER_list.append(ent.text)\n",
    "        \n",
    "NER_list = [' {0} '.format(elem) for elem in NER_list] #Add space to begins and ends of all NERs\n",
    "\n",
    "print('Total NER words: {}'.format(len(NER_list)))\n",
    "NER_list=list(set(NER_list)) #for unique elements in list\n",
    "print('Total unique NER words: {}'.format(len(NER_list)))\n",
    "\n",
    "print('Total words before removing NER: {}'.format(sum(df_sum2['Abstract'].str.len())))\n",
    "\n",
    "for NER in NER_list:\n",
    "    df_sum2['Abstract']=df_sum2['Abstract'].str.replace(NER,' ',regex=False) #Because,some NERs have punctuation\n",
    "print('Total words after removing NER: {}'.format(sum(df_sum2['Abstract'].str.len())))"
   ]
  },
  {
   "cell_type": "markdown",
   "metadata": {},
   "source": [
    "__Tokenization and LowerCase__"
   ]
  },
  {
   "cell_type": "code",
   "execution_count": 19,
   "metadata": {},
   "outputs": [
    {
     "name": "stdout",
     "output_type": "stream",
     "text": [
      "Total words: 2015424\n"
     ]
    },
    {
     "data": {
      "text/html": [
       "<div>\n",
       "<style scoped>\n",
       "    .dataframe tbody tr th:only-of-type {\n",
       "        vertical-align: middle;\n",
       "    }\n",
       "\n",
       "    .dataframe tbody tr th {\n",
       "        vertical-align: top;\n",
       "    }\n",
       "\n",
       "    .dataframe thead th {\n",
       "        text-align: right;\n",
       "    }\n",
       "</style>\n",
       "<table border=\"1\" class=\"dataframe\">\n",
       "  <thead>\n",
       "    <tr style=\"text-align: right;\">\n",
       "      <th></th>\n",
       "      <th>AwardID</th>\n",
       "      <th>Abstract</th>\n",
       "      <th>Abstract_Tokens</th>\n",
       "    </tr>\n",
       "  </thead>\n",
       "  <tbody>\n",
       "    <tr>\n",
       "      <th>0</th>\n",
       "      <td>0110599</td>\n",
       "      <td>The investigators will conduct a of experiment...</td>\n",
       "      <td>[the, investigators, will, conduct, a, of, exp...</td>\n",
       "    </tr>\n",
       "    <tr>\n",
       "      <th>1</th>\n",
       "      <td>0112426</td>\n",
       "      <td>This program produces a cadre of computer scie...</td>\n",
       "      <td>[this, program, produces, a, cadre, of, comput...</td>\n",
       "    </tr>\n",
       "  </tbody>\n",
       "</table>\n",
       "</div>"
      ],
      "text/plain": [
       "   AwardID                                           Abstract  \\\n",
       "0  0110599  The investigators will conduct a of experiment...   \n",
       "1  0112426  This program produces a cadre of computer scie...   \n",
       "\n",
       "                                     Abstract_Tokens  \n",
       "0  [the, investigators, will, conduct, a, of, exp...  \n",
       "1  [this, program, produces, a, cadre, of, comput...  "
      ]
     },
     "execution_count": 19,
     "metadata": {},
     "output_type": "execute_result"
    }
   ],
   "source": [
    "#word tokenization and lowercase\n",
    "df_sum2['Abstract_Tokens'] = df_sum2['Abstract'].str.lower().apply(nltk.word_tokenize)\n",
    "print('Total words: {}'.format(sum(df_sum2['Abstract_Tokens'].str.len())))\n",
    "df_sum2.head(2)"
   ]
  },
  {
   "cell_type": "markdown",
   "metadata": {},
   "source": [
    "__Remove Numbers__"
   ]
  },
  {
   "cell_type": "code",
   "execution_count": 20,
   "metadata": {},
   "outputs": [
    {
     "name": "stdout",
     "output_type": "stream",
     "text": [
      "Total words consist of only alphabets: 1746562\n"
     ]
    },
    {
     "data": {
      "text/html": [
       "<div>\n",
       "<style scoped>\n",
       "    .dataframe tbody tr th:only-of-type {\n",
       "        vertical-align: middle;\n",
       "    }\n",
       "\n",
       "    .dataframe tbody tr th {\n",
       "        vertical-align: top;\n",
       "    }\n",
       "\n",
       "    .dataframe thead th {\n",
       "        text-align: right;\n",
       "    }\n",
       "</style>\n",
       "<table border=\"1\" class=\"dataframe\">\n",
       "  <thead>\n",
       "    <tr style=\"text-align: right;\">\n",
       "      <th></th>\n",
       "      <th>AwardID</th>\n",
       "      <th>Abstract</th>\n",
       "      <th>Abstract_Tokens</th>\n",
       "    </tr>\n",
       "  </thead>\n",
       "  <tbody>\n",
       "    <tr>\n",
       "      <th>0</th>\n",
       "      <td>0110599</td>\n",
       "      <td>The investigators will conduct a of experiment...</td>\n",
       "      <td>[the, investigators, will, conduct, a, of, exp...</td>\n",
       "    </tr>\n",
       "    <tr>\n",
       "      <th>1</th>\n",
       "      <td>0112426</td>\n",
       "      <td>This program produces a cadre of computer scie...</td>\n",
       "      <td>[this, program, produces, a, cadre, of, comput...</td>\n",
       "    </tr>\n",
       "  </tbody>\n",
       "</table>\n",
       "</div>"
      ],
      "text/plain": [
       "   AwardID                                           Abstract  \\\n",
       "0  0110599  The investigators will conduct a of experiment...   \n",
       "1  0112426  This program produces a cadre of computer scie...   \n",
       "\n",
       "                                     Abstract_Tokens  \n",
       "0  [the, investigators, will, conduct, a, of, exp...  \n",
       "1  [this, program, produces, a, cadre, of, comput...  "
      ]
     },
     "execution_count": 20,
     "metadata": {},
     "output_type": "execute_result"
    }
   ],
   "source": [
    "#remove numbers\n",
    "for n in range(df_sum2.shape[0]):\n",
    "    #print(n)\n",
    "    df_sum2['Abstract_Tokens'][n]=[w for w in df_sum2['Abstract_Tokens'][n] if w.isalpha()]\n",
    "print('Total words consist of only alphabets: {}'.format(sum(df_sum2['Abstract_Tokens'].str.len())))\n",
    "df_sum2.head(2)"
   ]
  },
  {
   "cell_type": "markdown",
   "metadata": {},
   "source": [
    "__Remove Stopwords__"
   ]
  },
  {
   "cell_type": "code",
   "execution_count": 21,
   "metadata": {},
   "outputs": [
    {
     "name": "stdout",
     "output_type": "stream",
     "text": [
      "Total words after removing stopwords: 1030230\n"
     ]
    },
    {
     "data": {
      "text/html": [
       "<div>\n",
       "<style scoped>\n",
       "    .dataframe tbody tr th:only-of-type {\n",
       "        vertical-align: middle;\n",
       "    }\n",
       "\n",
       "    .dataframe tbody tr th {\n",
       "        vertical-align: top;\n",
       "    }\n",
       "\n",
       "    .dataframe thead th {\n",
       "        text-align: right;\n",
       "    }\n",
       "</style>\n",
       "<table border=\"1\" class=\"dataframe\">\n",
       "  <thead>\n",
       "    <tr style=\"text-align: right;\">\n",
       "      <th></th>\n",
       "      <th>AwardID</th>\n",
       "      <th>Abstract</th>\n",
       "      <th>Abstract_Tokens</th>\n",
       "    </tr>\n",
       "  </thead>\n",
       "  <tbody>\n",
       "    <tr>\n",
       "      <th>0</th>\n",
       "      <td>0110599</td>\n",
       "      <td>The investigators will conduct a of experiment...</td>\n",
       "      <td>[investigators, conduct, experiments, focus, c...</td>\n",
       "    </tr>\n",
       "    <tr>\n",
       "      <th>1</th>\n",
       "      <td>0112426</td>\n",
       "      <td>This program produces a cadre of computer scie...</td>\n",
       "      <td>[produces, cadre, computer, scientists, strong...</td>\n",
       "    </tr>\n",
       "  </tbody>\n",
       "</table>\n",
       "</div>"
      ],
      "text/plain": [
       "   AwardID                                           Abstract  \\\n",
       "0  0110599  The investigators will conduct a of experiment...   \n",
       "1  0112426  This program produces a cadre of computer scie...   \n",
       "\n",
       "                                     Abstract_Tokens  \n",
       "0  [investigators, conduct, experiments, focus, c...  \n",
       "1  [produces, cadre, computer, scientists, strong...  "
      ]
     },
     "execution_count": 21,
     "metadata": {},
     "output_type": "execute_result"
    }
   ],
   "source": [
    "#define stopwords list\n",
    "stopwords_list=nltk.corpus.stopwords.words('english')\n",
    "\n",
    "#extend the stopwords list\n",
    "stopwords_list.extend(['cannot','many','much','also','well','better','via','able'])\n",
    "\n",
    "#extend the stopwords list with unneccessary words\n",
    "stopwords_list.extend(['abstract','program','pi'])\n",
    "\n",
    "\n",
    "for n in range(df_sum2.shape[0]):\n",
    "    df_sum2['Abstract_Tokens'][n]=[w for w in df_sum2['Abstract_Tokens'][n] if w not in stopwords_list]\n",
    "print('Total words after removing stopwords: {}'.format(sum(df_sum2['Abstract_Tokens'].str.len())))\n",
    "df_sum2.head(2)"
   ]
  },
  {
   "cell_type": "markdown",
   "metadata": {},
   "source": [
    "__Lemmatization with POS Tag__"
   ]
  },
  {
   "cell_type": "code",
   "execution_count": 22,
   "metadata": {},
   "outputs": [
    {
     "name": "stdout",
     "output_type": "stream",
     "text": [
      "Total words after lemmatization: 1030230\n"
     ]
    },
    {
     "data": {
      "text/html": [
       "<div>\n",
       "<style scoped>\n",
       "    .dataframe tbody tr th:only-of-type {\n",
       "        vertical-align: middle;\n",
       "    }\n",
       "\n",
       "    .dataframe tbody tr th {\n",
       "        vertical-align: top;\n",
       "    }\n",
       "\n",
       "    .dataframe thead th {\n",
       "        text-align: right;\n",
       "    }\n",
       "</style>\n",
       "<table border=\"1\" class=\"dataframe\">\n",
       "  <thead>\n",
       "    <tr style=\"text-align: right;\">\n",
       "      <th></th>\n",
       "      <th>AwardID</th>\n",
       "      <th>Abstract</th>\n",
       "      <th>Abstract_Tokens</th>\n",
       "    </tr>\n",
       "  </thead>\n",
       "  <tbody>\n",
       "    <tr>\n",
       "      <th>0</th>\n",
       "      <td>0110599</td>\n",
       "      <td>The investigators will conduct a of experiment...</td>\n",
       "      <td>[investigator, conduct, experiment, focus, cru...</td>\n",
       "    </tr>\n",
       "    <tr>\n",
       "      <th>1</th>\n",
       "      <td>0112426</td>\n",
       "      <td>This program produces a cadre of computer scie...</td>\n",
       "      <td>[produce, cadre, computer, scientist, strong, ...</td>\n",
       "    </tr>\n",
       "  </tbody>\n",
       "</table>\n",
       "</div>"
      ],
      "text/plain": [
       "   AwardID                                           Abstract  \\\n",
       "0  0110599  The investigators will conduct a of experiment...   \n",
       "1  0112426  This program produces a cadre of computer scie...   \n",
       "\n",
       "                                     Abstract_Tokens  \n",
       "0  [investigator, conduct, experiment, focus, cru...  \n",
       "1  [produce, cadre, computer, scientist, strong, ...  "
      ]
     },
     "execution_count": 22,
     "metadata": {},
     "output_type": "execute_result"
    }
   ],
   "source": [
    "#define lemmatizer() object\n",
    "lemmatizer = WordNetLemmatizer()\n",
    "\n",
    "#lemmatize with POS Tag\n",
    "def get_wordnet_pos(word):\n",
    "    #Map POS tag to first character lemmatize() accepts\n",
    "    tag = nltk.pos_tag([word])[0][1][0].upper()\n",
    "    tag_dict = {\"J\": wordnet.ADJ,\n",
    "                \"N\": wordnet.NOUN,\n",
    "                \"V\": wordnet.VERB,\n",
    "                \"R\": wordnet.ADV}\n",
    "\n",
    "    return tag_dict.get(tag, wordnet.NOUN)\n",
    "\n",
    "\n",
    "for n in range(df_sum2.shape[0]):\n",
    "    df_sum2['Abstract_Tokens'][n]=[lemmatizer.lemmatize(w,get_wordnet_pos(w)) for w in df_sum2['Abstract_Tokens'][n]]\n",
    "\n",
    "print('Total words after lemmatization: {}'.format(sum(df_sum2['Abstract_Tokens'].str.len())))\n",
    "df_sum2.head(2)"
   ]
  },
  {
   "cell_type": "markdown",
   "metadata": {},
   "source": [
    "__Remove 1-Length Words__\n",
    "\n",
    "Punctuation\n",
    "Punctuation are the unnecessary symbols that are in our corpus documents,"
   ]
  },
  {
   "cell_type": "code",
   "execution_count": 23,
   "metadata": {
    "scrolled": true
   },
   "outputs": [
    {
     "name": "stdout",
     "output_type": "stream",
     "text": [
      "Total words after removing 1-len words: 1029208\n"
     ]
    },
    {
     "data": {
      "text/html": [
       "<div>\n",
       "<style scoped>\n",
       "    .dataframe tbody tr th:only-of-type {\n",
       "        vertical-align: middle;\n",
       "    }\n",
       "\n",
       "    .dataframe tbody tr th {\n",
       "        vertical-align: top;\n",
       "    }\n",
       "\n",
       "    .dataframe thead th {\n",
       "        text-align: right;\n",
       "    }\n",
       "</style>\n",
       "<table border=\"1\" class=\"dataframe\">\n",
       "  <thead>\n",
       "    <tr style=\"text-align: right;\">\n",
       "      <th></th>\n",
       "      <th>AwardID</th>\n",
       "      <th>Abstract</th>\n",
       "      <th>Abstract_Tokens</th>\n",
       "    </tr>\n",
       "  </thead>\n",
       "  <tbody>\n",
       "    <tr>\n",
       "      <th>0</th>\n",
       "      <td>0110599</td>\n",
       "      <td>The investigators will conduct a of experiment...</td>\n",
       "      <td>[investigator, conduct, experiment, focus, cru...</td>\n",
       "    </tr>\n",
       "    <tr>\n",
       "      <th>1</th>\n",
       "      <td>0112426</td>\n",
       "      <td>This program produces a cadre of computer scie...</td>\n",
       "      <td>[produce, cadre, computer, scientist, strong, ...</td>\n",
       "    </tr>\n",
       "  </tbody>\n",
       "</table>\n",
       "</div>"
      ],
      "text/plain": [
       "   AwardID                                           Abstract  \\\n",
       "0  0110599  The investigators will conduct a of experiment...   \n",
       "1  0112426  This program produces a cadre of computer scie...   \n",
       "\n",
       "                                     Abstract_Tokens  \n",
       "0  [investigator, conduct, experiment, focus, cru...  \n",
       "1  [produce, cadre, computer, scientist, strong, ...  "
      ]
     },
     "execution_count": 23,
     "metadata": {},
     "output_type": "execute_result"
    }
   ],
   "source": [
    "#remove 1-len words\n",
    "for n in range(df_sum2.shape[0]):\n",
    "    df_sum2['Abstract_Tokens'][n]=[w for w in df_sum2['Abstract_Tokens'][n] if len(w)>=2]\n",
    "print('Total words after removing 1-len words: {}'.format(sum(df_sum2['Abstract_Tokens'].str.len())))\n",
    "df_sum2.head(2)"
   ]
  },
  {
   "cell_type": "markdown",
   "metadata": {},
   "source": [
    "__Remove Meaningless Words__"
   ]
  },
  {
   "cell_type": "code",
   "execution_count": 24,
   "metadata": {},
   "outputs": [
    {
     "name": "stdout",
     "output_type": "stream",
     "text": [
      "Total words after removing the meaningless words: 953087\n"
     ]
    },
    {
     "data": {
      "text/html": [
       "<div>\n",
       "<style scoped>\n",
       "    .dataframe tbody tr th:only-of-type {\n",
       "        vertical-align: middle;\n",
       "    }\n",
       "\n",
       "    .dataframe tbody tr th {\n",
       "        vertical-align: top;\n",
       "    }\n",
       "\n",
       "    .dataframe thead th {\n",
       "        text-align: right;\n",
       "    }\n",
       "</style>\n",
       "<table border=\"1\" class=\"dataframe\">\n",
       "  <thead>\n",
       "    <tr style=\"text-align: right;\">\n",
       "      <th></th>\n",
       "      <th>AwardID</th>\n",
       "      <th>Abstract</th>\n",
       "      <th>Abstract_Tokens</th>\n",
       "    </tr>\n",
       "  </thead>\n",
       "  <tbody>\n",
       "    <tr>\n",
       "      <th>0</th>\n",
       "      <td>0110599</td>\n",
       "      <td>The investigators will conduct a of experiment...</td>\n",
       "      <td>[investigator, conduct, experiment, focus, cru...</td>\n",
       "    </tr>\n",
       "    <tr>\n",
       "      <th>1</th>\n",
       "      <td>0112426</td>\n",
       "      <td>This program produces a cadre of computer scie...</td>\n",
       "      <td>[produce, cadre, computer, scientist, strong, ...</td>\n",
       "    </tr>\n",
       "  </tbody>\n",
       "</table>\n",
       "</div>"
      ],
      "text/plain": [
       "   AwardID                                           Abstract  \\\n",
       "0  0110599  The investigators will conduct a of experiment...   \n",
       "1  0112426  This program produces a cadre of computer scie...   \n",
       "\n",
       "                                     Abstract_Tokens  \n",
       "0  [investigator, conduct, experiment, focus, cru...  \n",
       "1  [produce, cadre, computer, scientist, strong, ...  "
      ]
     },
     "execution_count": 24,
     "metadata": {},
     "output_type": "execute_result"
    }
   ],
   "source": [
    "wordlist = nltk.corpus.words.words()#Creat a wordlist\n",
    "meaningless_list=[]\n",
    "\n",
    "#Check the tokens from wordlist\n",
    "for n in range(df_sum2.shape[0]):\n",
    "    meaningless=[w for w in  df_sum2['Abstract_Tokens'][n] if w not in wordlist]\n",
    "    meaningless_list.extend(meaningless)\n",
    "    df_sum2['Abstract_Tokens'][n]=[w for w in  df_sum2['Abstract_Tokens'][n] if w in wordlist]\n",
    "print('Total words after removing the meaningless words: {}'.format(sum(df_sum2['Abstract_Tokens'].str.len())))\n",
    "df_sum2.head(2)"
   ]
  },
  {
   "cell_type": "code",
   "execution_count": 25,
   "metadata": {},
   "outputs": [
    {
     "data": {
      "text/plain": [
       "[]"
      ]
     },
     "execution_count": 25,
     "metadata": {},
     "output_type": "execute_result"
    }
   ],
   "source": [
    "meaningless_list"
   ]
  },
  {
   "cell_type": "code",
   "execution_count": 26,
   "metadata": {},
   "outputs": [
    {
     "data": {
      "text/plain": [
       "\"\\ntokens_str=df_sum['Abstract_Tokens'].tolist()\\nall_tokens_str=' '.join(tokens_str)\\nprint()\\n\""
      ]
     },
     "execution_count": 26,
     "metadata": {},
     "output_type": "execute_result"
    }
   ],
   "source": [
    "'''\n",
    "tokens_str=df_sum['Abstract_Tokens'].tolist()\n",
    "all_tokens_str=' '.join(tokens_str)\n",
    "print()\n",
    "'''"
   ]
  },
  {
   "cell_type": "markdown",
   "metadata": {},
   "source": [
    "Abstract2 uniqi!!!\n",
    "#Recounting the Words Frequency\n",
    "freq_dict=nltk.FreqDist(wrd_list_lemmas)\n",
    "\n",
    "print('Total unique words after lemmatization: {}'.format(len(freq_dict)))\n"
   ]
  },
  {
   "cell_type": "markdown",
   "metadata": {},
   "source": [
    "__Convert Tokens To String Again__"
   ]
  },
  {
   "cell_type": "code",
   "execution_count": 27,
   "metadata": {},
   "outputs": [
    {
     "data": {
      "text/html": [
       "<div>\n",
       "<style scoped>\n",
       "    .dataframe tbody tr th:only-of-type {\n",
       "        vertical-align: middle;\n",
       "    }\n",
       "\n",
       "    .dataframe tbody tr th {\n",
       "        vertical-align: top;\n",
       "    }\n",
       "\n",
       "    .dataframe thead th {\n",
       "        text-align: right;\n",
       "    }\n",
       "</style>\n",
       "<table border=\"1\" class=\"dataframe\">\n",
       "  <thead>\n",
       "    <tr style=\"text-align: right;\">\n",
       "      <th></th>\n",
       "      <th>AwardID</th>\n",
       "      <th>Abstract</th>\n",
       "      <th>Abstract_Tokens</th>\n",
       "      <th>Abstract2</th>\n",
       "    </tr>\n",
       "  </thead>\n",
       "  <tbody>\n",
       "    <tr>\n",
       "      <th>0</th>\n",
       "      <td>0110599</td>\n",
       "      <td>The investigators will conduct a of experiment...</td>\n",
       "      <td>[investigator, conduct, experiment, focus, cru...</td>\n",
       "      <td>investigator conduct experiment focus crucial ...</td>\n",
       "    </tr>\n",
       "    <tr>\n",
       "      <th>1</th>\n",
       "      <td>0112426</td>\n",
       "      <td>This program produces a cadre of computer scie...</td>\n",
       "      <td>[produce, cadre, computer, scientist, strong, ...</td>\n",
       "      <td>produce cadre computer scientist strong specia...</td>\n",
       "    </tr>\n",
       "  </tbody>\n",
       "</table>\n",
       "</div>"
      ],
      "text/plain": [
       "   AwardID                                           Abstract  \\\n",
       "0  0110599  The investigators will conduct a of experiment...   \n",
       "1  0112426  This program produces a cadre of computer scie...   \n",
       "\n",
       "                                     Abstract_Tokens  \\\n",
       "0  [investigator, conduct, experiment, focus, cru...   \n",
       "1  [produce, cadre, computer, scientist, strong, ...   \n",
       "\n",
       "                                           Abstract2  \n",
       "0  investigator conduct experiment focus crucial ...  \n",
       "1  produce cadre computer scientist strong specia...  "
      ]
     },
     "execution_count": 27,
     "metadata": {},
     "output_type": "execute_result"
    }
   ],
   "source": [
    "df_sum2['Abstract2']=df_sum2['Abstract']\n",
    "for n in range(df_sum2.shape[0]):\n",
    "    df_sum2['Abstract2'][n]=' '.join([str(item) for item in df_sum2['Abstract_Tokens'][n]])\n",
    "df_sum2.head(2)"
   ]
  },
  {
   "cell_type": "markdown",
   "metadata": {},
   "source": [
    "__TfidfVectorizer__"
   ]
  },
  {
   "cell_type": "code",
   "execution_count": 28,
   "metadata": {},
   "outputs": [
    {
     "data": {
      "text/plain": [
       "array([[0., 0., 0., ..., 0., 0., 0.],\n",
       "       [0., 0., 0., ..., 0., 0., 0.]])"
      ]
     },
     "execution_count": 28,
     "metadata": {},
     "output_type": "execute_result"
    }
   ],
   "source": [
    "from sklearn.feature_extraction.text import TfidfVectorizer\n",
    "v = TfidfVectorizer()\n",
    "X = v.fit_transform(df_sum2['Abstract2'])\n",
    "X.toarray()[:2]"
   ]
  },
  {
   "cell_type": "code",
   "execution_count": 29,
   "metadata": {},
   "outputs": [
    {
     "data": {
      "text/plain": [
       "['aa',\n",
       " 'abac',\n",
       " 'abalone',\n",
       " 'abandon',\n",
       " 'abandonment',\n",
       " 'abatement',\n",
       " 'abdomen',\n",
       " 'aberrant',\n",
       " 'abet',\n",
       " 'abide']"
      ]
     },
     "execution_count": 29,
     "metadata": {},
     "output_type": "execute_result"
    }
   ],
   "source": [
    "v.get_feature_names()[:10]"
   ]
  },
  {
   "cell_type": "code",
   "execution_count": 30,
   "metadata": {},
   "outputs": [
    {
     "data": {
      "text/plain": [
       "12105"
      ]
     },
     "execution_count": 30,
     "metadata": {},
     "output_type": "execute_result"
    }
   ],
   "source": [
    "len(v.vocabulary_)"
   ]
  },
  {
   "cell_type": "markdown",
   "metadata": {},
   "source": [
    "__Create New DataFrame__"
   ]
  },
  {
   "cell_type": "code",
   "execution_count": 31,
   "metadata": {},
   "outputs": [
    {
     "data": {
      "text/html": [
       "<div>\n",
       "<style scoped>\n",
       "    .dataframe tbody tr th:only-of-type {\n",
       "        vertical-align: middle;\n",
       "    }\n",
       "\n",
       "    .dataframe tbody tr th {\n",
       "        vertical-align: top;\n",
       "    }\n",
       "\n",
       "    .dataframe thead th {\n",
       "        text-align: right;\n",
       "    }\n",
       "</style>\n",
       "<table border=\"1\" class=\"dataframe\">\n",
       "  <thead>\n",
       "    <tr style=\"text-align: right;\">\n",
       "      <th></th>\n",
       "      <th>aa</th>\n",
       "      <th>abac</th>\n",
       "      <th>abalone</th>\n",
       "      <th>abandon</th>\n",
       "      <th>abandonment</th>\n",
       "      <th>abatement</th>\n",
       "      <th>abdomen</th>\n",
       "      <th>aberrant</th>\n",
       "      <th>abet</th>\n",
       "      <th>abide</th>\n",
       "      <th>...</th>\n",
       "      <th>zircon</th>\n",
       "      <th>zirconium</th>\n",
       "      <th>zonal</th>\n",
       "      <th>zone</th>\n",
       "      <th>zoo</th>\n",
       "      <th>zoological</th>\n",
       "      <th>zoom</th>\n",
       "      <th>zoonotic</th>\n",
       "      <th>zooplankton</th>\n",
       "      <th>zwitterionic</th>\n",
       "    </tr>\n",
       "  </thead>\n",
       "  <tbody>\n",
       "    <tr>\n",
       "      <th>0</th>\n",
       "      <td>0.0</td>\n",
       "      <td>0.0</td>\n",
       "      <td>0.0</td>\n",
       "      <td>0.0</td>\n",
       "      <td>0.0</td>\n",
       "      <td>0.0</td>\n",
       "      <td>0.0</td>\n",
       "      <td>0.0</td>\n",
       "      <td>0.0</td>\n",
       "      <td>0.0</td>\n",
       "      <td>...</td>\n",
       "      <td>0.0</td>\n",
       "      <td>0.0</td>\n",
       "      <td>0.0</td>\n",
       "      <td>0.0</td>\n",
       "      <td>0.0</td>\n",
       "      <td>0.0</td>\n",
       "      <td>0.0</td>\n",
       "      <td>0.0</td>\n",
       "      <td>0.0</td>\n",
       "      <td>0.0</td>\n",
       "    </tr>\n",
       "    <tr>\n",
       "      <th>1</th>\n",
       "      <td>0.0</td>\n",
       "      <td>0.0</td>\n",
       "      <td>0.0</td>\n",
       "      <td>0.0</td>\n",
       "      <td>0.0</td>\n",
       "      <td>0.0</td>\n",
       "      <td>0.0</td>\n",
       "      <td>0.0</td>\n",
       "      <td>0.0</td>\n",
       "      <td>0.0</td>\n",
       "      <td>...</td>\n",
       "      <td>0.0</td>\n",
       "      <td>0.0</td>\n",
       "      <td>0.0</td>\n",
       "      <td>0.0</td>\n",
       "      <td>0.0</td>\n",
       "      <td>0.0</td>\n",
       "      <td>0.0</td>\n",
       "      <td>0.0</td>\n",
       "      <td>0.0</td>\n",
       "      <td>0.0</td>\n",
       "    </tr>\n",
       "  </tbody>\n",
       "</table>\n",
       "<p>2 rows × 12105 columns</p>\n",
       "</div>"
      ],
      "text/plain": [
       "    aa  abac  abalone  abandon  abandonment  abatement  abdomen  aberrant  \\\n",
       "0  0.0   0.0      0.0      0.0          0.0        0.0      0.0       0.0   \n",
       "1  0.0   0.0      0.0      0.0          0.0        0.0      0.0       0.0   \n",
       "\n",
       "   abet  abide  ...  zircon  zirconium  zonal  zone  zoo  zoological  zoom  \\\n",
       "0   0.0    0.0  ...     0.0        0.0    0.0   0.0  0.0         0.0   0.0   \n",
       "1   0.0    0.0  ...     0.0        0.0    0.0   0.0  0.0         0.0   0.0   \n",
       "\n",
       "   zoonotic  zooplankton  zwitterionic  \n",
       "0       0.0          0.0           0.0  \n",
       "1       0.0          0.0           0.0  \n",
       "\n",
       "[2 rows x 12105 columns]"
      ]
     },
     "execution_count": 31,
     "metadata": {},
     "output_type": "execute_result"
    }
   ],
   "source": [
    "df = pd.DataFrame(data=X.toarray(), columns=v.get_feature_names())\n",
    "df.head(2)"
   ]
  },
  {
   "cell_type": "markdown",
   "metadata": {},
   "source": [
    "__Add The Top Word To Row__"
   ]
  },
  {
   "cell_type": "code",
   "execution_count": 49,
   "metadata": {},
   "outputs": [
    {
     "data": {
      "text/html": [
       "<div>\n",
       "<style scoped>\n",
       "    .dataframe tbody tr th:only-of-type {\n",
       "        vertical-align: middle;\n",
       "    }\n",
       "\n",
       "    .dataframe tbody tr th {\n",
       "        vertical-align: top;\n",
       "    }\n",
       "\n",
       "    .dataframe thead th {\n",
       "        text-align: right;\n",
       "    }\n",
       "</style>\n",
       "<table border=\"1\" class=\"dataframe\">\n",
       "  <thead>\n",
       "    <tr style=\"text-align: right;\">\n",
       "      <th></th>\n",
       "      <th>AwardID</th>\n",
       "      <th>Abstract</th>\n",
       "      <th>Abstract_Tokens</th>\n",
       "      <th>Abstract2</th>\n",
       "      <th>Top_Word</th>\n",
       "      <th>Label</th>\n",
       "      <th>Top_Word_Freq</th>\n",
       "    </tr>\n",
       "  </thead>\n",
       "  <tbody>\n",
       "    <tr>\n",
       "      <th>0</th>\n",
       "      <td>0110599</td>\n",
       "      <td>The investigators will conduct a of experiment...</td>\n",
       "      <td>[investigator, conduct, experiment, focus, cru...</td>\n",
       "      <td>investigator conduct experiment focus crucial ...</td>\n",
       "      <td>restorative</td>\n",
       "      <td>0</td>\n",
       "      <td>0.631042</td>\n",
       "    </tr>\n",
       "    <tr>\n",
       "      <th>1</th>\n",
       "      <td>0112426</td>\n",
       "      <td>This program produces a cadre of computer scie...</td>\n",
       "      <td>[produce, cadre, computer, scientist, strong, ...</td>\n",
       "      <td>produce cadre computer scientist strong specia...</td>\n",
       "      <td>assurance</td>\n",
       "      <td>2</td>\n",
       "      <td>0.362959</td>\n",
       "    </tr>\n",
       "    <tr>\n",
       "      <th>2</th>\n",
       "      <td>0114016</td>\n",
       "      <td>This project relieves the shortage of qualifie...</td>\n",
       "      <td>[project, relief, shortage, qualify, informati...</td>\n",
       "      <td>project relief shortage qualify information as...</td>\n",
       "      <td>assurance</td>\n",
       "      <td>2</td>\n",
       "      <td>0.394351</td>\n",
       "    </tr>\n",
       "    <tr>\n",
       "      <th>3</th>\n",
       "      <td>0133664</td>\n",
       "      <td>There is a growing scientific community workin...</td>\n",
       "      <td>[grow, scientific, community, work, provide, s...</td>\n",
       "      <td>grow scientific community work provide solid t...</td>\n",
       "      <td>compression</td>\n",
       "      <td>0</td>\n",
       "      <td>0.394918</td>\n",
       "    </tr>\n",
       "    <tr>\n",
       "      <th>4</th>\n",
       "      <td>0140179</td>\n",
       "      <td>0140179   aspect of biocomplexity is the abili...</td>\n",
       "      <td>[aspect, ability, biota, environment, previous...</td>\n",
       "      <td>aspect ability biota environment previous stud...</td>\n",
       "      <td>chaotic</td>\n",
       "      <td>0</td>\n",
       "      <td>0.386368</td>\n",
       "    </tr>\n",
       "  </tbody>\n",
       "</table>\n",
       "</div>"
      ],
      "text/plain": [
       "   AwardID                                           Abstract  \\\n",
       "0  0110599  The investigators will conduct a of experiment...   \n",
       "1  0112426  This program produces a cadre of computer scie...   \n",
       "2  0114016  This project relieves the shortage of qualifie...   \n",
       "3  0133664  There is a growing scientific community workin...   \n",
       "4  0140179  0140179   aspect of biocomplexity is the abili...   \n",
       "\n",
       "                                     Abstract_Tokens  \\\n",
       "0  [investigator, conduct, experiment, focus, cru...   \n",
       "1  [produce, cadre, computer, scientist, strong, ...   \n",
       "2  [project, relief, shortage, qualify, informati...   \n",
       "3  [grow, scientific, community, work, provide, s...   \n",
       "4  [aspect, ability, biota, environment, previous...   \n",
       "\n",
       "                                           Abstract2     Top_Word  Label  \\\n",
       "0  investigator conduct experiment focus crucial ...  restorative      0   \n",
       "1  produce cadre computer scientist strong specia...    assurance      2   \n",
       "2  project relief shortage qualify information as...    assurance      2   \n",
       "3  grow scientific community work provide solid t...  compression      0   \n",
       "4  aspect ability biota environment previous stud...      chaotic      0   \n",
       "\n",
       "   Top_Word_Freq  \n",
       "0       0.631042  \n",
       "1       0.362959  \n",
       "2       0.394351  \n",
       "3       0.394918  \n",
       "4       0.386368  "
      ]
     },
     "execution_count": 49,
     "metadata": {},
     "output_type": "execute_result"
    }
   ],
   "source": [
    "df_sum2['Top_Word']=df.idxmax(axis=1)\n",
    "df_sum2['Top_Word_Freq']=df.max(axis=1)\n",
    "df_sum2.head(5)"
   ]
  },
  {
   "cell_type": "markdown",
   "metadata": {},
   "source": [
    "__KMeans Clustering__"
   ]
  },
  {
   "cell_type": "code",
   "execution_count": 33,
   "metadata": {},
   "outputs": [
    {
     "name": "stdout",
     "output_type": "stream",
     "text": [
      "2 finish...\n",
      "3 finish...\n",
      "4 finish...\n",
      "5 finish...\n"
     ]
    },
    {
     "data": {
      "image/png": "[encoded data removed]",
      "text/plain": [
       "<Figure size 432x288 with 1 Axes>"
      ]
     },
     "metadata": {
      "needs_background": "light"
     },
     "output_type": "display_data"
    }
   ],
   "source": [
    "\n",
    "#for each value of k, we can initialise k_means and use inertia to identify the sum of squared distances of samples to the nearest cluster centre\n",
    "sum_of_squared_distances = []\n",
    "K = range(2,6)\n",
    "for k in K:\n",
    "    k_means = KMeans(n_clusters=k)\n",
    "    model = k_means.fit(df)\n",
    "    sum_of_squared_distances.append(k_means.inertia_)\n",
    "    print('Modeling with k-means: {} is finish...'format(k))\n",
    "    \n",
    "plt.plot(K, sum_of_squared_distances, 'bx-')\n",
    "plt.xlabel('k')\n",
    "plt.ylabel('sum_of_squared_distances')\n",
    "plt.title('Elbow method for optimal k')\n",
    "plt.show()"
   ]
  },
  {
   "cell_type": "code",
   "execution_count": 34,
   "metadata": {},
   "outputs": [],
   "source": [
    "n_clusters=4"
   ]
  },
  {
   "cell_type": "code",
   "execution_count": 35,
   "metadata": {},
   "outputs": [
    {
     "data": {
      "text/plain": [
       "array([0, 2, 2, ..., 0, 1, 1])"
      ]
     },
     "execution_count": 35,
     "metadata": {},
     "output_type": "execute_result"
    }
   ],
   "source": [
    "\n",
    "k_means = KMeans(n_clusters=n_clusters)\n",
    "#Run the clustering algorithm\n",
    "model = k_means.fit(df)\n",
    "model\n",
    "#Generate cluster predictions and store in y_hat\n",
    "y_hat = k_means.predict(X)\n",
    "y_hat"
   ]
  },
  {
   "cell_type": "code",
   "execution_count": 36,
   "metadata": {},
   "outputs": [
    {
     "data": {
      "text/html": [
       "<div>\n",
       "<style scoped>\n",
       "    .dataframe tbody tr th:only-of-type {\n",
       "        vertical-align: middle;\n",
       "    }\n",
       "\n",
       "    .dataframe tbody tr th {\n",
       "        vertical-align: top;\n",
       "    }\n",
       "\n",
       "    .dataframe thead th {\n",
       "        text-align: right;\n",
       "    }\n",
       "</style>\n",
       "<table border=\"1\" class=\"dataframe\">\n",
       "  <thead>\n",
       "    <tr style=\"text-align: right;\">\n",
       "      <th></th>\n",
       "      <th>AwardID</th>\n",
       "      <th>Abstract</th>\n",
       "      <th>Abstract_Tokens</th>\n",
       "      <th>Abstract2</th>\n",
       "      <th>Top_Word</th>\n",
       "      <th>Label</th>\n",
       "    </tr>\n",
       "  </thead>\n",
       "  <tbody>\n",
       "    <tr>\n",
       "      <th>0</th>\n",
       "      <td>0110599</td>\n",
       "      <td>The investigators will conduct a of experiment...</td>\n",
       "      <td>[investigator, conduct, experiment, focus, cru...</td>\n",
       "      <td>investigator conduct experiment focus crucial ...</td>\n",
       "      <td>restorative</td>\n",
       "      <td>0</td>\n",
       "    </tr>\n",
       "    <tr>\n",
       "      <th>1</th>\n",
       "      <td>0112426</td>\n",
       "      <td>This program produces a cadre of computer scie...</td>\n",
       "      <td>[produce, cadre, computer, scientist, strong, ...</td>\n",
       "      <td>produce cadre computer scientist strong specia...</td>\n",
       "      <td>assurance</td>\n",
       "      <td>2</td>\n",
       "    </tr>\n",
       "  </tbody>\n",
       "</table>\n",
       "</div>"
      ],
      "text/plain": [
       "   AwardID                                           Abstract  \\\n",
       "0  0110599  The investigators will conduct a of experiment...   \n",
       "1  0112426  This program produces a cadre of computer scie...   \n",
       "\n",
       "                                     Abstract_Tokens  \\\n",
       "0  [investigator, conduct, experiment, focus, cru...   \n",
       "1  [produce, cadre, computer, scientist, strong, ...   \n",
       "\n",
       "                                           Abstract2     Top_Word  Label  \n",
       "0  investigator conduct experiment focus crucial ...  restorative      0  \n",
       "1  produce cadre computer scientist strong specia...    assurance      2  "
      ]
     },
     "execution_count": 36,
     "metadata": {},
     "output_type": "execute_result"
    }
   ],
   "source": [
    "labels=list(y_hat)\n",
    "df_sum2['Label']=labels\n",
    "df_sum2.to_csv('df_sum_clustering.csv',sep=';')\n",
    "df_sum2.head(2)"
   ]
  },
  {
   "cell_type": "markdown",
   "metadata": {},
   "source": [
    "__Create DataFrame with Topic Words__"
   ]
  },
  {
   "cell_type": "code",
   "execution_count": 92,
   "metadata": {},
   "outputs": [
    {
     "data": {
      "text/html": [
       "<div>\n",
       "<style scoped>\n",
       "    .dataframe tbody tr th:only-of-type {\n",
       "        vertical-align: middle;\n",
       "    }\n",
       "\n",
       "    .dataframe tbody tr th {\n",
       "        vertical-align: top;\n",
       "    }\n",
       "\n",
       "    .dataframe thead th {\n",
       "        text-align: right;\n",
       "    }\n",
       "</style>\n",
       "<table border=\"1\" class=\"dataframe\">\n",
       "  <thead>\n",
       "    <tr style=\"text-align: right;\">\n",
       "      <th></th>\n",
       "      <th>TopicWords</th>\n",
       "      <th>TopicWord</th>\n",
       "      <th>TopicTitle</th>\n",
       "      <th>TopicAbstract</th>\n",
       "    </tr>\n",
       "  </thead>\n",
       "  <tbody>\n",
       "    <tr>\n",
       "      <th>0</th>\n",
       "      <td>[restorative, compression, chaotic, sensorium,...</td>\n",
       "      <td>[game, election, reserve, drought, image, agit...</td>\n",
       "      <td>[University of California Natural Reserve Syst...</td>\n",
       "      <td>[This award is funded under of (Public 111-5)....</td>\n",
       "    </tr>\n",
       "    <tr>\n",
       "      <th>1</th>\n",
       "      <td>[algebra, child, realism, math, branch, module...</td>\n",
       "      <td>[ozone, virulence, clam, grind, firm, cellulos...</td>\n",
       "      <td>[Manufacture of Strong, Tough Hybrid Hydrogels]</td>\n",
       "      <td>[This grant provides funding for the manufactu...</td>\n",
       "    </tr>\n",
       "    <tr>\n",
       "      <th>2</th>\n",
       "      <td>[assurance, assurance, security, little, progr...</td>\n",
       "      <td>[creat, cloud]</td>\n",
       "      <td>[Cybersecurity Remote Education Access Toolkit...</td>\n",
       "      <td>[The AandM (TAMU) Toolkits (CREAT) is prototyp...</td>\n",
       "    </tr>\n",
       "    <tr>\n",
       "      <th>3</th>\n",
       "      <td>[examine, foundation, foundation, history, abu...</td>\n",
       "      <td>[permafrost, drilling, gateway, jurisdiction, ...</td>\n",
       "      <td>[COLLABORATIVE RESEARCH: Development of Inform...</td>\n",
       "      <td>[0412859 This proposal will advance integrativ...</td>\n",
       "    </tr>\n",
       "  </tbody>\n",
       "</table>\n",
       "</div>"
      ],
      "text/plain": [
       "                                          TopicWords  \\\n",
       "0  [restorative, compression, chaotic, sensorium,...   \n",
       "1  [algebra, child, realism, math, branch, module...   \n",
       "2  [assurance, assurance, security, little, progr...   \n",
       "3  [examine, foundation, foundation, history, abu...   \n",
       "\n",
       "                                           TopicWord  \\\n",
       "0  [game, election, reserve, drought, image, agit...   \n",
       "1  [ozone, virulence, clam, grind, firm, cellulos...   \n",
       "2                                     [creat, cloud]   \n",
       "3  [permafrost, drilling, gateway, jurisdiction, ...   \n",
       "\n",
       "                                          TopicTitle  \\\n",
       "0  [University of California Natural Reserve Syst...   \n",
       "1    [Manufacture of Strong, Tough Hybrid Hydrogels]   \n",
       "2  [Cybersecurity Remote Education Access Toolkit...   \n",
       "3  [COLLABORATIVE RESEARCH: Development of Inform...   \n",
       "\n",
       "                                       TopicAbstract  \n",
       "0  [This award is funded under of (Public 111-5)....  \n",
       "1  [This grant provides funding for the manufactu...  \n",
       "2  [The AandM (TAMU) Toolkits (CREAT) is prototyp...  \n",
       "3  [0412859 This proposal will advance integrativ...  "
      ]
     },
     "execution_count": 92,
     "metadata": {},
     "output_type": "execute_result"
    }
   ],
   "source": [
    "df_cluster_words = pd.DataFrame(columns=['TopicWords','TopicWord','TopicTitle','TopicAbstract'], index=range(n_clusters))\n",
    "for n in range(n_clusters):\n",
    "    df_cluster_words.loc[n].TopicWords=list(df_sum2[df_sum2['Label']==n]['Top_Word'])\n",
    "    df_cluster_words.loc[n].TopicWord=list(set(df_sum2[(df_sum2['Label']==n)&(df_sum2['Top_Word_Freq']>0.75)]['Top_Word'].values))\n",
    "    df_cluster_words.loc[n].TopicTitle=df_sum2[df_sum2['Label']==n].sort_values(by='Top_Word_Freq',ascending=False)[:1]['AwardTitle'].values\n",
    "    df_cluster_words.loc[n].TopicAbstract=df_sum2[df_sum2['Label']==n].sort_values(by='Top_Word_Freq',ascending=False)[:1]['Abstract'].values\n",
    "df_cluster_words.to_csv('df_cluster_words.csv',sep=';')\n",
    "df_cluster_words"
   ]
  },
  {
   "cell_type": "markdown",
   "metadata": {},
   "source": [
    "__Word Cloud__"
   ]
  },
  {
   "cell_type": "code",
   "execution_count": 107,
   "metadata": {},
   "outputs": [
    {
     "data": {
      "image/png": "[encoded data removed]",
      "text/plain": [
       "<Figure size 720x720 with 4 Axes>"
      ]
     },
     "metadata": {
      "needs_background": "light"
     },
     "output_type": "display_data"
    }
   ],
   "source": [
    "# 1. Wordcloud of Top N words in each topic\n",
    "from matplotlib import pyplot as plt\n",
    "from wordcloud import WordCloud, STOPWORDS\n",
    "import matplotlib.colors as mcolors\n",
    "\n",
    "cols = [color for name, color in mcolors.TABLEAU_COLORS.items()]  # more colors: 'mcolors.XKCD_COLORS'\n",
    "\n",
    "cloud = WordCloud(\n",
    "                  background_color='white',\n",
    "                  width=2500,\n",
    "                  height=1800,\n",
    "                  max_words=20,\n",
    "                  colormap='tab10',\n",
    "                  color_func=lambda *args, **kwargs: cols[i],\n",
    "                  prefer_horizontal=1.0)\n",
    "\n",
    "fig, axes = plt.subplots(2, 2, figsize=(10,10), sharex=True, sharey=True)\n",
    "\n",
    "for i, ax in enumerate(axes.flatten()):\n",
    "    fig.add_subplot(ax)\n",
    "    topic_words = ', '.join(df_cluster_words['TopicWords'][i])\n",
    "    cloud.generate(topic_words)\n",
    "    plt.gca().imshow(cloud)\n",
    "    plt.gca().set_title('Topic ' + str(i), fontdict=dict(size=16))\n",
    "    plt.gca().axis('off')\n",
    "\n",
    "\n",
    "plt.subplots_adjust(wspace=0, hspace=0)\n",
    "plt.axis('off')\n",
    "plt.margins(x=0, y=0)\n",
    "plt.tight_layout()\n",
    "plt.show()"
   ]
  },
  {
   "cell_type": "code",
   "execution_count": null,
   "metadata": {},
   "outputs": [],
   "source": []
  }
 ],
 "metadata": {
  "kernelspec": {
   "display_name": "Python 3",
   "language": "python",
   "name": "python3"
  },
  "language_info": {
   "codemirror_mode": {
    "name": "ipython",
    "version": 3
   },
   "file_extension": ".py",
   "mimetype": "text/x-python",
   "name": "python",
   "nbconvert_exporter": "python",
   "pygments_lexer": "ipython3",
   "version": "3.7.4"
  }
 },
 "nbformat": 4,
 "nbformat_minor": 2
}
